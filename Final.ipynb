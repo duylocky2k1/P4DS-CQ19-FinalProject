{
 "cells": [
  {
   "cell_type": "markdown",
   "id": "4d6da911",
   "metadata": {},
   "source": [
    "# Link github: \n",
    "Bản quyền bài làm thuộc về các thành viên trong nhóm. Các hành vi sao chép và sử dụng phải được sự đồng ý của chủ sở hữu <br>\n",
    "https://github.com/nightfury1103/P4DS-CQ19-FinalProject"
   ]
  },
  {
   "cell_type": "markdown",
   "id": "f80d2810",
   "metadata": {},
   "source": [
    "# Import\n",
    "Các thư viện cần thiết cho bài làm này"
   ]
  },
  {
   "cell_type": "code",
   "execution_count": 1,
   "id": "850e094d",
   "metadata": {
    "ExecuteTime": {
     "end_time": "2022-01-04T08:29:06.142026Z",
     "start_time": "2022-01-04T08:29:03.449544Z"
    }
   },
   "outputs": [],
   "source": [
    "import pandas as pd\n",
    "import numpy as np\n",
    "import matplotlib.pyplot as plt\n",
    "import seaborn as sns; sns.set()"
   ]
  },
  {
   "cell_type": "markdown",
   "id": "22db6815",
   "metadata": {},
   "source": [
    "# Thu thập dữ liệu"
   ]
  },
  {
   "cell_type": "markdown",
   "id": "d3fdef72",
   "metadata": {},
   "source": [
    "## Dữ liệu của bạn là về chủ đề gì "
   ]
  },
  {
   "cell_type": "markdown",
   "id": "8b92e73f",
   "metadata": {
    "ExecuteTime": {
     "end_time": "2021-12-22T13:09:34.139258Z",
     "start_time": "2021-12-22T13:09:34.127270Z"
    }
   },
   "source": [
    "- Hiện nay, việc **cho thuê xe đạp công cộng** đang trở nên phổ biến ở nước ta và đang có sức hấp dẫn rất lớn. Một trong những điều quan trọng trong kế hoạch đã và đang sắp được triển khai này là chất lượng dịch vụ. Bao gồm những thứ như số xe đạp có thể thuê, thời gian chờ để thuê một chiếc xe đạp,...Sau cùng, việc cung cấp xe đạp cho một thành phố cũng còn rất nhiều vấn đề cần lo lắng. \n",
    "- Phần quan trọng mà chúng em muốn dự đoán trong đồ án này đó là số lượng xe yêu cầu vào mỗi giờ qua đó có thể cung cấp xe đạp một cách ổn định mà ai ai cũng có thể thuê một chiếc xe đạp cho mình bằng cách đơn giản nhất. Mặc dù vậy, do nước ta mới chỉ đang ở hình thức thí điểm nên không thể có dữ liệu được. Do đó, xem như một biện pháp thay thế khá hữu hiệu, chúng em đã lựa chọn dữ liệu từ **thành phố Seoul, thủ đô Hàn Quốc**, một trong những thành phố phát triển bậc nhất ở Châu Á và cũng khá gần gũi với Việt Nam chúng ta."
   ]
  },
  {
   "cell_type": "markdown",
   "id": "95453a4e",
   "metadata": {},
   "source": [
    "## Mục đích lựa chọn dữ liệu này.\n"
   ]
  },
  {
   "cell_type": "markdown",
   "id": "611ea919",
   "metadata": {},
   "source": [
    "- Với một thành phố nhộn nhịp, phát triển như thành phố Hồ Chí Minh thì việc cảm thấy khó chịu, không thoải mái khi mà khẩu trang đã trở thành vật bất ly thân khi đi học, đi làm, thậm chí ngay cả những lúc đi chơi. Những buổi sáng thức giấc không còn mở cửa sổ để hít thở không khí trong lành để tận hưởng một ngày mới. Thay vào đó là một Hồ Chí Minh với đầy ấp tiếng ồn, bụi bặm và khói bụi thông báo cho chúng ta biết mình đang ở một thành phố sầm uất nhất nhì Việt Nam.\n",
    "- Không chỉ riêng khu vực thành phố Hồ Chí Minh, trên thực tế, các thành phố lớn, nhỏ trên cả nước cũng đang hứng chịu sự ô nhiễm do khói bụi và các tác hại của bụi mịn đã và đang xảy ra ở hầu hết mọi nơi. Sống chung với ô nhiễm đó chính là sự đánh đổi của chúng ta với tiến trình phát triển kinh tế đất nước với một kế hoạch không bền vững.\n",
    "- Với suy nghĩ như vậy, em rất ủng hộ việc sử dụng `xe đạp công cộng` để giúp phần nào giảm thiểu được số lượng tham gia của các phương tiện giao thông ô nhiễm và đầy dẫy ồn ào. Việc sử dụng xe đạp công cộng là một trong những cách giúp chung tay bảo vệ môi trường cùng thế giới. Đó là lý do chính mà chúng em lựa chọn đề tài này. Hy vọng sẽ mang đến một vài điều thú vị cho thầy và các bạn!"
   ]
  },
  {
   "cell_type": "markdown",
   "id": "e3240899",
   "metadata": {},
   "source": [
    "## Nguồn dữ liệu - Quyền sử dụng"
   ]
  },
  {
   "cell_type": "markdown",
   "id": "0d933bdc",
   "metadata": {
    "ExecuteTime": {
     "end_time": "2021-12-22T13:06:31.468416Z",
     "start_time": "2021-12-22T13:06:31.447434Z"
    }
   },
   "source": [
    "- Dữ liệu sử dụng của đồ án này được public trên trang web **UCI (trang web cung cấp dữ liệu nổi tiếng cho học máy và trí tuệ nhân tạo)** với đường dẫn sau: [link](https://archive.ics.uci.edu/ml/datasets/Seoul+Bike+Sharing+Demand).\n",
    "- Về vấn đề quyền sử dụng: Tác giả đề cập đến vấn đề quyền sử dụng dựa theo [Điều luật của dữ liệu thành phố Seoul](https://data.seoul.go.kr/etc/accessTerms.do) <br>\n",
    "\n",
    "**Lưu ý: Vì đây là dữ liệu liên quan đến một thành phố nên việc sử dụng dữ liệu phải thật thận trọng và dựa trên điều luật về dữ liệu của thành phố Seoul, Hàn Quốc ban hành. Do đó, mọi hành vi liên quan đến dữ liệu hay vấn đề bản quyền đều không phải trách nhiệm của tác giả. Cân nhắc trước khi sử dụng!**"
   ]
  },
  {
   "cell_type": "markdown",
   "id": "8d0c6670",
   "metadata": {},
   "source": [
    "## Người ta thu thập dữ liệu như thế nào?"
   ]
  },
  {
   "cell_type": "markdown",
   "id": "2a71ce0a",
   "metadata": {},
   "source": [
    "- Là thủ đô và cũng là thành phố sầm uất nhất của Hàn Quốc. Không lạ gì khi Seoul là một trong các thành phố dẫn đầu về công nghệ. Do đó, đối với họ việc thu thập dữ liệu cũng trở nên dễ dàng hơn bao giờ hết khi `dữ liệu về xe đạp` hay các dữ liệu bao gồm các dữ liệu như **`thời tiết` (nhiệt độ, độ ẩm, sức gió, tầm nhìn xa, độ điểm sương, bức xạ mặt trời, lượng tuyết, lượng mưa)** đều được đo chuẩn xác bằng các thiết bị công nghệ như GPS, đài khí tượng,...Ngoài ra một số thông số còn được lấy từ trang **[Korea Meteorological Administration](http://www.kma.go.kr/eng/index.jsp)**. Và đó cũng là cách thu thập dữ liệu mà tác giả đề cập ở phần mô tả. <br>\n",
    "- Ngoài ra, thông tin về  `lịch nghỉ lễ ở Hàn Quốc` được lấy từ trang **[South Korea Public Holidays](https://publicholidays.co.kr/)**"
   ]
  },
  {
   "cell_type": "markdown",
   "id": "388f9d15",
   "metadata": {},
   "source": [
    "## Mô tả dữ liệu"
   ]
  },
  {
   "cell_type": "markdown",
   "id": "86e66ca2",
   "metadata": {
    "ExecuteTime": {
     "end_time": "2021-12-23T02:16:08.941034Z",
     "start_time": "2021-12-23T02:16:08.921055Z"
    }
   },
   "source": [
    "Như đã nói ở trên thì dữ liệu này nói đến `dự án xe đạp công cộng của thành phố Seoul, thủ đô Hàn Quốc`. Dữ liệu được thu thập theo từng giờ, **bắt đầu từ đầu tháng 12 năm 2017 đến cuối tháng 11 năm 2018** (vào khoảng một năm). Dữ liệu bao gồm ngày tháng, số lượng xe đạp cho thuê và những thông tin về thời tiết ngày giờ,... Thông qua việc tìm hiểu dữ liệu này. Hy vọng chúng ta có thể tìm ra và trả lời được những câu hỏi bổ ích. Cụ thể thế nào xin mời thầy và các bạn chúng ta cùng bước vào phần \"Khám phá dữ liệu\". "
   ]
  },
  {
   "cell_type": "markdown",
   "id": "8476f0ba",
   "metadata": {},
   "source": [
    "# Khám phá dữ liệu"
   ]
  },
  {
   "cell_type": "markdown",
   "id": "21438e73",
   "metadata": {},
   "source": [
    "## Đọc dữ liệu"
   ]
  },
  {
   "cell_type": "code",
   "execution_count": 2,
   "id": "3e27a23a",
   "metadata": {
    "ExecuteTime": {
     "end_time": "2022-01-04T08:29:06.219953Z",
     "start_time": "2022-01-04T08:29:06.147024Z"
    }
   },
   "outputs": [
    {
     "data": {
      "text/html": [
       "<div>\n",
       "<style scoped>\n",
       "    .dataframe tbody tr th:only-of-type {\n",
       "        vertical-align: middle;\n",
       "    }\n",
       "\n",
       "    .dataframe tbody tr th {\n",
       "        vertical-align: top;\n",
       "    }\n",
       "\n",
       "    .dataframe thead th {\n",
       "        text-align: right;\n",
       "    }\n",
       "</style>\n",
       "<table border=\"1\" class=\"dataframe\">\n",
       "  <thead>\n",
       "    <tr style=\"text-align: right;\">\n",
       "      <th></th>\n",
       "      <th>Date</th>\n",
       "      <th>Rented Bike Count</th>\n",
       "      <th>Hour</th>\n",
       "      <th>Temperature(°C)</th>\n",
       "      <th>Humidity(%)</th>\n",
       "      <th>Wind speed (m/s)</th>\n",
       "      <th>Visibility (10m)</th>\n",
       "      <th>Dew point temperature(°C)</th>\n",
       "      <th>Solar Radiation (MJ/m2)</th>\n",
       "      <th>Rainfall(mm)</th>\n",
       "      <th>Snowfall (cm)</th>\n",
       "      <th>Seasons</th>\n",
       "      <th>Holiday</th>\n",
       "      <th>Functioning Day</th>\n",
       "    </tr>\n",
       "  </thead>\n",
       "  <tbody>\n",
       "    <tr>\n",
       "      <th>0</th>\n",
       "      <td>01/12/2017</td>\n",
       "      <td>254</td>\n",
       "      <td>0</td>\n",
       "      <td>-5.2</td>\n",
       "      <td>37</td>\n",
       "      <td>2.2</td>\n",
       "      <td>2000</td>\n",
       "      <td>-17.6</td>\n",
       "      <td>0.0</td>\n",
       "      <td>0.0</td>\n",
       "      <td>0.0</td>\n",
       "      <td>Winter</td>\n",
       "      <td>No Holiday</td>\n",
       "      <td>Yes</td>\n",
       "    </tr>\n",
       "    <tr>\n",
       "      <th>1</th>\n",
       "      <td>01/12/2017</td>\n",
       "      <td>204</td>\n",
       "      <td>1</td>\n",
       "      <td>-5.5</td>\n",
       "      <td>38</td>\n",
       "      <td>0.8</td>\n",
       "      <td>2000</td>\n",
       "      <td>-17.6</td>\n",
       "      <td>0.0</td>\n",
       "      <td>0.0</td>\n",
       "      <td>0.0</td>\n",
       "      <td>Winter</td>\n",
       "      <td>No Holiday</td>\n",
       "      <td>Yes</td>\n",
       "    </tr>\n",
       "    <tr>\n",
       "      <th>2</th>\n",
       "      <td>01/12/2017</td>\n",
       "      <td>173</td>\n",
       "      <td>2</td>\n",
       "      <td>-6.0</td>\n",
       "      <td>39</td>\n",
       "      <td>1.0</td>\n",
       "      <td>2000</td>\n",
       "      <td>-17.7</td>\n",
       "      <td>0.0</td>\n",
       "      <td>0.0</td>\n",
       "      <td>0.0</td>\n",
       "      <td>Winter</td>\n",
       "      <td>No Holiday</td>\n",
       "      <td>Yes</td>\n",
       "    </tr>\n",
       "    <tr>\n",
       "      <th>3</th>\n",
       "      <td>01/12/2017</td>\n",
       "      <td>107</td>\n",
       "      <td>3</td>\n",
       "      <td>-6.2</td>\n",
       "      <td>40</td>\n",
       "      <td>0.9</td>\n",
       "      <td>2000</td>\n",
       "      <td>-17.6</td>\n",
       "      <td>0.0</td>\n",
       "      <td>0.0</td>\n",
       "      <td>0.0</td>\n",
       "      <td>Winter</td>\n",
       "      <td>No Holiday</td>\n",
       "      <td>Yes</td>\n",
       "    </tr>\n",
       "    <tr>\n",
       "      <th>4</th>\n",
       "      <td>01/12/2017</td>\n",
       "      <td>78</td>\n",
       "      <td>4</td>\n",
       "      <td>-6.0</td>\n",
       "      <td>36</td>\n",
       "      <td>2.3</td>\n",
       "      <td>2000</td>\n",
       "      <td>-18.6</td>\n",
       "      <td>0.0</td>\n",
       "      <td>0.0</td>\n",
       "      <td>0.0</td>\n",
       "      <td>Winter</td>\n",
       "      <td>No Holiday</td>\n",
       "      <td>Yes</td>\n",
       "    </tr>\n",
       "  </tbody>\n",
       "</table>\n",
       "</div>"
      ],
      "text/plain": [
       "         Date  Rented Bike Count  Hour  Temperature(°C)  Humidity(%)  \\\n",
       "0  01/12/2017                254     0             -5.2           37   \n",
       "1  01/12/2017                204     1             -5.5           38   \n",
       "2  01/12/2017                173     2             -6.0           39   \n",
       "3  01/12/2017                107     3             -6.2           40   \n",
       "4  01/12/2017                 78     4             -6.0           36   \n",
       "\n",
       "   Wind speed (m/s)  Visibility (10m)  Dew point temperature(°C)  \\\n",
       "0               2.2              2000                      -17.6   \n",
       "1               0.8              2000                      -17.6   \n",
       "2               1.0              2000                      -17.7   \n",
       "3               0.9              2000                      -17.6   \n",
       "4               2.3              2000                      -18.6   \n",
       "\n",
       "   Solar Radiation (MJ/m2)  Rainfall(mm)  Snowfall (cm) Seasons     Holiday  \\\n",
       "0                      0.0           0.0            0.0  Winter  No Holiday   \n",
       "1                      0.0           0.0            0.0  Winter  No Holiday   \n",
       "2                      0.0           0.0            0.0  Winter  No Holiday   \n",
       "3                      0.0           0.0            0.0  Winter  No Holiday   \n",
       "4                      0.0           0.0            0.0  Winter  No Holiday   \n",
       "\n",
       "  Functioning Day  \n",
       "0             Yes  \n",
       "1             Yes  \n",
       "2             Yes  \n",
       "3             Yes  \n",
       "4             Yes  "
      ]
     },
     "execution_count": 2,
     "metadata": {},
     "output_type": "execute_result"
    }
   ],
   "source": [
    "df = pd.read_csv('Data/SeoulBikeData.csv', encoding= 'unicode_escape')\n",
    "df.head()"
   ]
  },
  {
   "cell_type": "markdown",
   "id": "bc7a088f",
   "metadata": {},
   "source": [
    "## Dữ liệu có bao nhiêu dòng và cột ? "
   ]
  },
  {
   "cell_type": "code",
   "execution_count": 3,
   "id": "cdcaa54e",
   "metadata": {
    "ExecuteTime": {
     "end_time": "2022-01-04T08:29:06.235939Z",
     "start_time": "2022-01-04T08:29:06.222951Z"
    }
   },
   "outputs": [
    {
     "data": {
      "text/plain": [
       "(8760, 14)"
      ]
     },
     "execution_count": 3,
     "metadata": {},
     "output_type": "execute_result"
    }
   ],
   "source": [
    "n_rows, n_col = df.shape\n",
    "n_rows, n_col"
   ]
  },
  {
   "cell_type": "markdown",
   "id": "4e90fac6",
   "metadata": {},
   "source": [
    "Như vậy ta có được dữ liệu hiện tại đưa vào là 8760 dòng và 14 cột."
   ]
  },
  {
   "cell_type": "markdown",
   "id": "4c44c0eb",
   "metadata": {},
   "source": [
    "## Các dòng dữ liệu"
   ]
  },
  {
   "cell_type": "markdown",
   "id": "51b0cefd",
   "metadata": {},
   "source": [
    "### Mỗi dòng có ý nghĩa gì? Có vấn đề các dòng có ý nghĩa khác nhau không?"
   ]
  },
  {
   "cell_type": "code",
   "execution_count": 4,
   "id": "786591ca",
   "metadata": {
    "ExecuteTime": {
     "end_time": "2022-01-04T08:29:06.299881Z",
     "start_time": "2022-01-04T08:29:06.240936Z"
    }
   },
   "outputs": [
    {
     "data": {
      "text/html": [
       "<div>\n",
       "<style scoped>\n",
       "    .dataframe tbody tr th:only-of-type {\n",
       "        vertical-align: middle;\n",
       "    }\n",
       "\n",
       "    .dataframe tbody tr th {\n",
       "        vertical-align: top;\n",
       "    }\n",
       "\n",
       "    .dataframe thead th {\n",
       "        text-align: right;\n",
       "    }\n",
       "</style>\n",
       "<table border=\"1\" class=\"dataframe\">\n",
       "  <thead>\n",
       "    <tr style=\"text-align: right;\">\n",
       "      <th></th>\n",
       "      <th>Date</th>\n",
       "      <th>Rented Bike Count</th>\n",
       "      <th>Hour</th>\n",
       "      <th>Temperature(°C)</th>\n",
       "      <th>Humidity(%)</th>\n",
       "      <th>Wind speed (m/s)</th>\n",
       "      <th>Visibility (10m)</th>\n",
       "      <th>Dew point temperature(°C)</th>\n",
       "      <th>Solar Radiation (MJ/m2)</th>\n",
       "      <th>Rainfall(mm)</th>\n",
       "      <th>Snowfall (cm)</th>\n",
       "      <th>Seasons</th>\n",
       "      <th>Holiday</th>\n",
       "      <th>Functioning Day</th>\n",
       "    </tr>\n",
       "  </thead>\n",
       "  <tbody>\n",
       "    <tr>\n",
       "      <th>3231</th>\n",
       "      <td>14/04/2018</td>\n",
       "      <td>203</td>\n",
       "      <td>15</td>\n",
       "      <td>8.6</td>\n",
       "      <td>88</td>\n",
       "      <td>3.2</td>\n",
       "      <td>1211</td>\n",
       "      <td>6.7</td>\n",
       "      <td>0.17</td>\n",
       "      <td>0.0</td>\n",
       "      <td>0.0</td>\n",
       "      <td>Spring</td>\n",
       "      <td>No Holiday</td>\n",
       "      <td>Yes</td>\n",
       "    </tr>\n",
       "    <tr>\n",
       "      <th>4118</th>\n",
       "      <td>21/05/2018</td>\n",
       "      <td>1483</td>\n",
       "      <td>14</td>\n",
       "      <td>23.4</td>\n",
       "      <td>36</td>\n",
       "      <td>2.8</td>\n",
       "      <td>1947</td>\n",
       "      <td>7.4</td>\n",
       "      <td>3.11</td>\n",
       "      <td>0.0</td>\n",
       "      <td>0.0</td>\n",
       "      <td>Spring</td>\n",
       "      <td>No Holiday</td>\n",
       "      <td>Yes</td>\n",
       "    </tr>\n",
       "    <tr>\n",
       "      <th>5550</th>\n",
       "      <td>20/07/2018</td>\n",
       "      <td>672</td>\n",
       "      <td>6</td>\n",
       "      <td>24.6</td>\n",
       "      <td>82</td>\n",
       "      <td>0.2</td>\n",
       "      <td>1157</td>\n",
       "      <td>21.3</td>\n",
       "      <td>0.02</td>\n",
       "      <td>0.0</td>\n",
       "      <td>0.0</td>\n",
       "      <td>Summer</td>\n",
       "      <td>No Holiday</td>\n",
       "      <td>Yes</td>\n",
       "    </tr>\n",
       "    <tr>\n",
       "      <th>1300</th>\n",
       "      <td>24/01/2018</td>\n",
       "      <td>24</td>\n",
       "      <td>4</td>\n",
       "      <td>-15.4</td>\n",
       "      <td>30</td>\n",
       "      <td>2.5</td>\n",
       "      <td>2000</td>\n",
       "      <td>-29.1</td>\n",
       "      <td>0.00</td>\n",
       "      <td>0.0</td>\n",
       "      <td>0.9</td>\n",
       "      <td>Winter</td>\n",
       "      <td>No Holiday</td>\n",
       "      <td>Yes</td>\n",
       "    </tr>\n",
       "    <tr>\n",
       "      <th>5499</th>\n",
       "      <td>18/07/2018</td>\n",
       "      <td>381</td>\n",
       "      <td>3</td>\n",
       "      <td>24.7</td>\n",
       "      <td>84</td>\n",
       "      <td>0.7</td>\n",
       "      <td>694</td>\n",
       "      <td>21.8</td>\n",
       "      <td>0.00</td>\n",
       "      <td>0.0</td>\n",
       "      <td>0.0</td>\n",
       "      <td>Summer</td>\n",
       "      <td>No Holiday</td>\n",
       "      <td>Yes</td>\n",
       "    </tr>\n",
       "    <tr>\n",
       "      <th>8561</th>\n",
       "      <td>22/11/2018</td>\n",
       "      <td>1101</td>\n",
       "      <td>17</td>\n",
       "      <td>4.9</td>\n",
       "      <td>41</td>\n",
       "      <td>3.3</td>\n",
       "      <td>1985</td>\n",
       "      <td>-7.2</td>\n",
       "      <td>0.25</td>\n",
       "      <td>0.0</td>\n",
       "      <td>0.0</td>\n",
       "      <td>Autumn</td>\n",
       "      <td>No Holiday</td>\n",
       "      <td>Yes</td>\n",
       "    </tr>\n",
       "    <tr>\n",
       "      <th>3933</th>\n",
       "      <td>13/05/2018</td>\n",
       "      <td>1571</td>\n",
       "      <td>21</td>\n",
       "      <td>14.1</td>\n",
       "      <td>86</td>\n",
       "      <td>0.9</td>\n",
       "      <td>535</td>\n",
       "      <td>11.7</td>\n",
       "      <td>0.00</td>\n",
       "      <td>0.0</td>\n",
       "      <td>0.0</td>\n",
       "      <td>Spring</td>\n",
       "      <td>No Holiday</td>\n",
       "      <td>Yes</td>\n",
       "    </tr>\n",
       "    <tr>\n",
       "      <th>5088</th>\n",
       "      <td>01/07/2018</td>\n",
       "      <td>865</td>\n",
       "      <td>0</td>\n",
       "      <td>22.6</td>\n",
       "      <td>88</td>\n",
       "      <td>0.2</td>\n",
       "      <td>1259</td>\n",
       "      <td>20.5</td>\n",
       "      <td>0.00</td>\n",
       "      <td>0.0</td>\n",
       "      <td>0.0</td>\n",
       "      <td>Summer</td>\n",
       "      <td>No Holiday</td>\n",
       "      <td>Yes</td>\n",
       "    </tr>\n",
       "    <tr>\n",
       "      <th>7421</th>\n",
       "      <td>06/10/2018</td>\n",
       "      <td>0</td>\n",
       "      <td>5</td>\n",
       "      <td>16.7</td>\n",
       "      <td>93</td>\n",
       "      <td>2.8</td>\n",
       "      <td>360</td>\n",
       "      <td>15.5</td>\n",
       "      <td>0.00</td>\n",
       "      <td>4.5</td>\n",
       "      <td>0.0</td>\n",
       "      <td>Autumn</td>\n",
       "      <td>No Holiday</td>\n",
       "      <td>No</td>\n",
       "    </tr>\n",
       "    <tr>\n",
       "      <th>5862</th>\n",
       "      <td>02/08/2018</td>\n",
       "      <td>578</td>\n",
       "      <td>6</td>\n",
       "      <td>30.4</td>\n",
       "      <td>54</td>\n",
       "      <td>1.3</td>\n",
       "      <td>2000</td>\n",
       "      <td>20.0</td>\n",
       "      <td>0.01</td>\n",
       "      <td>0.0</td>\n",
       "      <td>0.0</td>\n",
       "      <td>Summer</td>\n",
       "      <td>No Holiday</td>\n",
       "      <td>Yes</td>\n",
       "    </tr>\n",
       "  </tbody>\n",
       "</table>\n",
       "</div>"
      ],
      "text/plain": [
       "            Date  Rented Bike Count  Hour  Temperature(°C)  Humidity(%)  \\\n",
       "3231  14/04/2018                203    15              8.6           88   \n",
       "4118  21/05/2018               1483    14             23.4           36   \n",
       "5550  20/07/2018                672     6             24.6           82   \n",
       "1300  24/01/2018                 24     4            -15.4           30   \n",
       "5499  18/07/2018                381     3             24.7           84   \n",
       "8561  22/11/2018               1101    17              4.9           41   \n",
       "3933  13/05/2018               1571    21             14.1           86   \n",
       "5088  01/07/2018                865     0             22.6           88   \n",
       "7421  06/10/2018                  0     5             16.7           93   \n",
       "5862  02/08/2018                578     6             30.4           54   \n",
       "\n",
       "      Wind speed (m/s)  Visibility (10m)  Dew point temperature(°C)  \\\n",
       "3231               3.2              1211                        6.7   \n",
       "4118               2.8              1947                        7.4   \n",
       "5550               0.2              1157                       21.3   \n",
       "1300               2.5              2000                      -29.1   \n",
       "5499               0.7               694                       21.8   \n",
       "8561               3.3              1985                       -7.2   \n",
       "3933               0.9               535                       11.7   \n",
       "5088               0.2              1259                       20.5   \n",
       "7421               2.8               360                       15.5   \n",
       "5862               1.3              2000                       20.0   \n",
       "\n",
       "      Solar Radiation (MJ/m2)  Rainfall(mm)  Snowfall (cm) Seasons  \\\n",
       "3231                     0.17           0.0            0.0  Spring   \n",
       "4118                     3.11           0.0            0.0  Spring   \n",
       "5550                     0.02           0.0            0.0  Summer   \n",
       "1300                     0.00           0.0            0.9  Winter   \n",
       "5499                     0.00           0.0            0.0  Summer   \n",
       "8561                     0.25           0.0            0.0  Autumn   \n",
       "3933                     0.00           0.0            0.0  Spring   \n",
       "5088                     0.00           0.0            0.0  Summer   \n",
       "7421                     0.00           4.5            0.0  Autumn   \n",
       "5862                     0.01           0.0            0.0  Summer   \n",
       "\n",
       "         Holiday Functioning Day  \n",
       "3231  No Holiday             Yes  \n",
       "4118  No Holiday             Yes  \n",
       "5550  No Holiday             Yes  \n",
       "1300  No Holiday             Yes  \n",
       "5499  No Holiday             Yes  \n",
       "8561  No Holiday             Yes  \n",
       "3933  No Holiday             Yes  \n",
       "5088  No Holiday             Yes  \n",
       "7421  No Holiday              No  \n",
       "5862  No Holiday             Yes  "
      ]
     },
     "execution_count": 4,
     "metadata": {},
     "output_type": "execute_result"
    }
   ],
   "source": [
    "df.sample(10)"
   ]
  },
  {
   "cell_type": "markdown",
   "id": "9486e875",
   "metadata": {},
   "source": [
    "- Mỗi dòng ở trong dữ liệu trên ứng với thông tin mượn xe đạp công cộng của 1 giờ của 1 ngày trong năm từ tháng 12-2017 đến hết tháng 11-2018 (khoảng 1 năm) ở thành phố Seoul, Hàn Quốc. Nhìn chung có vẻ không có dòng nào \"lạc loài\" (có nghĩa là không có vấn đề gì các dòng có ý nghĩa khác nhau)."
   ]
  },
  {
   "cell_type": "markdown",
   "id": "7e04da5f",
   "metadata": {},
   "source": [
    "### Dữ liệu các dòng có bị lặp hay không?"
   ]
  },
  {
   "cell_type": "markdown",
   "id": "3655e0e3",
   "metadata": {},
   "source": [
    "Dự đoán là dữ liệu không bị lặp vì khi nhìn vào cột ngày tháng ta cũng có thể đoán được không có ngày nào bị trùng nhau."
   ]
  },
  {
   "cell_type": "code",
   "execution_count": 5,
   "id": "c2918977",
   "metadata": {
    "ExecuteTime": {
     "end_time": "2022-01-04T08:29:06.347834Z",
     "start_time": "2022-01-04T08:29:06.303876Z"
    }
   },
   "outputs": [
    {
     "data": {
      "text/html": [
       "<div>\n",
       "<style scoped>\n",
       "    .dataframe tbody tr th:only-of-type {\n",
       "        vertical-align: middle;\n",
       "    }\n",
       "\n",
       "    .dataframe tbody tr th {\n",
       "        vertical-align: top;\n",
       "    }\n",
       "\n",
       "    .dataframe thead th {\n",
       "        text-align: right;\n",
       "    }\n",
       "</style>\n",
       "<table border=\"1\" class=\"dataframe\">\n",
       "  <thead>\n",
       "    <tr style=\"text-align: right;\">\n",
       "      <th></th>\n",
       "      <th>Date</th>\n",
       "      <th>Rented Bike Count</th>\n",
       "      <th>Hour</th>\n",
       "      <th>Temperature(°C)</th>\n",
       "      <th>Humidity(%)</th>\n",
       "      <th>Wind speed (m/s)</th>\n",
       "      <th>Visibility (10m)</th>\n",
       "      <th>Dew point temperature(°C)</th>\n",
       "      <th>Solar Radiation (MJ/m2)</th>\n",
       "      <th>Rainfall(mm)</th>\n",
       "      <th>Snowfall (cm)</th>\n",
       "      <th>Seasons</th>\n",
       "      <th>Holiday</th>\n",
       "      <th>Functioning Day</th>\n",
       "    </tr>\n",
       "  </thead>\n",
       "  <tbody>\n",
       "  </tbody>\n",
       "</table>\n",
       "</div>"
      ],
      "text/plain": [
       "Empty DataFrame\n",
       "Columns: [Date, Rented Bike Count, Hour, Temperature(°C), Humidity(%), Wind speed (m/s), Visibility (10m), Dew point temperature(°C), Solar Radiation (MJ/m2), Rainfall(mm), Snowfall (cm), Seasons, Holiday, Functioning Day]\n",
       "Index: []"
      ]
     },
     "execution_count": 5,
     "metadata": {},
     "output_type": "execute_result"
    }
   ],
   "source": [
    "df[df.duplicated(keep=False)]"
   ]
  },
  {
   "cell_type": "markdown",
   "id": "0e6e092a",
   "metadata": {},
   "source": [
    "- Vậy dữ liệu không có dòng nào bị trùng như dự đoán ban đầu của ta."
   ]
  },
  {
   "cell_type": "markdown",
   "id": "1a5d194e",
   "metadata": {},
   "source": [
    "## Các cột dữ liệu"
   ]
  },
  {
   "cell_type": "markdown",
   "id": "ff39c8a6",
   "metadata": {},
   "source": [
    "### Ý nghĩa các cột"
   ]
  },
  {
   "cell_type": "code",
   "execution_count": 6,
   "id": "a0517b9a",
   "metadata": {
    "ExecuteTime": {
     "end_time": "2022-01-04T08:29:06.363821Z",
     "start_time": "2022-01-04T08:29:06.349832Z"
    }
   },
   "outputs": [
    {
     "data": {
      "text/plain": [
       "['Date',\n",
       " 'Rented Bike Count',\n",
       " 'Hour',\n",
       " 'Temperature(°C)',\n",
       " 'Humidity(%)',\n",
       " 'Wind speed (m/s)',\n",
       " 'Visibility (10m)',\n",
       " 'Dew point temperature(°C)',\n",
       " 'Solar Radiation (MJ/m2)',\n",
       " 'Rainfall(mm)',\n",
       " 'Snowfall (cm)',\n",
       " 'Seasons',\n",
       " 'Holiday',\n",
       " 'Functioning Day']"
      ]
     },
     "execution_count": 6,
     "metadata": {},
     "output_type": "execute_result"
    }
   ],
   "source": [
    "list(df.columns.values)"
   ]
  },
  {
   "cell_type": "markdown",
   "id": "639d405d",
   "metadata": {
    "ExecuteTime": {
     "end_time": "2021-12-23T02:18:57.506222Z",
     "start_time": "2021-12-23T02:18:57.482249Z"
    }
   },
   "source": [
    "\n",
    "|Column|Description|\n",
    "|----------- |----------- |\n",
    "|Date |Ngày dữ liêu được thu thập theo đơn vị ngày / tháng / năm.|\n",
    "|Rented Bike count |Số lượng xe đạp được thuê vào mỗi giờ trong ngày.|\n",
    "|Hour|Giờ mà dữ liệu được thu thập.|\n",
    "|Temperature(°C)|Nhiệt độ ngoài trời tính theo đơn vị Celsius|\n",
    "|Humidity(%)|Độ ẩm ngoài trời tính theo %|\n",
    "|Wind speed (m/s)|Sức gió ngoài trời tính tại thời điểm thu thập đơn vị m/s.|\n",
    "|Visibility (10m)|Tầm nhìn xa (trong vòng 10 dặm)  |\n",
    "|Dew point temperature(°C)|Nhiệt độ điểm sương (°C).|\n",
    "|Solar Radiation (MJ/m2)|Cường độ bức xạ mặt trời tại thời điểm thu thập dữ liệu.|\n",
    "|Rainfall(mm)|Lượng mưa tại thời điêm thu thập.|\n",
    "|Snowfall (cm)|Lượng tuyết rơi tại thời điêm thu thập.|\n",
    "|Seasons|Các mùa trong năm (Xuân, Hạ, Thu, Đông).|\n",
    "|Holiday|Ngày dữ liệu được thu thập có phải là ngày lễ (ngày nghỉ) không?.|\n",
    "|Functioning Day|Ngày hôm đó dịch vụ có hoạt động?.|"
   ]
  },
  {
   "cell_type": "markdown",
   "id": "4b56a748",
   "metadata": {},
   "source": [
    "**Chú thích**: `Nhiệt độ điểm sương` là nhiệt độ mà nước trong khối không khí đó ngưng đọng thành nước lỏng"
   ]
  },
  {
   "cell_type": "markdown",
   "id": "14473ca5",
   "metadata": {},
   "source": [
    "**Lưu ý:** Thông tin các cột có thể bị sai lệch có thể cách hiểu của từng người khác nhau. <br>\n",
    "Để mang tính khách quan khuyến khích người đọc nên tham khảo nguồn thông tin bằng tiếng Anh chính thức. <br>\n",
    "Thông tin các cột có thể đọc thêm tại trang web [UCI](https://archive.ics.uci.edu/ml/datasets/Seoul+Bike+Sharing+Demand)"
   ]
  },
  {
   "cell_type": "markdown",
   "id": "1933a341",
   "metadata": {},
   "source": [
    "### Mỗi cột hiện đang có kiểu dữ liệu gì? Có cột nào có kiểu dữ liệu chưa phù hợp để có thể xử lý tiếp không?"
   ]
  },
  {
   "cell_type": "code",
   "execution_count": 7,
   "id": "bb8bbce8",
   "metadata": {
    "ExecuteTime": {
     "end_time": "2022-01-04T08:29:06.394791Z",
     "start_time": "2022-01-04T08:29:06.366818Z"
    }
   },
   "outputs": [
    {
     "data": {
      "text/plain": [
       "Date                          object\n",
       "Rented Bike Count              int64\n",
       "Hour                           int64\n",
       "Temperature(°C)              float64\n",
       "Humidity(%)                    int64\n",
       "Wind speed (m/s)             float64\n",
       "Visibility (10m)               int64\n",
       "Dew point temperature(°C)    float64\n",
       "Solar Radiation (MJ/m2)      float64\n",
       "Rainfall(mm)                 float64\n",
       "Snowfall (cm)                float64\n",
       "Seasons                       object\n",
       "Holiday                       object\n",
       "Functioning Day               object\n",
       "dtype: object"
      ]
     },
     "execution_count": 7,
     "metadata": {},
     "output_type": "execute_result"
    }
   ],
   "source": [
    "df.dtypes"
   ]
  },
  {
   "cell_type": "markdown",
   "id": "87bc3fdf",
   "metadata": {},
   "source": [
    "Xem xét các cột ở trên ở phần này ta sẽ thực hiện các bước sau: <br>\n",
    "Dữ liệu ở các cột object như Seasons (chỉ có 4 mùa), Holiday (Yes hoặc No), Functioning Day (Yes hoặc No) ta sẽ chuyển về dạng int. <br>\n",
    "Và cuối cùng cột Date sẽ được chuyển về kiểu dữ liệu Datetime."
   ]
  },
  {
   "cell_type": "code",
   "execution_count": 8,
   "id": "da55b844",
   "metadata": {
    "ExecuteTime": {
     "end_time": "2022-01-04T08:29:06.425760Z",
     "start_time": "2022-01-04T08:29:06.397788Z"
    }
   },
   "outputs": [],
   "source": [
    "# column Season. \n",
    "# Định nghĩa: 0: Xuân, 1: Hạ, 2: Thu, 3: Đông\n",
    "df.loc[df['Seasons'] == 'Spring', 'Seasons'] = 0\n",
    "df.loc[df['Seasons'] == 'Summer', 'Seasons'] = 1\n",
    "df.loc[df['Seasons'] == 'Autumn', 'Seasons'] = 2\n",
    "df.loc[df['Seasons'] == 'Winter', 'Seasons'] = 3\n",
    "df['Seasons'] = df['Seasons'].astype(np.int64)"
   ]
  },
  {
   "cell_type": "code",
   "execution_count": 9,
   "id": "1aca3082",
   "metadata": {
    "ExecuteTime": {
     "end_time": "2022-01-04T08:29:06.457735Z",
     "start_time": "2022-01-04T08:29:06.428760Z"
    }
   },
   "outputs": [],
   "source": [
    "# column Holiday\n",
    "# Định nghĩa: 0: No Holiday, 1: Holiday\n",
    "df.loc[df['Holiday'] != 'Holiday', 'Holiday'] = 0\n",
    "df.loc[df['Holiday'] == 'Holiday', 'Holiday'] = 1\n",
    "df['Holiday'] = df['Holiday'].astype(np.int64)"
   ]
  },
  {
   "cell_type": "code",
   "execution_count": 10,
   "id": "31d5760e",
   "metadata": {
    "ExecuteTime": {
     "end_time": "2022-01-04T08:29:06.488703Z",
     "start_time": "2022-01-04T08:29:06.467723Z"
    }
   },
   "outputs": [],
   "source": [
    "# column Functioning Day\n",
    "# Định nghĩa: 0: No, 1: Yes\n",
    "df.loc[df['Functioning Day'] == 'No', 'Functioning Day'] = 0\n",
    "df.loc[df['Functioning Day'] == 'Yes', 'Functioning Day'] = 1\n",
    "df['Functioning Day'] = df['Functioning Day'].astype(np.int64)"
   ]
  },
  {
   "cell_type": "code",
   "execution_count": 11,
   "id": "968d9f7c",
   "metadata": {
    "ExecuteTime": {
     "end_time": "2022-01-04T08:29:06.519673Z",
     "start_time": "2022-01-04T08:29:06.491703Z"
    }
   },
   "outputs": [],
   "source": [
    "# column Date\n",
    "df['Date'] = pd.to_datetime(df['Date'], format='%d/%m/%Y')"
   ]
  },
  {
   "cell_type": "code",
   "execution_count": 12,
   "id": "3ab80b04",
   "metadata": {
    "ExecuteTime": {
     "end_time": "2022-01-04T08:29:06.554641Z",
     "start_time": "2022-01-04T08:29:06.523672Z"
    }
   },
   "outputs": [
    {
     "name": "stdout",
     "output_type": "stream",
     "text": [
      "<class 'pandas.core.frame.DataFrame'>\n",
      "RangeIndex: 8760 entries, 0 to 8759\n",
      "Data columns (total 14 columns):\n",
      " #   Column                     Non-Null Count  Dtype         \n",
      "---  ------                     --------------  -----         \n",
      " 0   Date                       8760 non-null   datetime64[ns]\n",
      " 1   Rented Bike Count          8760 non-null   int64         \n",
      " 2   Hour                       8760 non-null   int64         \n",
      " 3   Temperature(°C)            8760 non-null   float64       \n",
      " 4   Humidity(%)                8760 non-null   int64         \n",
      " 5   Wind speed (m/s)           8760 non-null   float64       \n",
      " 6   Visibility (10m)           8760 non-null   int64         \n",
      " 7   Dew point temperature(°C)  8760 non-null   float64       \n",
      " 8   Solar Radiation (MJ/m2)    8760 non-null   float64       \n",
      " 9   Rainfall(mm)               8760 non-null   float64       \n",
      " 10  Snowfall (cm)              8760 non-null   float64       \n",
      " 11  Seasons                    8760 non-null   int64         \n",
      " 12  Holiday                    8760 non-null   int64         \n",
      " 13  Functioning Day            8760 non-null   int64         \n",
      "dtypes: datetime64[ns](1), float64(6), int64(7)\n",
      "memory usage: 958.2 KB\n"
     ]
    }
   ],
   "source": [
    "df.info()"
   ]
  },
  {
   "cell_type": "markdown",
   "id": "6bdca1a5",
   "metadata": {},
   "source": [
    "Bây giờ thì các dữ liệu đều đã ở dạng phù hợp để xử lý."
   ]
  },
  {
   "cell_type": "markdown",
   "id": "f4dbd382",
   "metadata": {},
   "source": [
    "### Với mỗi cột có kiểu dữ liệu dạng số (numerical), các giá trị được phân bố như thế nào"
   ]
  },
  {
   "cell_type": "markdown",
   "id": "52a86dd5",
   "metadata": {},
   "source": [
    "Ở phần này, với các cột có kiểu dữ liệu số để hiểu thêm về dữ liệu, ta sẽ tính:\n",
    "- Tỉ lệ % (từ 0 đến 100) các giá trị thiếu \n",
    "- Giá trị min\n",
    "- Giá trị lower quartile (phân vị 25)\n",
    "- Giá trị median (phân vị 50)\n",
    "- Giá trị upper quartile (phân vị 75)\n",
    "- Giá trị max"
   ]
  },
  {
   "cell_type": "code",
   "execution_count": 13,
   "id": "f8b319ed",
   "metadata": {
    "ExecuteTime": {
     "end_time": "2022-01-04T08:29:06.583614Z",
     "start_time": "2022-01-04T08:29:06.556640Z"
    }
   },
   "outputs": [],
   "source": [
    "def calculate_quartile(data):\n",
    "    nume_col_info_df = pd.DataFrame()\n",
    "    for col in data.keys():\n",
    "        if data[col].dtype in [np.int64, np.float64] :\n",
    "            missing = data[col].isnull().sum()\n",
    "            missing_percentage = round(data[col].isnull().sum() * 100 / len(data[col]), 1)\n",
    "            min_value = data[col].min()\n",
    "            lower_quartile = data[col].quantile(0.25)\n",
    "            median = data[col].median()\n",
    "            upper = data[col].quantile(0.75)\n",
    "            max_value = data[col].max()\n",
    "            row_line = pd.Series([missing,missing_percentage, min_value, lower_quartile, median, upper, max_value], \n",
    "                                 index = ['num_missing','missing_percentage', 'min', 'lower_quartile', 'median', 'upper_quartile', 'max'])\n",
    "            nume_col_info_df[col] = row_line\n",
    "    return nume_col_info_df"
   ]
  },
  {
   "cell_type": "code",
   "execution_count": 14,
   "id": "d6a95b84",
   "metadata": {
    "ExecuteTime": {
     "end_time": "2022-01-04T08:29:06.695509Z",
     "start_time": "2022-01-04T08:29:06.585612Z"
    }
   },
   "outputs": [
    {
     "data": {
      "text/html": [
       "<div>\n",
       "<style scoped>\n",
       "    .dataframe tbody tr th:only-of-type {\n",
       "        vertical-align: middle;\n",
       "    }\n",
       "\n",
       "    .dataframe tbody tr th {\n",
       "        vertical-align: top;\n",
       "    }\n",
       "\n",
       "    .dataframe thead th {\n",
       "        text-align: right;\n",
       "    }\n",
       "</style>\n",
       "<table border=\"1\" class=\"dataframe\">\n",
       "  <thead>\n",
       "    <tr style=\"text-align: right;\">\n",
       "      <th></th>\n",
       "      <th>num_missing</th>\n",
       "      <th>missing_percentage</th>\n",
       "      <th>min</th>\n",
       "      <th>lower_quartile</th>\n",
       "      <th>median</th>\n",
       "      <th>upper_quartile</th>\n",
       "      <th>max</th>\n",
       "    </tr>\n",
       "  </thead>\n",
       "  <tbody>\n",
       "    <tr>\n",
       "      <th>Rented Bike Count</th>\n",
       "      <td>0.0</td>\n",
       "      <td>0.0</td>\n",
       "      <td>0.0</td>\n",
       "      <td>191.00</td>\n",
       "      <td>504.50</td>\n",
       "      <td>1065.25</td>\n",
       "      <td>3556.00</td>\n",
       "    </tr>\n",
       "    <tr>\n",
       "      <th>Hour</th>\n",
       "      <td>0.0</td>\n",
       "      <td>0.0</td>\n",
       "      <td>0.0</td>\n",
       "      <td>5.75</td>\n",
       "      <td>11.50</td>\n",
       "      <td>17.25</td>\n",
       "      <td>23.00</td>\n",
       "    </tr>\n",
       "    <tr>\n",
       "      <th>Temperature(°C)</th>\n",
       "      <td>0.0</td>\n",
       "      <td>0.0</td>\n",
       "      <td>-17.8</td>\n",
       "      <td>3.50</td>\n",
       "      <td>13.70</td>\n",
       "      <td>22.50</td>\n",
       "      <td>39.40</td>\n",
       "    </tr>\n",
       "    <tr>\n",
       "      <th>Humidity(%)</th>\n",
       "      <td>0.0</td>\n",
       "      <td>0.0</td>\n",
       "      <td>0.0</td>\n",
       "      <td>42.00</td>\n",
       "      <td>57.00</td>\n",
       "      <td>74.00</td>\n",
       "      <td>98.00</td>\n",
       "    </tr>\n",
       "    <tr>\n",
       "      <th>Wind speed (m/s)</th>\n",
       "      <td>0.0</td>\n",
       "      <td>0.0</td>\n",
       "      <td>0.0</td>\n",
       "      <td>0.90</td>\n",
       "      <td>1.50</td>\n",
       "      <td>2.30</td>\n",
       "      <td>7.40</td>\n",
       "    </tr>\n",
       "    <tr>\n",
       "      <th>Visibility (10m)</th>\n",
       "      <td>0.0</td>\n",
       "      <td>0.0</td>\n",
       "      <td>27.0</td>\n",
       "      <td>940.00</td>\n",
       "      <td>1698.00</td>\n",
       "      <td>2000.00</td>\n",
       "      <td>2000.00</td>\n",
       "    </tr>\n",
       "    <tr>\n",
       "      <th>Dew point temperature(°C)</th>\n",
       "      <td>0.0</td>\n",
       "      <td>0.0</td>\n",
       "      <td>-30.6</td>\n",
       "      <td>-4.70</td>\n",
       "      <td>5.10</td>\n",
       "      <td>14.80</td>\n",
       "      <td>27.20</td>\n",
       "    </tr>\n",
       "    <tr>\n",
       "      <th>Solar Radiation (MJ/m2)</th>\n",
       "      <td>0.0</td>\n",
       "      <td>0.0</td>\n",
       "      <td>0.0</td>\n",
       "      <td>0.00</td>\n",
       "      <td>0.01</td>\n",
       "      <td>0.93</td>\n",
       "      <td>3.52</td>\n",
       "    </tr>\n",
       "    <tr>\n",
       "      <th>Rainfall(mm)</th>\n",
       "      <td>0.0</td>\n",
       "      <td>0.0</td>\n",
       "      <td>0.0</td>\n",
       "      <td>0.00</td>\n",
       "      <td>0.00</td>\n",
       "      <td>0.00</td>\n",
       "      <td>35.00</td>\n",
       "    </tr>\n",
       "    <tr>\n",
       "      <th>Snowfall (cm)</th>\n",
       "      <td>0.0</td>\n",
       "      <td>0.0</td>\n",
       "      <td>0.0</td>\n",
       "      <td>0.00</td>\n",
       "      <td>0.00</td>\n",
       "      <td>0.00</td>\n",
       "      <td>8.80</td>\n",
       "    </tr>\n",
       "    <tr>\n",
       "      <th>Seasons</th>\n",
       "      <td>0.0</td>\n",
       "      <td>0.0</td>\n",
       "      <td>0.0</td>\n",
       "      <td>0.00</td>\n",
       "      <td>1.00</td>\n",
       "      <td>2.00</td>\n",
       "      <td>3.00</td>\n",
       "    </tr>\n",
       "    <tr>\n",
       "      <th>Holiday</th>\n",
       "      <td>0.0</td>\n",
       "      <td>0.0</td>\n",
       "      <td>0.0</td>\n",
       "      <td>0.00</td>\n",
       "      <td>0.00</td>\n",
       "      <td>0.00</td>\n",
       "      <td>1.00</td>\n",
       "    </tr>\n",
       "    <tr>\n",
       "      <th>Functioning Day</th>\n",
       "      <td>0.0</td>\n",
       "      <td>0.0</td>\n",
       "      <td>0.0</td>\n",
       "      <td>1.00</td>\n",
       "      <td>1.00</td>\n",
       "      <td>1.00</td>\n",
       "      <td>1.00</td>\n",
       "    </tr>\n",
       "  </tbody>\n",
       "</table>\n",
       "</div>"
      ],
      "text/plain": [
       "                           num_missing  missing_percentage   min  \\\n",
       "Rented Bike Count                  0.0                 0.0   0.0   \n",
       "Hour                               0.0                 0.0   0.0   \n",
       "Temperature(°C)                    0.0                 0.0 -17.8   \n",
       "Humidity(%)                        0.0                 0.0   0.0   \n",
       "Wind speed (m/s)                   0.0                 0.0   0.0   \n",
       "Visibility (10m)                   0.0                 0.0  27.0   \n",
       "Dew point temperature(°C)          0.0                 0.0 -30.6   \n",
       "Solar Radiation (MJ/m2)            0.0                 0.0   0.0   \n",
       "Rainfall(mm)                       0.0                 0.0   0.0   \n",
       "Snowfall (cm)                      0.0                 0.0   0.0   \n",
       "Seasons                            0.0                 0.0   0.0   \n",
       "Holiday                            0.0                 0.0   0.0   \n",
       "Functioning Day                    0.0                 0.0   0.0   \n",
       "\n",
       "                           lower_quartile   median  upper_quartile      max  \n",
       "Rented Bike Count                  191.00   504.50         1065.25  3556.00  \n",
       "Hour                                 5.75    11.50           17.25    23.00  \n",
       "Temperature(°C)                      3.50    13.70           22.50    39.40  \n",
       "Humidity(%)                         42.00    57.00           74.00    98.00  \n",
       "Wind speed (m/s)                     0.90     1.50            2.30     7.40  \n",
       "Visibility (10m)                   940.00  1698.00         2000.00  2000.00  \n",
       "Dew point temperature(°C)           -4.70     5.10           14.80    27.20  \n",
       "Solar Radiation (MJ/m2)              0.00     0.01            0.93     3.52  \n",
       "Rainfall(mm)                         0.00     0.00            0.00    35.00  \n",
       "Snowfall (cm)                        0.00     0.00            0.00     8.80  \n",
       "Seasons                              0.00     1.00            2.00     3.00  \n",
       "Holiday                              0.00     0.00            0.00     1.00  \n",
       "Functioning Day                      1.00     1.00            1.00     1.00  "
      ]
     },
     "execution_count": 14,
     "metadata": {},
     "output_type": "execute_result"
    }
   ],
   "source": [
    "info_df = calculate_quartile(df)\n",
    "info_df.T"
   ]
  },
  {
   "cell_type": "markdown",
   "id": "252535be",
   "metadata": {},
   "source": [
    "#### Số-lượng/tỉ-lệ các giá trị thiếu?"
   ]
  },
  {
   "cell_type": "code",
   "execution_count": 15,
   "id": "44239909",
   "metadata": {
    "ExecuteTime": {
     "end_time": "2022-01-04T08:29:06.741468Z",
     "start_time": "2022-01-04T08:29:06.698508Z"
    }
   },
   "outputs": [
    {
     "data": {
      "text/html": [
       "<div>\n",
       "<style scoped>\n",
       "    .dataframe tbody tr th:only-of-type {\n",
       "        vertical-align: middle;\n",
       "    }\n",
       "\n",
       "    .dataframe tbody tr th {\n",
       "        vertical-align: top;\n",
       "    }\n",
       "\n",
       "    .dataframe thead th {\n",
       "        text-align: right;\n",
       "    }\n",
       "</style>\n",
       "<table border=\"1\" class=\"dataframe\">\n",
       "  <thead>\n",
       "    <tr style=\"text-align: right;\">\n",
       "      <th></th>\n",
       "      <th>num_missing</th>\n",
       "      <th>missing_percentage</th>\n",
       "    </tr>\n",
       "  </thead>\n",
       "  <tbody>\n",
       "    <tr>\n",
       "      <th>Rented Bike Count</th>\n",
       "      <td>0.0</td>\n",
       "      <td>0.0</td>\n",
       "    </tr>\n",
       "    <tr>\n",
       "      <th>Hour</th>\n",
       "      <td>0.0</td>\n",
       "      <td>0.0</td>\n",
       "    </tr>\n",
       "    <tr>\n",
       "      <th>Temperature(°C)</th>\n",
       "      <td>0.0</td>\n",
       "      <td>0.0</td>\n",
       "    </tr>\n",
       "    <tr>\n",
       "      <th>Humidity(%)</th>\n",
       "      <td>0.0</td>\n",
       "      <td>0.0</td>\n",
       "    </tr>\n",
       "    <tr>\n",
       "      <th>Wind speed (m/s)</th>\n",
       "      <td>0.0</td>\n",
       "      <td>0.0</td>\n",
       "    </tr>\n",
       "    <tr>\n",
       "      <th>Visibility (10m)</th>\n",
       "      <td>0.0</td>\n",
       "      <td>0.0</td>\n",
       "    </tr>\n",
       "    <tr>\n",
       "      <th>Dew point temperature(°C)</th>\n",
       "      <td>0.0</td>\n",
       "      <td>0.0</td>\n",
       "    </tr>\n",
       "    <tr>\n",
       "      <th>Solar Radiation (MJ/m2)</th>\n",
       "      <td>0.0</td>\n",
       "      <td>0.0</td>\n",
       "    </tr>\n",
       "    <tr>\n",
       "      <th>Rainfall(mm)</th>\n",
       "      <td>0.0</td>\n",
       "      <td>0.0</td>\n",
       "    </tr>\n",
       "    <tr>\n",
       "      <th>Snowfall (cm)</th>\n",
       "      <td>0.0</td>\n",
       "      <td>0.0</td>\n",
       "    </tr>\n",
       "    <tr>\n",
       "      <th>Seasons</th>\n",
       "      <td>0.0</td>\n",
       "      <td>0.0</td>\n",
       "    </tr>\n",
       "    <tr>\n",
       "      <th>Holiday</th>\n",
       "      <td>0.0</td>\n",
       "      <td>0.0</td>\n",
       "    </tr>\n",
       "    <tr>\n",
       "      <th>Functioning Day</th>\n",
       "      <td>0.0</td>\n",
       "      <td>0.0</td>\n",
       "    </tr>\n",
       "  </tbody>\n",
       "</table>\n",
       "</div>"
      ],
      "text/plain": [
       "                           num_missing  missing_percentage\n",
       "Rented Bike Count                  0.0                 0.0\n",
       "Hour                               0.0                 0.0\n",
       "Temperature(°C)                    0.0                 0.0\n",
       "Humidity(%)                        0.0                 0.0\n",
       "Wind speed (m/s)                   0.0                 0.0\n",
       "Visibility (10m)                   0.0                 0.0\n",
       "Dew point temperature(°C)          0.0                 0.0\n",
       "Solar Radiation (MJ/m2)            0.0                 0.0\n",
       "Rainfall(mm)                       0.0                 0.0\n",
       "Snowfall (cm)                      0.0                 0.0\n",
       "Seasons                            0.0                 0.0\n",
       "Holiday                            0.0                 0.0\n",
       "Functioning Day                    0.0                 0.0"
      ]
     },
     "execution_count": 15,
     "metadata": {},
     "output_type": "execute_result"
    }
   ],
   "source": [
    "pd.DataFrame([info_df.loc['num_missing'],info_df.loc['missing_percentage']]).transpose()"
   ]
  },
  {
   "cell_type": "markdown",
   "id": "3f2e6485",
   "metadata": {},
   "source": [
    "#### Min? max? → Có gì bất thường không?"
   ]
  },
  {
   "cell_type": "code",
   "execution_count": 16,
   "id": "59bd6c7a",
   "metadata": {
    "ExecuteTime": {
     "end_time": "2022-01-04T08:29:06.789423Z",
     "start_time": "2022-01-04T08:29:06.745465Z"
    }
   },
   "outputs": [
    {
     "data": {
      "text/html": [
       "<div>\n",
       "<style scoped>\n",
       "    .dataframe tbody tr th:only-of-type {\n",
       "        vertical-align: middle;\n",
       "    }\n",
       "\n",
       "    .dataframe tbody tr th {\n",
       "        vertical-align: top;\n",
       "    }\n",
       "\n",
       "    .dataframe thead th {\n",
       "        text-align: right;\n",
       "    }\n",
       "</style>\n",
       "<table border=\"1\" class=\"dataframe\">\n",
       "  <thead>\n",
       "    <tr style=\"text-align: right;\">\n",
       "      <th></th>\n",
       "      <th>min</th>\n",
       "      <th>max</th>\n",
       "    </tr>\n",
       "  </thead>\n",
       "  <tbody>\n",
       "    <tr>\n",
       "      <th>Rented Bike Count</th>\n",
       "      <td>0.0</td>\n",
       "      <td>3556.00</td>\n",
       "    </tr>\n",
       "    <tr>\n",
       "      <th>Hour</th>\n",
       "      <td>0.0</td>\n",
       "      <td>23.00</td>\n",
       "    </tr>\n",
       "    <tr>\n",
       "      <th>Temperature(°C)</th>\n",
       "      <td>-17.8</td>\n",
       "      <td>39.40</td>\n",
       "    </tr>\n",
       "    <tr>\n",
       "      <th>Humidity(%)</th>\n",
       "      <td>0.0</td>\n",
       "      <td>98.00</td>\n",
       "    </tr>\n",
       "    <tr>\n",
       "      <th>Wind speed (m/s)</th>\n",
       "      <td>0.0</td>\n",
       "      <td>7.40</td>\n",
       "    </tr>\n",
       "    <tr>\n",
       "      <th>Visibility (10m)</th>\n",
       "      <td>27.0</td>\n",
       "      <td>2000.00</td>\n",
       "    </tr>\n",
       "    <tr>\n",
       "      <th>Dew point temperature(°C)</th>\n",
       "      <td>-30.6</td>\n",
       "      <td>27.20</td>\n",
       "    </tr>\n",
       "    <tr>\n",
       "      <th>Solar Radiation (MJ/m2)</th>\n",
       "      <td>0.0</td>\n",
       "      <td>3.52</td>\n",
       "    </tr>\n",
       "    <tr>\n",
       "      <th>Rainfall(mm)</th>\n",
       "      <td>0.0</td>\n",
       "      <td>35.00</td>\n",
       "    </tr>\n",
       "    <tr>\n",
       "      <th>Snowfall (cm)</th>\n",
       "      <td>0.0</td>\n",
       "      <td>8.80</td>\n",
       "    </tr>\n",
       "    <tr>\n",
       "      <th>Seasons</th>\n",
       "      <td>0.0</td>\n",
       "      <td>3.00</td>\n",
       "    </tr>\n",
       "    <tr>\n",
       "      <th>Holiday</th>\n",
       "      <td>0.0</td>\n",
       "      <td>1.00</td>\n",
       "    </tr>\n",
       "    <tr>\n",
       "      <th>Functioning Day</th>\n",
       "      <td>0.0</td>\n",
       "      <td>1.00</td>\n",
       "    </tr>\n",
       "  </tbody>\n",
       "</table>\n",
       "</div>"
      ],
      "text/plain": [
       "                            min      max\n",
       "Rented Bike Count           0.0  3556.00\n",
       "Hour                        0.0    23.00\n",
       "Temperature(°C)           -17.8    39.40\n",
       "Humidity(%)                 0.0    98.00\n",
       "Wind speed (m/s)            0.0     7.40\n",
       "Visibility (10m)           27.0  2000.00\n",
       "Dew point temperature(°C) -30.6    27.20\n",
       "Solar Radiation (MJ/m2)     0.0     3.52\n",
       "Rainfall(mm)                0.0    35.00\n",
       "Snowfall (cm)               0.0     8.80\n",
       "Seasons                     0.0     3.00\n",
       "Holiday                     0.0     1.00\n",
       "Functioning Day             0.0     1.00"
      ]
     },
     "execution_count": 16,
     "metadata": {},
     "output_type": "execute_result"
    }
   ],
   "source": [
    "pd.DataFrame([info_df.loc['min'],info_df.loc['max']]).transpose()"
   ]
  },
  {
   "cell_type": "markdown",
   "id": "9fd510f1",
   "metadata": {},
   "source": [
    "### Với mỗi cột có kiểu dữ liệu dạng phân loại (categorical), các giá trị được phân bố như thế nào?"
   ]
  },
  {
   "cell_type": "markdown",
   "id": "49af9639",
   "metadata": {},
   "source": [
    "Với các cột có kiểu dữ liệu không phải số và các cột có dạng số nhưng có ít hơn 25 giá trị khác nhau, ta sẽ tính:\n",
    "\n",
    "- Tỉ lệ % (từ 0 đến 100) các giá trị thiếu\n",
    "- Số lượng các giá trị (các giá trị ở đây là các giá trị khác nhau và ta không xét giá trị thiếu) \n",
    "\n",
    "- Tỉ lệ % (từ 0 đến 100) của mỗi giá trị được sort theo tỉ lệ % giảm dần (ta không xét giá trị thiếu, tỉ lệ là tỉ lệ so với số lượng các giá trị không thiếu): bạn dùng dictionary để lưu, key là giá trị, value là tỉ lệ %"
   ]
  },
  {
   "cell_type": "code",
   "execution_count": 17,
   "id": "ee75e234",
   "metadata": {
    "ExecuteTime": {
     "end_time": "2022-01-04T08:29:06.853364Z",
     "start_time": "2022-01-04T08:29:06.793420Z"
    }
   },
   "outputs": [
    {
     "data": {
      "text/plain": [
       "{'Date', 'Functioning Day', 'Holiday', 'Hour', 'Seasons'}"
      ]
     },
     "execution_count": 17,
     "metadata": {},
     "output_type": "execute_result"
    }
   ],
   "source": [
    "cat = df.nunique()[df.nunique() < 25].index.tolist()\n",
    "cat.extend(df.select_dtypes(exclude=[\"number\",\"bool_\"]).columns.tolist())\n",
    "cat = set(cat)\n",
    "cat"
   ]
  },
  {
   "cell_type": "code",
   "execution_count": 18,
   "id": "24f868b8",
   "metadata": {
    "ExecuteTime": {
     "end_time": "2022-01-04T08:29:06.917307Z",
     "start_time": "2022-01-04T08:29:06.856362Z"
    }
   },
   "outputs": [
    {
     "data": {
      "text/html": [
       "<div>\n",
       "<style scoped>\n",
       "    .dataframe tbody tr th:only-of-type {\n",
       "        vertical-align: middle;\n",
       "    }\n",
       "\n",
       "    .dataframe tbody tr th {\n",
       "        vertical-align: top;\n",
       "    }\n",
       "\n",
       "    .dataframe thead th {\n",
       "        text-align: right;\n",
       "    }\n",
       "</style>\n",
       "<table border=\"1\" class=\"dataframe\">\n",
       "  <thead>\n",
       "    <tr style=\"text-align: right;\">\n",
       "      <th></th>\n",
       "      <th>Holiday</th>\n",
       "      <th>Functioning Day</th>\n",
       "      <th>Seasons</th>\n",
       "      <th>Hour</th>\n",
       "      <th>Date</th>\n",
       "    </tr>\n",
       "  </thead>\n",
       "  <tbody>\n",
       "    <tr>\n",
       "      <th>num_missing</th>\n",
       "      <td>0</td>\n",
       "      <td>0</td>\n",
       "      <td>0</td>\n",
       "      <td>0</td>\n",
       "      <td>0</td>\n",
       "    </tr>\n",
       "    <tr>\n",
       "      <th>missing_percentage</th>\n",
       "      <td>0.0</td>\n",
       "      <td>0.0</td>\n",
       "      <td>0.0</td>\n",
       "      <td>0.0</td>\n",
       "      <td>0.0</td>\n",
       "    </tr>\n",
       "    <tr>\n",
       "      <th>num_values</th>\n",
       "      <td>2</td>\n",
       "      <td>2</td>\n",
       "      <td>4</td>\n",
       "      <td>24</td>\n",
       "      <td>365</td>\n",
       "    </tr>\n",
       "    <tr>\n",
       "      <th>value_percentages</th>\n",
       "      <td>{0: 95.1, 1: 4.9}</td>\n",
       "      <td>{1: 96.6, 0: 3.4}</td>\n",
       "      <td>{0: 25.2, 1: 25.2, 2: 24.9, 3: 24.7}</td>\n",
       "      <td>{0: 4.2, 8: 4.2, 15: 4.2, 7: 4.2, 22: 4.2, 14:...</td>\n",
       "      <td>{2017-12-14 00:00:00: 0.3, 2018-09-05 00:00:00...</td>\n",
       "    </tr>\n",
       "  </tbody>\n",
       "</table>\n",
       "</div>"
      ],
      "text/plain": [
       "                              Holiday    Functioning Day  \\\n",
       "num_missing                         0                  0   \n",
       "missing_percentage                0.0                0.0   \n",
       "num_values                          2                  2   \n",
       "value_percentages   {0: 95.1, 1: 4.9}  {1: 96.6, 0: 3.4}   \n",
       "\n",
       "                                                 Seasons  \\\n",
       "num_missing                                            0   \n",
       "missing_percentage                                   0.0   \n",
       "num_values                                             4   \n",
       "value_percentages   {0: 25.2, 1: 25.2, 2: 24.9, 3: 24.7}   \n",
       "\n",
       "                                                                 Hour  \\\n",
       "num_missing                                                         0   \n",
       "missing_percentage                                                0.0   \n",
       "num_values                                                         24   \n",
       "value_percentages   {0: 4.2, 8: 4.2, 15: 4.2, 7: 4.2, 22: 4.2, 14:...   \n",
       "\n",
       "                                                                 Date  \n",
       "num_missing                                                         0  \n",
       "missing_percentage                                                0.0  \n",
       "num_values                                                        365  \n",
       "value_percentages   {2017-12-14 00:00:00: 0.3, 2018-09-05 00:00:00...  "
      ]
     },
     "execution_count": 18,
     "metadata": {},
     "output_type": "execute_result"
    }
   ],
   "source": [
    "missing = [];missing_percentage=[];num_values=[];value_percentages=[]\n",
    "\n",
    "for column in cat:\n",
    "    missing.append(df[column].isnull().sum())\n",
    "    missing_percentage.append((df[column].isnull().sum() * 100 / len(df)).round(1))\n",
    "    temp = df[column].dropna()\n",
    "    num_values.append(len(temp.unique()))\n",
    "    value_percentages.append(((temp.value_counts(normalize=True)*100).round(1)).to_dict())\n",
    "cat_info_df = pd.DataFrame([missing,missing_percentage,num_values,value_percentages],\n",
    "                            index=['num_missing','missing_percentage','num_values','value_percentages'],\n",
    "                            columns=list(cat))\n",
    "cat_info_df"
   ]
  },
  {
   "cell_type": "markdown",
   "id": "e444cd21",
   "metadata": {},
   "source": [
    "#### Số-lượng/tỉ-lệ các giá trị thiếu?"
   ]
  },
  {
   "cell_type": "code",
   "execution_count": 19,
   "id": "4a6294df",
   "metadata": {
    "ExecuteTime": {
     "end_time": "2022-01-04T08:29:06.949274Z",
     "start_time": "2022-01-04T08:29:06.920301Z"
    }
   },
   "outputs": [
    {
     "data": {
      "text/html": [
       "<div>\n",
       "<style scoped>\n",
       "    .dataframe tbody tr th:only-of-type {\n",
       "        vertical-align: middle;\n",
       "    }\n",
       "\n",
       "    .dataframe tbody tr th {\n",
       "        vertical-align: top;\n",
       "    }\n",
       "\n",
       "    .dataframe thead th {\n",
       "        text-align: right;\n",
       "    }\n",
       "</style>\n",
       "<table border=\"1\" class=\"dataframe\">\n",
       "  <thead>\n",
       "    <tr style=\"text-align: right;\">\n",
       "      <th></th>\n",
       "      <th>num_missing</th>\n",
       "      <th>missing_percentage</th>\n",
       "    </tr>\n",
       "  </thead>\n",
       "  <tbody>\n",
       "    <tr>\n",
       "      <th>Holiday</th>\n",
       "      <td>0.0</td>\n",
       "      <td>0.0</td>\n",
       "    </tr>\n",
       "    <tr>\n",
       "      <th>Functioning Day</th>\n",
       "      <td>0.0</td>\n",
       "      <td>0.0</td>\n",
       "    </tr>\n",
       "    <tr>\n",
       "      <th>Seasons</th>\n",
       "      <td>0.0</td>\n",
       "      <td>0.0</td>\n",
       "    </tr>\n",
       "    <tr>\n",
       "      <th>Hour</th>\n",
       "      <td>0.0</td>\n",
       "      <td>0.0</td>\n",
       "    </tr>\n",
       "    <tr>\n",
       "      <th>Date</th>\n",
       "      <td>0.0</td>\n",
       "      <td>0.0</td>\n",
       "    </tr>\n",
       "  </tbody>\n",
       "</table>\n",
       "</div>"
      ],
      "text/plain": [
       "                 num_missing  missing_percentage\n",
       "Holiday                  0.0                 0.0\n",
       "Functioning Day          0.0                 0.0\n",
       "Seasons                  0.0                 0.0\n",
       "Hour                     0.0                 0.0\n",
       "Date                     0.0                 0.0"
      ]
     },
     "execution_count": 19,
     "metadata": {},
     "output_type": "execute_result"
    }
   ],
   "source": [
    "pd.DataFrame([cat_info_df.loc['num_missing'],cat_info_df.loc['missing_percentage']]).transpose()"
   ]
  },
  {
   "cell_type": "markdown",
   "id": "ca2fdcdd",
   "metadata": {},
   "source": [
    "#### Số lượng các giá trị khác nhau? Show một vài giá trị → Có gì bất thường không?"
   ]
  },
  {
   "cell_type": "code",
   "execution_count": 20,
   "id": "f563995a",
   "metadata": {
    "ExecuteTime": {
     "end_time": "2022-01-04T08:29:06.965260Z",
     "start_time": "2022-01-04T08:29:06.952272Z"
    }
   },
   "outputs": [],
   "source": [
    "from matplotlib import cycler \n",
    "colors = cycler('color', ['#EE6666', '#3388BB', '#9988DD', '#EECC55', '#88BB44', '#FFBBBB']) \n",
    "plt.rc('axes', facecolor='#E6E6E6', edgecolor='none', axisbelow=True, grid=True, prop_cycle=colors) \n",
    "plt.rc('grid', color='w', linestyle='solid') \n",
    "plt.rc('xtick', direction='out', color='gray') \n",
    "plt.rc('ytick', direction='out', color='gray') \n",
    "plt.rc('patch', edgecolor='#E6E6E6') \n",
    "plt.rc('lines', linewidth=2)"
   ]
  },
  {
   "cell_type": "code",
   "execution_count": 21,
   "id": "9acfa89c",
   "metadata": {
    "ExecuteTime": {
     "end_time": "2022-01-04T08:29:07.394858Z",
     "start_time": "2022-01-04T08:29:06.968257Z"
    }
   },
   "outputs": [
    {
     "data": {
      "image/png": "[encoded data removed]",
      "text/plain": [
       "<Figure size 432x288 with 1 Axes>"
      ]
     },
     "metadata": {},
     "output_type": "display_data"
    }
   ],
   "source": [
    "df.Hour.value_counts().plot(kind='pie');"
   ]
  },
  {
   "cell_type": "code",
   "execution_count": 22,
   "id": "65516d66",
   "metadata": {
    "ExecuteTime": {
     "end_time": "2022-01-04T08:29:08.298015Z",
     "start_time": "2022-01-04T08:29:07.397856Z"
    }
   },
   "outputs": [
    {
     "data": {
      "image/png": "[encoded data removed]",
      "text/plain": [
       "<Figure size 1080x720 with 4 Axes>"
      ]
     },
     "metadata": {},
     "output_type": "display_data"
    }
   ],
   "source": [
    "fig, axis = plt.subplots(2,2,figsize=(15,10))\n",
    "fig.subplots_adjust(left=0.0625, right=0.95, wspace=0.1)\n",
    " \n",
    "df.Holiday.value_counts().plot(kind='pie', autopct='%1.1f%%',ax = axis[0,0], fontsize=13)\n",
    "df['Functioning Day'].value_counts().plot(kind='pie', autopct='%1.1f%%',ax = axis[0,1], fontsize=13)\n",
    "df.Seasons.value_counts().plot(kind='pie', autopct='%1.1f%%',ax = axis[1,0], fontsize=13)\n",
    "df.Hour.value_counts().plot(kind='bar',ax = axis[1,1], fontsize=10)\n",
    "axis[1,1].tick_params(axis='x', rotation=0)"
   ]
  },
  {
   "cell_type": "code",
   "execution_count": 23,
   "id": "b74d8c16",
   "metadata": {
    "ExecuteTime": {
     "end_time": "2022-01-04T08:29:08.377942Z",
     "start_time": "2022-01-04T08:29:08.301014Z"
    }
   },
   "outputs": [
    {
     "data": {
      "text/html": [
       "<div>\n",
       "<style scoped>\n",
       "    .dataframe tbody tr th:only-of-type {\n",
       "        vertical-align: middle;\n",
       "    }\n",
       "\n",
       "    .dataframe tbody tr th {\n",
       "        vertical-align: top;\n",
       "    }\n",
       "\n",
       "    .dataframe thead th {\n",
       "        text-align: right;\n",
       "    }\n",
       "</style>\n",
       "<table border=\"1\" class=\"dataframe\">\n",
       "  <thead>\n",
       "    <tr style=\"text-align: right;\">\n",
       "      <th></th>\n",
       "      <th>0</th>\n",
       "    </tr>\n",
       "  </thead>\n",
       "  <tbody>\n",
       "    <tr>\n",
       "      <th>2017-12-14</th>\n",
       "      <td>0.3</td>\n",
       "    </tr>\n",
       "    <tr>\n",
       "      <th>2018-09-05</th>\n",
       "      <td>0.3</td>\n",
       "    </tr>\n",
       "    <tr>\n",
       "      <th>2018-05-27</th>\n",
       "      <td>0.3</td>\n",
       "    </tr>\n",
       "    <tr>\n",
       "      <th>2018-11-01</th>\n",
       "      <td>0.3</td>\n",
       "    </tr>\n",
       "    <tr>\n",
       "      <th>2018-02-15</th>\n",
       "      <td>0.3</td>\n",
       "    </tr>\n",
       "    <tr>\n",
       "      <th>2018-07-23</th>\n",
       "      <td>0.3</td>\n",
       "    </tr>\n",
       "    <tr>\n",
       "      <th>2018-04-13</th>\n",
       "      <td>0.3</td>\n",
       "    </tr>\n",
       "    <tr>\n",
       "      <th>2018-09-18</th>\n",
       "      <td>0.3</td>\n",
       "    </tr>\n",
       "    <tr>\n",
       "      <th>2018-01-02</th>\n",
       "      <td>0.3</td>\n",
       "    </tr>\n",
       "    <tr>\n",
       "      <th>2018-06-09</th>\n",
       "      <td>0.3</td>\n",
       "    </tr>\n",
       "  </tbody>\n",
       "</table>\n",
       "</div>"
      ],
      "text/plain": [
       "              0\n",
       "2017-12-14  0.3\n",
       "2018-09-05  0.3\n",
       "2018-05-27  0.3\n",
       "2018-11-01  0.3\n",
       "2018-02-15  0.3\n",
       "2018-07-23  0.3\n",
       "2018-04-13  0.3\n",
       "2018-09-18  0.3\n",
       "2018-01-02  0.3\n",
       "2018-06-09  0.3"
      ]
     },
     "execution_count": 23,
     "metadata": {},
     "output_type": "execute_result"
    }
   ],
   "source": [
    "country_df = pd.DataFrame([cat_info_df['Date']['value_percentages']])\n",
    "country_df.T.head(10)"
   ]
  },
  {
   "cell_type": "markdown",
   "id": "31130178",
   "metadata": {},
   "source": [
    "- Có vẻ dữ liệu đều ổn không có gì bất thường xảy ra ở đây"
   ]
  },
  {
   "cell_type": "markdown",
   "id": "b144b1f5",
   "metadata": {},
   "source": [
    "# Đưa ra các câu hỏi có ý nghĩa cần trả lời"
   ]
  },
  {
   "cell_type": "markdown",
   "id": "e0b5ea33",
   "metadata": {},
   "source": [
    "## Câu hỏi - Lợi ích"
   ]
  },
  {
   "cell_type": "markdown",
   "id": "63e33442",
   "metadata": {},
   "source": [
    "- Câu hỏi\n",
    "1. Dựa vào độ ẩm, nhiệt độ và các thuộc tính về thời tiết. Ta có thể phân biệt được mùa mưa và mùa tuyết rơi (2 mùa gây cản trở cho việc di chuyển) ở seoul không? (mùa mưa: vào khoảng tầm tháng 5 cuối xuân đầu hè, mùa tuyết rơi vào khoảng cuối tháng 12 đến giữa tháng 3). <br>\n",
    "—> dự đoán trước được thời tiết sắp tới là mùa mưa hay mùa tuyết mặc khác có thể dự đoán được trong ngày có mưa rơi hay tuyết rơi không? để đưa ra lượng xe cho thuê thích hợp"
   ]
  },
  {
   "cell_type": "code",
   "execution_count": 24,
   "id": "cb8d952f",
   "metadata": {
    "ExecuteTime": {
     "end_time": "2022-01-04T08:29:08.423897Z",
     "start_time": "2022-01-04T08:29:08.382937Z"
    }
   },
   "outputs": [
    {
     "data": {
      "text/html": [
       "<div>\n",
       "<style scoped>\n",
       "    .dataframe tbody tr th:only-of-type {\n",
       "        vertical-align: middle;\n",
       "    }\n",
       "\n",
       "    .dataframe tbody tr th {\n",
       "        vertical-align: top;\n",
       "    }\n",
       "\n",
       "    .dataframe thead th {\n",
       "        text-align: right;\n",
       "    }\n",
       "</style>\n",
       "<table border=\"1\" class=\"dataframe\">\n",
       "  <thead>\n",
       "    <tr style=\"text-align: right;\">\n",
       "      <th></th>\n",
       "      <th>Month</th>\n",
       "      <th>Rainfall(mm)</th>\n",
       "      <th>Snowfall (cm)</th>\n",
       "    </tr>\n",
       "  </thead>\n",
       "  <tbody>\n",
       "    <tr>\n",
       "      <th>0</th>\n",
       "      <td>12</td>\n",
       "      <td>0.0</td>\n",
       "      <td>0.0</td>\n",
       "    </tr>\n",
       "    <tr>\n",
       "      <th>1</th>\n",
       "      <td>12</td>\n",
       "      <td>0.0</td>\n",
       "      <td>0.0</td>\n",
       "    </tr>\n",
       "    <tr>\n",
       "      <th>2</th>\n",
       "      <td>12</td>\n",
       "      <td>0.0</td>\n",
       "      <td>0.0</td>\n",
       "    </tr>\n",
       "    <tr>\n",
       "      <th>3</th>\n",
       "      <td>12</td>\n",
       "      <td>0.0</td>\n",
       "      <td>0.0</td>\n",
       "    </tr>\n",
       "    <tr>\n",
       "      <th>4</th>\n",
       "      <td>12</td>\n",
       "      <td>0.0</td>\n",
       "      <td>0.0</td>\n",
       "    </tr>\n",
       "    <tr>\n",
       "      <th>...</th>\n",
       "      <td>...</td>\n",
       "      <td>...</td>\n",
       "      <td>...</td>\n",
       "    </tr>\n",
       "    <tr>\n",
       "      <th>8755</th>\n",
       "      <td>11</td>\n",
       "      <td>0.0</td>\n",
       "      <td>0.0</td>\n",
       "    </tr>\n",
       "    <tr>\n",
       "      <th>8756</th>\n",
       "      <td>11</td>\n",
       "      <td>0.0</td>\n",
       "      <td>0.0</td>\n",
       "    </tr>\n",
       "    <tr>\n",
       "      <th>8757</th>\n",
       "      <td>11</td>\n",
       "      <td>0.0</td>\n",
       "      <td>0.0</td>\n",
       "    </tr>\n",
       "    <tr>\n",
       "      <th>8758</th>\n",
       "      <td>11</td>\n",
       "      <td>0.0</td>\n",
       "      <td>0.0</td>\n",
       "    </tr>\n",
       "    <tr>\n",
       "      <th>8759</th>\n",
       "      <td>11</td>\n",
       "      <td>0.0</td>\n",
       "      <td>0.0</td>\n",
       "    </tr>\n",
       "  </tbody>\n",
       "</table>\n",
       "<p>8760 rows × 3 columns</p>\n",
       "</div>"
      ],
      "text/plain": [
       "      Month  Rainfall(mm)  Snowfall (cm)\n",
       "0        12           0.0            0.0\n",
       "1        12           0.0            0.0\n",
       "2        12           0.0            0.0\n",
       "3        12           0.0            0.0\n",
       "4        12           0.0            0.0\n",
       "...     ...           ...            ...\n",
       "8755     11           0.0            0.0\n",
       "8756     11           0.0            0.0\n",
       "8757     11           0.0            0.0\n",
       "8758     11           0.0            0.0\n",
       "8759     11           0.0            0.0\n",
       "\n",
       "[8760 rows x 3 columns]"
      ]
     },
     "execution_count": 24,
     "metadata": {},
     "output_type": "execute_result"
    }
   ],
   "source": [
    "rain_df = df.copy()\n",
    "rain_df['Month'] = rain_df['Date'].dt.month\n",
    "rain_df = rain_df.drop(['Date'], axis=1)\n",
    "rain_df = rain_df[['Month', 'Rainfall(mm)', 'Snowfall (cm)']]\n",
    "rain_df"
   ]
  },
  {
   "cell_type": "code",
   "execution_count": 25,
   "id": "3d6e976c",
   "metadata": {
    "ExecuteTime": {
     "end_time": "2022-01-04T08:29:08.833516Z",
     "start_time": "2022-01-04T08:29:08.426897Z"
    }
   },
   "outputs": [
    {
     "data": {
      "image/png": "[encoded data removed]",
      "text/plain": [
       "<Figure size 432x288 with 1 Axes>"
      ]
     },
     "metadata": {},
     "output_type": "display_data"
    }
   ],
   "source": [
    "rain_info = rain_df.groupby('Month')['Rainfall(mm)']\n",
    "rain_info = rain_info.sum() / rain_info.size()\n",
    "rain_info = rain_info.reset_index()\n",
    "# # # rain_info = rain_info.set_index('Rainfall(mm)')\n",
    "plt.bar(rain_info['Month'], rain_info['Rainfall(mm)'])\n",
    "plt.xlabel('Month')\n",
    "# plt.ylabel('Rainfall(mm)');\n",
    "\n",
    "snow_info = rain_df.groupby('Month')['Snowfall (cm)']\n",
    "snow_info = snow_info.sum() / snow_info.size()\n",
    "snow_info = snow_info.reset_index()\n",
    "# # # rain_info = rain_info.set_index('Rainfall(mm)')\n",
    "plt.bar(rain_info['Month'], snow_info['Snowfall (cm)'])\n",
    "plt.xlabel('Month')\n",
    "# plt.ylabel('Snowfall (cm)');\n",
    "plt.legend(['Rainfall(mm)', 'Snowfall (cm)']);"
   ]
  },
  {
   "cell_type": "markdown",
   "id": "df02a6bd",
   "metadata": {},
   "source": [
    "Dựa vào biểu đồ trên ta có thể thấy một cách rõ ràng từng mùa: mùa mưa rơi vào tầm tháng 4 đến tháng 10 (lớn hơn chuẩn 0.098mm per hour theo wikipedia). Còn mùa tuyết rơi thì vào tầm khoảng tháng 11 đến hết tháng 2. **Đúng thật đây là đất nước lạnh \"Hàn Quốc\" : đất nước giá lạnh**"
   ]
  },
  {
   "cell_type": "code",
   "execution_count": 26,
   "id": "f259c018",
   "metadata": {
    "ExecuteTime": {
     "end_time": "2022-01-04T08:29:11.488741Z",
     "start_time": "2022-01-04T08:29:08.838512Z"
    }
   },
   "outputs": [
    {
     "name": "stderr",
     "output_type": "stream",
     "text": [
      "C:\\Users\\LENOVO\\anaconda3\\envs\\min_ds-env\\lib\\site-packages\\seaborn\\_decorators.py:36: FutureWarning: Pass the following variables as keyword args: x, y. From version 0.12, the only valid positional argument will be `data`, and passing other arguments without an explicit keyword will result in an error or misinterpretation.\n",
      "  warnings.warn(\n",
      "C:\\Users\\LENOVO\\anaconda3\\envs\\min_ds-env\\lib\\site-packages\\seaborn\\_decorators.py:36: FutureWarning: Pass the following variables as keyword args: x, y. From version 0.12, the only valid positional argument will be `data`, and passing other arguments without an explicit keyword will result in an error or misinterpretation.\n",
      "  warnings.warn(\n"
     ]
    },
    {
     "data": {
      "image/png": "[encoded data removed]",
      "text/plain": [
       "<Figure size 411.85x360 with 1 Axes>"
      ]
     },
     "metadata": {},
     "output_type": "display_data"
    },
    {
     "data": {
      "image/png": "[encoded data removed]",
      "text/plain": [
       "<Figure size 411.85x360 with 1 Axes>"
      ]
     },
     "metadata": {},
     "output_type": "display_data"
    }
   ],
   "source": [
    "rain_info_df = df.drop(['Rented Bike Count', 'Hour', 'Holiday', 'Functioning Day'],axis=1)\n",
    "rain_info_df['Month'] = rain_info_df['Date'].dt.month\n",
    "rain_info_df = rain_info_df.drop(['Date'], axis=1)\n",
    "from sklearn.decomposition import PCA\n",
    "train_df = rain_info_df.drop(['Month'], axis=1)\n",
    "target = rain_info_df['Month']\n",
    "\n",
    "model = PCA(n_components=2)\n",
    "model.fit(train_df)\n",
    "info_2D =  model.transform(train_df)\n",
    "\n",
    "rain_info_df['PCA1'] = info_2D[:, 0] \n",
    "rain_info_df['PCA2'] = info_2D[:, 1]\n",
    "\n",
    "sns.lmplot(\"PCA1\", \"PCA2\", hue='Month', data=rain_info_df.loc[rain_info_df['Month'].isin([4, 5, 6, 7, 8, 9, 10])], fit_reg=False); \n",
    "# rain_info_df\n",
    "sns.lmplot(\"PCA1\", \"PCA2\", hue='Month', data=rain_info_df.loc[rain_info_df['Month'].isin([1, 2, 3, 11, 12])], fit_reg=False); "
   ]
  },
  {
   "cell_type": "markdown",
   "id": "b319ea3c",
   "metadata": {},
   "source": [
    "2. Qua các hiện tượng thời tiết cực đoan gây cản trở việc di chuyển như mùa đông (tuyết rơi), mùa hè(mưa rơi) hay các thuộc tính như (lượng mưa, lượng tuyết) thì có phải số lượng xe thuê sẽ ít hơn không? <br>\n",
    "—> Kiểm định giả thuyết nếu trời mưa hay tuyết thì người dân sẽ có xu hướng đi xe đạp ít hơn."
   ]
  },
  {
   "cell_type": "markdown",
   "id": "efdaa235",
   "metadata": {},
   "source": [
    "Theo như ở câu hỏi 1. Ta đã xác định được các tháng mưa nhiều và có tuyết rơi. Do đó ở đây để đơn giản hóa vấn đề ta sẽ sử dụng kết quả của câu 1 để trả lời câu hỏi này.\n",
    "Cụ thể ta sẽ lấy các tháng:\n",
    "- Mùa mưa (lượng mưa mỗi giờ >= 0.098)\n",
    "- Mừa tuyết rơi: chỉ cần có tuyết rơi là được"
   ]
  },
  {
   "cell_type": "code",
   "execution_count": 27,
   "id": "277f981c",
   "metadata": {
    "ExecuteTime": {
     "end_time": "2022-01-04T08:29:11.504728Z",
     "start_time": "2022-01-04T08:29:11.490739Z"
    }
   },
   "outputs": [
    {
     "data": {
      "text/plain": [
       "array([ 1,  2,  4,  5,  6,  7,  8, 10, 11, 12], dtype=int64)"
      ]
     },
     "execution_count": 27,
     "metadata": {},
     "output_type": "execute_result"
    }
   ],
   "source": [
    "rain_month = rain_info.loc[rain_info['Rainfall(mm)'] > 0.098, 'Month'].values\n",
    "snow_month = snow_info.loc[snow_info['Snowfall (cm)'] != 0, 'Month'].values\n",
    "extreme_weather_month = np.unique(np.append(rain_month, snow_month))\n",
    "extreme_weather_month"
   ]
  },
  {
   "cell_type": "code",
   "execution_count": 28,
   "id": "84611fe1",
   "metadata": {
    "ExecuteTime": {
     "end_time": "2022-01-04T08:29:17.297545Z",
     "start_time": "2022-01-04T08:29:11.517715Z"
    }
   },
   "outputs": [
    {
     "data": {
      "image/png": "[encoded data removed]",
      "text/plain": [
       "<Figure size 432x288 with 1 Axes>"
      ]
     },
     "metadata": {},
     "output_type": "display_data"
    }
   ],
   "source": [
    "# adding month\n",
    "df['Month'] = df['Date'].dt.month\n",
    "# getting extreme month\n",
    "extreme_rent = df.loc[df['Month'].isin(extreme_weather_month), ['Month', 'Rented Bike Count']]\n",
    "extreme_info = extreme_rent.groupby('Month')['Rented Bike Count']\n",
    "extreme_info = extreme_info.sum() / extreme_info.size()\n",
    "extreme_info = extreme_info.reset_index()\n",
    "\n",
    "plt.bar(extreme_info['Month'], extreme_info['Rented Bike Count'])\n",
    "plt.xlabel('Month')\n",
    "\n",
    "normal_rent = df.loc[~df['Month'].isin(extreme_weather_month), ['Month', 'Rented Bike Count']]\n",
    "normal_info = normal_rent.groupby('Month')['Rented Bike Count']\n",
    "normal_info = normal_rent.sum() / normal_info.size()\n",
    "normal_info = normal_rent.reset_index()\n",
    "\n",
    "plt.bar(normal_info['Month'], normal_info['Rented Bike Count'])\n",
    "plt.legend(['Extreme', 'Normal']);"
   ]
  },
  {
   "cell_type": "markdown",
   "id": "f2f1496e",
   "metadata": {},
   "source": [
    "Nhìn vào biểu đồ thì ta cũng kết luận được giả thuyết các mùa có thời tiết khắc nghiệt thì sẽ có ít người thuê xe hơn là đúng. Tuy nhiên có một điều đặc biệt tuy không liên quan đến câu hỏi nhưng sẽ có chút thú vị ở đây. Đó là ở tháng 6 khi đang ở trong những tháng đỉnh của mùa mưa nhưng số xe thuê trung bình trong tháng này lên đến hơn 1000 chiếc xe. Lẽ nào người ta thích đi xe đạp trong trời mưa hoặc có lẽ mượn xe vì chạy mưa chăng :v"
   ]
  },
  {
   "cell_type": "code",
   "execution_count": null,
   "id": "f008451e",
   "metadata": {},
   "outputs": [],
   "source": []
  },
  {
   "cell_type": "markdown",
   "id": "2b5a9fb4",
   "metadata": {},
   "source": [
    "# Tiền xử lý + phân tích dữ liệu để trả lời cho từng câu hỏi"
   ]
  },
  {
   "cell_type": "markdown",
   "id": "67517ec0",
   "metadata": {},
   "source": [
    "# Nhìn lại quá trình làm đồ án"
   ]
  },
  {
   "cell_type": "markdown",
   "id": "9fcb28f7",
   "metadata": {},
   "source": [
    "## Những khó khăn"
   ]
  },
  {
   "cell_type": "markdown",
   "id": "153b3f4b",
   "metadata": {},
   "source": [
    "## Học được gì hữu ích"
   ]
  },
  {
   "cell_type": "markdown",
   "id": "2a7862af",
   "metadata": {},
   "source": [
    "## Nếu có thêm thời gian sẽ làm gì"
   ]
  },
  {
   "cell_type": "markdown",
   "id": "75ecd96e",
   "metadata": {},
   "source": [
    "# Tài liệu tham khảo"
   ]
  },
  {
   "cell_type": "code",
   "execution_count": null,
   "id": "bb08b51d",
   "metadata": {},
   "outputs": [],
   "source": []
  },
  {
   "cell_type": "code",
   "execution_count": null,
   "id": "7ae254dc",
   "metadata": {},
   "outputs": [],
   "source": []
  },
  {
   "cell_type": "code",
   "execution_count": null,
   "id": "76be4fb1",
   "metadata": {},
   "outputs": [],
   "source": []
  },
  {
   "cell_type": "code",
   "execution_count": null,
   "id": "b2c38755",
   "metadata": {},
   "outputs": [],
   "source": []
  }
 ],
 "metadata": {
  "kernelspec": {
   "display_name": "Python 3 (ipykernel)",
   "language": "python",
   "name": "python3"
  },
  "language_info": {
   "codemirror_mode": {
    "name": "ipython",
    "version": 3
   },
   "file_extension": ".py",
   "mimetype": "text/x-python",
   "name": "python",
   "nbconvert_exporter": "python",
   "pygments_lexer": "ipython3",
   "version": "3.8.8"
  },
  "nbTranslate": {
   "displayLangs": [
    "*"
   ],
   "hotkey": "alt-t",
   "langInMainMenu": true,
   "sourceLang": "en",
   "targetLang": "fr",
   "useGoogleTranslate": true
  },
  "toc": {
   "base_numbering": 1,
   "nav_menu": {},
   "number_sections": true,
   "sideBar": true,
   "skip_h1_title": false,
   "title_cell": "Table of Contents",
   "title_sidebar": "Contents",
   "toc_cell": false,
   "toc_position": {},
   "toc_section_display": true,
   "toc_window_display": false
  }
 },
 "nbformat": 4,
 "nbformat_minor": 5
}
