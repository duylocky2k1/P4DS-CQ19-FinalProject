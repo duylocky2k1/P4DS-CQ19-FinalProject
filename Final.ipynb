{
 "cells": [
  {
   "cell_type": "markdown",
   "id": "4d6da911",
   "metadata": {},
   "source": [
    "# Link github: \n",
    "https://github.com/nightfury1103/P4DS-CQ19-FinalProject"
   ]
  },
  {
   "cell_type": "markdown",
   "id": "f80d2810",
   "metadata": {},
   "source": [
    "# Import"
   ]
  },
  {
   "cell_type": "code",
   "execution_count": 3,
   "id": "850e094d",
   "metadata": {
    "ExecuteTime": {
     "end_time": "2021-12-22T06:05:23.313515Z",
     "start_time": "2021-12-22T06:05:21.370810Z"
    }
   },
   "outputs": [],
   "source": [
    "import pandas as pd\n",
    "import numpy as np\n",
    "import matplotlib.pyplot as plt\n",
    "import seaborn as sns"
   ]
  },
  {
   "cell_type": "code",
   "execution_count": 145,
   "id": "d2bf6a23",
   "metadata": {
    "ExecuteTime": {
     "end_time": "2021-12-22T12:14:34.079349Z",
     "start_time": "2021-12-22T12:14:34.004425Z"
    }
   },
   "outputs": [
    {
     "data": {
      "text/html": [
       "<div>\n",
       "<style scoped>\n",
       "    .dataframe tbody tr th:only-of-type {\n",
       "        vertical-align: middle;\n",
       "    }\n",
       "\n",
       "    .dataframe tbody tr th {\n",
       "        vertical-align: top;\n",
       "    }\n",
       "\n",
       "    .dataframe thead th {\n",
       "        text-align: right;\n",
       "    }\n",
       "</style>\n",
       "<table border=\"1\" class=\"dataframe\">\n",
       "  <thead>\n",
       "    <tr style=\"text-align: right;\">\n",
       "      <th></th>\n",
       "      <th>Year</th>\n",
       "      <th>Mo</th>\n",
       "      <th>Dy</th>\n",
       "      <th>Hr</th>\n",
       "      <th>Mn</th>\n",
       "      <th>Sec</th>\n",
       "      <th>Tsunami Event Validity</th>\n",
       "      <th>Tsunami Cause Code</th>\n",
       "      <th>Earthquake Magnitude</th>\n",
       "      <th>Deposits</th>\n",
       "      <th>...</th>\n",
       "      <th>Tsunami Magnitude (Iida)</th>\n",
       "      <th>Tsunami Intensity</th>\n",
       "      <th>Total Deaths</th>\n",
       "      <th>Total Missing</th>\n",
       "      <th>Total Missing Description</th>\n",
       "      <th>Total Injuries</th>\n",
       "      <th>Total Damage ($Mil)</th>\n",
       "      <th>Total Damage Description</th>\n",
       "      <th>Total Houses Destroyed</th>\n",
       "      <th>Total Houses Damaged</th>\n",
       "    </tr>\n",
       "  </thead>\n",
       "  <tbody>\n",
       "    <tr>\n",
       "      <th>0</th>\n",
       "      <td>NaN</td>\n",
       "      <td>NaN</td>\n",
       "      <td>NaN</td>\n",
       "      <td>NaN</td>\n",
       "      <td>NaN</td>\n",
       "      <td>NaN</td>\n",
       "      <td>NaN</td>\n",
       "      <td>NaN</td>\n",
       "      <td>NaN</td>\n",
       "      <td>NaN</td>\n",
       "      <td>...</td>\n",
       "      <td>NaN</td>\n",
       "      <td>NaN</td>\n",
       "      <td>NaN</td>\n",
       "      <td>NaN</td>\n",
       "      <td>NaN</td>\n",
       "      <td>NaN</td>\n",
       "      <td>NaN</td>\n",
       "      <td>NaN</td>\n",
       "      <td>NaN</td>\n",
       "      <td>NaN</td>\n",
       "    </tr>\n",
       "    <tr>\n",
       "      <th>1</th>\n",
       "      <td>1800.0</td>\n",
       "      <td>6.0</td>\n",
       "      <td>2.0</td>\n",
       "      <td>20.0</td>\n",
       "      <td>17.0</td>\n",
       "      <td>NaN</td>\n",
       "      <td>2.0</td>\n",
       "      <td>1.0</td>\n",
       "      <td>NaN</td>\n",
       "      <td>0.0</td>\n",
       "      <td>...</td>\n",
       "      <td>NaN</td>\n",
       "      <td>NaN</td>\n",
       "      <td>NaN</td>\n",
       "      <td>NaN</td>\n",
       "      <td>NaN</td>\n",
       "      <td>NaN</td>\n",
       "      <td>NaN</td>\n",
       "      <td>NaN</td>\n",
       "      <td>NaN</td>\n",
       "      <td>NaN</td>\n",
       "    </tr>\n",
       "    <tr>\n",
       "      <th>2</th>\n",
       "      <td>1802.0</td>\n",
       "      <td>1.0</td>\n",
       "      <td>4.0</td>\n",
       "      <td>7.0</td>\n",
       "      <td>NaN</td>\n",
       "      <td>NaN</td>\n",
       "      <td>2.0</td>\n",
       "      <td>1.0</td>\n",
       "      <td>NaN</td>\n",
       "      <td>0.0</td>\n",
       "      <td>...</td>\n",
       "      <td>NaN</td>\n",
       "      <td>3.0</td>\n",
       "      <td>NaN</td>\n",
       "      <td>NaN</td>\n",
       "      <td>NaN</td>\n",
       "      <td>NaN</td>\n",
       "      <td>NaN</td>\n",
       "      <td>NaN</td>\n",
       "      <td>NaN</td>\n",
       "      <td>NaN</td>\n",
       "    </tr>\n",
       "    <tr>\n",
       "      <th>3</th>\n",
       "      <td>1802.0</td>\n",
       "      <td>3.0</td>\n",
       "      <td>19.0</td>\n",
       "      <td>NaN</td>\n",
       "      <td>NaN</td>\n",
       "      <td>NaN</td>\n",
       "      <td>2.0</td>\n",
       "      <td>1.0</td>\n",
       "      <td>NaN</td>\n",
       "      <td>0.0</td>\n",
       "      <td>...</td>\n",
       "      <td>NaN</td>\n",
       "      <td>NaN</td>\n",
       "      <td>NaN</td>\n",
       "      <td>NaN</td>\n",
       "      <td>NaN</td>\n",
       "      <td>NaN</td>\n",
       "      <td>NaN</td>\n",
       "      <td>NaN</td>\n",
       "      <td>NaN</td>\n",
       "      <td>NaN</td>\n",
       "    </tr>\n",
       "    <tr>\n",
       "      <th>4</th>\n",
       "      <td>1802.0</td>\n",
       "      <td>8.0</td>\n",
       "      <td>10.0</td>\n",
       "      <td>NaN</td>\n",
       "      <td>NaN</td>\n",
       "      <td>NaN</td>\n",
       "      <td>1.0</td>\n",
       "      <td>0.0</td>\n",
       "      <td>NaN</td>\n",
       "      <td>0.0</td>\n",
       "      <td>...</td>\n",
       "      <td>NaN</td>\n",
       "      <td>NaN</td>\n",
       "      <td>NaN</td>\n",
       "      <td>NaN</td>\n",
       "      <td>NaN</td>\n",
       "      <td>NaN</td>\n",
       "      <td>NaN</td>\n",
       "      <td>NaN</td>\n",
       "      <td>NaN</td>\n",
       "      <td>NaN</td>\n",
       "    </tr>\n",
       "  </tbody>\n",
       "</table>\n",
       "<p>5 rows × 26 columns</p>\n",
       "</div>"
      ],
      "text/plain": [
       "     Year   Mo    Dy    Hr    Mn  Sec  Tsunami Event Validity  \\\n",
       "0     NaN  NaN   NaN   NaN   NaN  NaN                     NaN   \n",
       "1  1800.0  6.0   2.0  20.0  17.0  NaN                     2.0   \n",
       "2  1802.0  1.0   4.0   7.0   NaN  NaN                     2.0   \n",
       "3  1802.0  3.0  19.0   NaN   NaN  NaN                     2.0   \n",
       "4  1802.0  8.0  10.0   NaN   NaN  NaN                     1.0   \n",
       "\n",
       "   Tsunami Cause Code  Earthquake Magnitude  Deposits  ...  \\\n",
       "0                 NaN                   NaN       NaN  ...   \n",
       "1                 1.0                   NaN       0.0  ...   \n",
       "2                 1.0                   NaN       0.0  ...   \n",
       "3                 1.0                   NaN       0.0  ...   \n",
       "4                 0.0                   NaN       0.0  ...   \n",
       "\n",
       "  Tsunami Magnitude (Iida) Tsunami Intensity  Total Deaths  Total Missing  \\\n",
       "0                      NaN               NaN           NaN            NaN   \n",
       "1                      NaN               NaN           NaN            NaN   \n",
       "2                      NaN               3.0           NaN            NaN   \n",
       "3                      NaN               NaN           NaN            NaN   \n",
       "4                      NaN               NaN           NaN            NaN   \n",
       "\n",
       "   Total Missing Description  Total Injuries  Total Damage ($Mil)  \\\n",
       "0                        NaN             NaN                  NaN   \n",
       "1                        NaN             NaN                  NaN   \n",
       "2                        NaN             NaN                  NaN   \n",
       "3                        NaN             NaN                  NaN   \n",
       "4                        NaN             NaN                  NaN   \n",
       "\n",
       "   Total Damage Description  Total Houses Destroyed  Total Houses Damaged  \n",
       "0                       NaN                     NaN                   NaN  \n",
       "1                       NaN                     NaN                   NaN  \n",
       "2                       NaN                     NaN                   NaN  \n",
       "3                       NaN                     NaN                   NaN  \n",
       "4                       NaN                     NaN                   NaN  \n",
       "\n",
       "[5 rows x 26 columns]"
      ]
     },
     "execution_count": 145,
     "metadata": {},
     "output_type": "execute_result"
    }
   ],
   "source": [
    "df = pd.read_csv('tsunami.csv')\n",
    "df.head()"
   ]
  },
  {
   "cell_type": "markdown",
   "id": "22db6815",
   "metadata": {},
   "source": [
    "# Thu thập dữ liệu"
   ]
  },
  {
   "cell_type": "markdown",
   "id": "d3fdef72",
   "metadata": {},
   "source": [
    "## Dữ liệu của bạn là về chủ đề gì "
   ]
  },
  {
   "cell_type": "markdown",
   "id": "8b92e73f",
   "metadata": {
    "ExecuteTime": {
     "end_time": "2021-12-22T13:09:34.139258Z",
     "start_time": "2021-12-22T13:09:34.127270Z"
    }
   },
   "source": [
    "- Tập dữ liệu đưa ra các mô tả ngắn gọn về các cơn sóng thần xảy ra từ năm 1980 đến năm 2021\n",
    "- Có tổng cộng 26 cột với các thông tin từ ngày tháng đến các thống kê về mức độ thiệt hại"
   ]
  },
  {
   "cell_type": "markdown",
   "id": "e3240899",
   "metadata": {},
   "source": [
    "## Nguồn dữ liệu - Quyền sử dụng"
   ]
  },
  {
   "cell_type": "markdown",
   "id": "0d933bdc",
   "metadata": {
    "ExecuteTime": {
     "end_time": "2021-12-22T13:06:31.468416Z",
     "start_time": "2021-12-22T13:06:31.447434Z"
    }
   },
   "source": [
    "- Dữ liệu sử dụng của notebook được public trên trang web **kaggle** với đường dẫn sau \n",
    "https://www.kaggle.com/ramjasmaurya/historical-data-of-tsunamis18002021.\n",
    "- Về vấn đề quyền sử dụng: Tác giả đề cập đến vấn đề quyền sử dụng dựa theo CC0 1.0 Universal (CC0 1.0) Public Domain Dedication"
   ]
  },
  {
   "cell_type": "markdown",
   "id": "8d0c6670",
   "metadata": {},
   "source": [
    "## Người ta thu thập dữ liệu như thế nào?"
   ]
  },
  {
   "cell_type": "markdown",
   "id": "2a71ce0a",
   "metadata": {},
   "source": [
    "- Dữ liệu được thu thập từ trang https://www.ngdc.noaa.gov/hazard/tsu_db.shtml với các cơ sở dữ liệu **Tsunami Runup** và **Tsunami Source Event**"
   ]
  },
  {
   "cell_type": "markdown",
   "id": "8476f0ba",
   "metadata": {},
   "source": [
    "# Khám phá dữ liệu"
   ]
  },
  {
   "cell_type": "markdown",
   "id": "bc7a088f",
   "metadata": {},
   "source": [
    "## Dữ liệu có bao nhiêu dòng và cột ? "
   ]
  },
  {
   "cell_type": "code",
   "execution_count": 6,
   "id": "cdcaa54e",
   "metadata": {
    "ExecuteTime": {
     "end_time": "2021-12-22T06:08:04.878854Z",
     "start_time": "2021-12-22T06:08:04.864867Z"
    }
   },
   "outputs": [
    {
     "data": {
      "text/plain": [
       "(2162, 26)"
      ]
     },
     "execution_count": 6,
     "metadata": {},
     "output_type": "execute_result"
    }
   ],
   "source": [
    "n_rows, n_col = df.shape\n",
    "n_rows, n_col"
   ]
  },
  {
   "cell_type": "markdown",
   "id": "4e90fac6",
   "metadata": {},
   "source": [
    "- Dữ liệu có 2162 dòng và 26 cột"
   ]
  },
  {
   "cell_type": "markdown",
   "id": "4c44c0eb",
   "metadata": {},
   "source": [
    "## Các dòng dữ liệu"
   ]
  },
  {
   "cell_type": "markdown",
   "id": "51b0cefd",
   "metadata": {},
   "source": [
    "### Mỗi dòng có ý nghĩa gì? Có vấn đề các dòng có ý nghĩa khác nhau không?"
   ]
  },
  {
   "cell_type": "code",
   "execution_count": 134,
   "id": "786591ca",
   "metadata": {
    "ExecuteTime": {
     "end_time": "2021-12-22T12:09:40.282868Z",
     "start_time": "2021-12-22T12:09:40.207944Z"
    }
   },
   "outputs": [
    {
     "data": {
      "text/html": [
       "<div>\n",
       "<style scoped>\n",
       "    .dataframe tbody tr th:only-of-type {\n",
       "        vertical-align: middle;\n",
       "    }\n",
       "\n",
       "    .dataframe tbody tr th {\n",
       "        vertical-align: top;\n",
       "    }\n",
       "\n",
       "    .dataframe thead th {\n",
       "        text-align: right;\n",
       "    }\n",
       "</style>\n",
       "<table border=\"1\" class=\"dataframe\">\n",
       "  <thead>\n",
       "    <tr style=\"text-align: right;\">\n",
       "      <th></th>\n",
       "      <th>Year</th>\n",
       "      <th>Mo</th>\n",
       "      <th>Dy</th>\n",
       "      <th>Hr</th>\n",
       "      <th>Mn</th>\n",
       "      <th>Sec</th>\n",
       "      <th>Tsunami Event Validity</th>\n",
       "      <th>Tsunami Cause Code</th>\n",
       "      <th>Earthquake Magnitude</th>\n",
       "      <th>Deposits</th>\n",
       "      <th>...</th>\n",
       "      <th>Tsunami Intensity</th>\n",
       "      <th>Total Deaths</th>\n",
       "      <th>Total Missing</th>\n",
       "      <th>Total Missing Description</th>\n",
       "      <th>Total Injuries</th>\n",
       "      <th>Total Damage ($Mil)</th>\n",
       "      <th>Total Damage Description</th>\n",
       "      <th>Total Houses Destroyed</th>\n",
       "      <th>Total Houses Damaged</th>\n",
       "      <th>dateInt</th>\n",
       "    </tr>\n",
       "  </thead>\n",
       "  <tbody>\n",
       "    <tr>\n",
       "      <th>0</th>\n",
       "      <td>NaN</td>\n",
       "      <td>NaN</td>\n",
       "      <td>NaN</td>\n",
       "      <td>NaN</td>\n",
       "      <td>NaN</td>\n",
       "      <td>NaN</td>\n",
       "      <td>NaN</td>\n",
       "      <td>NaN</td>\n",
       "      <td>NaN</td>\n",
       "      <td>NaN</td>\n",
       "      <td>...</td>\n",
       "      <td>NaN</td>\n",
       "      <td>NaN</td>\n",
       "      <td>NaN</td>\n",
       "      <td>NaN</td>\n",
       "      <td>NaN</td>\n",
       "      <td>NaN</td>\n",
       "      <td>NaN</td>\n",
       "      <td>NaN</td>\n",
       "      <td>NaN</td>\n",
       "      <td>nannannan</td>\n",
       "    </tr>\n",
       "    <tr>\n",
       "      <th>1</th>\n",
       "      <td>1800.0</td>\n",
       "      <td>6.0</td>\n",
       "      <td>2.0</td>\n",
       "      <td>20.0</td>\n",
       "      <td>17.0</td>\n",
       "      <td>NaN</td>\n",
       "      <td>2.0</td>\n",
       "      <td>1.0</td>\n",
       "      <td>NaN</td>\n",
       "      <td>0.0</td>\n",
       "      <td>...</td>\n",
       "      <td>NaN</td>\n",
       "      <td>NaN</td>\n",
       "      <td>NaN</td>\n",
       "      <td>NaN</td>\n",
       "      <td>NaN</td>\n",
       "      <td>NaN</td>\n",
       "      <td>NaN</td>\n",
       "      <td>NaN</td>\n",
       "      <td>NaN</td>\n",
       "      <td>1800.06.02.0</td>\n",
       "    </tr>\n",
       "    <tr>\n",
       "      <th>2</th>\n",
       "      <td>1802.0</td>\n",
       "      <td>1.0</td>\n",
       "      <td>4.0</td>\n",
       "      <td>7.0</td>\n",
       "      <td>NaN</td>\n",
       "      <td>NaN</td>\n",
       "      <td>2.0</td>\n",
       "      <td>1.0</td>\n",
       "      <td>NaN</td>\n",
       "      <td>0.0</td>\n",
       "      <td>...</td>\n",
       "      <td>3.0</td>\n",
       "      <td>NaN</td>\n",
       "      <td>NaN</td>\n",
       "      <td>NaN</td>\n",
       "      <td>NaN</td>\n",
       "      <td>NaN</td>\n",
       "      <td>NaN</td>\n",
       "      <td>NaN</td>\n",
       "      <td>NaN</td>\n",
       "      <td>1802.01.04.0</td>\n",
       "    </tr>\n",
       "    <tr>\n",
       "      <th>3</th>\n",
       "      <td>1802.0</td>\n",
       "      <td>3.0</td>\n",
       "      <td>19.0</td>\n",
       "      <td>NaN</td>\n",
       "      <td>NaN</td>\n",
       "      <td>NaN</td>\n",
       "      <td>2.0</td>\n",
       "      <td>1.0</td>\n",
       "      <td>NaN</td>\n",
       "      <td>0.0</td>\n",
       "      <td>...</td>\n",
       "      <td>NaN</td>\n",
       "      <td>NaN</td>\n",
       "      <td>NaN</td>\n",
       "      <td>NaN</td>\n",
       "      <td>NaN</td>\n",
       "      <td>NaN</td>\n",
       "      <td>NaN</td>\n",
       "      <td>NaN</td>\n",
       "      <td>NaN</td>\n",
       "      <td>1802.03.019.0</td>\n",
       "    </tr>\n",
       "    <tr>\n",
       "      <th>4</th>\n",
       "      <td>1802.0</td>\n",
       "      <td>8.0</td>\n",
       "      <td>10.0</td>\n",
       "      <td>NaN</td>\n",
       "      <td>NaN</td>\n",
       "      <td>NaN</td>\n",
       "      <td>1.0</td>\n",
       "      <td>0.0</td>\n",
       "      <td>NaN</td>\n",
       "      <td>0.0</td>\n",
       "      <td>...</td>\n",
       "      <td>NaN</td>\n",
       "      <td>NaN</td>\n",
       "      <td>NaN</td>\n",
       "      <td>NaN</td>\n",
       "      <td>NaN</td>\n",
       "      <td>NaN</td>\n",
       "      <td>NaN</td>\n",
       "      <td>NaN</td>\n",
       "      <td>NaN</td>\n",
       "      <td>1802.08.010.0</td>\n",
       "    </tr>\n",
       "  </tbody>\n",
       "</table>\n",
       "<p>5 rows × 27 columns</p>\n",
       "</div>"
      ],
      "text/plain": [
       "     Year   Mo    Dy    Hr    Mn  Sec Tsunami Event Validity  \\\n",
       "0     NaN  NaN   NaN   NaN   NaN  NaN                    NaN   \n",
       "1  1800.0  6.0   2.0  20.0  17.0  NaN                    2.0   \n",
       "2  1802.0  1.0   4.0   7.0   NaN  NaN                    2.0   \n",
       "3  1802.0  3.0  19.0   NaN   NaN  NaN                    2.0   \n",
       "4  1802.0  8.0  10.0   NaN   NaN  NaN                    1.0   \n",
       "\n",
       "  Tsunami Cause Code  Earthquake Magnitude  Deposits  ... Tsunami Intensity  \\\n",
       "0                NaN                   NaN       NaN  ...               NaN   \n",
       "1                1.0                   NaN       0.0  ...               NaN   \n",
       "2                1.0                   NaN       0.0  ...               3.0   \n",
       "3                1.0                   NaN       0.0  ...               NaN   \n",
       "4                0.0                   NaN       0.0  ...               NaN   \n",
       "\n",
       "  Total Deaths  Total Missing  Total Missing Description  Total Injuries  \\\n",
       "0          NaN            NaN                        NaN             NaN   \n",
       "1          NaN            NaN                        NaN             NaN   \n",
       "2          NaN            NaN                        NaN             NaN   \n",
       "3          NaN            NaN                        NaN             NaN   \n",
       "4          NaN            NaN                        NaN             NaN   \n",
       "\n",
       "   Total Damage ($Mil)  Total Damage Description  Total Houses Destroyed  \\\n",
       "0                  NaN                       NaN                     NaN   \n",
       "1                  NaN                       NaN                     NaN   \n",
       "2                  NaN                       NaN                     NaN   \n",
       "3                  NaN                       NaN                     NaN   \n",
       "4                  NaN                       NaN                     NaN   \n",
       "\n",
       "   Total Houses Damaged        dateInt  \n",
       "0                   NaN      nannannan  \n",
       "1                   NaN   1800.06.02.0  \n",
       "2                   NaN   1802.01.04.0  \n",
       "3                   NaN  1802.03.019.0  \n",
       "4                   NaN  1802.08.010.0  \n",
       "\n",
       "[5 rows x 27 columns]"
      ]
     },
     "execution_count": 134,
     "metadata": {},
     "output_type": "execute_result"
    }
   ],
   "source": [
    "df.head()"
   ]
  },
  {
   "cell_type": "markdown",
   "id": "9486e875",
   "metadata": {},
   "source": [
    "- Mỗi dòng ứng với thông tin của 1 cơn sóng thần. Có vẻ không có dòng nào \"lạc loài\" (nghĩa là không có vấn đề các dòng có ý nghĩa khác nhau).\n",
    "- Tuy nhiên ở dòng đầu tiên tất cả dữ liệu đều bị thiếu do đó ta sẽ loại bỏ dòng đầu khỏi dữ liệu"
   ]
  },
  {
   "cell_type": "code",
   "execution_count": 146,
   "id": "2dad03e5",
   "metadata": {
    "ExecuteTime": {
     "end_time": "2021-12-22T12:14:37.696559Z",
     "start_time": "2021-12-22T12:14:37.676576Z"
    }
   },
   "outputs": [],
   "source": [
    "df = df.drop([0]).reset_index().drop(['index'],axis=1)"
   ]
  },
  {
   "cell_type": "markdown",
   "id": "7e04da5f",
   "metadata": {},
   "source": [
    "### Dữ liệu các dòng có bị lặp hay không?"
   ]
  },
  {
   "cell_type": "code",
   "execution_count": 147,
   "id": "c2918977",
   "metadata": {
    "ExecuteTime": {
     "end_time": "2021-12-22T12:14:39.773078Z",
     "start_time": "2021-12-22T12:14:39.708139Z"
    }
   },
   "outputs": [
    {
     "data": {
      "text/html": [
       "<div>\n",
       "<style scoped>\n",
       "    .dataframe tbody tr th:only-of-type {\n",
       "        vertical-align: middle;\n",
       "    }\n",
       "\n",
       "    .dataframe tbody tr th {\n",
       "        vertical-align: top;\n",
       "    }\n",
       "\n",
       "    .dataframe thead th {\n",
       "        text-align: right;\n",
       "    }\n",
       "</style>\n",
       "<table border=\"1\" class=\"dataframe\">\n",
       "  <thead>\n",
       "    <tr style=\"text-align: right;\">\n",
       "      <th></th>\n",
       "      <th>Year</th>\n",
       "      <th>Mo</th>\n",
       "      <th>Dy</th>\n",
       "      <th>Hr</th>\n",
       "      <th>Mn</th>\n",
       "      <th>Sec</th>\n",
       "      <th>Tsunami Event Validity</th>\n",
       "      <th>Tsunami Cause Code</th>\n",
       "      <th>Earthquake Magnitude</th>\n",
       "      <th>Deposits</th>\n",
       "      <th>...</th>\n",
       "      <th>Tsunami Magnitude (Iida)</th>\n",
       "      <th>Tsunami Intensity</th>\n",
       "      <th>Total Deaths</th>\n",
       "      <th>Total Missing</th>\n",
       "      <th>Total Missing Description</th>\n",
       "      <th>Total Injuries</th>\n",
       "      <th>Total Damage ($Mil)</th>\n",
       "      <th>Total Damage Description</th>\n",
       "      <th>Total Houses Destroyed</th>\n",
       "      <th>Total Houses Damaged</th>\n",
       "    </tr>\n",
       "  </thead>\n",
       "  <tbody>\n",
       "    <tr>\n",
       "      <th>1448</th>\n",
       "      <td>1961.0</td>\n",
       "      <td>10.0</td>\n",
       "      <td>18.0</td>\n",
       "      <td>16.0</td>\n",
       "      <td>51.0</td>\n",
       "      <td>57.0</td>\n",
       "      <td>1.0</td>\n",
       "      <td>1.0</td>\n",
       "      <td>6.5</td>\n",
       "      <td>0.0</td>\n",
       "      <td>...</td>\n",
       "      <td>NaN</td>\n",
       "      <td>NaN</td>\n",
       "      <td>NaN</td>\n",
       "      <td>NaN</td>\n",
       "      <td>NaN</td>\n",
       "      <td>NaN</td>\n",
       "      <td>NaN</td>\n",
       "      <td>1.0</td>\n",
       "      <td>NaN</td>\n",
       "      <td>NaN</td>\n",
       "    </tr>\n",
       "    <tr>\n",
       "      <th>1449</th>\n",
       "      <td>1961.0</td>\n",
       "      <td>10.0</td>\n",
       "      <td>18.0</td>\n",
       "      <td>16.0</td>\n",
       "      <td>51.0</td>\n",
       "      <td>57.0</td>\n",
       "      <td>1.0</td>\n",
       "      <td>1.0</td>\n",
       "      <td>6.5</td>\n",
       "      <td>0.0</td>\n",
       "      <td>...</td>\n",
       "      <td>NaN</td>\n",
       "      <td>NaN</td>\n",
       "      <td>NaN</td>\n",
       "      <td>NaN</td>\n",
       "      <td>NaN</td>\n",
       "      <td>NaN</td>\n",
       "      <td>NaN</td>\n",
       "      <td>1.0</td>\n",
       "      <td>NaN</td>\n",
       "      <td>NaN</td>\n",
       "    </tr>\n",
       "  </tbody>\n",
       "</table>\n",
       "<p>2 rows × 26 columns</p>\n",
       "</div>"
      ],
      "text/plain": [
       "        Year    Mo    Dy    Hr    Mn   Sec  Tsunami Event Validity  \\\n",
       "1448  1961.0  10.0  18.0  16.0  51.0  57.0                     1.0   \n",
       "1449  1961.0  10.0  18.0  16.0  51.0  57.0                     1.0   \n",
       "\n",
       "      Tsunami Cause Code  Earthquake Magnitude  Deposits  ...  \\\n",
       "1448                 1.0                   6.5       0.0  ...   \n",
       "1449                 1.0                   6.5       0.0  ...   \n",
       "\n",
       "     Tsunami Magnitude (Iida) Tsunami Intensity  Total Deaths  Total Missing  \\\n",
       "1448                      NaN               NaN           NaN            NaN   \n",
       "1449                      NaN               NaN           NaN            NaN   \n",
       "\n",
       "      Total Missing Description  Total Injuries  Total Damage ($Mil)  \\\n",
       "1448                        NaN             NaN                  NaN   \n",
       "1449                        NaN             NaN                  NaN   \n",
       "\n",
       "      Total Damage Description  Total Houses Destroyed  Total Houses Damaged  \n",
       "1448                       1.0                     NaN                   NaN  \n",
       "1449                       1.0                     NaN                   NaN  \n",
       "\n",
       "[2 rows x 26 columns]"
      ]
     },
     "execution_count": 147,
     "metadata": {},
     "output_type": "execute_result"
    }
   ],
   "source": [
    "df[df.duplicated(keep=False)]"
   ]
  },
  {
   "cell_type": "markdown",
   "id": "0e6e092a",
   "metadata": {},
   "source": [
    "- Vậy dữ liệu ở dòng 1449 và dòng 1950 bị lặp, ta sẽ xóa dòng 1950 sau đó reset_index"
   ]
  },
  {
   "cell_type": "code",
   "execution_count": 148,
   "id": "51bf97c6",
   "metadata": {
    "ExecuteTime": {
     "end_time": "2021-12-22T12:14:42.078347Z",
     "start_time": "2021-12-22T12:14:42.060361Z"
    }
   },
   "outputs": [],
   "source": [
    "df.drop_duplicates(keep='first',inplace=True)\n",
    "# df = df.reset_index().drop('index')"
   ]
  },
  {
   "cell_type": "markdown",
   "id": "1a5d194e",
   "metadata": {},
   "source": [
    "## Các cột dữ liệu"
   ]
  },
  {
   "cell_type": "markdown",
   "id": "ff39c8a6",
   "metadata": {},
   "source": [
    "### Ý nghĩa các cột"
   ]
  },
  {
   "cell_type": "code",
   "execution_count": 149,
   "id": "a0517b9a",
   "metadata": {
    "ExecuteTime": {
     "end_time": "2021-12-22T12:14:49.612262Z",
     "start_time": "2021-12-22T12:14:49.596285Z"
    }
   },
   "outputs": [
    {
     "data": {
      "text/plain": [
       "Index(['Year', 'Mo', 'Dy', 'Hr', 'Mn', 'Sec', 'Tsunami Event Validity',\n",
       "       'Tsunami Cause Code', 'Earthquake Magnitude', 'Deposits', 'Country',\n",
       "       'Location Name', 'Latitude', 'Longitude', 'Maximum Water Height (m)',\n",
       "       'Number of Runups', 'Tsunami Magnitude (Iida)', 'Tsunami Intensity',\n",
       "       'Total Deaths', 'Total Missing', 'Total Missing Description',\n",
       "       'Total Injuries', 'Total Damage ($Mil)', 'Total Damage Description',\n",
       "       'Total Houses Destroyed', 'Total Houses Damaged'],\n",
       "      dtype='object')"
      ]
     },
     "execution_count": 149,
     "metadata": {},
     "output_type": "execute_result"
    }
   ],
   "source": [
    "df.columns"
   ]
  },
  {
   "cell_type": "markdown",
   "id": "a9ee7338",
   "metadata": {},
   "source": [
    "Thông tin các cột có thể đọc thêm tại trang web sau: https://www.ngdc.noaa.gov/hazel/view/hazards/tsunami/event-more-info/2439\n",
    "- **6 cột đầu** lần lượt là thông tin về năm, tháng, ngày, giờ, giây xảy ra sóng thần \n",
    "- **Tsunami Event Validity** biểu thị mức độ xác thực của việc có xảy ra sóng thần (giá trị càng lớn thì càng xác thực) (giá trị từ -1 đến 4)\n",
    "- **Tsunami Cause Code** là mã biểu thị nguyên nhân xảy ra sóng thần như 1: động đất, 6: núi lửa, 8: lở đất,... (giá trị từ 0 đến 11)\n",
    "- **Earthquake Magnitude** là thang đo sức tàn phá động đất (đơn vị Richter)\n",
    "- **Deposits** hay trầm tích sóng thần là bằng chứng vật chất còn sót lại khi sóng thần tác động vào bờ biển hoặc ảnh hưởng đến trầm tích tàu ngầm.\n",
    "- **Country** là quốc gia xảy ra sóng thần\n",
    "- **Location Name** là tên vùng xảy ra sóng thần (chỉ gần đúng)\n",
    "- **Longitude, Latitude** lần lượt là kinh độ và vĩ độ của địa điểm xảy ra sóng thần\n",
    "- **Maximum Water Height** là độ cao tối đa trên mực nước biển (đơn vị m) của cơn sóng thần\n",
    "- **Number of Runups** là  số địa điểm mà 1 cơn sóng thần tràn vào bờ\n",
    "- **Tsunami Magnitude (Iida)** : Thang đo kích cỡ của 1 cơn sóng thần (đơn vị Iida) \n",
    "- **Tsunami Intensity**: Thang đo cường độ của 1 cơn sóng thần\n",
    "- **Total Deaths**: tổng số người chết\n",
    "- **Total Missing**: tổng số người mất tích\n",
    "- **Total Missing Description**: thông số thường được dùng để thay thế tổng số người mất tích (giá trị từ 0 đến 4)\n",
    "- **Total Injuries**: tổng số người bị thương\n",
    "- **Total Damage**: giá trị này cần nhân thêm 1,000,000 để thu được tổng số tiền mất mát thực tế (theo đô la Mỹ)\n",
    "- **Total Damage Description**: thông số phân loại mức độ thiệt hại về tiền bạc, giá trị càng cao thiệt hại càng lớn (giá trị từ 0 đến 4)\n",
    "- **Total Houses Destroyed**: tổng số căn nhà bị phá hủy\n",
    "- **Total Houses Damaged**: tổng số căn nhà bị phá hủy"
   ]
  },
  {
   "cell_type": "markdown",
   "id": "1933a341",
   "metadata": {},
   "source": [
    "### Mỗi cột hiện đang có kiểu dữ liệu gì? Có cột nào có kiểu dữ liệu chưa phù hợp để có thể xử lý tiếp không?"
   ]
  },
  {
   "cell_type": "markdown",
   "id": "87bc3fdf",
   "metadata": {},
   "source": [
    "Dữ liệu ở các cột Tsunami Event Validity,Tsunami Cause Code,Total Missing Description,Total Damage Description sẽ được chuyển từ float thành categorical"
   ]
  },
  {
   "cell_type": "code",
   "execution_count": 150,
   "id": "b3658a2c",
   "metadata": {
    "ExecuteTime": {
     "end_time": "2021-12-22T12:14:54.008200Z",
     "start_time": "2021-12-22T12:14:53.981222Z"
    }
   },
   "outputs": [],
   "source": [
    "for col in ['Tsunami Event Validity','Tsunami Cause Code','Total Missing Description','Total Damage Description']:\n",
    "    df[col] =pd.Categorical(df[col])"
   ]
  },
  {
   "cell_type": "code",
   "execution_count": 80,
   "id": "3ab80b04",
   "metadata": {
    "ExecuteTime": {
     "end_time": "2021-12-22T07:49:58.679923Z",
     "start_time": "2021-12-22T07:49:58.641955Z"
    }
   },
   "outputs": [
    {
     "name": "stdout",
     "output_type": "stream",
     "text": [
      "<class 'pandas.core.frame.DataFrame'>\n",
      "Int64Index: 2161 entries, 0 to 2161\n",
      "Data columns (total 27 columns):\n",
      " #   Column                     Non-Null Count  Dtype   \n",
      "---  ------                     --------------  -----   \n",
      " 0   Year                       2160 non-null   float64 \n",
      " 1   Mo                         2111 non-null   float64 \n",
      " 2   Dy                         2053 non-null   float64 \n",
      " 3   Hr                         1337 non-null   float64 \n",
      " 4   Mn                         1288 non-null   float64 \n",
      " 5   Sec                        940 non-null    float64 \n",
      " 6   Tsunami Event Validity     2160 non-null   category\n",
      " 7   Tsunami Cause Code         2157 non-null   category\n",
      " 8   Earthquake Magnitude       1292 non-null   float64 \n",
      " 9   Deposits                   2160 non-null   float64 \n",
      " 10  Country                    2160 non-null   object  \n",
      " 11  Location Name              2158 non-null   object  \n",
      " 12  Latitude                   1891 non-null   float64 \n",
      " 13  Longitude                  1891 non-null   float64 \n",
      " 14  Maximum Water Height (m)   1109 non-null   float64 \n",
      " 15  Number of Runups           2160 non-null   float64 \n",
      " 16  Tsunami Magnitude (Iida)   576 non-null    float64 \n",
      " 17  Tsunami Intensity          897 non-null    float64 \n",
      " 18  Total Deaths               492 non-null    float64 \n",
      " 19  Total Missing              11 non-null     float64 \n",
      " 20  Total Missing Description  13 non-null     category\n",
      " 21  Total Injuries             281 non-null    float64 \n",
      " 22  Total Damage ($Mil)        143 non-null    float64 \n",
      " 23  Total Damage Description   906 non-null    category\n",
      " 24  Total Houses Destroyed     197 non-null    float64 \n",
      " 25  Total Houses Damaged       77 non-null     float64 \n",
      " 26  dateInt                    2161 non-null   object  \n",
      "dtypes: category(4), float64(20), object(3)\n",
      "memory usage: 494.6+ KB\n"
     ]
    }
   ],
   "source": [
    "df.info()"
   ]
  },
  {
   "cell_type": "markdown",
   "id": "6bdca1a5",
   "metadata": {},
   "source": [
    "Các dữ liệu đều đã ở dạng phù hợp để xử lý"
   ]
  },
  {
   "cell_type": "markdown",
   "id": "f4dbd382",
   "metadata": {},
   "source": [
    "### Với mỗi cột có kiểu dữ liệu dạng số (numerical), các giá trị được phân bố như thế nào"
   ]
  },
  {
   "cell_type": "markdown",
   "id": "52a86dd5",
   "metadata": {},
   "source": [
    "Với các cột có kiểu dữ liệu số, ta sẽ tính:\n",
    "- Tỉ lệ % (từ 0 đến 100) các giá trị thiếu \n",
    "- Giá trị min\n",
    "- Giá trị lower quartile (phân vị 25)\n",
    "- Giá trị median (phân vị 50)\n",
    "- Giá trị upper quartile (phân vị 75)\n",
    "- Giá trị max"
   ]
  },
  {
   "cell_type": "code",
   "execution_count": 151,
   "id": "f8b319ed",
   "metadata": {
    "ExecuteTime": {
     "end_time": "2021-12-22T12:14:57.752125Z",
     "start_time": "2021-12-22T12:14:57.732145Z"
    }
   },
   "outputs": [],
   "source": [
    "def calculate_quartile(data):\n",
    "    nume_col_info_df = pd.DataFrame()\n",
    "    for col in data.keys():\n",
    "        if data[col].dtype in [np.int64, np.float64] :\n",
    "            missing = data[col].isnull().sum()\n",
    "            missing_percentage = round(data[col].isnull().sum() * 100 / len(data[col]), 1)\n",
    "            min_value = data[col].min()\n",
    "            lower_quartile = data[col].quantile(0.25)\n",
    "            median = data[col].median()\n",
    "            upper = data[col].quantile(0.75)\n",
    "            max_value = data[col].max()\n",
    "            row_line = pd.Series([missing,missing_percentage, min_value, lower_quartile, median, upper, max_value], \n",
    "                                 index = ['num_missing','missing_percentage', 'min', 'lower_quartile', 'median', 'upper_quartile', 'max'])\n",
    "            nume_col_info_df[col] = row_line\n",
    "    return nume_col_info_df"
   ]
  },
  {
   "cell_type": "code",
   "execution_count": 152,
   "id": "d6a95b84",
   "metadata": {
    "ExecuteTime": {
     "end_time": "2021-12-22T12:14:58.517450Z",
     "start_time": "2021-12-22T12:14:58.395562Z"
    }
   },
   "outputs": [
    {
     "data": {
      "text/html": [
       "<div>\n",
       "<style scoped>\n",
       "    .dataframe tbody tr th:only-of-type {\n",
       "        vertical-align: middle;\n",
       "    }\n",
       "\n",
       "    .dataframe tbody tr th {\n",
       "        vertical-align: top;\n",
       "    }\n",
       "\n",
       "    .dataframe thead th {\n",
       "        text-align: right;\n",
       "    }\n",
       "</style>\n",
       "<table border=\"1\" class=\"dataframe\">\n",
       "  <thead>\n",
       "    <tr style=\"text-align: right;\">\n",
       "      <th></th>\n",
       "      <th>Year</th>\n",
       "      <th>Mo</th>\n",
       "      <th>Dy</th>\n",
       "      <th>Hr</th>\n",
       "      <th>Mn</th>\n",
       "      <th>Sec</th>\n",
       "      <th>Earthquake Magnitude</th>\n",
       "      <th>Deposits</th>\n",
       "      <th>Latitude</th>\n",
       "      <th>Longitude</th>\n",
       "      <th>Maximum Water Height (m)</th>\n",
       "      <th>Number of Runups</th>\n",
       "      <th>Tsunami Magnitude (Iida)</th>\n",
       "      <th>Tsunami Intensity</th>\n",
       "      <th>Total Deaths</th>\n",
       "      <th>Total Missing</th>\n",
       "      <th>Total Injuries</th>\n",
       "      <th>Total Damage ($Mil)</th>\n",
       "      <th>Total Houses Destroyed</th>\n",
       "      <th>Total Houses Damaged</th>\n",
       "    </tr>\n",
       "  </thead>\n",
       "  <tbody>\n",
       "    <tr>\n",
       "      <th>missing numbers</th>\n",
       "      <td>0.0</td>\n",
       "      <td>49.0</td>\n",
       "      <td>107.0</td>\n",
       "      <td>823.0</td>\n",
       "      <td>872.0</td>\n",
       "      <td>1220.0</td>\n",
       "      <td>868.0</td>\n",
       "      <td>0.0</td>\n",
       "      <td>269.000</td>\n",
       "      <td>269.0000</td>\n",
       "      <td>1051.00</td>\n",
       "      <td>0.0</td>\n",
       "      <td>1584.00</td>\n",
       "      <td>1263.00</td>\n",
       "      <td>1668.00</td>\n",
       "      <td>2149.0</td>\n",
       "      <td>1879.0</td>\n",
       "      <td>2017.0000</td>\n",
       "      <td>1963.0</td>\n",
       "      <td>2083.0</td>\n",
       "    </tr>\n",
       "    <tr>\n",
       "      <th>missing_percentage</th>\n",
       "      <td>0.0</td>\n",
       "      <td>2.3</td>\n",
       "      <td>5.0</td>\n",
       "      <td>38.1</td>\n",
       "      <td>40.4</td>\n",
       "      <td>56.5</td>\n",
       "      <td>40.2</td>\n",
       "      <td>0.0</td>\n",
       "      <td>12.500</td>\n",
       "      <td>12.5000</td>\n",
       "      <td>48.70</td>\n",
       "      <td>0.0</td>\n",
       "      <td>73.30</td>\n",
       "      <td>58.50</td>\n",
       "      <td>77.20</td>\n",
       "      <td>99.5</td>\n",
       "      <td>87.0</td>\n",
       "      <td>93.4000</td>\n",
       "      <td>90.9</td>\n",
       "      <td>96.4</td>\n",
       "    </tr>\n",
       "    <tr>\n",
       "      <th>min</th>\n",
       "      <td>1800.0</td>\n",
       "      <td>1.0</td>\n",
       "      <td>1.0</td>\n",
       "      <td>0.0</td>\n",
       "      <td>0.0</td>\n",
       "      <td>0.0</td>\n",
       "      <td>3.7</td>\n",
       "      <td>0.0</td>\n",
       "      <td>-63.000</td>\n",
       "      <td>-179.9710</td>\n",
       "      <td>0.01</td>\n",
       "      <td>0.0</td>\n",
       "      <td>-4.64</td>\n",
       "      <td>-4.14</td>\n",
       "      <td>1.00</td>\n",
       "      <td>1.0</td>\n",
       "      <td>1.0</td>\n",
       "      <td>0.0030</td>\n",
       "      <td>1.0</td>\n",
       "      <td>2.0</td>\n",
       "    </tr>\n",
       "    <tr>\n",
       "      <th>lower_quartile</th>\n",
       "      <td>1877.0</td>\n",
       "      <td>4.0</td>\n",
       "      <td>8.0</td>\n",
       "      <td>5.0</td>\n",
       "      <td>14.0</td>\n",
       "      <td>10.8</td>\n",
       "      <td>6.5</td>\n",
       "      <td>0.0</td>\n",
       "      <td>-8.300</td>\n",
       "      <td>-71.4585</td>\n",
       "      <td>0.20</td>\n",
       "      <td>1.0</td>\n",
       "      <td>-1.00</td>\n",
       "      <td>0.00</td>\n",
       "      <td>4.00</td>\n",
       "      <td>20.0</td>\n",
       "      <td>16.0</td>\n",
       "      <td>2.4125</td>\n",
       "      <td>50.0</td>\n",
       "      <td>127.0</td>\n",
       "    </tr>\n",
       "    <tr>\n",
       "      <th>median</th>\n",
       "      <td>1927.0</td>\n",
       "      <td>7.0</td>\n",
       "      <td>16.0</td>\n",
       "      <td>11.0</td>\n",
       "      <td>29.0</td>\n",
       "      <td>25.7</td>\n",
       "      <td>7.0</td>\n",
       "      <td>0.0</td>\n",
       "      <td>16.000</td>\n",
       "      <td>51.9400</td>\n",
       "      <td>1.00</td>\n",
       "      <td>1.0</td>\n",
       "      <td>0.70</td>\n",
       "      <td>1.00</td>\n",
       "      <td>24.50</td>\n",
       "      <td>100.0</td>\n",
       "      <td>100.0</td>\n",
       "      <td>39.0000</td>\n",
       "      <td>588.0</td>\n",
       "      <td>1000.0</td>\n",
       "    </tr>\n",
       "    <tr>\n",
       "      <th>upper_quartile</th>\n",
       "      <td>1977.0</td>\n",
       "      <td>10.0</td>\n",
       "      <td>23.0</td>\n",
       "      <td>18.0</td>\n",
       "      <td>43.0</td>\n",
       "      <td>42.0</td>\n",
       "      <td>7.6</td>\n",
       "      <td>0.0</td>\n",
       "      <td>38.393</td>\n",
       "      <td>140.4565</td>\n",
       "      <td>3.50</td>\n",
       "      <td>3.0</td>\n",
       "      <td>2.00</td>\n",
       "      <td>2.00</td>\n",
       "      <td>262.75</td>\n",
       "      <td>498.0</td>\n",
       "      <td>500.0</td>\n",
       "      <td>520.0000</td>\n",
       "      <td>5043.0</td>\n",
       "      <td>10044.0</td>\n",
       "    </tr>\n",
       "    <tr>\n",
       "      <th>max</th>\n",
       "      <td>2021.0</td>\n",
       "      <td>12.0</td>\n",
       "      <td>31.0</td>\n",
       "      <td>23.0</td>\n",
       "      <td>59.0</td>\n",
       "      <td>59.9</td>\n",
       "      <td>9.5</td>\n",
       "      <td>144.0</td>\n",
       "      <td>71.813</td>\n",
       "      <td>179.9840</td>\n",
       "      <td>524.60</td>\n",
       "      <td>6288.0</td>\n",
       "      <td>8.40</td>\n",
       "      <td>9.00</td>\n",
       "      <td>316000.00</td>\n",
       "      <td>43476.0</td>\n",
       "      <td>374171.0</td>\n",
       "      <td>220136.6000</td>\n",
       "      <td>5360000.0</td>\n",
       "      <td>500000.0</td>\n",
       "    </tr>\n",
       "  </tbody>\n",
       "</table>\n",
       "</div>"
      ],
      "text/plain": [
       "                      Year    Mo     Dy     Hr     Mn     Sec  \\\n",
       "missing numbers        0.0  49.0  107.0  823.0  872.0  1220.0   \n",
       "missing_percentage     0.0   2.3    5.0   38.1   40.4    56.5   \n",
       "min                 1800.0   1.0    1.0    0.0    0.0     0.0   \n",
       "lower_quartile      1877.0   4.0    8.0    5.0   14.0    10.8   \n",
       "median              1927.0   7.0   16.0   11.0   29.0    25.7   \n",
       "upper_quartile      1977.0  10.0   23.0   18.0   43.0    42.0   \n",
       "max                 2021.0  12.0   31.0   23.0   59.0    59.9   \n",
       "\n",
       "                    Earthquake Magnitude  Deposits  Latitude  Longitude  \\\n",
       "missing numbers                    868.0       0.0   269.000   269.0000   \n",
       "missing_percentage                  40.2       0.0    12.500    12.5000   \n",
       "min                                  3.7       0.0   -63.000  -179.9710   \n",
       "lower_quartile                       6.5       0.0    -8.300   -71.4585   \n",
       "median                               7.0       0.0    16.000    51.9400   \n",
       "upper_quartile                       7.6       0.0    38.393   140.4565   \n",
       "max                                  9.5     144.0    71.813   179.9840   \n",
       "\n",
       "                    Maximum Water Height (m)  Number of Runups  \\\n",
       "missing numbers                      1051.00               0.0   \n",
       "missing_percentage                     48.70               0.0   \n",
       "min                                     0.01               0.0   \n",
       "lower_quartile                          0.20               1.0   \n",
       "median                                  1.00               1.0   \n",
       "upper_quartile                          3.50               3.0   \n",
       "max                                   524.60            6288.0   \n",
       "\n",
       "                    Tsunami Magnitude (Iida)  Tsunami Intensity  Total Deaths  \\\n",
       "missing numbers                      1584.00            1263.00       1668.00   \n",
       "missing_percentage                     73.30              58.50         77.20   \n",
       "min                                    -4.64              -4.14          1.00   \n",
       "lower_quartile                         -1.00               0.00          4.00   \n",
       "median                                  0.70               1.00         24.50   \n",
       "upper_quartile                          2.00               2.00        262.75   \n",
       "max                                     8.40               9.00     316000.00   \n",
       "\n",
       "                    Total Missing  Total Injuries  Total Damage ($Mil)  \\\n",
       "missing numbers            2149.0          1879.0            2017.0000   \n",
       "missing_percentage           99.5            87.0              93.4000   \n",
       "min                           1.0             1.0               0.0030   \n",
       "lower_quartile               20.0            16.0               2.4125   \n",
       "median                      100.0           100.0              39.0000   \n",
       "upper_quartile              498.0           500.0             520.0000   \n",
       "max                       43476.0        374171.0          220136.6000   \n",
       "\n",
       "                    Total Houses Destroyed  Total Houses Damaged  \n",
       "missing numbers                     1963.0                2083.0  \n",
       "missing_percentage                    90.9                  96.4  \n",
       "min                                    1.0                   2.0  \n",
       "lower_quartile                        50.0                 127.0  \n",
       "median                               588.0                1000.0  \n",
       "upper_quartile                      5043.0               10044.0  \n",
       "max                              5360000.0              500000.0  "
      ]
     },
     "execution_count": 152,
     "metadata": {},
     "output_type": "execute_result"
    }
   ],
   "source": [
    "info_df = calculate_quartile(df)\n",
    "info_df"
   ]
  },
  {
   "cell_type": "markdown",
   "id": "252535be",
   "metadata": {},
   "source": [
    "#### Số-lượng/tỉ-lệ các giá trị thiếu?"
   ]
  },
  {
   "cell_type": "code",
   "execution_count": 153,
   "id": "44239909",
   "metadata": {
    "ExecuteTime": {
     "end_time": "2021-12-22T12:15:01.076108Z",
     "start_time": "2021-12-22T12:15:01.045143Z"
    }
   },
   "outputs": [
    {
     "data": {
      "text/html": [
       "<div>\n",
       "<style scoped>\n",
       "    .dataframe tbody tr th:only-of-type {\n",
       "        vertical-align: middle;\n",
       "    }\n",
       "\n",
       "    .dataframe tbody tr th {\n",
       "        vertical-align: top;\n",
       "    }\n",
       "\n",
       "    .dataframe thead th {\n",
       "        text-align: right;\n",
       "    }\n",
       "</style>\n",
       "<table border=\"1\" class=\"dataframe\">\n",
       "  <thead>\n",
       "    <tr style=\"text-align: right;\">\n",
       "      <th></th>\n",
       "      <th>missing numbers</th>\n",
       "      <th>missing_percentage</th>\n",
       "    </tr>\n",
       "  </thead>\n",
       "  <tbody>\n",
       "    <tr>\n",
       "      <th>Year</th>\n",
       "      <td>0.0</td>\n",
       "      <td>0.0</td>\n",
       "    </tr>\n",
       "    <tr>\n",
       "      <th>Mo</th>\n",
       "      <td>49.0</td>\n",
       "      <td>2.3</td>\n",
       "    </tr>\n",
       "    <tr>\n",
       "      <th>Dy</th>\n",
       "      <td>107.0</td>\n",
       "      <td>5.0</td>\n",
       "    </tr>\n",
       "    <tr>\n",
       "      <th>Hr</th>\n",
       "      <td>823.0</td>\n",
       "      <td>38.1</td>\n",
       "    </tr>\n",
       "    <tr>\n",
       "      <th>Mn</th>\n",
       "      <td>872.0</td>\n",
       "      <td>40.4</td>\n",
       "    </tr>\n",
       "    <tr>\n",
       "      <th>Sec</th>\n",
       "      <td>1220.0</td>\n",
       "      <td>56.5</td>\n",
       "    </tr>\n",
       "    <tr>\n",
       "      <th>Earthquake Magnitude</th>\n",
       "      <td>868.0</td>\n",
       "      <td>40.2</td>\n",
       "    </tr>\n",
       "    <tr>\n",
       "      <th>Deposits</th>\n",
       "      <td>0.0</td>\n",
       "      <td>0.0</td>\n",
       "    </tr>\n",
       "    <tr>\n",
       "      <th>Latitude</th>\n",
       "      <td>269.0</td>\n",
       "      <td>12.5</td>\n",
       "    </tr>\n",
       "    <tr>\n",
       "      <th>Longitude</th>\n",
       "      <td>269.0</td>\n",
       "      <td>12.5</td>\n",
       "    </tr>\n",
       "    <tr>\n",
       "      <th>Maximum Water Height (m)</th>\n",
       "      <td>1051.0</td>\n",
       "      <td>48.7</td>\n",
       "    </tr>\n",
       "    <tr>\n",
       "      <th>Number of Runups</th>\n",
       "      <td>0.0</td>\n",
       "      <td>0.0</td>\n",
       "    </tr>\n",
       "    <tr>\n",
       "      <th>Tsunami Magnitude (Iida)</th>\n",
       "      <td>1584.0</td>\n",
       "      <td>73.3</td>\n",
       "    </tr>\n",
       "    <tr>\n",
       "      <th>Tsunami Intensity</th>\n",
       "      <td>1263.0</td>\n",
       "      <td>58.5</td>\n",
       "    </tr>\n",
       "    <tr>\n",
       "      <th>Total Deaths</th>\n",
       "      <td>1668.0</td>\n",
       "      <td>77.2</td>\n",
       "    </tr>\n",
       "    <tr>\n",
       "      <th>Total Missing</th>\n",
       "      <td>2149.0</td>\n",
       "      <td>99.5</td>\n",
       "    </tr>\n",
       "    <tr>\n",
       "      <th>Total Injuries</th>\n",
       "      <td>1879.0</td>\n",
       "      <td>87.0</td>\n",
       "    </tr>\n",
       "    <tr>\n",
       "      <th>Total Damage ($Mil)</th>\n",
       "      <td>2017.0</td>\n",
       "      <td>93.4</td>\n",
       "    </tr>\n",
       "    <tr>\n",
       "      <th>Total Houses Destroyed</th>\n",
       "      <td>1963.0</td>\n",
       "      <td>90.9</td>\n",
       "    </tr>\n",
       "    <tr>\n",
       "      <th>Total Houses Damaged</th>\n",
       "      <td>2083.0</td>\n",
       "      <td>96.4</td>\n",
       "    </tr>\n",
       "  </tbody>\n",
       "</table>\n",
       "</div>"
      ],
      "text/plain": [
       "                          missing numbers  missing_percentage\n",
       "Year                                  0.0                 0.0\n",
       "Mo                                   49.0                 2.3\n",
       "Dy                                  107.0                 5.0\n",
       "Hr                                  823.0                38.1\n",
       "Mn                                  872.0                40.4\n",
       "Sec                                1220.0                56.5\n",
       "Earthquake Magnitude                868.0                40.2\n",
       "Deposits                              0.0                 0.0\n",
       "Latitude                            269.0                12.5\n",
       "Longitude                           269.0                12.5\n",
       "Maximum Water Height (m)           1051.0                48.7\n",
       "Number of Runups                      0.0                 0.0\n",
       "Tsunami Magnitude (Iida)           1584.0                73.3\n",
       "Tsunami Intensity                  1263.0                58.5\n",
       "Total Deaths                       1668.0                77.2\n",
       "Total Missing                      2149.0                99.5\n",
       "Total Injuries                     1879.0                87.0\n",
       "Total Damage ($Mil)                2017.0                93.4\n",
       "Total Houses Destroyed             1963.0                90.9\n",
       "Total Houses Damaged               2083.0                96.4"
      ]
     },
     "execution_count": 153,
     "metadata": {},
     "output_type": "execute_result"
    }
   ],
   "source": [
    "pd.DataFrame([info_df.loc['num_missing'],info_df.loc['missing_percentage']]).transpose()"
   ]
  },
  {
   "cell_type": "markdown",
   "id": "3f2e6485",
   "metadata": {},
   "source": [
    "#### Min? max? → Có gì bất thường không?"
   ]
  },
  {
   "cell_type": "code",
   "execution_count": 117,
   "id": "59bd6c7a",
   "metadata": {
    "ExecuteTime": {
     "end_time": "2021-12-22T12:05:28.417238Z",
     "start_time": "2021-12-22T12:05:28.394260Z"
    }
   },
   "outputs": [
    {
     "data": {
      "text/html": [
       "<div>\n",
       "<style scoped>\n",
       "    .dataframe tbody tr th:only-of-type {\n",
       "        vertical-align: middle;\n",
       "    }\n",
       "\n",
       "    .dataframe tbody tr th {\n",
       "        vertical-align: top;\n",
       "    }\n",
       "\n",
       "    .dataframe thead th {\n",
       "        text-align: right;\n",
       "    }\n",
       "</style>\n",
       "<table border=\"1\" class=\"dataframe\">\n",
       "  <thead>\n",
       "    <tr style=\"text-align: right;\">\n",
       "      <th></th>\n",
       "      <th>min</th>\n",
       "      <th>max</th>\n",
       "    </tr>\n",
       "  </thead>\n",
       "  <tbody>\n",
       "    <tr>\n",
       "      <th>Year</th>\n",
       "      <td>1800.000</td>\n",
       "      <td>2021.000</td>\n",
       "    </tr>\n",
       "    <tr>\n",
       "      <th>Mo</th>\n",
       "      <td>1.000</td>\n",
       "      <td>12.000</td>\n",
       "    </tr>\n",
       "    <tr>\n",
       "      <th>Dy</th>\n",
       "      <td>1.000</td>\n",
       "      <td>31.000</td>\n",
       "    </tr>\n",
       "    <tr>\n",
       "      <th>Hr</th>\n",
       "      <td>0.000</td>\n",
       "      <td>23.000</td>\n",
       "    </tr>\n",
       "    <tr>\n",
       "      <th>Mn</th>\n",
       "      <td>0.000</td>\n",
       "      <td>59.000</td>\n",
       "    </tr>\n",
       "    <tr>\n",
       "      <th>Sec</th>\n",
       "      <td>0.000</td>\n",
       "      <td>59.900</td>\n",
       "    </tr>\n",
       "    <tr>\n",
       "      <th>Earthquake Magnitude</th>\n",
       "      <td>3.700</td>\n",
       "      <td>9.500</td>\n",
       "    </tr>\n",
       "    <tr>\n",
       "      <th>Deposits</th>\n",
       "      <td>0.000</td>\n",
       "      <td>144.000</td>\n",
       "    </tr>\n",
       "    <tr>\n",
       "      <th>Latitude</th>\n",
       "      <td>-63.000</td>\n",
       "      <td>71.813</td>\n",
       "    </tr>\n",
       "    <tr>\n",
       "      <th>Longitude</th>\n",
       "      <td>-179.971</td>\n",
       "      <td>179.984</td>\n",
       "    </tr>\n",
       "    <tr>\n",
       "      <th>Maximum Water Height (m)</th>\n",
       "      <td>0.010</td>\n",
       "      <td>524.600</td>\n",
       "    </tr>\n",
       "    <tr>\n",
       "      <th>Number of Runups</th>\n",
       "      <td>0.000</td>\n",
       "      <td>6288.000</td>\n",
       "    </tr>\n",
       "    <tr>\n",
       "      <th>Tsunami Magnitude (Iida)</th>\n",
       "      <td>-4.640</td>\n",
       "      <td>8.400</td>\n",
       "    </tr>\n",
       "    <tr>\n",
       "      <th>Tsunami Intensity</th>\n",
       "      <td>-4.140</td>\n",
       "      <td>9.000</td>\n",
       "    </tr>\n",
       "    <tr>\n",
       "      <th>Total Deaths</th>\n",
       "      <td>1.000</td>\n",
       "      <td>316000.000</td>\n",
       "    </tr>\n",
       "    <tr>\n",
       "      <th>Total Missing</th>\n",
       "      <td>1.000</td>\n",
       "      <td>43476.000</td>\n",
       "    </tr>\n",
       "    <tr>\n",
       "      <th>Total Injuries</th>\n",
       "      <td>1.000</td>\n",
       "      <td>374171.000</td>\n",
       "    </tr>\n",
       "    <tr>\n",
       "      <th>Total Damage ($Mil)</th>\n",
       "      <td>0.003</td>\n",
       "      <td>220136.600</td>\n",
       "    </tr>\n",
       "    <tr>\n",
       "      <th>Total Houses Destroyed</th>\n",
       "      <td>1.000</td>\n",
       "      <td>5360000.000</td>\n",
       "    </tr>\n",
       "    <tr>\n",
       "      <th>Total Houses Damaged</th>\n",
       "      <td>2.000</td>\n",
       "      <td>500000.000</td>\n",
       "    </tr>\n",
       "  </tbody>\n",
       "</table>\n",
       "</div>"
      ],
      "text/plain": [
       "                               min          max\n",
       "Year                      1800.000     2021.000\n",
       "Mo                           1.000       12.000\n",
       "Dy                           1.000       31.000\n",
       "Hr                           0.000       23.000\n",
       "Mn                           0.000       59.000\n",
       "Sec                          0.000       59.900\n",
       "Earthquake Magnitude         3.700        9.500\n",
       "Deposits                     0.000      144.000\n",
       "Latitude                   -63.000       71.813\n",
       "Longitude                 -179.971      179.984\n",
       "Maximum Water Height (m)     0.010      524.600\n",
       "Number of Runups             0.000     6288.000\n",
       "Tsunami Magnitude (Iida)    -4.640        8.400\n",
       "Tsunami Intensity           -4.140        9.000\n",
       "Total Deaths                 1.000   316000.000\n",
       "Total Missing                1.000    43476.000\n",
       "Total Injuries               1.000   374171.000\n",
       "Total Damage ($Mil)          0.003   220136.600\n",
       "Total Houses Destroyed       1.000  5360000.000\n",
       "Total Houses Damaged         2.000   500000.000"
      ]
     },
     "execution_count": 117,
     "metadata": {},
     "output_type": "execute_result"
    }
   ],
   "source": [
    "pd.DataFrame([info_df.loc['min'],info_df.loc['max']]).transpose()"
   ]
  },
  {
   "cell_type": "markdown",
   "id": "9fd510f1",
   "metadata": {},
   "source": [
    "### Với mỗi cột có kiểu dữ liệu dạng phân loại (categorical), các giá trị được phân bố như thế nào?"
   ]
  },
  {
   "cell_type": "markdown",
   "id": "49af9639",
   "metadata": {},
   "source": [
    "Với các cột có kiểu dữ liệu không phải số, ta sẽ tính:\n",
    "\n",
    "- Tỉ lệ % (từ 0 đến 100) các giá trị thiếu\n",
    "- Số lượng các giá trị (các giá trị ở đây là các giá trị khác nhau và ta không xét giá trị thiếu) \n",
    "\n",
    "- Tỉ lệ % (từ 0 đến 100) của mỗi giá trị được sort theo tỉ lệ % giảm dần (ta không xét giá trị thiếu, tỉ lệ là tỉ lệ so với số lượng các giá trị không thiếu): bạn dùng dictionary để lưu, key là giá trị, value là tỉ lệ %; với cột mà ứng với câu hỏi dạng multichoice, cách làm tương tự như ở trên"
   ]
  },
  {
   "cell_type": "code",
   "execution_count": 157,
   "id": "24f868b8",
   "metadata": {
    "ExecuteTime": {
     "end_time": "2021-12-22T12:17:17.451712Z",
     "start_time": "2021-12-22T12:17:17.386775Z"
    }
   },
   "outputs": [
    {
     "data": {
      "text/html": [
       "<div>\n",
       "<style scoped>\n",
       "    .dataframe tbody tr th:only-of-type {\n",
       "        vertical-align: middle;\n",
       "    }\n",
       "\n",
       "    .dataframe tbody tr th {\n",
       "        vertical-align: top;\n",
       "    }\n",
       "\n",
       "    .dataframe thead th {\n",
       "        text-align: right;\n",
       "    }\n",
       "</style>\n",
       "<table border=\"1\" class=\"dataframe\">\n",
       "  <thead>\n",
       "    <tr style=\"text-align: right;\">\n",
       "      <th></th>\n",
       "      <th>Tsunami Event Validity</th>\n",
       "      <th>Tsunami Cause Code</th>\n",
       "      <th>Total Missing Description</th>\n",
       "      <th>Total Damage Description</th>\n",
       "    </tr>\n",
       "  </thead>\n",
       "  <tbody>\n",
       "    <tr>\n",
       "      <th>num_missing</th>\n",
       "      <td>0</td>\n",
       "      <td>3</td>\n",
       "      <td>2147</td>\n",
       "      <td>1254</td>\n",
       "    </tr>\n",
       "    <tr>\n",
       "      <th>missing_percentage</th>\n",
       "      <td>0</td>\n",
       "      <td>0.1</td>\n",
       "      <td>99.4</td>\n",
       "      <td>58.1</td>\n",
       "    </tr>\n",
       "    <tr>\n",
       "      <th>num_values</th>\n",
       "      <td>6</td>\n",
       "      <td>12</td>\n",
       "      <td>4</td>\n",
       "      <td>4</td>\n",
       "    </tr>\n",
       "    <tr>\n",
       "      <th>value_percentages</th>\n",
       "      <td>{4.0: 38.5, 2.0: 19.2, 1.0: 16.7, 3.0: 15.3, -...</td>\n",
       "      <td>{1.0: 70.5, 0.0: 9.7, 8.0: 4.8, 3.0: 4.5, 6.0:...</td>\n",
       "      <td>{1.0: 46.2, 3.0: 38.5, 4.0: 7.7, 2.0: 7.7}</td>\n",
       "      <td>{1.0: 38.5, 2.0: 27.9, 3.0: 19.1, 4.0: 14.5}</td>\n",
       "    </tr>\n",
       "  </tbody>\n",
       "</table>\n",
       "</div>"
      ],
      "text/plain": [
       "                                               Tsunami Event Validity  \\\n",
       "num_missing                                                         0   \n",
       "missing_percentage                                                  0   \n",
       "num_values                                                          6   \n",
       "value_percentages   {4.0: 38.5, 2.0: 19.2, 1.0: 16.7, 3.0: 15.3, -...   \n",
       "\n",
       "                                                   Tsunami Cause Code  \\\n",
       "num_missing                                                         3   \n",
       "missing_percentage                                                0.1   \n",
       "num_values                                                         12   \n",
       "value_percentages   {1.0: 70.5, 0.0: 9.7, 8.0: 4.8, 3.0: 4.5, 6.0:...   \n",
       "\n",
       "                                     Total Missing Description  \\\n",
       "num_missing                                               2147   \n",
       "missing_percentage                                        99.4   \n",
       "num_values                                                   4   \n",
       "value_percentages   {1.0: 46.2, 3.0: 38.5, 4.0: 7.7, 2.0: 7.7}   \n",
       "\n",
       "                                        Total Damage Description  \n",
       "num_missing                                                 1254  \n",
       "missing_percentage                                          58.1  \n",
       "num_values                                                     4  \n",
       "value_percentages   {1.0: 38.5, 2.0: 27.9, 3.0: 19.1, 4.0: 14.5}  "
      ]
     },
     "execution_count": 157,
     "metadata": {},
     "output_type": "execute_result"
    }
   ],
   "source": [
    "cat = df.select_dtypes(exclude=[\"number\",\"bool_\",\"object_\"]).columns\n",
    "missing = [];missing_percentage=[];num_values=[];value_percentages=[]\n",
    "\n",
    "for column in cat:\n",
    "    missing.append(df[column].isnull().sum())\n",
    "    missing_percentage.append((df[column].isnull().sum() * 100 / len(df)).round(1))\n",
    "    temp = df[column].dropna()\n",
    "    num_values.append(len(temp.unique()))\n",
    "    value_percentages.append(((temp.value_counts(normalize=True)*100).round(1)).to_dict())\n",
    "cat_info_df = pd.DataFrame([missing,missing_percentage,num_values,value_percentages],\n",
    "                            index=['num_missing','missing_percentage','num_values','value_percentages'],\n",
    "                            columns=list(cat))\n",
    "cat_info_df"
   ]
  },
  {
   "cell_type": "markdown",
   "id": "e444cd21",
   "metadata": {},
   "source": [
    "#### Số-lượng/tỉ-lệ các giá trị thiếu?"
   ]
  },
  {
   "cell_type": "code",
   "execution_count": 158,
   "id": "4a6294df",
   "metadata": {
    "ExecuteTime": {
     "end_time": "2021-12-22T12:17:24.220429Z",
     "start_time": "2021-12-22T12:17:24.202452Z"
    }
   },
   "outputs": [
    {
     "data": {
      "text/html": [
       "<div>\n",
       "<style scoped>\n",
       "    .dataframe tbody tr th:only-of-type {\n",
       "        vertical-align: middle;\n",
       "    }\n",
       "\n",
       "    .dataframe tbody tr th {\n",
       "        vertical-align: top;\n",
       "    }\n",
       "\n",
       "    .dataframe thead th {\n",
       "        text-align: right;\n",
       "    }\n",
       "</style>\n",
       "<table border=\"1\" class=\"dataframe\">\n",
       "  <thead>\n",
       "    <tr style=\"text-align: right;\">\n",
       "      <th></th>\n",
       "      <th>num_missing</th>\n",
       "      <th>missing_percentage</th>\n",
       "    </tr>\n",
       "  </thead>\n",
       "  <tbody>\n",
       "    <tr>\n",
       "      <th>Tsunami Event Validity</th>\n",
       "      <td>0.0</td>\n",
       "      <td>0.0</td>\n",
       "    </tr>\n",
       "    <tr>\n",
       "      <th>Tsunami Cause Code</th>\n",
       "      <td>3.0</td>\n",
       "      <td>0.1</td>\n",
       "    </tr>\n",
       "    <tr>\n",
       "      <th>Total Missing Description</th>\n",
       "      <td>2147.0</td>\n",
       "      <td>99.4</td>\n",
       "    </tr>\n",
       "    <tr>\n",
       "      <th>Total Damage Description</th>\n",
       "      <td>1254.0</td>\n",
       "      <td>58.1</td>\n",
       "    </tr>\n",
       "  </tbody>\n",
       "</table>\n",
       "</div>"
      ],
      "text/plain": [
       "                           num_missing  missing_percentage\n",
       "Tsunami Event Validity             0.0                 0.0\n",
       "Tsunami Cause Code                 3.0                 0.1\n",
       "Total Missing Description       2147.0                99.4\n",
       "Total Damage Description        1254.0                58.1"
      ]
     },
     "execution_count": 158,
     "metadata": {},
     "output_type": "execute_result"
    }
   ],
   "source": [
    "pd.DataFrame([cat_info_df.loc['num_missing'],cat_info_df.loc['missing_percentage']]).transpose()"
   ]
  },
  {
   "cell_type": "markdown",
   "id": "ca2fdcdd",
   "metadata": {},
   "source": [
    "#### Số lượng các giá trị khác nhau? Show một vài giá trị → Có gì bất thường không?"
   ]
  },
  {
   "cell_type": "code",
   "execution_count": 160,
   "id": "b74d8c16",
   "metadata": {
    "ExecuteTime": {
     "end_time": "2021-12-22T12:18:49.682413Z",
     "start_time": "2021-12-22T12:18:49.665438Z"
    }
   },
   "outputs": [
    {
     "data": {
      "text/html": [
       "<div>\n",
       "<style scoped>\n",
       "    .dataframe tbody tr th:only-of-type {\n",
       "        vertical-align: middle;\n",
       "    }\n",
       "\n",
       "    .dataframe tbody tr th {\n",
       "        vertical-align: top;\n",
       "    }\n",
       "\n",
       "    .dataframe thead th {\n",
       "        text-align: right;\n",
       "    }\n",
       "</style>\n",
       "<table border=\"1\" class=\"dataframe\">\n",
       "  <thead>\n",
       "    <tr style=\"text-align: right;\">\n",
       "      <th></th>\n",
       "      <th>num_values</th>\n",
       "    </tr>\n",
       "  </thead>\n",
       "  <tbody>\n",
       "    <tr>\n",
       "      <th>Tsunami Event Validity</th>\n",
       "      <td>6</td>\n",
       "    </tr>\n",
       "    <tr>\n",
       "      <th>Tsunami Cause Code</th>\n",
       "      <td>12</td>\n",
       "    </tr>\n",
       "    <tr>\n",
       "      <th>Total Missing Description</th>\n",
       "      <td>4</td>\n",
       "    </tr>\n",
       "    <tr>\n",
       "      <th>Total Damage Description</th>\n",
       "      <td>4</td>\n",
       "    </tr>\n",
       "  </tbody>\n",
       "</table>\n",
       "</div>"
      ],
      "text/plain": [
       "                           num_values\n",
       "Tsunami Event Validity              6\n",
       "Tsunami Cause Code                 12\n",
       "Total Missing Description           4\n",
       "Total Damage Description            4"
      ]
     },
     "execution_count": 160,
     "metadata": {},
     "output_type": "execute_result"
    }
   ],
   "source": [
    "pd.DataFrame([cat_info_df.loc['num_values']]).transpose()"
   ]
  },
  {
   "cell_type": "code",
   "execution_count": 172,
   "id": "386122dd",
   "metadata": {
    "ExecuteTime": {
     "end_time": "2021-12-22T12:20:59.626412Z",
     "start_time": "2021-12-22T12:20:59.607430Z"
    }
   },
   "outputs": [
    {
     "data": {
      "text/plain": [
       "dict_keys([4.0, 2.0, 1.0, 3.0, -1.0, 0.0])"
      ]
     },
     "execution_count": 172,
     "metadata": {},
     "output_type": "execute_result"
    }
   ],
   "source": [
    "pd.DataFrame([cat_info_df.loc['value_percentages']]).transpose().iloc[0].values[0].keys()"
   ]
  },
  {
   "cell_type": "markdown",
   "id": "31130178",
   "metadata": {},
   "source": [
    "- Không có giá trị nào bất thường"
   ]
  },
  {
   "cell_type": "markdown",
   "id": "b144b1f5",
   "metadata": {},
   "source": [
    "# Đưa ra các câu hỏi có ý nghĩa cần trả lời"
   ]
  },
  {
   "cell_type": "markdown",
   "id": "e0b5ea33",
   "metadata": {},
   "source": [
    "## Câu hỏi - Lợi ích"
   ]
  },
  {
   "cell_type": "markdown",
   "id": "2b5a9fb4",
   "metadata": {},
   "source": [
    "# Tiền xử lý + phân tích dữ liệu để trả lời cho từng câu hỏi"
   ]
  },
  {
   "cell_type": "markdown",
   "id": "67517ec0",
   "metadata": {},
   "source": [
    "# Nhìn lại quá trình làm đồ án"
   ]
  },
  {
   "cell_type": "markdown",
   "id": "9fcb28f7",
   "metadata": {},
   "source": [
    "## Những khó khăn"
   ]
  },
  {
   "cell_type": "markdown",
   "id": "153b3f4b",
   "metadata": {},
   "source": [
    "## Học được gì hữu ích"
   ]
  },
  {
   "cell_type": "markdown",
   "id": "2a7862af",
   "metadata": {},
   "source": [
    "## Nếu có thêm thời gian sẽ làm gì"
   ]
  },
  {
   "cell_type": "markdown",
   "id": "75ecd96e",
   "metadata": {},
   "source": [
    "# Tài liệu tham khảo"
   ]
  },
  {
   "cell_type": "code",
   "execution_count": null,
   "id": "bb08b51d",
   "metadata": {},
   "outputs": [],
   "source": []
  },
  {
   "cell_type": "code",
   "execution_count": null,
   "id": "7ae254dc",
   "metadata": {},
   "outputs": [],
   "source": []
  },
  {
   "cell_type": "code",
   "execution_count": null,
   "id": "76be4fb1",
   "metadata": {},
   "outputs": [],
   "source": []
  },
  {
   "cell_type": "code",
   "execution_count": null,
   "id": "b2c38755",
   "metadata": {},
   "outputs": [],
   "source": []
  }
 ],
 "metadata": {
  "kernelspec": {
   "display_name": "Python 3",
   "language": "python",
   "name": "python3"
  },
  "language_info": {
   "codemirror_mode": {
    "name": "ipython",
    "version": 3
   },
   "file_extension": ".py",
   "mimetype": "text/x-python",
   "name": "python",
   "nbconvert_exporter": "python",
   "pygments_lexer": "ipython3",
   "version": "3.8.5"
  },
  "toc": {
   "base_numbering": 1,
   "nav_menu": {},
   "number_sections": true,
   "sideBar": true,
   "skip_h1_title": false,
   "title_cell": "Table of Contents",
   "title_sidebar": "Contents",
   "toc_cell": false,
   "toc_position": {},
   "toc_section_display": true,
   "toc_window_display": false
  }
 },
 "nbformat": 4,
 "nbformat_minor": 5
}
