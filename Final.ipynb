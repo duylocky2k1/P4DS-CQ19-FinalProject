{
 "cells": [
  {
   "cell_type": "markdown",
   "id": "4d6da911",
   "metadata": {
    "heading_collapsed": true,
    "hide_input": false
   },
   "source": [
    "# Link github: \n",
    "Bản quyền bài làm thuộc về các thành viên trong nhóm. Các hành vi sao chép và sử dụng phải được sự đồng ý của chủ sở hữu <br>\n",
    "https://github.com/nightfury1103/P4DS-CQ19-FinalProject"
   ]
  },
  {
   "cell_type": "markdown",
   "id": "f80d2810",
   "metadata": {},
   "source": [
    "# Import\n",
    "Các thư viện cần thiết cho bài làm này"
   ]
  },
  {
   "cell_type": "code",
   "execution_count": 1,
   "id": "850e094d",
   "metadata": {
    "ExecuteTime": {
     "end_time": "2022-01-21T07:13:02.763982Z",
     "start_time": "2022-01-21T07:12:59.555511Z"
    }
   },
   "outputs": [],
   "source": [
    "import pandas as pd\n",
    "import numpy as np\n",
    "import matplotlib.pyplot as plt\n",
    "import seaborn as sns; sns.set()\n",
    "pd.set_option('display.max_columns', None)  "
   ]
  },
  {
   "cell_type": "markdown",
   "id": "44408d54",
   "metadata": {},
   "source": [
    "Điều chỉnh kích thước và độ phóng chung cho các biểu đồ: **figsize = (10,5) ; dpi = 80**"
   ]
  },
  {
   "cell_type": "code",
   "execution_count": 2,
   "id": "0b860df8",
   "metadata": {
    "ExecuteTime": {
     "end_time": "2022-01-21T07:13:02.779966Z",
     "start_time": "2022-01-21T07:13:02.767978Z"
    }
   },
   "outputs": [],
   "source": [
    "plt.rcParams['figure.figsize'] = [10, 5]\n",
    "plt.rcParams['figure.dpi'] = 80"
   ]
  },
  {
   "cell_type": "markdown",
   "id": "22db6815",
   "metadata": {},
   "source": [
    "# Thu thập dữ liệu"
   ]
  },
  {
   "cell_type": "markdown",
   "id": "d3fdef72",
   "metadata": {
    "heading_collapsed": true
   },
   "source": [
    "## Dữ liệu của bạn là về chủ đề gì "
   ]
  },
  {
   "cell_type": "markdown",
   "id": "8b92e73f",
   "metadata": {
    "ExecuteTime": {
     "end_time": "2021-12-22T13:09:34.139258Z",
     "start_time": "2021-12-22T13:09:34.127270Z"
    },
    "hidden": true
   },
   "source": [
    "- Hiện nay, việc **cho thuê xe đạp công cộng** đang trở nên phổ biến ở nước ta và đang có sức hấp dẫn rất lớn. Một trong những điều quan trọng trong kế hoạch đã và đang sắp được triển khai này là chất lượng dịch vụ. Bao gồm những thứ như số xe đạp có thể thuê, thời gian chờ để thuê một chiếc xe đạp,...Sau cùng, việc cung cấp xe đạp cho một thành phố cũng còn rất nhiều vấn đề cần lo lắng. \n",
    "- Phần quan trọng mà chúng em muốn dự đoán trong đồ án này đó là số lượng xe yêu cầu vào mỗi giờ qua đó có thể cung cấp xe đạp một cách ổn định mà ai ai cũng có thể thuê một chiếc xe đạp cho mình bằng cách đơn giản nhất. Mặc dù vậy, do nước ta mới chỉ đang ở hình thức thí điểm nên không thể có dữ liệu được. Do đó, xem như một biện pháp thay thế khá hữu hiệu, chúng em đã lựa chọn dữ liệu từ **thành phố Seoul, thủ đô Hàn Quốc**, một trong những thành phố phát triển bậc nhất ở Châu Á và cũng khá gần gũi với Việt Nam chúng ta."
   ]
  },
  {
   "cell_type": "markdown",
   "id": "95453a4e",
   "metadata": {
    "heading_collapsed": true
   },
   "source": [
    "## Mục đích lựa chọn dữ liệu này.\n"
   ]
  },
  {
   "cell_type": "markdown",
   "id": "611ea919",
   "metadata": {
    "hidden": true
   },
   "source": [
    "- Với một thành phố nhộn nhịp, phát triển như thành phố Hồ Chí Minh thì việc cảm thấy khó chịu, không thoải mái khi mà khẩu trang đã trở thành vật bất ly thân khi đi học, đi làm, thậm chí ngay cả những lúc đi chơi. Những buổi sáng thức giấc không còn mở cửa sổ để hít thở không khí trong lành để tận hưởng một ngày mới. Thay vào đó là một Hồ Chí Minh với đầy ấp tiếng ồn, bụi bặm và khói bụi thông báo cho chúng ta biết mình đang ở một thành phố sầm uất nhất nhì Việt Nam.\n",
    "- Với suy nghĩ như vậy, em rất ủng hộ việc sử dụng **xe đạp công cộng** để giúp phần nào giảm thiểu được số lượng tham gia của các phương tiện giao thông ô nhiễm và đầy rẫy ồn ào. Việc sử dụng xe đạp công cộng là một trong những cách giúp chung tay bảo vệ môi trường cùng thế giới. Đó là lý do chính mà chúng em lựa chọn đề tài này. Hy vọng sẽ mang đến một vài điều thú vị cho thầy và các bạn!"
   ]
  },
  {
   "cell_type": "markdown",
   "id": "e3240899",
   "metadata": {
    "heading_collapsed": true
   },
   "source": [
    "## Nguồn dữ liệu - Quyền sử dụng"
   ]
  },
  {
   "cell_type": "markdown",
   "id": "0d933bdc",
   "metadata": {
    "ExecuteTime": {
     "end_time": "2021-12-22T13:06:31.468416Z",
     "start_time": "2021-12-22T13:06:31.447434Z"
    },
    "hidden": true
   },
   "source": [
    "- Dữ liệu sử dụng của đồ án này được public trên trang web **UCI (trang web cung cấp dữ liệu nổi tiếng cho học máy và trí tuệ nhân tạo)** với đường dẫn sau: [link](https://archive.ics.uci.edu/ml/datasets/Seoul+Bike+Sharing+Demand).\n",
    "- Về vấn đề quyền sử dụng: Tác giả đề cập đến vấn đề quyền sử dụng dựa theo [Điều luật của dữ liệu thành phố Seoul](https://data.seoul.go.kr/etc/accessTerms.do) <br>\n",
    "\n",
    "**Lưu ý: Vì đây là dữ liệu liên quan đến một thành phố nên việc sử dụng dữ liệu phải thật thận trọng và dựa trên điều luật về dữ liệu của thành phố Seoul, Hàn Quốc ban hành. Do đó, mọi hành vi liên quan đến dữ liệu hay vấn đề bản quyền đều không phải trách nhiệm của tác giả. Cân nhắc trước khi sử dụng!**"
   ]
  },
  {
   "cell_type": "markdown",
   "id": "8d0c6670",
   "metadata": {
    "heading_collapsed": true
   },
   "source": [
    "## Người ta thu thập dữ liệu như thế nào?"
   ]
  },
  {
   "cell_type": "markdown",
   "id": "2a71ce0a",
   "metadata": {
    "hidden": true
   },
   "source": [
    "- Là thủ đô và cũng là thành phố sầm uất nhất của Hàn Quốc. Không lạ gì khi Seoul là một trong các thành phố dẫn đầu về công nghệ. Do đó, đối với họ việc thu thập dữ liệu cũng trở nên dễ dàng hơn bao giờ hết khi `dữ liệu về xe đạp` hay các dữ liệu bao gồm các dữ liệu như **`thời tiết` (nhiệt độ, độ ẩm, sức gió, tầm nhìn xa, độ điểm sương, bức xạ mặt trời, lượng tuyết, lượng mưa)** đều được đo chuẩn xác bằng các thiết bị công nghệ như GPS, đài khí tượng,...Ngoài ra một số thông số còn được lấy từ trang **[Korea Meteorological Administration](http://www.kma.go.kr/eng/index.jsp)**. Và đó cũng là cách thu thập dữ liệu mà tác giả đề cập ở phần mô tả. <br>\n",
    "- Ngoài ra, thông tin về  `lịch nghỉ lễ ở Hàn Quốc` được lấy từ trang **[South Korea Public Holidays](https://publicholidays.co.kr/)**"
   ]
  },
  {
   "cell_type": "markdown",
   "id": "388f9d15",
   "metadata": {
    "heading_collapsed": true
   },
   "source": [
    "## Mô tả dữ liệu"
   ]
  },
  {
   "cell_type": "markdown",
   "id": "86e66ca2",
   "metadata": {
    "ExecuteTime": {
     "end_time": "2021-12-23T02:16:08.941034Z",
     "start_time": "2021-12-23T02:16:08.921055Z"
    },
    "hidden": true
   },
   "source": [
    "Như đã nói ở trên thì dữ liệu này nói đến `dự án xe đạp công cộng của thành phố Seoul, thủ đô Hàn Quốc`. Dữ liệu được thu thập theo từng giờ, **bắt đầu từ đầu tháng 12 năm 2017 đến cuối tháng 11 năm 2018** (vào khoảng một năm). Dữ liệu bao gồm ngày tháng, số lượng xe đạp cho thuê và những thông tin về thời tiết ngày giờ,... Thông qua việc tìm hiểu dữ liệu này. Hy vọng chúng ta có thể tìm ra và trả lời được những câu hỏi bổ ích. Cụ thể thế nào xin mời thầy và các bạn chúng ta cùng bước vào phần \"Khám phá dữ liệu\". "
   ]
  },
  {
   "cell_type": "markdown",
   "id": "8476f0ba",
   "metadata": {},
   "source": [
    "# Khám phá dữ liệu"
   ]
  },
  {
   "cell_type": "markdown",
   "id": "21438e73",
   "metadata": {
    "heading_collapsed": true
   },
   "source": [
    "## Đọc dữ liệu"
   ]
  },
  {
   "cell_type": "code",
   "execution_count": 3,
   "id": "3e27a23a",
   "metadata": {
    "ExecuteTime": {
     "end_time": "2022-01-21T07:13:02.939819Z",
     "start_time": "2022-01-21T07:13:02.783964Z"
    },
    "hidden": true
   },
   "outputs": [
    {
     "data": {
      "text/html": [
       "<div>\n",
       "<style scoped>\n",
       "    .dataframe tbody tr th:only-of-type {\n",
       "        vertical-align: middle;\n",
       "    }\n",
       "\n",
       "    .dataframe tbody tr th {\n",
       "        vertical-align: top;\n",
       "    }\n",
       "\n",
       "    .dataframe thead th {\n",
       "        text-align: right;\n",
       "    }\n",
       "</style>\n",
       "<table border=\"1\" class=\"dataframe\">\n",
       "  <thead>\n",
       "    <tr style=\"text-align: right;\">\n",
       "      <th></th>\n",
       "      <th>Date</th>\n",
       "      <th>Rented Bike Count</th>\n",
       "      <th>Hour</th>\n",
       "      <th>Temperature(°C)</th>\n",
       "      <th>Humidity(%)</th>\n",
       "      <th>Wind speed (m/s)</th>\n",
       "      <th>Visibility (10m)</th>\n",
       "      <th>Dew point temperature(°C)</th>\n",
       "      <th>Solar Radiation (MJ/m2)</th>\n",
       "      <th>Rainfall(mm)</th>\n",
       "      <th>Snowfall (cm)</th>\n",
       "      <th>Seasons</th>\n",
       "      <th>Holiday</th>\n",
       "      <th>Functioning Day</th>\n",
       "    </tr>\n",
       "  </thead>\n",
       "  <tbody>\n",
       "    <tr>\n",
       "      <th>0</th>\n",
       "      <td>01/12/2017</td>\n",
       "      <td>254</td>\n",
       "      <td>0</td>\n",
       "      <td>-5.2</td>\n",
       "      <td>37</td>\n",
       "      <td>2.2</td>\n",
       "      <td>2000</td>\n",
       "      <td>-17.6</td>\n",
       "      <td>0.0</td>\n",
       "      <td>0.0</td>\n",
       "      <td>0.0</td>\n",
       "      <td>Winter</td>\n",
       "      <td>No Holiday</td>\n",
       "      <td>Yes</td>\n",
       "    </tr>\n",
       "    <tr>\n",
       "      <th>1</th>\n",
       "      <td>01/12/2017</td>\n",
       "      <td>204</td>\n",
       "      <td>1</td>\n",
       "      <td>-5.5</td>\n",
       "      <td>38</td>\n",
       "      <td>0.8</td>\n",
       "      <td>2000</td>\n",
       "      <td>-17.6</td>\n",
       "      <td>0.0</td>\n",
       "      <td>0.0</td>\n",
       "      <td>0.0</td>\n",
       "      <td>Winter</td>\n",
       "      <td>No Holiday</td>\n",
       "      <td>Yes</td>\n",
       "    </tr>\n",
       "    <tr>\n",
       "      <th>2</th>\n",
       "      <td>01/12/2017</td>\n",
       "      <td>173</td>\n",
       "      <td>2</td>\n",
       "      <td>-6.0</td>\n",
       "      <td>39</td>\n",
       "      <td>1.0</td>\n",
       "      <td>2000</td>\n",
       "      <td>-17.7</td>\n",
       "      <td>0.0</td>\n",
       "      <td>0.0</td>\n",
       "      <td>0.0</td>\n",
       "      <td>Winter</td>\n",
       "      <td>No Holiday</td>\n",
       "      <td>Yes</td>\n",
       "    </tr>\n",
       "    <tr>\n",
       "      <th>3</th>\n",
       "      <td>01/12/2017</td>\n",
       "      <td>107</td>\n",
       "      <td>3</td>\n",
       "      <td>-6.2</td>\n",
       "      <td>40</td>\n",
       "      <td>0.9</td>\n",
       "      <td>2000</td>\n",
       "      <td>-17.6</td>\n",
       "      <td>0.0</td>\n",
       "      <td>0.0</td>\n",
       "      <td>0.0</td>\n",
       "      <td>Winter</td>\n",
       "      <td>No Holiday</td>\n",
       "      <td>Yes</td>\n",
       "    </tr>\n",
       "    <tr>\n",
       "      <th>4</th>\n",
       "      <td>01/12/2017</td>\n",
       "      <td>78</td>\n",
       "      <td>4</td>\n",
       "      <td>-6.0</td>\n",
       "      <td>36</td>\n",
       "      <td>2.3</td>\n",
       "      <td>2000</td>\n",
       "      <td>-18.6</td>\n",
       "      <td>0.0</td>\n",
       "      <td>0.0</td>\n",
       "      <td>0.0</td>\n",
       "      <td>Winter</td>\n",
       "      <td>No Holiday</td>\n",
       "      <td>Yes</td>\n",
       "    </tr>\n",
       "  </tbody>\n",
       "</table>\n",
       "</div>"
      ],
      "text/plain": [
       "         Date  Rented Bike Count  Hour  Temperature(°C)  Humidity(%)  \\\n",
       "0  01/12/2017                254     0             -5.2           37   \n",
       "1  01/12/2017                204     1             -5.5           38   \n",
       "2  01/12/2017                173     2             -6.0           39   \n",
       "3  01/12/2017                107     3             -6.2           40   \n",
       "4  01/12/2017                 78     4             -6.0           36   \n",
       "\n",
       "   Wind speed (m/s)  Visibility (10m)  Dew point temperature(°C)  \\\n",
       "0               2.2              2000                      -17.6   \n",
       "1               0.8              2000                      -17.6   \n",
       "2               1.0              2000                      -17.7   \n",
       "3               0.9              2000                      -17.6   \n",
       "4               2.3              2000                      -18.6   \n",
       "\n",
       "   Solar Radiation (MJ/m2)  Rainfall(mm)  Snowfall (cm) Seasons     Holiday  \\\n",
       "0                      0.0           0.0            0.0  Winter  No Holiday   \n",
       "1                      0.0           0.0            0.0  Winter  No Holiday   \n",
       "2                      0.0           0.0            0.0  Winter  No Holiday   \n",
       "3                      0.0           0.0            0.0  Winter  No Holiday   \n",
       "4                      0.0           0.0            0.0  Winter  No Holiday   \n",
       "\n",
       "  Functioning Day  \n",
       "0             Yes  \n",
       "1             Yes  \n",
       "2             Yes  \n",
       "3             Yes  \n",
       "4             Yes  "
      ]
     },
     "execution_count": 3,
     "metadata": {},
     "output_type": "execute_result"
    }
   ],
   "source": [
    "df = pd.read_csv('Data/SeoulBikeData.csv', encoding= 'unicode_escape')\n",
    "df.head()"
   ]
  },
  {
   "cell_type": "markdown",
   "id": "bc7a088f",
   "metadata": {
    "heading_collapsed": true
   },
   "source": [
    "## Dữ liệu có bao nhiêu dòng và cột ? "
   ]
  },
  {
   "cell_type": "code",
   "execution_count": 4,
   "id": "cdcaa54e",
   "metadata": {
    "ExecuteTime": {
     "end_time": "2022-01-21T07:13:02.955804Z",
     "start_time": "2022-01-21T07:13:02.944815Z"
    },
    "hidden": true
   },
   "outputs": [
    {
     "data": {
      "text/plain": [
       "(8760, 14)"
      ]
     },
     "execution_count": 4,
     "metadata": {},
     "output_type": "execute_result"
    }
   ],
   "source": [
    "n_rows, n_col = df.shape\n",
    "n_rows, n_col"
   ]
  },
  {
   "cell_type": "markdown",
   "id": "4e90fac6",
   "metadata": {
    "hidden": true
   },
   "source": [
    "Như vậy ta có được dữ liệu hiện tại đưa vào là 8760 dòng và 14 cột."
   ]
  },
  {
   "cell_type": "markdown",
   "id": "4c44c0eb",
   "metadata": {
    "heading_collapsed": true
   },
   "source": [
    "## Các dòng dữ liệu"
   ]
  },
  {
   "cell_type": "markdown",
   "id": "51b0cefd",
   "metadata": {
    "heading_collapsed": true,
    "hidden": true
   },
   "source": [
    "### Mỗi dòng có ý nghĩa gì? Có vấn đề các dòng có ý nghĩa khác nhau không?"
   ]
  },
  {
   "cell_type": "code",
   "execution_count": 5,
   "id": "786591ca",
   "metadata": {
    "ExecuteTime": {
     "end_time": "2022-01-21T07:13:03.035731Z",
     "start_time": "2022-01-21T07:13:02.959801Z"
    },
    "hidden": true
   },
   "outputs": [
    {
     "data": {
      "text/html": [
       "<div>\n",
       "<style scoped>\n",
       "    .dataframe tbody tr th:only-of-type {\n",
       "        vertical-align: middle;\n",
       "    }\n",
       "\n",
       "    .dataframe tbody tr th {\n",
       "        vertical-align: top;\n",
       "    }\n",
       "\n",
       "    .dataframe thead th {\n",
       "        text-align: right;\n",
       "    }\n",
       "</style>\n",
       "<table border=\"1\" class=\"dataframe\">\n",
       "  <thead>\n",
       "    <tr style=\"text-align: right;\">\n",
       "      <th></th>\n",
       "      <th>Date</th>\n",
       "      <th>Rented Bike Count</th>\n",
       "      <th>Hour</th>\n",
       "      <th>Temperature(°C)</th>\n",
       "      <th>Humidity(%)</th>\n",
       "      <th>Wind speed (m/s)</th>\n",
       "      <th>Visibility (10m)</th>\n",
       "      <th>Dew point temperature(°C)</th>\n",
       "      <th>Solar Radiation (MJ/m2)</th>\n",
       "      <th>Rainfall(mm)</th>\n",
       "      <th>Snowfall (cm)</th>\n",
       "      <th>Seasons</th>\n",
       "      <th>Holiday</th>\n",
       "      <th>Functioning Day</th>\n",
       "    </tr>\n",
       "  </thead>\n",
       "  <tbody>\n",
       "    <tr>\n",
       "      <th>2853</th>\n",
       "      <td>29/03/2018</td>\n",
       "      <td>1046</td>\n",
       "      <td>21</td>\n",
       "      <td>14.4</td>\n",
       "      <td>66</td>\n",
       "      <td>1.7</td>\n",
       "      <td>677</td>\n",
       "      <td>8.1</td>\n",
       "      <td>0.00</td>\n",
       "      <td>0.0</td>\n",
       "      <td>0.0</td>\n",
       "      <td>Spring</td>\n",
       "      <td>No Holiday</td>\n",
       "      <td>Yes</td>\n",
       "    </tr>\n",
       "    <tr>\n",
       "      <th>7431</th>\n",
       "      <td>06/10/2018</td>\n",
       "      <td>1236</td>\n",
       "      <td>15</td>\n",
       "      <td>21.0</td>\n",
       "      <td>67</td>\n",
       "      <td>4.1</td>\n",
       "      <td>2000</td>\n",
       "      <td>14.6</td>\n",
       "      <td>2.05</td>\n",
       "      <td>0.0</td>\n",
       "      <td>0.0</td>\n",
       "      <td>Autumn</td>\n",
       "      <td>No Holiday</td>\n",
       "      <td>Yes</td>\n",
       "    </tr>\n",
       "    <tr>\n",
       "      <th>4605</th>\n",
       "      <td>10/06/2018</td>\n",
       "      <td>2026</td>\n",
       "      <td>21</td>\n",
       "      <td>22.1</td>\n",
       "      <td>55</td>\n",
       "      <td>1.5</td>\n",
       "      <td>2000</td>\n",
       "      <td>12.6</td>\n",
       "      <td>0.00</td>\n",
       "      <td>0.0</td>\n",
       "      <td>0.0</td>\n",
       "      <td>Summer</td>\n",
       "      <td>No Holiday</td>\n",
       "      <td>Yes</td>\n",
       "    </tr>\n",
       "    <tr>\n",
       "      <th>642</th>\n",
       "      <td>27/12/2017</td>\n",
       "      <td>466</td>\n",
       "      <td>18</td>\n",
       "      <td>-5.2</td>\n",
       "      <td>32</td>\n",
       "      <td>2.2</td>\n",
       "      <td>2000</td>\n",
       "      <td>-19.3</td>\n",
       "      <td>0.00</td>\n",
       "      <td>0.0</td>\n",
       "      <td>0.0</td>\n",
       "      <td>Winter</td>\n",
       "      <td>No Holiday</td>\n",
       "      <td>Yes</td>\n",
       "    </tr>\n",
       "    <tr>\n",
       "      <th>7621</th>\n",
       "      <td>14/10/2018</td>\n",
       "      <td>1593</td>\n",
       "      <td>13</td>\n",
       "      <td>18.1</td>\n",
       "      <td>32</td>\n",
       "      <td>1.5</td>\n",
       "      <td>1684</td>\n",
       "      <td>1.1</td>\n",
       "      <td>2.21</td>\n",
       "      <td>0.0</td>\n",
       "      <td>0.0</td>\n",
       "      <td>Autumn</td>\n",
       "      <td>No Holiday</td>\n",
       "      <td>Yes</td>\n",
       "    </tr>\n",
       "    <tr>\n",
       "      <th>1083</th>\n",
       "      <td>15/01/2018</td>\n",
       "      <td>58</td>\n",
       "      <td>3</td>\n",
       "      <td>4.4</td>\n",
       "      <td>70</td>\n",
       "      <td>1.7</td>\n",
       "      <td>928</td>\n",
       "      <td>-0.6</td>\n",
       "      <td>0.00</td>\n",
       "      <td>0.0</td>\n",
       "      <td>0.0</td>\n",
       "      <td>Winter</td>\n",
       "      <td>No Holiday</td>\n",
       "      <td>Yes</td>\n",
       "    </tr>\n",
       "    <tr>\n",
       "      <th>485</th>\n",
       "      <td>21/12/2017</td>\n",
       "      <td>49</td>\n",
       "      <td>5</td>\n",
       "      <td>-4.3</td>\n",
       "      <td>91</td>\n",
       "      <td>1.5</td>\n",
       "      <td>233</td>\n",
       "      <td>-5.5</td>\n",
       "      <td>0.00</td>\n",
       "      <td>0.0</td>\n",
       "      <td>2.2</td>\n",
       "      <td>Winter</td>\n",
       "      <td>No Holiday</td>\n",
       "      <td>Yes</td>\n",
       "    </tr>\n",
       "    <tr>\n",
       "      <th>1547</th>\n",
       "      <td>03/02/2018</td>\n",
       "      <td>195</td>\n",
       "      <td>11</td>\n",
       "      <td>-7.7</td>\n",
       "      <td>41</td>\n",
       "      <td>4.6</td>\n",
       "      <td>1984</td>\n",
       "      <td>-18.7</td>\n",
       "      <td>1.65</td>\n",
       "      <td>0.0</td>\n",
       "      <td>0.2</td>\n",
       "      <td>Winter</td>\n",
       "      <td>No Holiday</td>\n",
       "      <td>Yes</td>\n",
       "    </tr>\n",
       "    <tr>\n",
       "      <th>398</th>\n",
       "      <td>17/12/2017</td>\n",
       "      <td>268</td>\n",
       "      <td>14</td>\n",
       "      <td>-3.2</td>\n",
       "      <td>26</td>\n",
       "      <td>3.1</td>\n",
       "      <td>1933</td>\n",
       "      <td>-20.0</td>\n",
       "      <td>1.07</td>\n",
       "      <td>0.0</td>\n",
       "      <td>0.0</td>\n",
       "      <td>Winter</td>\n",
       "      <td>No Holiday</td>\n",
       "      <td>Yes</td>\n",
       "    </tr>\n",
       "    <tr>\n",
       "      <th>4726</th>\n",
       "      <td>15/06/2018</td>\n",
       "      <td>2155</td>\n",
       "      <td>22</td>\n",
       "      <td>20.4</td>\n",
       "      <td>54</td>\n",
       "      <td>1.4</td>\n",
       "      <td>2000</td>\n",
       "      <td>10.7</td>\n",
       "      <td>0.00</td>\n",
       "      <td>0.0</td>\n",
       "      <td>0.0</td>\n",
       "      <td>Summer</td>\n",
       "      <td>No Holiday</td>\n",
       "      <td>Yes</td>\n",
       "    </tr>\n",
       "  </tbody>\n",
       "</table>\n",
       "</div>"
      ],
      "text/plain": [
       "            Date  Rented Bike Count  Hour  Temperature(°C)  Humidity(%)  \\\n",
       "2853  29/03/2018               1046    21             14.4           66   \n",
       "7431  06/10/2018               1236    15             21.0           67   \n",
       "4605  10/06/2018               2026    21             22.1           55   \n",
       "642   27/12/2017                466    18             -5.2           32   \n",
       "7621  14/10/2018               1593    13             18.1           32   \n",
       "1083  15/01/2018                 58     3              4.4           70   \n",
       "485   21/12/2017                 49     5             -4.3           91   \n",
       "1547  03/02/2018                195    11             -7.7           41   \n",
       "398   17/12/2017                268    14             -3.2           26   \n",
       "4726  15/06/2018               2155    22             20.4           54   \n",
       "\n",
       "      Wind speed (m/s)  Visibility (10m)  Dew point temperature(°C)  \\\n",
       "2853               1.7               677                        8.1   \n",
       "7431               4.1              2000                       14.6   \n",
       "4605               1.5              2000                       12.6   \n",
       "642                2.2              2000                      -19.3   \n",
       "7621               1.5              1684                        1.1   \n",
       "1083               1.7               928                       -0.6   \n",
       "485                1.5               233                       -5.5   \n",
       "1547               4.6              1984                      -18.7   \n",
       "398                3.1              1933                      -20.0   \n",
       "4726               1.4              2000                       10.7   \n",
       "\n",
       "      Solar Radiation (MJ/m2)  Rainfall(mm)  Snowfall (cm) Seasons  \\\n",
       "2853                     0.00           0.0            0.0  Spring   \n",
       "7431                     2.05           0.0            0.0  Autumn   \n",
       "4605                     0.00           0.0            0.0  Summer   \n",
       "642                      0.00           0.0            0.0  Winter   \n",
       "7621                     2.21           0.0            0.0  Autumn   \n",
       "1083                     0.00           0.0            0.0  Winter   \n",
       "485                      0.00           0.0            2.2  Winter   \n",
       "1547                     1.65           0.0            0.2  Winter   \n",
       "398                      1.07           0.0            0.0  Winter   \n",
       "4726                     0.00           0.0            0.0  Summer   \n",
       "\n",
       "         Holiday Functioning Day  \n",
       "2853  No Holiday             Yes  \n",
       "7431  No Holiday             Yes  \n",
       "4605  No Holiday             Yes  \n",
       "642   No Holiday             Yes  \n",
       "7621  No Holiday             Yes  \n",
       "1083  No Holiday             Yes  \n",
       "485   No Holiday             Yes  \n",
       "1547  No Holiday             Yes  \n",
       "398   No Holiday             Yes  \n",
       "4726  No Holiday             Yes  "
      ]
     },
     "execution_count": 5,
     "metadata": {},
     "output_type": "execute_result"
    }
   ],
   "source": [
    "df.sample(10)"
   ]
  },
  {
   "cell_type": "markdown",
   "id": "9486e875",
   "metadata": {
    "hidden": true
   },
   "source": [
    "- Mỗi dòng ở trong dữ liệu trên ứng với thông tin mượn xe đạp công cộng của 1 ngày trong năm từ tháng 12-2017 đến hết tháng 11-2018 (khoảng 1 năm) ở thành phố Seoul, Hàn Quốc. Nhìn chung có vẻ không có dòng nào \"lạc loài\" (có nghĩa là không có vấn đề gì các dòng có ý nghĩa khác nhau)."
   ]
  },
  {
   "cell_type": "markdown",
   "id": "7e04da5f",
   "metadata": {
    "heading_collapsed": true,
    "hidden": true
   },
   "source": [
    "### Dữ liệu các dòng có bị lặp hay không?"
   ]
  },
  {
   "cell_type": "code",
   "execution_count": 6,
   "id": "c2918977",
   "metadata": {
    "ExecuteTime": {
     "end_time": "2022-01-21T07:13:03.099672Z",
     "start_time": "2022-01-21T07:13:03.038727Z"
    },
    "hidden": true
   },
   "outputs": [
    {
     "data": {
      "text/html": [
       "<div>\n",
       "<style scoped>\n",
       "    .dataframe tbody tr th:only-of-type {\n",
       "        vertical-align: middle;\n",
       "    }\n",
       "\n",
       "    .dataframe tbody tr th {\n",
       "        vertical-align: top;\n",
       "    }\n",
       "\n",
       "    .dataframe thead th {\n",
       "        text-align: right;\n",
       "    }\n",
       "</style>\n",
       "<table border=\"1\" class=\"dataframe\">\n",
       "  <thead>\n",
       "    <tr style=\"text-align: right;\">\n",
       "      <th></th>\n",
       "      <th>Date</th>\n",
       "      <th>Rented Bike Count</th>\n",
       "      <th>Hour</th>\n",
       "      <th>Temperature(°C)</th>\n",
       "      <th>Humidity(%)</th>\n",
       "      <th>Wind speed (m/s)</th>\n",
       "      <th>Visibility (10m)</th>\n",
       "      <th>Dew point temperature(°C)</th>\n",
       "      <th>Solar Radiation (MJ/m2)</th>\n",
       "      <th>Rainfall(mm)</th>\n",
       "      <th>Snowfall (cm)</th>\n",
       "      <th>Seasons</th>\n",
       "      <th>Holiday</th>\n",
       "      <th>Functioning Day</th>\n",
       "    </tr>\n",
       "  </thead>\n",
       "  <tbody>\n",
       "  </tbody>\n",
       "</table>\n",
       "</div>"
      ],
      "text/plain": [
       "Empty DataFrame\n",
       "Columns: [Date, Rented Bike Count, Hour, Temperature(°C), Humidity(%), Wind speed (m/s), Visibility (10m), Dew point temperature(°C), Solar Radiation (MJ/m2), Rainfall(mm), Snowfall (cm), Seasons, Holiday, Functioning Day]\n",
       "Index: []"
      ]
     },
     "execution_count": 6,
     "metadata": {},
     "output_type": "execute_result"
    }
   ],
   "source": [
    "df[df.duplicated(keep=False)]"
   ]
  },
  {
   "cell_type": "markdown",
   "id": "0e6e092a",
   "metadata": {
    "hidden": true
   },
   "source": [
    "- Vậy dữ liệu không có dòng nào bị trùng như dự đoán ban đầu của ta."
   ]
  },
  {
   "cell_type": "markdown",
   "id": "1a5d194e",
   "metadata": {},
   "source": [
    "## Các cột dữ liệu"
   ]
  },
  {
   "cell_type": "markdown",
   "id": "ff39c8a6",
   "metadata": {
    "heading_collapsed": true
   },
   "source": [
    "### Ý nghĩa các cột"
   ]
  },
  {
   "cell_type": "code",
   "execution_count": 7,
   "id": "a0517b9a",
   "metadata": {
    "ExecuteTime": {
     "end_time": "2022-01-21T07:13:03.115656Z",
     "start_time": "2022-01-21T07:13:03.103670Z"
    },
    "hidden": true
   },
   "outputs": [
    {
     "data": {
      "text/plain": [
       "['Date',\n",
       " 'Rented Bike Count',\n",
       " 'Hour',\n",
       " 'Temperature(°C)',\n",
       " 'Humidity(%)',\n",
       " 'Wind speed (m/s)',\n",
       " 'Visibility (10m)',\n",
       " 'Dew point temperature(°C)',\n",
       " 'Solar Radiation (MJ/m2)',\n",
       " 'Rainfall(mm)',\n",
       " 'Snowfall (cm)',\n",
       " 'Seasons',\n",
       " 'Holiday',\n",
       " 'Functioning Day']"
      ]
     },
     "execution_count": 7,
     "metadata": {},
     "output_type": "execute_result"
    }
   ],
   "source": [
    "list(df.columns.values)"
   ]
  },
  {
   "cell_type": "markdown",
   "id": "639d405d",
   "metadata": {
    "ExecuteTime": {
     "end_time": "2021-12-23T02:18:57.506222Z",
     "start_time": "2021-12-23T02:18:57.482249Z"
    },
    "hidden": true
   },
   "source": [
    "\n",
    "|Column|Description|\n",
    "|----------- |----------- |\n",
    "|Date |Ngày dữ liêu được thu thập theo đơn vị ngày / tháng / năm.|\n",
    "|Rented Bike count |Số lượng xe đạp được thuê vào mỗi giờ trong ngày.|\n",
    "|Hour|Giờ mà dữ liệu được thu thập.|\n",
    "|Temperature(°C)|Nhiệt độ ngoài trời tính theo đơn vị Celsius|\n",
    "|Humidity(%)|Độ ẩm ngoài trời tính theo %|\n",
    "|Wind speed (m/s)|Sức gió ngoài trời tính tại thời điểm thu thập đơn vị m/s.|\n",
    "|Visibility (10m)|Tầm nhìn xa (đơn vị là 10m)  |\n",
    "|Dew point temperature(°C)|Nhiệt độ điểm sương (°C).|\n",
    "|Solar Radiation (MJ/m2)|Cường độ bức xạ mặt trời tại thời điểm thu thập dữ liệu.|\n",
    "|Rainfall(mm)|Lượng mưa tại thời điêm thu thập.|\n",
    "|Snowfall (cm)|Lượng tuyết rơi tại thời điêm thu thập.|\n",
    "|Seasons|Các mùa trong năm (Xuân, Hạ, Thu, Đông).|\n",
    "|Holiday|Ngày dữ liệu được thu thập có phải là ngày lễ (ngày nghỉ) không?.|\n",
    "|Functioning Day|Ngày hôm đó dịch vụ có hoạt động?.|"
   ]
  },
  {
   "cell_type": "markdown",
   "id": "80f8eadc",
   "metadata": {
    "hidden": true
   },
   "source": [
    "**Chú thích**: `Nhiệt độ điểm sương` là nhiệt độ mà nước trong khối không khí đó ngưng đọng thành nước lỏng"
   ]
  },
  {
   "cell_type": "markdown",
   "id": "14473ca5",
   "metadata": {
    "hidden": true
   },
   "source": [
    "**Lưu ý:** Thông tin các cột có thể bị sai lệch có thể cách hiểu của từng người khác nhau. <br>\n",
    "Để mang tính khách quan khuyến khích người đọc nên tham khảo nguồn thông tin bằng tiếng Anh chính thức. <br>\n",
    "Thông tin các cột có thể đọc thêm tại trang web [UCI](https://archive.ics.uci.edu/ml/datasets/Seoul+Bike+Sharing+Demand)"
   ]
  },
  {
   "cell_type": "markdown",
   "id": "1933a341",
   "metadata": {
    "heading_collapsed": true
   },
   "source": [
    "### Mỗi cột hiện đang có kiểu dữ liệu gì? Có cột nào có kiểu dữ liệu chưa phù hợp để có thể xử lý tiếp không?"
   ]
  },
  {
   "cell_type": "code",
   "execution_count": 8,
   "id": "bb8bbce8",
   "metadata": {
    "ExecuteTime": {
     "end_time": "2022-01-21T07:13:03.147629Z",
     "start_time": "2022-01-21T07:13:03.121651Z"
    },
    "hidden": true,
    "hide_input": false
   },
   "outputs": [
    {
     "data": {
      "text/plain": [
       "Date                          object\n",
       "Rented Bike Count              int64\n",
       "Hour                           int64\n",
       "Temperature(°C)              float64\n",
       "Humidity(%)                    int64\n",
       "Wind speed (m/s)             float64\n",
       "Visibility (10m)               int64\n",
       "Dew point temperature(°C)    float64\n",
       "Solar Radiation (MJ/m2)      float64\n",
       "Rainfall(mm)                 float64\n",
       "Snowfall (cm)                float64\n",
       "Seasons                       object\n",
       "Holiday                       object\n",
       "Functioning Day               object\n",
       "dtype: object"
      ]
     },
     "execution_count": 8,
     "metadata": {},
     "output_type": "execute_result"
    }
   ],
   "source": [
    "df.dtypes"
   ]
  },
  {
   "cell_type": "markdown",
   "id": "87bc3fdf",
   "metadata": {
    "hidden": true
   },
   "source": [
    "Xem xét các cột ở trên ở phần này ta sẽ thực hiện các bước sau: <br>\n",
    "Dữ liệu ở các cột object như Seasons (chỉ có 4 mùa), Holiday (Yes hoặc No), Functioning Day (Yes hoặc No) ta sẽ chuyển về dạng int. <br>\n",
    "Và cuối cùng cột Date sẽ được chuyển về kiểu dữ liệu Datetime."
   ]
  },
  {
   "cell_type": "code",
   "execution_count": 9,
   "id": "da55b844",
   "metadata": {
    "ExecuteTime": {
     "end_time": "2022-01-21T07:13:03.179598Z",
     "start_time": "2022-01-21T07:13:03.154621Z"
    },
    "hidden": true
   },
   "outputs": [],
   "source": [
    "# column Season. \n",
    "# Định nghĩa: 0: Xuân, 1: Hạ, 2: Thu, 3: Đông\n",
    "df.loc[df['Seasons'] == 'Spring', 'Seasons'] = 0\n",
    "df.loc[df['Seasons'] == 'Summer', 'Seasons'] = 1\n",
    "df.loc[df['Seasons'] == 'Autumn', 'Seasons'] = 2\n",
    "df.loc[df['Seasons'] == 'Winter', 'Seasons'] = 3\n",
    "df['Seasons'] = df['Seasons'].astype(np.int64)"
   ]
  },
  {
   "cell_type": "code",
   "execution_count": 10,
   "id": "1aca3082",
   "metadata": {
    "ExecuteTime": {
     "end_time": "2022-01-21T07:13:03.211568Z",
     "start_time": "2022-01-21T07:13:03.183593Z"
    },
    "hidden": true
   },
   "outputs": [],
   "source": [
    "# column Holiday\n",
    "# Định nghĩa: 0: No Holiday, 1: Holiday\n",
    "df.loc[df['Holiday'] != 'Holiday', 'Holiday'] = 0\n",
    "df.loc[df['Holiday'] == 'Holiday', 'Holiday'] = 1\n",
    "df['Holiday'] = df['Holiday'].astype(np.int64)"
   ]
  },
  {
   "cell_type": "code",
   "execution_count": 11,
   "id": "31d5760e",
   "metadata": {
    "ExecuteTime": {
     "end_time": "2022-01-21T07:13:03.243537Z",
     "start_time": "2022-01-21T07:13:03.215565Z"
    },
    "hidden": true
   },
   "outputs": [],
   "source": [
    "# column Functioning Day\n",
    "# Định nghĩa: 0: No, 1: Yes\n",
    "df.loc[df['Functioning Day'] == 'No', 'Functioning Day'] = 0\n",
    "df.loc[df['Functioning Day'] == 'Yes', 'Functioning Day'] = 1\n",
    "df['Functioning Day'] = df['Functioning Day'].astype(np.int64)"
   ]
  },
  {
   "cell_type": "code",
   "execution_count": 12,
   "id": "968d9f7c",
   "metadata": {
    "ExecuteTime": {
     "end_time": "2022-01-21T07:13:03.275509Z",
     "start_time": "2022-01-21T07:13:03.249532Z"
    },
    "hidden": true
   },
   "outputs": [],
   "source": [
    "# column Date\n",
    "df['Date'] = pd.to_datetime(df['Date'], format='%d/%m/%Y')"
   ]
  },
  {
   "cell_type": "code",
   "execution_count": 13,
   "id": "3ab80b04",
   "metadata": {
    "ExecuteTime": {
     "end_time": "2022-01-21T07:13:03.307478Z",
     "start_time": "2022-01-21T07:13:03.280503Z"
    },
    "hidden": true
   },
   "outputs": [
    {
     "name": "stdout",
     "output_type": "stream",
     "text": [
      "<class 'pandas.core.frame.DataFrame'>\n",
      "RangeIndex: 8760 entries, 0 to 8759\n",
      "Data columns (total 14 columns):\n",
      " #   Column                     Non-Null Count  Dtype         \n",
      "---  ------                     --------------  -----         \n",
      " 0   Date                       8760 non-null   datetime64[ns]\n",
      " 1   Rented Bike Count          8760 non-null   int64         \n",
      " 2   Hour                       8760 non-null   int64         \n",
      " 3   Temperature(°C)            8760 non-null   float64       \n",
      " 4   Humidity(%)                8760 non-null   int64         \n",
      " 5   Wind speed (m/s)           8760 non-null   float64       \n",
      " 6   Visibility (10m)           8760 non-null   int64         \n",
      " 7   Dew point temperature(°C)  8760 non-null   float64       \n",
      " 8   Solar Radiation (MJ/m2)    8760 non-null   float64       \n",
      " 9   Rainfall(mm)               8760 non-null   float64       \n",
      " 10  Snowfall (cm)              8760 non-null   float64       \n",
      " 11  Seasons                    8760 non-null   int64         \n",
      " 12  Holiday                    8760 non-null   int64         \n",
      " 13  Functioning Day            8760 non-null   int64         \n",
      "dtypes: datetime64[ns](1), float64(6), int64(7)\n",
      "memory usage: 958.2 KB\n"
     ]
    }
   ],
   "source": [
    "df.info()"
   ]
  },
  {
   "cell_type": "markdown",
   "id": "6bdca1a5",
   "metadata": {
    "hidden": true
   },
   "source": [
    "Bây giờ thì các dữ liệu đều đã ở dạng phù hợp để xử lý."
   ]
  },
  {
   "cell_type": "markdown",
   "id": "f4dbd382",
   "metadata": {
    "heading_collapsed": true
   },
   "source": [
    "### Với mỗi cột có kiểu dữ liệu dạng số (numerical), các giá trị được phân bố như thế nào"
   ]
  },
  {
   "cell_type": "markdown",
   "id": "0757b252",
   "metadata": {
    "hidden": true
   },
   "source": [
    "Vì trong các cột có kiểu dữ liệu dạng số, có vài cột có ít hơn 25 giá trị khác nhau nên ta sẽ xét chúng vào nhóm kiểu dữ liệu dạng phân loại"
   ]
  },
  {
   "cell_type": "code",
   "execution_count": 14,
   "id": "c640e4fd",
   "metadata": {
    "ExecuteTime": {
     "end_time": "2022-01-21T07:13:03.371420Z",
     "start_time": "2022-01-21T07:13:03.311475Z"
    },
    "hidden": true
   },
   "outputs": [
    {
     "data": {
      "text/plain": [
       "['Hour', 'Seasons', 'Holiday', 'Functioning Day', 'Date']"
      ]
     },
     "execution_count": 14,
     "metadata": {},
     "output_type": "execute_result"
    }
   ],
   "source": [
    "unique_counts = df.nunique() < 25\n",
    "categorical  = unique_counts[unique_counts == True].index.tolist()\n",
    "categorical.extend(df.select_dtypes(exclude=[\"number\",\"bool_\"]).columns.tolist())\n",
    "categorical"
   ]
  },
  {
   "cell_type": "markdown",
   "id": "43922cb0",
   "metadata": {
    "hidden": true
   },
   "source": [
    "Do đó các cột có kiểu dữ liệu dạng số sẽ là các cột còn lại:"
   ]
  },
  {
   "cell_type": "code",
   "execution_count": 15,
   "id": "955e4db8",
   "metadata": {
    "ExecuteTime": {
     "end_time": "2022-01-21T07:13:03.403389Z",
     "start_time": "2022-01-21T07:13:03.377414Z"
    },
    "hidden": true
   },
   "outputs": [
    {
     "data": {
      "text/plain": [
       "['Rented Bike Count',\n",
       " 'Temperature(°C)',\n",
       " 'Humidity(%)',\n",
       " 'Wind speed (m/s)',\n",
       " 'Visibility (10m)',\n",
       " 'Dew point temperature(°C)',\n",
       " 'Solar Radiation (MJ/m2)',\n",
       " 'Rainfall(mm)',\n",
       " 'Snowfall (cm)']"
      ]
     },
     "execution_count": 15,
     "metadata": {},
     "output_type": "execute_result"
    }
   ],
   "source": [
    "numeric = [x for x in df.columns.tolist() if x not in categorical]\n",
    "numeric"
   ]
  },
  {
   "cell_type": "markdown",
   "id": "52a86dd5",
   "metadata": {
    "hidden": true
   },
   "source": [
    "Ở phần này, với các cột có kiểu dữ liệu số để hiểu thêm về dữ liệu, ta sẽ tính:\n",
    "- Số các giá trị thiếu\n",
    "- Tỉ lệ % (từ 0 đến 100) các giá trị thiếu \n",
    "- Giá trị min\n",
    "- Giá trị median\n",
    "- Giá trị max"
   ]
  },
  {
   "cell_type": "code",
   "execution_count": 16,
   "id": "f8b319ed",
   "metadata": {
    "ExecuteTime": {
     "end_time": "2022-01-21T07:13:03.531272Z",
     "start_time": "2022-01-21T07:13:03.407385Z"
    },
    "hidden": true
   },
   "outputs": [
    {
     "data": {
      "text/html": [
       "<div>\n",
       "<style scoped>\n",
       "    .dataframe tbody tr th:only-of-type {\n",
       "        vertical-align: middle;\n",
       "    }\n",
       "\n",
       "    .dataframe tbody tr th {\n",
       "        vertical-align: top;\n",
       "    }\n",
       "\n",
       "    .dataframe thead th {\n",
       "        text-align: right;\n",
       "    }\n",
       "</style>\n",
       "<table border=\"1\" class=\"dataframe\">\n",
       "  <thead>\n",
       "    <tr style=\"text-align: right;\">\n",
       "      <th></th>\n",
       "      <th>Rented Bike Count</th>\n",
       "      <th>Temperature(°C)</th>\n",
       "      <th>Humidity(%)</th>\n",
       "      <th>Wind speed (m/s)</th>\n",
       "      <th>Visibility (10m)</th>\n",
       "      <th>Dew point temperature(°C)</th>\n",
       "      <th>Solar Radiation (MJ/m2)</th>\n",
       "      <th>Rainfall(mm)</th>\n",
       "      <th>Snowfall (cm)</th>\n",
       "    </tr>\n",
       "  </thead>\n",
       "  <tbody>\n",
       "    <tr>\n",
       "      <th>num_missing</th>\n",
       "      <td>0.000000</td>\n",
       "      <td>0.000000</td>\n",
       "      <td>0.000000</td>\n",
       "      <td>0.000000</td>\n",
       "      <td>0.000000</td>\n",
       "      <td>0.000000</td>\n",
       "      <td>0.000000</td>\n",
       "      <td>0.000000</td>\n",
       "      <td>0.000000</td>\n",
       "    </tr>\n",
       "    <tr>\n",
       "      <th>missing_percentage</th>\n",
       "      <td>0.000000</td>\n",
       "      <td>0.000000</td>\n",
       "      <td>0.000000</td>\n",
       "      <td>0.000000</td>\n",
       "      <td>0.000000</td>\n",
       "      <td>0.000000</td>\n",
       "      <td>0.000000</td>\n",
       "      <td>0.000000</td>\n",
       "      <td>0.000000</td>\n",
       "    </tr>\n",
       "    <tr>\n",
       "      <th>mean</th>\n",
       "      <td>704.602055</td>\n",
       "      <td>12.882922</td>\n",
       "      <td>58.226256</td>\n",
       "      <td>1.724909</td>\n",
       "      <td>1436.825799</td>\n",
       "      <td>4.073813</td>\n",
       "      <td>0.569111</td>\n",
       "      <td>0.148687</td>\n",
       "      <td>0.075068</td>\n",
       "    </tr>\n",
       "    <tr>\n",
       "      <th>min</th>\n",
       "      <td>0.000000</td>\n",
       "      <td>-17.800000</td>\n",
       "      <td>0.000000</td>\n",
       "      <td>0.000000</td>\n",
       "      <td>27.000000</td>\n",
       "      <td>-30.600000</td>\n",
       "      <td>0.000000</td>\n",
       "      <td>0.000000</td>\n",
       "      <td>0.000000</td>\n",
       "    </tr>\n",
       "    <tr>\n",
       "      <th>lower_quartile</th>\n",
       "      <td>191.000000</td>\n",
       "      <td>3.500000</td>\n",
       "      <td>42.000000</td>\n",
       "      <td>0.900000</td>\n",
       "      <td>940.000000</td>\n",
       "      <td>-4.700000</td>\n",
       "      <td>0.000000</td>\n",
       "      <td>0.000000</td>\n",
       "      <td>0.000000</td>\n",
       "    </tr>\n",
       "    <tr>\n",
       "      <th>median</th>\n",
       "      <td>504.500000</td>\n",
       "      <td>13.700000</td>\n",
       "      <td>57.000000</td>\n",
       "      <td>1.500000</td>\n",
       "      <td>1698.000000</td>\n",
       "      <td>5.100000</td>\n",
       "      <td>0.010000</td>\n",
       "      <td>0.000000</td>\n",
       "      <td>0.000000</td>\n",
       "    </tr>\n",
       "    <tr>\n",
       "      <th>upper_quartile</th>\n",
       "      <td>1065.250000</td>\n",
       "      <td>22.500000</td>\n",
       "      <td>74.000000</td>\n",
       "      <td>2.300000</td>\n",
       "      <td>2000.000000</td>\n",
       "      <td>14.800000</td>\n",
       "      <td>0.930000</td>\n",
       "      <td>0.000000</td>\n",
       "      <td>0.000000</td>\n",
       "    </tr>\n",
       "    <tr>\n",
       "      <th>max</th>\n",
       "      <td>3556.000000</td>\n",
       "      <td>39.400000</td>\n",
       "      <td>98.000000</td>\n",
       "      <td>7.400000</td>\n",
       "      <td>2000.000000</td>\n",
       "      <td>27.200000</td>\n",
       "      <td>3.520000</td>\n",
       "      <td>35.000000</td>\n",
       "      <td>8.800000</td>\n",
       "    </tr>\n",
       "  </tbody>\n",
       "</table>\n",
       "</div>"
      ],
      "text/plain": [
       "                    Rented Bike Count  Temperature(°C)  Humidity(%)  \\\n",
       "num_missing                  0.000000         0.000000     0.000000   \n",
       "missing_percentage           0.000000         0.000000     0.000000   \n",
       "mean                       704.602055        12.882922    58.226256   \n",
       "min                          0.000000       -17.800000     0.000000   \n",
       "lower_quartile             191.000000         3.500000    42.000000   \n",
       "median                     504.500000        13.700000    57.000000   \n",
       "upper_quartile            1065.250000        22.500000    74.000000   \n",
       "max                       3556.000000        39.400000    98.000000   \n",
       "\n",
       "                    Wind speed (m/s)  Visibility (10m)  \\\n",
       "num_missing                 0.000000          0.000000   \n",
       "missing_percentage          0.000000          0.000000   \n",
       "mean                        1.724909       1436.825799   \n",
       "min                         0.000000         27.000000   \n",
       "lower_quartile              0.900000        940.000000   \n",
       "median                      1.500000       1698.000000   \n",
       "upper_quartile              2.300000       2000.000000   \n",
       "max                         7.400000       2000.000000   \n",
       "\n",
       "                    Dew point temperature(°C)  Solar Radiation (MJ/m2)  \\\n",
       "num_missing                          0.000000                 0.000000   \n",
       "missing_percentage                   0.000000                 0.000000   \n",
       "mean                                 4.073813                 0.569111   \n",
       "min                                -30.600000                 0.000000   \n",
       "lower_quartile                      -4.700000                 0.000000   \n",
       "median                               5.100000                 0.010000   \n",
       "upper_quartile                      14.800000                 0.930000   \n",
       "max                                 27.200000                 3.520000   \n",
       "\n",
       "                    Rainfall(mm)  Snowfall (cm)  \n",
       "num_missing             0.000000       0.000000  \n",
       "missing_percentage      0.000000       0.000000  \n",
       "mean                    0.148687       0.075068  \n",
       "min                     0.000000       0.000000  \n",
       "lower_quartile          0.000000       0.000000  \n",
       "median                  0.000000       0.000000  \n",
       "upper_quartile          0.000000       0.000000  \n",
       "max                    35.000000       8.800000  "
      ]
     },
     "execution_count": 16,
     "metadata": {},
     "output_type": "execute_result"
    }
   ],
   "source": [
    "def calculate_quartile(data):\n",
    "    nume_col_info_df = pd.DataFrame()\n",
    "    for col in data.keys():\n",
    "        missing = data[col].isnull().sum()\n",
    "        missing_percentage = round(data[col].isnull().sum() * 100 / len(data[col]), 1)\n",
    "        mean_value = data[col].mean()\n",
    "        min_value = data[col].min()\n",
    "        lower_quartile = data[col].quantile(0.25)\n",
    "        median = data[col].median()\n",
    "        upper = data[col].quantile(0.75)\n",
    "        max_value = data[col].max()\n",
    "        row_line = pd.Series([missing,missing_percentage,mean_value, min_value, lower_quartile, median, upper, max_value], \n",
    "                            index = ['num_missing','missing_percentage', 'mean','min', 'lower_quartile', 'median', 'upper_quartile', 'max'])\n",
    "        nume_col_info_df[col] = row_line\n",
    "    return nume_col_info_df\n",
    "calculate_quartile(df[numeric])"
   ]
  },
  {
   "cell_type": "markdown",
   "id": "9fd510f1",
   "metadata": {
    "heading_collapsed": true
   },
   "source": [
    "### Với mỗi cột có kiểu dữ liệu dạng phân loại (categorical), các giá trị được phân bố như thế nào?"
   ]
  },
  {
   "cell_type": "markdown",
   "id": "49af9639",
   "metadata": {
    "hidden": true
   },
   "source": [
    "Với các cột có kiểu dữ liệu không phải số và các cột có dạng số nhưng có ít hơn 25 giá trị khác nhau, ta sẽ tính:\n",
    "\n",
    "- Số các giá trị thiếu và tỉ lệ % (từ 0 đến 100) các giá trị thiếu\n",
    "- Số lượng các giá trị (các giá trị ở đây là các giá trị khác nhau và ta không xét giá trị thiếu) \n",
    "- Tỉ lệ % (từ 0 đến 100) của mỗi giá trị được sort theo tỉ lệ % giảm dần (ta không xét giá trị thiếu, tỉ lệ là tỉ lệ so với số lượng các giá trị không thiếu): bạn dùng dictionary để lưu, key là giá trị, value là tỉ lệ %"
   ]
  },
  {
   "cell_type": "code",
   "execution_count": 17,
   "id": "24f868b8",
   "metadata": {
    "ExecuteTime": {
     "end_time": "2022-01-21T07:13:03.611197Z",
     "start_time": "2022-01-21T07:13:03.536266Z"
    },
    "hidden": true
   },
   "outputs": [
    {
     "data": {
      "text/html": [
       "<div>\n",
       "<style scoped>\n",
       "    .dataframe tbody tr th:only-of-type {\n",
       "        vertical-align: middle;\n",
       "    }\n",
       "\n",
       "    .dataframe tbody tr th {\n",
       "        vertical-align: top;\n",
       "    }\n",
       "\n",
       "    .dataframe thead th {\n",
       "        text-align: right;\n",
       "    }\n",
       "</style>\n",
       "<table border=\"1\" class=\"dataframe\">\n",
       "  <thead>\n",
       "    <tr style=\"text-align: right;\">\n",
       "      <th></th>\n",
       "      <th>Hour</th>\n",
       "      <th>Seasons</th>\n",
       "      <th>Holiday</th>\n",
       "      <th>Functioning Day</th>\n",
       "      <th>Date</th>\n",
       "    </tr>\n",
       "  </thead>\n",
       "  <tbody>\n",
       "    <tr>\n",
       "      <th>num_missing</th>\n",
       "      <td>0</td>\n",
       "      <td>0</td>\n",
       "      <td>0</td>\n",
       "      <td>0</td>\n",
       "      <td>0</td>\n",
       "    </tr>\n",
       "    <tr>\n",
       "      <th>missing_percentage</th>\n",
       "      <td>0</td>\n",
       "      <td>0</td>\n",
       "      <td>0</td>\n",
       "      <td>0</td>\n",
       "      <td>0</td>\n",
       "    </tr>\n",
       "    <tr>\n",
       "      <th>num_values</th>\n",
       "      <td>24</td>\n",
       "      <td>4</td>\n",
       "      <td>2</td>\n",
       "      <td>2</td>\n",
       "      <td>365</td>\n",
       "    </tr>\n",
       "    <tr>\n",
       "      <th>value_percentages</th>\n",
       "      <td>{23: 4.2, 15: 4.2, 8: 4.2, 16: 4.2, 1: 4.2, 9:...</td>\n",
       "      <td>{1: 25.2, 0: 25.2, 2: 24.9, 3: 24.7}</td>\n",
       "      <td>{0: 95.1, 1: 4.9}</td>\n",
       "      <td>{1: 96.6, 0: 3.4}</td>\n",
       "      <td>{2018-05-21 00:00:00: 0.3, 2018-02-03 00:00:00...</td>\n",
       "    </tr>\n",
       "  </tbody>\n",
       "</table>\n",
       "</div>"
      ],
      "text/plain": [
       "                                                                 Hour  \\\n",
       "num_missing                                                         0   \n",
       "missing_percentage                                                  0   \n",
       "num_values                                                         24   \n",
       "value_percentages   {23: 4.2, 15: 4.2, 8: 4.2, 16: 4.2, 1: 4.2, 9:...   \n",
       "\n",
       "                                                 Seasons            Holiday  \\\n",
       "num_missing                                            0                  0   \n",
       "missing_percentage                                     0                  0   \n",
       "num_values                                             4                  2   \n",
       "value_percentages   {1: 25.2, 0: 25.2, 2: 24.9, 3: 24.7}  {0: 95.1, 1: 4.9}   \n",
       "\n",
       "                      Functioning Day  \\\n",
       "num_missing                         0   \n",
       "missing_percentage                  0   \n",
       "num_values                          2   \n",
       "value_percentages   {1: 96.6, 0: 3.4}   \n",
       "\n",
       "                                                                 Date  \n",
       "num_missing                                                         0  \n",
       "missing_percentage                                                  0  \n",
       "num_values                                                        365  \n",
       "value_percentages   {2018-05-21 00:00:00: 0.3, 2018-02-03 00:00:00...  "
      ]
     },
     "execution_count": 17,
     "metadata": {},
     "output_type": "execute_result"
    }
   ],
   "source": [
    "missing = [];missing_percentage=[];num_values=[];value_percentages=[]\n",
    "\n",
    "for column in categorical:\n",
    "    missing.append(df[column].isnull().sum())\n",
    "    missing_percentage.append((df[column].isnull().sum() * 100 / len(df)).round(1))\n",
    "    temp = df[column].dropna()\n",
    "    num_values.append(len(temp.unique()))\n",
    "    value_percentages.append(((temp.value_counts(normalize=True)*100).round(1)).to_dict())\n",
    "cat_info_df = pd.DataFrame([missing,missing_percentage,num_values,value_percentages],\n",
    "                            index=['num_missing','missing_percentage','num_values','value_percentages'],\n",
    "                            columns=list(categorical))\n",
    "cat_info_df"
   ]
  },
  {
   "cell_type": "markdown",
   "id": "ca2fdcdd",
   "metadata": {
    "hidden": true
   },
   "source": [
    "#### Số lượng các giá trị khác nhau? Show một vài giá trị → Có gì bất thường không?"
   ]
  },
  {
   "cell_type": "code",
   "execution_count": 18,
   "id": "fe066ea5",
   "metadata": {
    "ExecuteTime": {
     "end_time": "2022-01-21T07:13:03.627181Z",
     "start_time": "2022-01-21T07:13:03.616192Z"
    },
    "hidden": true
   },
   "outputs": [],
   "source": [
    "from matplotlib import cycler \n",
    "colors = cycler('color', ['#EE6666', '#3388BB', '#9988DD', '#EECC55', '#88BB44', '#FFBBBB']) \n",
    "plt.rc('axes', facecolor='#E6E6E6', edgecolor='none', axisbelow=True, grid=True, prop_cycle=colors) \n",
    "plt.rc('grid', color='w', linestyle='solid') \n",
    "plt.rc('xtick', direction='out', color='gray') \n",
    "plt.rc('ytick', direction='out', color='gray') \n",
    "plt.rc('patch', edgecolor='#E6E6E6') \n",
    "plt.rc('lines', linewidth=2)"
   ]
  },
  {
   "cell_type": "code",
   "execution_count": 19,
   "id": "c21b0378",
   "metadata": {
    "ExecuteTime": {
     "end_time": "2022-01-21T07:13:06.058407Z",
     "start_time": "2022-01-21T07:13:03.633177Z"
    },
    "hidden": true
   },
   "outputs": [
    {
     "data": {
      "image/png": "[encoded data removed]",
      "text/plain": [
       "<Figure size 1200x800 with 4 Axes>"
      ]
     },
     "metadata": {},
     "output_type": "display_data"
    }
   ],
   "source": [
    "fig, axis = plt.subplots(2,2,figsize=(15,10))\n",
    "fig.subplots_adjust(left=0.0625, right=0.95, wspace=0.1)\n",
    " \n",
    "df.Holiday.value_counts().plot(kind='pie', autopct='%1.1f%%',ax = axis[0,0], fontsize=13)\n",
    "df['Functioning Day'].value_counts().plot(kind='pie', autopct='%1.1f%%',ax = axis[0,1], fontsize=13)\n",
    "df.Seasons.value_counts().sort_index().plot(kind='pie', autopct='%1.1f%%',ax = axis[1,0], fontsize=13)\n",
    "axis[1,0].legend(['Spring','Summer','Autumn','Winter'])\n",
    "\n",
    "df.Hour.value_counts().sort_index().plot(kind='bar',ax = axis[1,1], fontsize=10).set_title('Hour')\n",
    "axis[1,1].tick_params(axis='x', rotation=0)"
   ]
  },
  {
   "cell_type": "markdown",
   "id": "6fd6aa8a",
   "metadata": {
    "hidden": true
   },
   "source": [
    "- Phân bố của dữ liệu ở cột Holiday và Functioning Day chênh lệch nhiều như vậy là hoàn toàn có thể hiểu được vì trong 1 năm số lượng ngày nghỉ cũng như ngày không hoạt động của hệ thống xe đạp là rất ít\n",
    "- Ngoài ra, phân bố về các mùa cũng như các giờ trong ngày là gần như tương đương nhau nên không có gì bất thường"
   ]
  },
  {
   "cell_type": "code",
   "execution_count": 20,
   "id": "b74d8c16",
   "metadata": {
    "ExecuteTime": {
     "end_time": "2022-01-21T07:13:06.153317Z",
     "start_time": "2022-01-21T07:13:06.062404Z"
    },
    "hidden": true
   },
   "outputs": [
    {
     "data": {
      "text/html": [
       "<div>\n",
       "<style scoped>\n",
       "    .dataframe tbody tr th:only-of-type {\n",
       "        vertical-align: middle;\n",
       "    }\n",
       "\n",
       "    .dataframe tbody tr th {\n",
       "        vertical-align: top;\n",
       "    }\n",
       "\n",
       "    .dataframe thead th {\n",
       "        text-align: right;\n",
       "    }\n",
       "</style>\n",
       "<table border=\"1\" class=\"dataframe\">\n",
       "  <thead>\n",
       "    <tr style=\"text-align: right;\">\n",
       "      <th></th>\n",
       "      <th>0</th>\n",
       "    </tr>\n",
       "  </thead>\n",
       "  <tbody>\n",
       "    <tr>\n",
       "      <th>2018-05-21</th>\n",
       "      <td>0.3</td>\n",
       "    </tr>\n",
       "    <tr>\n",
       "      <th>2018-02-03</th>\n",
       "      <td>0.3</td>\n",
       "    </tr>\n",
       "    <tr>\n",
       "      <th>2018-05-15</th>\n",
       "      <td>0.3</td>\n",
       "    </tr>\n",
       "    <tr>\n",
       "      <th>2017-12-08</th>\n",
       "      <td>0.3</td>\n",
       "    </tr>\n",
       "    <tr>\n",
       "      <th>2018-08-24</th>\n",
       "      <td>0.3</td>\n",
       "    </tr>\n",
       "    <tr>\n",
       "      <th>2018-03-19</th>\n",
       "      <td>0.3</td>\n",
       "    </tr>\n",
       "    <tr>\n",
       "      <th>2018-06-28</th>\n",
       "      <td>0.3</td>\n",
       "    </tr>\n",
       "    <tr>\n",
       "      <th>2018-01-21</th>\n",
       "      <td>0.3</td>\n",
       "    </tr>\n",
       "    <tr>\n",
       "      <th>2018-10-07</th>\n",
       "      <td>0.3</td>\n",
       "    </tr>\n",
       "    <tr>\n",
       "      <th>2018-05-02</th>\n",
       "      <td>0.3</td>\n",
       "    </tr>\n",
       "  </tbody>\n",
       "</table>\n",
       "</div>"
      ],
      "text/plain": [
       "              0\n",
       "2018-05-21  0.3\n",
       "2018-02-03  0.3\n",
       "2018-05-15  0.3\n",
       "2017-12-08  0.3\n",
       "2018-08-24  0.3\n",
       "2018-03-19  0.3\n",
       "2018-06-28  0.3\n",
       "2018-01-21  0.3\n",
       "2018-10-07  0.3\n",
       "2018-05-02  0.3"
      ]
     },
     "execution_count": 20,
     "metadata": {},
     "output_type": "execute_result"
    }
   ],
   "source": [
    "Date_df = pd.DataFrame([cat_info_df['Date']['value_percentages']])\n",
    "Date_df.T.head(10)"
   ]
  },
  {
   "cell_type": "markdown",
   "id": "31130178",
   "metadata": {
    "hidden": true
   },
   "source": [
    "- Có vẻ dữ liệu đều ổn không có gì bất thường xảy ra ở đây"
   ]
  },
  {
   "cell_type": "markdown",
   "id": "a427b1e4",
   "metadata": {
    "heading_collapsed": true
   },
   "source": [
    "### Sơ lược mối tương quan giữa các cột"
   ]
  },
  {
   "cell_type": "markdown",
   "id": "bb418902",
   "metadata": {
    "hidden": true
   },
   "source": [
    "Có vẻ như dữ liệu không có gì bất thường tuy nhiên ta sẽ tìm hiểu thêm về **mối tương quan giữa các biến và kiểm tra xem có dữ liệu nào là outlier hay noise hay không.**"
   ]
  },
  {
   "cell_type": "code",
   "execution_count": 21,
   "id": "2c0a8333",
   "metadata": {
    "ExecuteTime": {
     "end_time": "2022-01-21T07:13:08.088524Z",
     "start_time": "2022-01-21T07:13:06.157316Z"
    },
    "hidden": true
   },
   "outputs": [
    {
     "data": {
      "image/png": "[encoded data removed]",
      "text/plain": [
       "<Figure size 1440x960 with 2 Axes>"
      ]
     },
     "metadata": {},
     "output_type": "display_data"
    }
   ],
   "source": [
    "df_corr = df.corr()\n",
    "mask = np.zeros_like(df_corr, dtype=bool)\n",
    "mask[np.triu_indices_from(mask)] = True\n",
    "plt.subplots(figsize=(18,12))\n",
    "sns.heatmap(df_corr, cmap=\"coolwarm\", annot=True, mask=mask)\n",
    "plt.title(\"Correlation Heatmap\");"
   ]
  },
  {
   "cell_type": "markdown",
   "id": "a4133bf7",
   "metadata": {
    "hidden": true
   },
   "source": [
    "- Do đặc thù đối tượng của chúng ta trong đồ án này là việc cho thuê xe nên nhìn vào heatmap ở cột 'Rented Bike Count' cũng có khá nhiều mối quan hệ đồng biến và nghịch biến. Cụ thể các cột có mối tương quan lớn nhất là  **Hour, Temperature, Dew point temperature, Seasons.** \n",
    "- Tiếp theo, ta sẽ vẽ biểu đồ từng cặp theo mối quan hệ như đã nói ở trên. Điều đặc biệt là ở cột các mùa chỉ có 4 mùa (Xuân, Hạ, Thu, Đông). Do đó mà ở đây ta sẽ dùng 4 mùa này để làm các nhãn trong biểu đồ các cặp."
   ]
  },
  {
   "cell_type": "code",
   "execution_count": null,
   "id": "699ee85e",
   "metadata": {
    "ExecuteTime": {
     "start_time": "2022-01-21T07:12:59.828Z"
    },
    "hidden": true
   },
   "outputs": [],
   "source": [
    "pair_df = df[['Hour', 'Temperature(°C)', 'Dew point temperature(°C)', 'Rented Bike Count', 'Seasons']]\n",
    "\n",
    "g = sns.pairplot(pair_df, hue='Seasons', height=2.5)\n",
    "handles = g._legend_data.values()\n",
    "labels = ['Spring','Summer','Autumn','Winter']\n",
    "g.fig.legend(handles=handles, labels=labels,title='Seasons',bbox_to_anchor=(1,0.55));"
   ]
  },
  {
   "cell_type": "markdown",
   "id": "9df7c039",
   "metadata": {
    "hidden": true
   },
   "source": [
    "- Bới cột 'Rented Bike Count' thì có thể đưa ra một nhận xét mang tính chủ quan ở đây như sau: Ở các mùa lạnh (mùa đông) thì lượng xe cho thuê là rất thấp so với các mùa còn lại. Ngoài ra, ở 8-9h và 17-18h là 2 khoảng thời gian mà có lượng thuê xe tăng vọt lên so với các giờ trước đó (nhất là 17-18h).\n",
    "- Giống như ở biểu đồ Heatmap các cột 'Dew point temperature(°C)' và cột 'Temperature(°C)' thì mang mối quan hệ đồng biến do đó ở 2 cột này cho ta một đồ thị rất đẹp ở chính giữa. "
   ]
  },
  {
   "cell_type": "markdown",
   "id": "57c76b3d",
   "metadata": {
    "hidden": true
   },
   "source": [
    "- **Từ heatmap và pairplot ta có thể thấy giữa nhiệt độ thực (Temperature) và nhiệt độ điểm sương (Dew point temperature) có mối liên hệ rất lớn với nhau (0.91).** Điều đó là dễ hiểu vì nhiệt độ thực chính là yếu tố nền tảng tạo nên nhiệt độ điểm sương. <br>\n",
    "- Sau 1 số thông tin nhóm em tìm hiểu được thì độ ẩm còn tỉ lệ với cả hiệu của nhiệt độ thực và nhiệt độ điểm sương. Ta có thể xem thêm bằng scatterplot sau: "
   ]
  },
  {
   "cell_type": "code",
   "execution_count": null,
   "id": "c4803b79",
   "metadata": {
    "ExecuteTime": {
     "start_time": "2022-01-21T07:12:59.842Z"
    },
    "hidden": true
   },
   "outputs": [],
   "source": [
    "df['TempDif'] = df['Temperature(°C)'] - df['Dew point temperature(°C)']\n",
    "sns.scatterplot(data = df,x= 'TempDif',y='Humidity(%)');"
   ]
  },
  {
   "cell_type": "markdown",
   "id": "94f75e67",
   "metadata": {
    "hidden": true
   },
   "source": [
    "- Thật vậy, từ biểu đồ trên ta dễ dàng thấy được độ ẩm tỉ lệ nghịch với hiệu của nhiệt độ thực và nhiệt độ hóa sương. Tức là 2 mức nhiệt độ trên chênh lệch càng ít thì độ ẩm trong không khí càng cao. \n",
    "- Bên cạnh đó, ta cũng thử kiểm tra xem liệu thuộc tính hiệu nhiệt độ vừa tạo ở trên còn có mối tương quan nào với các thuộc tính còn lại hay không"
   ]
  },
  {
   "cell_type": "code",
   "execution_count": null,
   "id": "d8651bf5",
   "metadata": {
    "ExecuteTime": {
     "start_time": "2022-01-21T07:12:59.851Z"
    },
    "hidden": true
   },
   "outputs": [],
   "source": [
    "corrMatrix = df.corr()\n",
    "plt.figure(figsize=(10, 5))\n",
    "heatmap = sns.heatmap(corrMatrix[['TempDif']].sort_values(by='TempDif', ascending=False), \n",
    "                      vmin=-1, vmax=1, annot=True, cmap='BrBG')\n",
    "heatmap.set_title('Features Correlating with Temperature Difference', fontdict={'fontsize':18}, pad=16);"
   ]
  },
  {
   "cell_type": "markdown",
   "id": "3621f27b",
   "metadata": {
    "hidden": true
   },
   "source": [
    "- Một lần nữa ta được kiểm chứng rằng sự chênh lệch nhiệt độ tỉ lệ nghịch với % độ ẩm trong không khí (-0.96)\n",
    "- Điều thú vị là sự chênh lệch này còn có mối tương quan với cả mức bức xạ mặt trời và tầm nhìn xa. Ta sẽ phân tích thêm ở phần đặt câu hỏi nếu có đủ thời gian"
   ]
  },
  {
   "cell_type": "markdown",
   "id": "8fbeb053",
   "metadata": {
    "hidden": true
   },
   "source": [
    "Ngoài ra, ta cũng kiểm tra xem liệu thông tin về thời tiết có vấn đề gì hay không: \n",
    "- **Tìm xem liệu tuyết có rơi vào mùa nào khác mùa đông**\n",
    "- **Liệu vào mùa đông nhiệt độ có lúc nào cao từ 30°C trở lên hay không**\n",
    "(Lưu ý, mùa đông đã được gán mã là \"3\")"
   ]
  },
  {
   "cell_type": "code",
   "execution_count": null,
   "id": "19f6ad9a",
   "metadata": {
    "ExecuteTime": {
     "start_time": "2022-01-21T07:12:59.863Z"
    },
    "hidden": true
   },
   "outputs": [],
   "source": [
    "df.loc[df.Seasons != 3].groupby('Date')['Snowfall (cm)'].mean().sort_values().tail(5)"
   ]
  },
  {
   "cell_type": "markdown",
   "id": "9efeb8c5",
   "metadata": {
    "hidden": true
   },
   "source": [
    "- Ta thấy lượng tuyết trên dù không phải rơi vào mùa đông tuy nhiên cũng là những ngày cuối cùng của mùa thu trước khi chuyển mùa. Do đó cũng không có vấn đề gì, ta có thể xem những trận tuyết rơi này chính là tuyết đầu mùa"
   ]
  },
  {
   "cell_type": "code",
   "execution_count": null,
   "id": "c8f1acfb",
   "metadata": {
    "ExecuteTime": {
     "start_time": "2022-01-21T07:12:59.873Z"
    },
    "hidden": true
   },
   "outputs": [],
   "source": [
    "df.loc[df.Seasons == 3].groupby('Date')['Temperature(°C)'].mean().sort_values().tail(5)"
   ]
  },
  {
   "cell_type": "markdown",
   "id": "37a46209",
   "metadata": {
    "hidden": true
   },
   "source": [
    "- Ta thấy nhiệt độ cao nhất vào mùa đông chỉ từ khoảng 4-6°C nên có thể tạm kết luận dữ liệu không có vấn đề gì và hoàn toàn phù hợp để phân tích\n",
    "- Vậy là ở phần này ta đã khám phá sơ bộ qua tập dữ liệu ta sẽ làm việc. Để không đi quá xa và lấn vào các phần tìm hiểu bên dưới ta sẽ dừng phân tích ở đây và chuyển sang phần đặt câu hỏi. Hy vọng sẽ mang đến nhiều thú vị hơn ở phần sau!"
   ]
  },
  {
   "cell_type": "markdown",
   "id": "b144b1f5",
   "metadata": {},
   "source": [
    "# Đưa ra các câu hỏi có ý nghĩa cần trả lời"
   ]
  },
  {
   "cell_type": "markdown",
   "id": "c02a685e",
   "metadata": {},
   "source": [
    "| Câu hỏi | Ý nghĩa |\n",
    "| --- | --- |\n",
    "|Khoảng thời gian xe đạp thường được dùng nhiều nhất và ít nhất? | Điều chỉnh lượng xe đạp cũng như các dịch vụ đi kèm để phù hợp với từng khoảng thời gian trong ngày. Ví dụ như vào giờ cao điểm thì tăng thêm các dịch vụ về sửa xe đạp hay lượng nhân viên hướng dẫn cách sử dụng. |\n",
    "| Vào những ngày nghỉ lễ hay ngày cuối tuần thì lượng xe đạp như thế nào so với những ngày đi làm bình thường?| Biết được xu hướng người dân thích sử dụng xe đạp khi đi làm việc hay đi dạo, đi chơi |\n",
    "| Lượng xe đạp theo từng mùa/ từng tháng có sự thay đổi như thế nào?  | Đưa ra các chiến lược thuê xe phù hợp cho từng thời điểm trong năm.Tăng cường nhân lực vào những mùa được nhiều người dùng |\n",
    "| Ngày nay, thay vì độ ẩm thì người ta thường hay xét đến nhiệt độ hóa sương để xác định mức độ thoải mái của không khí ngoài trời đối với con người. Vậy nhiệt độ hóa sương có mối liên hệ gì tới nhiệt độ thực hay độ ẩm? Nó có ảnh hưởng gì tới lượng người đi xe đạp hay không | Hiểu thêm về nhiệt độ hóa sương. Ảnh hưởng của nó đến người dân khi đi xe đạp |\n",
    "| Dựa vào độ ẩm, nhiệt độ và các thuộc tính về thời tiết. Ta có thể phân biệt được mùa mưa và mùa tuyết rơi (2 mùa gây cản trở cho việc di chuyển) ở seoul không? (mùa mưa: vào khoảng tầm tháng 5 cuối xuân đầu hè, mùa tuyết rơi vào khoảng cuối tháng 12 đến giữa tháng 3). | Dự đoán trước được thời tiết sắp tới là mùa mưa hay mùa tuyết mặc khác có thể dự đoán được trong ngày có mưa rơi hay tuyết rơi không? để đưa ra lượng xe cho thuê thích hợp |\n",
    "| Qua các hiện tượng thời tiết cực đoan gây cản trở việc di chuyển như mùa đông (tuyết rơi), mùa hè(mưa rơi) hay các thuộc tính như (lượng mưa, lượng tuyết) thì có phải số lượng xe thuê sẽ ít hơn không? | Kiểm định giả thuyết nếu trời mưa hay tuyết thì người dân sẽ có xu hướng đi xe đạp ít hơn. |\n",
    "| Một số mùa như mùa hè, nắng nóng gây gắt có thể khiến lượng bức xạ lên mức cảnh báo. Dựa vào lượng bức xạ ở đây chúng ta sẽ xem xét xem liệu có người thuê xe ở thời điểm này không và số lượng có cao không? |  Qua đó, cảnh báo người dân nếu có lượng bức xạ đó hay vào tháng đó giờ đó không nên thuê xe đạp |\n",
    "| Ở một số mùa như mùa đông thì tầm nhìn xa bị hạn chế do sương, tuyết,.. vì vậy khi tầm nhìn xa hạn chế ở mức cảnh báo. Ta sẽ xem thử có người thuê xe vào thời điểm này hay không?| Đưa ra cảnh báo nguy hiểm phù hợp cho người dùng. An toàn là trên hết. |"
   ]
  },
  {
   "cell_type": "markdown",
   "id": "2b5a9fb4",
   "metadata": {},
   "source": [
    "# Tiền xử lý + phân tích dữ liệu để trả lời cho từng câu hỏi"
   ]
  },
  {
   "cell_type": "markdown",
   "id": "ff6a7a1f",
   "metadata": {
    "heading_collapsed": true
   },
   "source": [
    "## **Khoảng thời gian xe đạp thường được dùng nhiều nhất và ít nhất?**\n",
    "-> Điều chỉnh lượng xe đạp cũng như các dịch vụ đi kèm để phù hợp với từng khoảng thời gian trong ngày. Ví dụ như vào giờ cao điểm thì tăng thêm các dịch vụ về sửa xe đạp hay lượng nhân viên hướng dẫn cách sử dụng."
   ]
  },
  {
   "cell_type": "markdown",
   "id": "af66c2cd",
   "metadata": {
    "hidden": true
   },
   "source": [
    "**Các bước thực hiện:**\n",
    "- Tạo thêm cột Weekday (ngày trong tuần) bằng hàm Categorical của Pandas để sắp xếp thứ tự các ngày trong tuần\n",
    "- Tạo thêm các cột có giá trị nhị phân IsWeekend (kiểm tra ngày đó có phải cuối tuần), IsWorkingDay (kiểm tra có phải ngày làm việc)\n",
    "- Tìm **5 khung giờ có lượng xe đạp cao nhất và thấp nhất**\n",
    "- Vẽ line chart biểu diễn lượng xe đạp được thuê theo từng giờ \n",
    "- Tạo dataframe về lượng xe đạp trong các ngày người dân đi làm và không đi làm theo từng giờ sau đó vẽ line chart có 2 đường để **so sánh xu hướng đi xe đạp của người dân trong 2 loại ngà**y đó\n",
    "- Cuối cùng, ta thử chia 1 ngày thành 5 giai đoạn: sáng sớm, buổi sáng, chiều, tối và khuya\n",
    "    - Tạo cột Period là giai đoạn trong ngày dựa theo khung giờ thu thập dữ liệu.\n",
    "    - Vẽ grouped bar chart biểu diễn lượng xe đạp theo từng giai đoạn trong ngày, mỗi giai đoạn sẽ có 7 hình chữ nhật tương ứng 7 ngày trong tuần. \n",
    "    - Từ biểu đồ trên, ta sẽ phần nào biết được **giai đoạn trong ngày mà người dân thường dùng xe đạp theo các ngày trong tuần**"
   ]
  },
  {
   "cell_type": "markdown",
   "id": "6cdf83f9",
   "metadata": {
    "hidden": true
   },
   "source": [
    "---"
   ]
  },
  {
   "cell_type": "markdown",
   "id": "2585a00e",
   "metadata": {
    "hidden": true
   },
   "source": [
    "- Tạo thêm cột **Weekday** (ngày trong tuần) bằng hàm Categorical của Pandas để sắp xếp thứ tự các ngày trong tuần từ thứ 2 đến chủ nhật <br>\n",
    "- Tạo thêm các cột có giá trị nhị phân **IsWeekend** (kiểm tra ngày đó có phải cuối tuần), **IsWorkingDay** (kiểm tra có phải ngày làm việc). 1 ngày vừa không phải là cuối tuần vừa không phải là ngày lễ thì sẽ là 1 working day (ngày làm việc)"
   ]
  },
  {
   "cell_type": "code",
   "execution_count": null,
   "id": "59912a33",
   "metadata": {
    "ExecuteTime": {
     "start_time": "2022-01-21T07:12:59.892Z"
    },
    "hidden": true
   },
   "outputs": [],
   "source": [
    "df1 = df.copy()\n",
    "\n",
    "days = [\"Monday\", \"Tuesday\", \"Wednesday\", \"Thursday\", \"Friday\", \"Saturday\", \"Sunday\"]\n",
    "#Sử dụng hàm Categorical() để sắp xếp thứ tự các ngày trong tuần\n",
    "df1['Weekday'] = pd.Categorical(df1['Date'].dt.day_name(),categories= [\"Monday\", \"Tuesday\",\"Wednesday\", \"Thursday\",\n",
    "                                                                       \"Friday\", \"Saturday\", \"Sunday\"],ordered=True)\n",
    "\n",
    "#Cài đặt các giá trị cho cột IsWeekend\n",
    "df1['IsWeekend'] = df1['Weekday'].apply(lambda x : 1 if x=='Saturday' or x=='Sunday' else 0 )\n",
    "\n",
    "#Cài đặt các giá trị cho cột IsWorkingday\n",
    "df1['IsWorkingDay'] = pd.Series(len(df1), index=df1.index)\n",
    "df1['IsWorkingDay'] = 0 \n",
    "# 1 ngày vừa không phải là cuối tuần vừa không phải là ngày lễ thì sẽ là 1 working day (ngày làm việc)\n",
    "df1.loc[(df1.IsWeekend == 0) & (df1.Holiday == 0),'IsWorkingDay'] = 1 \n",
    "\n",
    "df1[['Date','Holiday','Weekday','IsWeekend','IsWorkingDay']]"
   ]
  },
  {
   "cell_type": "markdown",
   "id": "3e340956",
   "metadata": {
    "hidden": true
   },
   "source": [
    "**Nhóm lượng xe đạp theo từng giờ và lấy ra 5 khung giờ có lượng xe đạp cao nhất và 5 khung giờ có lượng xe đạp thấp nhất**"
   ]
  },
  {
   "cell_type": "code",
   "execution_count": null,
   "id": "d47b40b1",
   "metadata": {
    "ExecuteTime": {
     "start_time": "2022-01-21T07:12:59.903Z"
    },
    "hidden": true
   },
   "outputs": [],
   "source": [
    "# Nhóm lượng xe đạp theo từng giờ\n",
    "avg_rent_hrs = df1.groupby('Hour')['Rented Bike Count'].mean()\n",
    "# 5 khung giờ có lượng xe đạp cao nhất\n",
    "avg_rent_hrs.sort_values().tail(5).sort_index()"
   ]
  },
  {
   "cell_type": "markdown",
   "id": "371cfe65",
   "metadata": {
    "hidden": true
   },
   "source": [
    "- Có thể thấy lượng xe đạp đạt số lượng cao nhất chủ yếu vào **buổi chiều tối (từ 17h trở đi)**"
   ]
  },
  {
   "cell_type": "code",
   "execution_count": null,
   "id": "3d749f6b",
   "metadata": {
    "ExecuteTime": {
     "start_time": "2022-01-21T07:12:59.912Z"
    },
    "hidden": true
   },
   "outputs": [],
   "source": [
    "# 5 khung giờ có lượng xe đạp thấp nhất\n",
    "avg_rent_hrs.sort_values().head(5).sort_index()"
   ]
  },
  {
   "cell_type": "markdown",
   "id": "9c946d13",
   "metadata": {
    "hidden": true
   },
   "source": [
    "- Ngược lại, xe đạp được dùng ít nhất vào lúc **sáng sớm từ 2-6h**"
   ]
  },
  {
   "cell_type": "markdown",
   "id": "a21dd539",
   "metadata": {
    "hidden": true
   },
   "source": [
    "**Vẽ biểu đồ đường biểu diễn lượng xe đạp được thuê theo từng giờ**"
   ]
  },
  {
   "cell_type": "code",
   "execution_count": null,
   "id": "e1433961",
   "metadata": {
    "ExecuteTime": {
     "start_time": "2022-01-21T07:12:59.924Z"
    },
    "hidden": true
   },
   "outputs": [],
   "source": [
    "# Line chart biểu diễn lượng xe đạp được thuê theo từng giờ \n",
    "sns.set_style(\"darkgrid\")\n",
    "fig, ax = plt.subplots(figsize = (10,5))\n",
    "sns.lineplot(x=avg_rent_hrs.index, y=avg_rent_hrs.values, data=avg_rent_hrs,\n",
    "                 linewidth  = 2.5, markers=True,ax=ax)\n",
    "ax.set_xticks(range(len(avg_rent_hrs)));"
   ]
  },
  {
   "cell_type": "markdown",
   "id": "4868334c",
   "metadata": {
    "hidden": true
   },
   "source": [
    "- Theo những gì nhóm em tìm hiểu được thì giờ cao điểm ở Hàn Quốc thường vào khoảng **8-9 giờ sáng và 6-7 giờ chiều (18-19h)**. Nhìn theo đồ thị trên, ta dễ dàng thấy đó cũng chính là 2 khoảng thời gian mà lượng xe đạp tăng nhanh đột ngột\n",
    "- Ngoài ra từ khuya đến sáng sớm (23h - 5h) điều thú vị là vẫn có không ít người sử dụng xe đạp. Do đó có thể cân nhắc gắn thêm tấm phản quang để hỗ trợ tầm nhìn"
   ]
  },
  {
   "cell_type": "markdown",
   "id": "9373348c",
   "metadata": {
    "hidden": true
   },
   "source": [
    "- Lúc này ta sẽ đặt thêm một vấn đề khác là vào những ngày mà giờ cao điểm thay đổi, tức là những ngày cuối tuần hoặc ngày lễ khi mà người dân không phải đi làm thì lượng xe đạp sẽ thay đổi như thế nào theo từng khung giờ"
   ]
  },
  {
   "cell_type": "markdown",
   "id": "0a762765",
   "metadata": {
    "hidden": true
   },
   "source": [
    "**Tạo dataframe về lượng xe đạp trong các ngày người dân đi làm và không đi làm theo từng giờ sau đó vẽ line chart có 2 đường để so sánh xu hướng đi xe đạp của người dân trong 2 loại ngày đó**"
   ]
  },
  {
   "cell_type": "code",
   "execution_count": null,
   "id": "564e3c62",
   "metadata": {
    "ExecuteTime": {
     "start_time": "2022-01-21T07:12:59.934Z"
    },
    "hidden": true
   },
   "outputs": [],
   "source": [
    "workingday_bike = df1.groupby(['Hour','IsWorkingDay'])['Rented Bike Count'].mean().unstack()\n",
    "workingday_bike.T"
   ]
  },
  {
   "cell_type": "code",
   "execution_count": null,
   "id": "d833252b",
   "metadata": {
    "ExecuteTime": {
     "start_time": "2022-01-21T07:12:59.942Z"
    },
    "hidden": true,
    "hide_input": false
   },
   "outputs": [],
   "source": [
    "ax = workingday_bike.plot(kind='line',style='.-',linewidth=3)\n",
    "ax.set_xticks(range(len(df1.Hour.unique()))) ;"
   ]
  },
  {
   "cell_type": "markdown",
   "id": "5bf94d37",
   "metadata": {
    "hidden": true
   },
   "source": [
    "- Theo như đồ thị trên thì đường màu đỏ biểu diễn lượng xe đạp theo từng giờ trong ngày nghỉ thì buổi sáng lượng xe đạp không còn tăng mạnh vì người dân không phải đi làm. \n",
    "- Lượng xe đạp chỉ tăng mạnh vào buổi xế chiều, tức là khoảng 15h - 18h và đạt đỉnh vào lúc 17h. Có thể thấy **vào những ngày cuối tuần cũng như ngày lễ thì người dân có xu hướng sử dụng xe đạp sớm hơn bình thường** có lẽ là để đi dạo, tập thể dục thay vì sử dụng xe đạp để đi làm như những ngày trong tuần"
   ]
  },
  {
   "cell_type": "markdown",
   "id": "b8dbbb30",
   "metadata": {
    "hidden": true
   },
   "source": [
    "**Chia 1 ngày thành 5 giai đoạn để ta dễ so sánh giữa các buổi trong 1 ngày:**\n",
    "- 4-7h: Sáng sớm\n",
    "- 8-12h: Buổi sáng\n",
    "- 13-16h: Buổi chiều\n",
    "- 17 - 20h: Buổi tối\n",
    "- 21- 3h hôm sau: Buổi khuya"
   ]
  },
  {
   "cell_type": "code",
   "execution_count": null,
   "id": "34969189",
   "metadata": {
    "ExecuteTime": {
     "start_time": "2022-01-21T07:12:59.950Z"
    },
    "hidden": true
   },
   "outputs": [],
   "source": [
    "def hour_transformer(x):\n",
    "    if x >=4 and x <=7:\n",
    "        return \"Early Morning\"\n",
    "    elif x>=8 and x<=12:\n",
    "        return \"Morning\"\n",
    "    elif x >= 13 and x <=17:\n",
    "        return \"Afternoon\" \n",
    "    elif x >=18 and x <=21:\n",
    "        return \"Evening\"\n",
    "    elif x>=22 or x <=3:\n",
    "        return \"Night\""
   ]
  },
  {
   "cell_type": "markdown",
   "id": "b56181de",
   "metadata": {
    "hidden": true
   },
   "source": [
    "**Tạo cột Period là giai đoạn trong ngày dựa theo khung giờ thu thập dữ liệu. Sau đó vẽ thêm 1 line chart biểu diễn lượng xe đạp theo từng giai đoạn trong ngày, mỗi giai đoạn sẽ tương ứng với mỗi đường.**"
   ]
  },
  {
   "cell_type": "code",
   "execution_count": null,
   "id": "534843ae",
   "metadata": {
    "ExecuteTime": {
     "start_time": "2022-01-21T07:12:59.959Z"
    },
    "hidden": true
   },
   "outputs": [],
   "source": [
    "df_period = df1.copy()\n",
    "df_period['Period'] = df_period['Hour'].apply(hour_transformer)\n",
    "fig,ax = plt.subplots(figsize=(12,5),dpi=100)\n",
    "sns.lineplot(data = df_period, x = 'Weekday', y = 'Rented Bike Count', hue = 'Period',ci=None,linewidth=4)\n",
    "plt.title(\"Registrations by Period of day throughout a week\")\n",
    "ax.legend(bbox_to_anchor=(1.1, 1.05));"
   ]
  },
  {
   "cell_type": "markdown",
   "id": "f5433363",
   "metadata": {
    "hidden": true
   },
   "source": [
    "- Từ biểu đồ trên, ta dễ dàng thấy được thời gian sáng sớm từ 4 - 7h sáng luôn có số lượng xe đạp thấp nhất và buổi tối luôn có nhiều người sử dụng xe đạp nhất. Có lẽ những người này dùng xe đạp để về nhà sau khi tan ca, điều này phần nào được kiểm chứng khi vào 2 ngày cuối tuần thì lượng xe đạp được dùng trong khoảng thời gian này giảm rõ rệt\n",
    "- Buổi sáng và buổi chiều của các ngày trong tuần có vẻ không có quá nhiều sự khác biệt tuy nhiên vào cuối tuần thì lượng xe đạp thay đổi khá nhiều. Như thông tin từ line plot phía trên thì lượng xe đạp vào buổi sáng giảm và lượng xe đạp vào buổi chiều tăng vọt, thậm chí cao hơn cả buổi tối. \n",
    "- Một điều đáng chú ý khác là lượng xe đạp vào **khuya thứ 7 là cao nhất so với cùng thời điểm các ngày khác trong tuần**. Có thể là vì sáng hôm sau không phải đi làm nên người dân tận dụng buổi khuya thứ 7 để ra ngoài vui chơi, tụ tập cùng bạn bè."
   ]
  },
  {
   "cell_type": "markdown",
   "id": "0923d0c7",
   "metadata": {
    "heading_collapsed": true
   },
   "source": [
    "##  **Vào những ngày nghỉ lễ hay ngày cuối tuần thì lượng xe đạp như thế nào so với những ngày đi làm bình thường?**\n",
    "-> Từ kết luận ở câu 1, ta sẽ phân tích kĩ hơn để biết được xu hướng người dân thích sử dụng xe đạp khi đi làm việc hay đi dạo, đi chơi"
   ]
  },
  {
   "cell_type": "markdown",
   "id": "a691ae58",
   "metadata": {
    "hidden": true
   },
   "source": [
    "**Các bước thực hiện**\n",
    "- Tạo dataframe bike_compare_df với cột Rented Bike Count cùng cột DayType là loại ngày trong 3 loại: ngày làm việc, ngày cuối tuần, ngày lễ. Nếu vừa là cuối tuần vừa là ngày lễ thì ta sẽ xếp ngày đó vào loại ngày lễ\n",
    "- Tính **trung bình lượng xe đạp đối với mỗi loại ngày sau đó vẽ pie chart để so sánh lượng xe được thuê với nhau** từ đó trả lời câu hỏi đầu tiên. \n",
    "- Tuy nhiên, có thể câu trả lời vẫn chưa chính xác nên ta sẽ tiếp tục đi sâu vào từng ngày lễ để kiểm chứng bằng cách **vẽ bar chart biểu diễn lượng xe đạp được thuê vào từng ngày lễ.**"
   ]
  },
  {
   "cell_type": "markdown",
   "id": "9c9de151",
   "metadata": {
    "hidden": true
   },
   "source": [
    "**Tạo dataframe bike_compare_df với cột Rented Bike Count cùng cột DayType là loại ngày trong 3 loại: ngày làm việc, ngày cuối tuần, ngày lễ. Nếu vừa là cuối tuần vừa là ngày lễ thì ta sẽ xếp ngày đó vào loại ngày lễ**"
   ]
  },
  {
   "cell_type": "code",
   "execution_count": null,
   "id": "39f5a277",
   "metadata": {
    "ExecuteTime": {
     "start_time": "2022-01-21T07:12:59.983Z"
    },
    "hidden": true
   },
   "outputs": [],
   "source": [
    "bike_compare_df = df1.copy()\n",
    "bike_compare_df['DayType'] = 'Working Day'\n",
    "bike_compare_df.loc[(df1.IsWeekend == 1) & (df1.Holiday == 0),'DayType'] = \"Weekend\"\n",
    "bike_compare_df.loc[(df1.Holiday == 1),'DayType'] = \"Holiday\"\n",
    "bike_compare_df[['DayType','Rented Bike Count']]"
   ]
  },
  {
   "cell_type": "markdown",
   "id": "84488600",
   "metadata": {
    "hidden": true
   },
   "source": [
    "**Tính trung bình lượng xe đạp đối với mỗi loại ngày sau đó vẽ pie chart để so sánh lượng xe được thuê với nhau từ đó trả lời câu hỏi đầu tiên.**"
   ]
  },
  {
   "cell_type": "code",
   "execution_count": null,
   "id": "b84a19f5",
   "metadata": {
    "ExecuteTime": {
     "start_time": "2022-01-21T07:12:59.993Z"
    },
    "hidden": true
   },
   "outputs": [],
   "source": [
    "mean_compare = bike_compare_df.groupby('DayType')['Rented Bike Count'].mean()\n",
    "mean_compare.plot(kind='pie', autopct='%1.1f%%', startangle=90, shadow=False, \n",
    "                       labels=mean_compare.index, legend = True, fontsize=14,figsize=(8,5));"
   ]
  },
  {
   "cell_type": "markdown",
   "id": "185cfdc4",
   "metadata": {
    "ExecuteTime": {
     "end_time": "2022-01-05T04:21:11.749848Z",
     "start_time": "2022-01-05T04:21:11.740858Z"
    },
    "hidden": true
   },
   "source": [
    "- Có thể thấy **phần lớn lượng xe đạp được sử dụng vào ngày làm việc cũng như cuối tuần. Còn vào những ngày lễ lượng xe ít hơn rõ rệt.** Điều này có thể giải thích bằng việc vào kì nghỉ lễ thì người dân thường ở nhà cùng gia đình hoặc đi chơi xa bằng những phương tiện hiện đại hơn như xe hơi, máy bay,.. thay vì sử dụng xe đạp. Tuy nhiên ta cần phải kiểm tra để xem giải thích trên đã đúng hay chưa <br>"
   ]
  },
  {
   "cell_type": "markdown",
   "id": "ef29f266",
   "metadata": {
    "hidden": true
   },
   "source": [
    "**Như đã nói ở trên, vào các kì nghỉ lễ thì người dân có thể sẽ đi chơi xa. Vậy ta cùng xem lượng xe đạp vào các kì nghỉ lễ dài trong năm của Hàn Quốc đó là tết Nguyên đán từ 15-17/2 và ngày lễ Chuseok (tết Trung thu) từ 23-25/9**"
   ]
  },
  {
   "cell_type": "code",
   "execution_count": null,
   "id": "65077683",
   "metadata": {
    "ExecuteTime": {
     "start_time": "2022-01-21T07:13:00.006Z"
    },
    "hidden": true
   },
   "outputs": [],
   "source": [
    "lunars = ['2018-02-15','2018-02-16','2018-02-17']\n",
    "chuseoks = ['2018-09-23','2018-09-24','2018-09-25']\n",
    "long_holiday = df1.loc[(df1.Date.isin(lunars)) | (df1.Date.isin(chuseoks))]\n",
    "long_holiday.groupby(['Date']).mean()"
   ]
  },
  {
   "cell_type": "markdown",
   "id": "2a6cae56",
   "metadata": {
    "hidden": true
   },
   "source": [
    "**Tính lượng xe đạp trong từng ngày thuộc các kì nghỉ lễ dài sau đó vẽ horizontal bar chart**"
   ]
  },
  {
   "cell_type": "code",
   "execution_count": null,
   "id": "991de1e4",
   "metadata": {
    "ExecuteTime": {
     "start_time": "2022-01-21T07:13:00.021Z"
    },
    "hidden": true
   },
   "outputs": [],
   "source": [
    "long_holiday_bikecount = long_holiday.groupby(['Date'])['Rented Bike Count'].mean()\n",
    "ax = long_holiday_bikecount.plot(kind='barh')\n",
    "ax.set_yticklabels(long_holiday_bikecount.index.format(), size=15)\n",
    "plt.locator_params(axis='y', nbins=30)\n",
    "plt.xlabel('Rented Bike Count');"
   ]
  },
  {
   "cell_type": "markdown",
   "id": "ddda6940",
   "metadata": {
    "hidden": true
   },
   "source": [
    "- Có thể thấy **lượng xe đạp vào kì nghỉ trung thu không hề thấp** nên có lẽ ta phải đi sâu vào từng ngày lễ để kiểm tra xem lượng xe đạp chính xác là tăng hay giảm. Trước tiên, **lượng xe đạp trung bình trong suốt khoảng thời gian thu thập dữ liệu này là :**"
   ]
  },
  {
   "cell_type": "code",
   "execution_count": null,
   "id": "204848f5",
   "metadata": {
    "ExecuteTime": {
     "start_time": "2022-01-21T07:13:00.034Z"
    },
    "hidden": true
   },
   "outputs": [],
   "source": [
    "bikecount_mean = df1.groupby('Date')['Rented Bike Count'].mean().mean()\n",
    "bikecount_mean"
   ]
  },
  {
   "cell_type": "markdown",
   "id": "a352c65f",
   "metadata": {
    "hidden": true
   },
   "source": [
    "Lượng xe đạp trung bình được sử dụng tại Seoul trong suốt khoảng thời gian thu thập dữ liệu là **khoảng 705 xe/ngày**. Ta cùng xem lượng xe đạp vào những ngày lễ tại Hàn Quốc cao hay thấp hơn mức trung bình này. <br>\n",
    "**Vẽ horizontal bar chart biểu diễn lượng xe đạp được thuê trong từng ngày lễ**"
   ]
  },
  {
   "cell_type": "code",
   "execution_count": null,
   "id": "be6858d2",
   "metadata": {
    "ExecuteTime": {
     "start_time": "2022-01-21T07:13:00.047Z"
    },
    "hidden": true
   },
   "outputs": [],
   "source": [
    "temp = df1.loc[df1['Holiday'] == 1].groupby(['Date'])['Rented Bike Count'].mean()\n",
    "ax = temp.plot(kind='barh',figsize= (15,8))\n",
    "ax.set_yticklabels(temp.index.format(), size=20)\n",
    "plt.locator_params(axis='y', nbins=30)\n",
    "plt.axvline(bikecount_mean,ls='--');"
   ]
  },
  {
   "cell_type": "markdown",
   "id": "f080fe77",
   "metadata": {
    "hidden": true
   },
   "source": [
    "- Từ biểu đồ trên, ngày lễ lượng xe đạp ít hơn rõ rệt không hẳn là do người dân đi chơi xa mà cũng **tùy vào những ngày lễ khác nhau**\n",
    "- Ta có thể thấy vào những ngày lễ trong năm, lượng xe đạp vẫn ở mức trung bình, thậm chí là trên cả mức trung bình. Tuy nhiên, lượng xe đạp thấp có lẽ là vì vào Noel (24-25/12) tết Dương lịch (1/1) và tết Âm lịch (15-17/2) người dân có xu hướng quây quần bên gia đình hoặc có những chuyến du lịch xa nhà nên không sử dụng đến xe đạp."
   ]
  },
  {
   "cell_type": "markdown",
   "id": "63e33442",
   "metadata": {
    "heading_collapsed": true
   },
   "source": [
    "## **Dựa vào độ ẩm, nhiệt độ và các thuộc tính về thời tiết. Ta có thể phân biệt được mùa mưa và mùa tuyết rơi (2 mùa gây cản trở cho việc di chuyển) ở seoul không? (mùa mưa: vào khoảng tầm tháng 5 cuối xuân đầu hè, mùa tuyết rơi vào khoảng cuối tháng 12 đến giữa tháng 3).** <br>\n",
    "—> dự đoán trước được thời tiết sắp tới là mùa mưa hay mùa tuyết mặc khác có thể dự đoán được trong ngày có mưa rơi hay tuyết rơi không? để đưa ra lượng xe cho thuê thích hợp"
   ]
  },
  {
   "cell_type": "markdown",
   "id": "58615c3a",
   "metadata": {
    "hidden": true
   },
   "source": [
    "- **Bước đầu tiên ta sẽ trích xuất 2 thuộc tính mà thông qua đó ta có thể nhận biết ngay trời mưa hay tuyết đang rơi đó là thuộc tính Rainfall (lượng mưa) và Snowfall (lượng tuyết rơi). Và thêm vào đó ta sẽ trích xuất cột Month từ cột Date của dữ liệu** <br>\n",
    " --> Dữ liệu sau khi lấy ra được lưu vào extreme_df"
   ]
  },
  {
   "cell_type": "code",
   "execution_count": null,
   "id": "cb8d952f",
   "metadata": {
    "ExecuteTime": {
     "start_time": "2022-01-21T07:13:00.060Z"
    },
    "hidden": true
   },
   "outputs": [],
   "source": [
    "extreme_df = df.copy()\n",
    "extreme_df['Month'] = extreme_df['Date'].dt.month\n",
    "extreme_df = extreme_df.drop(['Date'], axis=1)\n",
    "extreme_df = extreme_df[['Month', 'Rainfall(mm)', 'Snowfall (cm)']]\n",
    "extreme_df"
   ]
  },
  {
   "cell_type": "markdown",
   "id": "c88d955d",
   "metadata": {
    "hidden": true
   },
   "source": [
    "- **Tiếp theo, đối với thuộc tính Rainfall. Ta thực hiện gom nhóm theo tháng, sau đó ta tính trung bình cho mỗi tháng (vì dữ liệu thu thập ở dạng mỗi ngày trong 1 tháng, nên ta cần tính trung bình để xem tháng đó trung bình có giá trị là bao nhiêu.).\n",
    "Sau đó thực hiện vẽ đồ thị cho giá trị vừa tính ra được. <br>\n",
    "Đối với thuộc tính Snowfall ta cũng làm tương tự** <br>\n",
    " --> Sau khi hoàn thành ta sẽ được đồ thị như bên dưới"
   ]
  },
  {
   "cell_type": "code",
   "execution_count": null,
   "id": "33ad3319",
   "metadata": {
    "ExecuteTime": {
     "start_time": "2022-01-21T07:13:00.068Z"
    },
    "hidden": true
   },
   "outputs": [],
   "source": [
    "rain_info = extreme_df.groupby('Month')['Rainfall(mm)']\n",
    "rain_info = rain_info.sum() / rain_info.size()\n",
    "rain_info = rain_info.reset_index()\n",
    "\n",
    "snow_info = extreme_df.groupby('Month')['Snowfall (cm)']\n",
    "snow_info = snow_info.sum() / snow_info.size()\n",
    "snow_info = snow_info.reset_index()\n",
    "\n",
    "pd.merge(rain_info, snow_info, left_on='Month', right_on='Month',).set_index('Month').plot(kind='bar',stacked=True,rot=0);"
   ]
  },
  {
   "cell_type": "markdown",
   "id": "df02a6bd",
   "metadata": {
    "hidden": true
   },
   "source": [
    "Dựa vào biểu đồ trên ta có thể thấy một cách rõ ràng từng mùa: mùa mưa rơi vào tầm tháng 3 đến tháng 10 (lớn hơn chuẩn 0.098mm per hour theo wikipedia). Còn mùa tuyết rơi thì vào tầm khoảng tháng 11 đến hết tháng 2. **Đúng thật đây là đất nước lạnh \"Hàn Quốc\" : đất nước giá lạnh**"
   ]
  },
  {
   "cell_type": "markdown",
   "id": "87e2b206",
   "metadata": {
    "hidden": true
   },
   "source": [
    "- **Ở đây chỉ là phần xem xét xem liệu có thể tách(phân nhóm) các tháng mưa và tuyết dựa trên các thuộc tính về thời tiết không. Mặc dù vậy kết quả cho ra ở đồ thị thì có vẻ như khó có thể phân lớp một cách chính xác cho từng tháng trong đồ thị này.**"
   ]
  },
  {
   "cell_type": "code",
   "execution_count": null,
   "id": "f259c018",
   "metadata": {
    "ExecuteTime": {
     "start_time": "2022-01-21T07:13:00.080Z"
    },
    "hidden": true,
    "scrolled": false
   },
   "outputs": [],
   "source": [
    "from sklearn.decomposition import PCA\n",
    "\n",
    "rain_info_df = df.drop('Rented Bike Count',axis=1)\n",
    "rain_info_df['Month'] = rain_info_df['Date'].dt.month\n",
    "rain_info_df = rain_info_df.drop('Date', axis=1)\n",
    "\n",
    "train_df = rain_info_df.drop('Month', axis=1)\n",
    "target = rain_info_df['Month']\n",
    "\n",
    "model = PCA(n_components=2)\n",
    "model.fit(train_df)\n",
    "info_2D =  model.transform(train_df)\n",
    "\n",
    "rain_info_df['PCA1'] = info_2D[:, 0] \n",
    "rain_info_df['PCA2'] = info_2D[:, 1]\n",
    "\n",
    "sns.lmplot(x = \"PCA1\",y = \"PCA2\", hue='Month', \n",
    "           data=rain_info_df.loc[rain_info_df['Month'].isin([3, 4, 5, 6, 7, 8, 9, 10])], fit_reg=False); \n",
    "\n",
    "sns.lmplot(x = \"PCA1\",y = \"PCA2\", hue='Month', \n",
    "           data=rain_info_df.loc[rain_info_df['Month'].isin([1, 2, 11, 12])], fit_reg=False); "
   ]
  },
  {
   "cell_type": "markdown",
   "id": "9cef2fb0",
   "metadata": {
    "hidden": true
   },
   "source": [
    "- **Dựa vào 2 biểu đồ trên, ta thấy được giữa mùa mưa và mùa tuyết có mối quan hệ với nhau nên 2 biểu đồ sẽ bị trùng lắp khá nhiều. Do đó việc phân lớp giữa mùa mưa và mùa tuyết rơi khá khó khăn... đối với phạm vi môn học này nên ta sẽ tạm ngừng phân tích tại đây.**"
   ]
  },
  {
   "cell_type": "markdown",
   "id": "b319ea3c",
   "metadata": {
    "heading_collapsed": true
   },
   "source": [
    "## **Qua các hiện tượng thời tiết cực đoan gây cản trở việc di chuyển như mùa đông (tuyết rơi), mùa hè(mưa rơi) hay các thuộc tính như (lượng mưa, lượng tuyết) thì có phải số lượng xe thuê sẽ ít hơn không?** <br>\n",
    "—> Kiểm định giả thuyết nếu trời mưa hay tuyết thì người dân sẽ có xu hướng đi xe đạp ít hơn."
   ]
  },
  {
   "cell_type": "markdown",
   "id": "efdaa235",
   "metadata": {
    "hidden": true
   },
   "source": [
    "- **Theo như ở câu hỏi 3. Ta đã xác định được các tháng mưa nhiều và có tuyết rơi. Do đó ở đây để đơn giản hóa vấn đề ta sẽ sử dụng kết quả của câu 3 để trả lời câu hỏi này**. <br>\n",
    "Cụ thể ta sẽ lấy các tháng: <br>\n",
    "    - Mùa mưa (lượng mưa mỗi giờ >= 0.098) (theo như Wikipedia)\n",
    "    - Mừa tuyết rơi: chỉ cần có tuyết rơi là được<br>\n",
    " --> Dữ liệu cuối cùng về các tháng được lưu vào biến extreme_weather_month"
   ]
  },
  {
   "cell_type": "code",
   "execution_count": null,
   "id": "277f981c",
   "metadata": {
    "ExecuteTime": {
     "start_time": "2022-01-21T07:13:00.094Z"
    },
    "hidden": true
   },
   "outputs": [],
   "source": [
    "rain_month = rain_info.loc[rain_info['Rainfall(mm)'] > 0.098, 'Month'].values\n",
    "snow_month = snow_info.loc[snow_info['Snowfall (cm)'] != 0, 'Month'].values\n",
    "extreme_weather_month = np.unique(np.append(rain_month, snow_month))\n",
    "extreme_weather_month"
   ]
  },
  {
   "cell_type": "markdown",
   "id": "63fbb1bc",
   "metadata": {
    "hidden": true
   },
   "source": [
    "- **Bước tiếp theo cũng khá giống ở câu hỏi 3. Ta sẽ lấy các thuộc tính liên quan như ['Month', 'Rented Bike Count'] trong các tháng mà ta vừa lấy ở bước trên. Sau đó tiếp tục gom nhóm theo tháng và tính trung bình cho các tháng.** <br>\n",
    "Đối với các tháng thông thường(các tháng trừ tháng mưa và tuyết) ta cũng làm tương tự như trên. <br>\n",
    " --> Sau đó, ta thực hiện vẽ biểu đồ cho 2 trường hợp này để so sánh chúng với nhau."
   ]
  },
  {
   "cell_type": "code",
   "execution_count": null,
   "id": "84611fe1",
   "metadata": {
    "ExecuteTime": {
     "start_time": "2022-01-21T07:13:00.104Z"
    },
    "hidden": true
   },
   "outputs": [],
   "source": [
    "# adding month\n",
    "df['Month'] = df['Date'].dt.month\n",
    "# getting extreme month\n",
    "extreme_rent = df.loc[df['Month'].isin(extreme_weather_month), ['Month', 'Rented Bike Count']]\n",
    "extreme_info = extreme_rent.groupby('Month')['Rented Bike Count']\n",
    "extreme_info = extreme_info.sum() / extreme_info.size()\n",
    "extreme_info = extreme_info.reset_index()\n",
    "\n",
    "plt.bar(extreme_info['Month'], extreme_info['Rented Bike Count'])\n",
    "plt.xlabel('Month')\n",
    "\n",
    "normal_rent = df.loc[~df['Month'].isin(extreme_weather_month), ['Month', 'Rented Bike Count']]\n",
    "normal_info = normal_rent.groupby('Month')['Rented Bike Count']\n",
    "normal_info = normal_info.sum() / normal_info.size()\n",
    "normal_info = normal_info.reset_index()\n",
    "\n",
    "plt.bar(normal_info['Month'], normal_info['Rented Bike Count'])\n",
    "plt.legend(['Extreme', 'Normal']);\n",
    "plt.xticks(np.arange(1,13));"
   ]
  },
  {
   "cell_type": "markdown",
   "id": "f2f1496e",
   "metadata": {
    "hidden": true
   },
   "source": [
    "- Nhìn vào biểu đồ thì ta cũng kết luận được giả thuyết các mùa có thời tiết khắc nghiệt thì sẽ có ít người thuê xe hơn là sai hoàn toàn trong trường hợp này. \n",
    "- Có lẽ do Hàn Quốc là một đất nước thời tiết khá khắc nghiệt đa số chỉ toàn là mùa đông và mùa mưa nên việc đi xe đạp cũng ảnh hưởng từ đó. Mặc dù mùa tuyết rơi có số lượng thuê xe ít nhất thì không phải bàn cãi (tuyết rơi gây ách tắc giao thông) nhưng trong mùa mưa việc thuê xe đạt đỉnh trong mùa này. Lý do đơn giản có thể là những ngày này thì chỉ mưa ở một thời điểm nào đó trong ngày (mưa ở chiều tối và đêm,...). Do đó, thời tiết ở các tháng này có thể sẽ rất đẹp nên việc đi xe đạp cũng thuận tiện hơn. Hoặc có một lí do khá thú vị nữa là có thể người ta thích đi xe đạp khi trời mưa :v"
   ]
  },
  {
   "cell_type": "markdown",
   "id": "273d1568",
   "metadata": {
    "heading_collapsed": true
   },
   "source": [
    "## **Lượng xe đạp theo từng mùa/ từng tháng có sự thay đổi như thế nào?**\n",
    "-> Đưa ra các chiến lược thuê xe phù hợp cho từng thời điểm trong năm.Tăng cường nhân lực vào những mùa được nhiều người dùng"
   ]
  },
  {
   "cell_type": "markdown",
   "id": "87b99aca",
   "metadata": {
    "hidden": true
   },
   "source": [
    "**Các bước thực hiện**\n",
    "- Vẽ bar plot để **so sánh lượng xe đạp được thuê theo từng mùa** để xem ở mùa nào thì người dân dùng xe đạp nhiều nhất và ít nhất\n",
    "- Vẽ 2 line plot với biểu đồ đầu có 4 đường tương ứng với **lượng xe đạp trong mỗi khung giờ trong 4 mùa** và biểu đồ thứ 2 là **lượng xe đạp ở mỗi giai đoạn trong ngày trong 4 mùa**. Từ đó biết được khung giờ có số lượng xe cho thuê cao nhất theo từng mùa\n",
    "- Tạo cột Month là thông tin về tháng\n",
    "- Vẽ một bar plot đơn giản biểu diễn **lượng xe đạp theo tháng (đã được đánh dấu theo từng mùa) để xem người dân thường sử dụng xe đạp nhiều vào khoảng tháng nào và mùa nào**\n",
    "- Vẽ thêm một bar plot với độ cao biểu diễn lượng xe đạp và màu của mỗi hình chữ nhật đại diện cho nhiệt độ trung bình dựa trên thanh màu ở bên phải biểu đồ để **xem nhiệt độ khác nhau giữa các tháng làm ảnh hưởng đến lựa chọn đi xe đạp của người dân hay không**\n",
    "- Tạo 1 dataframe với giá trị ở mỗi (i,j) là lượng xe đạp trung bình của của tháng i và ngày thứ j (ngày trong tuần). Sau đó vẽ 1 heatmap dựa trên dataframe vừa tạo để tìm hiểu **sự thay đổi về lượng xe đạp ở các ngày trong tuần khác nhau như thế nào theo mỗi tháng**"
   ]
  },
  {
   "cell_type": "markdown",
   "id": "2490fc2b",
   "metadata": {
    "hidden": true
   },
   "source": [
    "- **Thời gian về các mùa tại Hàn Quốc**\n",
    "    - Mùa xuân (giữa tháng 3 đến cuối tháng 5)\n",
    "    - Mùa hè (tháng 6 đến tháng 8)\n",
    "    - Mùa thu (tháng 9 đến tháng 11)\n",
    "    - Mùa đông (tháng 12 đến giữa tháng 3)"
   ]
  },
  {
   "cell_type": "markdown",
   "id": "bf32c1d7",
   "metadata": {
    "hidden": true
   },
   "source": [
    "**Vẽ bar plot để so sánh lượng xe đạp được thuê theo từng mùa để xem ở mùa nào thì người dân dùng xe đạp nhiều nhất và ít nhất**"
   ]
  },
  {
   "cell_type": "code",
   "execution_count": null,
   "id": "656c16c1",
   "metadata": {
    "ExecuteTime": {
     "start_time": "2022-01-21T07:13:00.119Z"
    },
    "hidden": true
   },
   "outputs": [],
   "source": [
    "sns.barplot(x='Seasons',y='Rented Bike Count', data=df1, palette='coolwarm');\n",
    "plt.axhline(bikecount_mean,ls='--');"
   ]
  },
  {
   "cell_type": "markdown",
   "id": "486d561d",
   "metadata": {
    "hidden": true
   },
   "source": [
    "- Dễ thấy rằng **xe đạp được sử dụng nhiều nhất vào mùa hè.** Vào mùa xuân và mùa thu thì lượng xe đạp vẫn trên mức trung bình (>705 xe đạp). \n",
    "- Tuy nhiên **vào mùa đông, lượng xe đạp thấp rõ rệt (~200 xe đạp)**. Có lẽ là vì thời tiết lúc này khắc nghiệt, thậm chí có mưa lớn và tuyết rơi. Do đó để tăng tần suất sử dụng thì hệ thống xe đạp nên thêm các gói giảm giá, ưu đãi hoặc thêm áo mưa trên mỗi xe đạp. Ngoài ra có thể yêu cầu thành phố thường xuyên cào tuyết trên đường để thuận tiện cho việc sử dụng xe đạp để di chuyển"
   ]
  },
  {
   "cell_type": "markdown",
   "id": "7b68d982",
   "metadata": {
    "hidden": true
   },
   "source": [
    "**Vẽ 2 biểu đồ với biểu đồ đầu có 4 đường tương ứng với lượng xe đạp trong mỗi khung giờ trong 4 mùa và biểu đồ thứ 2 là lượng xe đạp ở mỗi giai đoạn trong ngày trong 4 mùa.**"
   ]
  },
  {
   "cell_type": "code",
   "execution_count": null,
   "id": "36a0670f",
   "metadata": {
    "ExecuteTime": {
     "start_time": "2022-01-21T07:13:00.128Z"
    },
    "hidden": true,
    "scrolled": false
   },
   "outputs": [],
   "source": [
    "sns.set(font_scale=2)\n",
    "fig, ax = plt.subplots(nrows = 2, ncols = 1, figsize = (20,12),dpi=80)\n",
    "sns.lineplot(data=df1, x=\"Hour\", y=\"Rented Bike Count\", hue=\"Seasons\",ci=None,\n",
    "             palette=\"flare\",linewidth = 3, ax=ax[0])\n",
    "ax[0].legend(['Spring','Summer','Autumn','Winter'])\n",
    "ax[0].set_xticks(np.arange(0,24));\n",
    "\n",
    "sns.barplot(data = df_period, x = 'Period', y = 'Rented Bike Count', hue = 'Seasons',\n",
    "            ci=None,palette=\"flare\",ax=ax[1])\n",
    "ax[1].legend(['Spring','Summer','Autumn','Winter'])\n",
    "plt.tight_layout()"
   ]
  },
  {
   "cell_type": "markdown",
   "id": "af3fdf72",
   "metadata": {
    "hidden": true
   },
   "source": [
    "- Có thể thấy lượng người đi xe đạp theo từng giờ từ mùa xuân đến mùa thu không thay đổi quá nhiều. Chúng đều có 2 khung giờ tăng mạnh là 7-8h và 17-18h. Đặc biệt, lượng xe đạp vào buổi tối và buổi khuya của mùa hè vượt trội hơn hẳn các mùa còn lại.\n",
    "- Tuy nhiên vào mùa đông, **ở 2 khung giờ cao điểm lượng xe đạp dù vẫn tăng nhưng là không nhiều như các mùa khác**. Có thể là vì thời tiết lạnh nên người dân ngại sử dụng xe đạp để đi làm thay vào đó là sử dụng các phương tiện công cộng khác như xe bus, tàu điện ngầm,.."
   ]
  },
  {
   "cell_type": "markdown",
   "id": "5aa4523e",
   "metadata": {
    "hidden": true
   },
   "source": [
    "**Tạo thêm cột Month là thông tin về tháng**"
   ]
  },
  {
   "cell_type": "code",
   "execution_count": null,
   "id": "0c1db0ee",
   "metadata": {
    "ExecuteTime": {
     "start_time": "2022-01-21T07:13:00.139Z"
    },
    "hidden": true
   },
   "outputs": [],
   "source": [
    "df1['Month'] = df1['Date'].dt.month\n",
    "df1.head(3)"
   ]
  },
  {
   "cell_type": "markdown",
   "id": "5e8287e4",
   "metadata": {
    "hidden": true
   },
   "source": [
    "**Vẽ một bar plot đơn giản biểu diễn lượng xe đạp theo tháng (đã được đánh dấu theo từng mùa) để xem người dân thường sử dụng xe đạp nhiều vào khoảng tháng nào và mùa nào**"
   ]
  },
  {
   "cell_type": "code",
   "execution_count": null,
   "id": "646bb8a8",
   "metadata": {
    "ExecuteTime": {
     "start_time": "2022-01-21T07:13:00.147Z"
    },
    "hidden": true
   },
   "outputs": [],
   "source": [
    "monthly_bike = df1.groupby('Month')[['Seasons','Rented Bike Count']].mean()\n",
    "monthly_bike.loc[monthly_bike['Seasons'] == 0, 'Seasons'] = 'Spring'\n",
    "monthly_bike.loc[monthly_bike['Seasons'] == 1, 'Seasons'] = 'Summer'\n",
    "monthly_bike.loc[monthly_bike['Seasons'] == 2, 'Seasons'] = 'Autumn'\n",
    "monthly_bike.loc[monthly_bike['Seasons'] == 3, 'Seasons'] = 'Winter'\n",
    "\n",
    "fig,ax = plt.subplots(1,1)\n",
    "sns.barplot(data = monthly_bike,x=monthly_bike.index,y='Rented Bike Count',hue='Seasons',ax=ax);\n"
   ]
  },
  {
   "cell_type": "markdown",
   "id": "2366cf44",
   "metadata": {
    "hidden": true,
    "hide_input": true
   },
   "source": [
    "- Biểu đồ trên giúp ta thấy rõ về phân bố lượng xe đạp theo từng tháng và từng mùa trong năm. Lượng xe đạp cao nhất được ghi nhận vào khoảng cuối xuân, đầu hạ (tháng 5 đến tháng 7) và thấp rõ rệt vào mùa đông. \n",
    "- Sau đây ta cùng xem có phải là do nhiệt độ khác nhau giữa các tháng làm ảnh hưởng đến lựa chọn đi xe đạp của người dân"
   ]
  },
  {
   "cell_type": "markdown",
   "id": "8e397334",
   "metadata": {
    "hidden": true
   },
   "source": [
    "**Vẽ thêm một bar plot với:** <br>\n",
    "    - Độ cao mỗi thanh biểu diễn lượng xe đạp của mỗi tháng <br>\n",
    "    - Màu sắc của mỗi thanh biểu diễn nhiệt độ trung bình của mỗi tháng <br>\n",
    "**Ở bên phải bar plot, vẽ một thanh màu để minh họa cho các mức nhiệt độ** <br>\n",
    "**Ta tạo thêm 1 gridspec hỗ trợ việc điều chỉnh vị trí của bar plot và thanh màu**"
   ]
  },
  {
   "cell_type": "code",
   "execution_count": null,
   "id": "0cab7f04",
   "metadata": {
    "ExecuteTime": {
     "start_time": "2022-01-21T07:13:00.157Z"
    },
    "hidden": true
   },
   "outputs": [],
   "source": [
    "import matplotlib as mpl\n",
    "    #Lượng xe đạp trung bình mỗi tháng\n",
    "\n",
    "by_month = df1.groupby(['Month'])['Rented Bike Count'].sum()\n",
    "by_month = by_month.reset_index()\n",
    "\n",
    "    #Thiết lập màu sắc của mỗi thanh của biểu đồ dựa trên nhiệt độ trung bình\n",
    "temp_month = df1.groupby(['Month'])['Temperature(°C)'].mean()\n",
    "# Chuẩn hóa min_max cho nhiệt độ của mỗi tháng\n",
    "temp_month_a = 100*(temp_month - temp_month.min())/(temp_month.max() - temp_month.min())\n",
    "col_pal = sns.color_palette(\"coolwarm\", 101)\n",
    "colors = []\n",
    "for x in temp_month_a.round().values.astype(int).T:\n",
    "    colors.append(col_pal[x])\n",
    "#Tạo thanh màu\n",
    "fig = plt.figure(figsize=(10, 5), facecolor='w', edgecolor='k')\n",
    "gs = fig.add_gridspec(1, 23)\n",
    "\n",
    "ax1 = fig.add_subplot(gs[0, :21])\n",
    "ax2 = fig.add_subplot(gs[0, 22])\n",
    "# Vẽ bar plot\n",
    "sns.barplot(x='Month', y='Rented Bike Count', data=by_month, ax=ax1, palette=colors, edgecolor=(0,0,0),ci=None)\n",
    "ax1.set_ylabel(\"Bike count\")\n",
    "# Vẽ thanh màu\n",
    "cmap = mpl.cm.coolwarm\n",
    "norm = mpl.colors.Normalize(vmin=temp_month.min(), vmax=temp_month.max())\n",
    "cb1 = mpl.colorbar.ColorbarBase(ax=ax2, cmap=cmap,norm=norm,orientation='vertical')\n",
    "cb1.set_label('Avg. temp.')"
   ]
  },
  {
   "cell_type": "markdown",
   "id": "27e5905a",
   "metadata": {
    "hidden": true
   },
   "source": [
    "- Ta có thể thấy được người dân sẽ **sử dụng xe đạp nhiều nhất vào tháng 5-7 cũng là lúc nhiệt độ vừa phải, không quá nóng cũng không quá lạnh.**\n",
    "- Vào tháng 8 nhiệt độ trung bình là cao nhất trong năm, điều đó đã ảnh hưởng phần nào đến lượng xe đạp. Dù đang là mùa hè và tháng 8 cũng là kì nghỉ của học sinh Hàn Quốc nhưng lượng xe thấp hơn hẳn các tháng lân cận.\n",
    "- **Từ tháng 12 đến tháng 1, nhiệt độ Hàn Quốc rất thấp,** thậm chí có lúc dưới 0 độ nên ta có thể hiểu được tại sao người dân không dùng xe đạp nhiều như các khoảng thời gian khác trong năm"
   ]
  },
  {
   "cell_type": "markdown",
   "id": "8491915f",
   "metadata": {
    "hidden": true
   },
   "source": [
    "Cuối cùng ta tìm hiểu sự thay đổi về lượng xe đạp ở các ngày trong tuần khác nhau như thế nào theo từng tháng"
   ]
  },
  {
   "cell_type": "markdown",
   "id": "9dfc6e02",
   "metadata": {
    "hidden": true
   },
   "source": [
    "**Tạo 1 dataframe với giá trị ở mỗi ô (i,j) là lượng xe đạp trung bình của tháng i và ngày thứ j (ngày trong tuần).**"
   ]
  },
  {
   "cell_type": "code",
   "execution_count": null,
   "id": "3202b535",
   "metadata": {
    "ExecuteTime": {
     "start_time": "2022-01-21T07:13:00.170Z"
    },
    "hidden": true
   },
   "outputs": [],
   "source": [
    "relate = df1.groupby(['Weekday','Month'])['Rented Bike Count'].mean().unstack()\n",
    "relate"
   ]
  },
  {
   "cell_type": "markdown",
   "id": "0822d8e9",
   "metadata": {
    "hidden": true
   },
   "source": [
    "**Vẽ 1 heatmap dựa trên dataframe vừa tạo để tìm hiểu sự thay đổi về lượng xe đạp ở các ngày trong tuần khác nhau như thế nào theo mỗi tháng**"
   ]
  },
  {
   "cell_type": "code",
   "execution_count": null,
   "id": "539eba0b",
   "metadata": {
    "ExecuteTime": {
     "start_time": "2022-01-21T07:13:00.187Z"
    },
    "hidden": true,
    "scrolled": false
   },
   "outputs": [],
   "source": [
    "sns.set(font_scale=1)\n",
    "sns.heatmap(relate,annot=True, cmap='BrBG', fmt=\".0f\");"
   ]
  },
  {
   "cell_type": "markdown",
   "id": "31e8c7c1",
   "metadata": {
    "hidden": true
   },
   "source": [
    "Qua heatmap ở trên, ta có thể một lần nữa khẳng định các kết luận đã đưa ra bên trên:\n",
    "- Có thể thấy các **khu vực có màu xanh đậm nhất là vùng ở giữa tức là thứ 2 đến thứ 6 từ tháng 5 đến tầm tháng 9.** Điều đó cũng là dễ hiểu vì người dân thường có xu hướng ra ngoài nhiều hơn vào mùa hè và mùa thu.\n",
    "- Đặc biệt lượng xe đạp thường lớn hơn vào những ngày làm việc vì lúc đó đường xá sẽ ít kẹt xe còn vào cuối tuần người dân thường ở nhà nghỉ ngơi, quây quần bên gia đình sau một tuần làm việc mệt mỏi\n",
    "- Ngoài ra, vào cuối tuần của những tháng đầu mùa hè (tháng 5,6) lượng xe đạp vẫn khá cao vì lúc đó thời  tiết bắt đầu trở nên mát mẻ, dễ chịu, phù hợp để ra đường vào cuối tuần"
   ]
  },
  {
   "cell_type": "markdown",
   "id": "5c1b3add",
   "metadata": {
    "heading_collapsed": true
   },
   "source": [
    "## **Một số tháng có nắng nóng gây gắt có thể khiến lượng bức xạ lên mức cảnh báo. Dựa vào lượng bức xạ ở đây chúng ta sẽ xem xét xem liệu có người thuê xe ở thời điểm này không và số lượng có cao không?** <br>\n",
    "—> Qua đó, cảnh báo người dân nếu có lượng bức xạ đó hay vào tháng đó giờ đó không nên thuê xe đạp\n",
    "\n",
    "- Nhiệt độ trên 30 độ C\n",
    "- Chỉ số bức xạ trên 3"
   ]
  },
  {
   "cell_type": "markdown",
   "id": "42fd04e6",
   "metadata": {
    "hidden": true
   },
   "source": [
    "- **Bước đầu tiên ta sẽ lấy ra các dòng dữ liệu mà có chỉ số bức xạ trên 3 và nhiệt độ trên 30 độ. Sau đó trích xuất các thuộc tính cần thiếu về tháng, giờ, và số lượng xe được thuê vào thời điểm đó.** <br>\n",
    " --> Sau đó ta lưu vào biến warning_days"
   ]
  },
  {
   "cell_type": "code",
   "execution_count": null,
   "id": "3d3e1291",
   "metadata": {
    "ExecuteTime": {
     "start_time": "2022-01-21T07:13:00.202Z"
    },
    "hidden": true
   },
   "outputs": [],
   "source": [
    "warning_days = df.loc[(df['Solar Radiation (MJ/m2)'] > 3) & (df['Temperature(°C)'] > 30), \n",
    "                      ['Date','Month', 'Hour', 'Rented Bike Count']]\n",
    "warning_days"
   ]
  },
  {
   "cell_type": "markdown",
   "id": "4a24ef22",
   "metadata": {
    "hidden": true
   },
   "source": [
    "- **Bước tiếp theo, để cho đơn giản ta sẽ thực hiện khá giống như các câu trên ở các ngày có bức xạ cao. Đó là thực hiện gom nhóm theo tháng và tính trung bình cho mỗi tháng. Nhưng ở các ngày bình thường, do đặc thù của dữ liệu là lấy theo từng giờ trong 1 ngày (1 ngày có 24 tiếng tương đương 24 dòng dữ liệu). Do đó, ta sẽ lấy dữ liệu sao cho cùng 1 tháng nhưng giờ ở thời điểm đó sẽ loại trừ các giờ nguy hiểm để so sánh chúng với nhau.** <br>\n",
    " --> Cuối cùng ta chỉ việc vẽ 2 đồ thị này ra để đưa ra nhận định cho câu hỏi này."
   ]
  },
  {
   "cell_type": "code",
   "execution_count": null,
   "id": "0fe181f4",
   "metadata": {
    "ExecuteTime": {
     "start_time": "2022-01-21T07:13:00.212Z"
    },
    "hidden": true
   },
   "outputs": [],
   "source": [
    "fig, axis = plt.subplots(1,2,figsize=(15,5))\n",
    "fig.subplots_adjust(left=0.0625, right=0.95, wspace=0.1)\n",
    "\n",
    "warning_info = warning_days.groupby('Month')['Rented Bike Count']\n",
    "warning_info = warning_info.sum() / warning_info.size()\n",
    "warning_info = warning_info.reset_index()\n",
    "warning_info = warning_info.set_index('Month')\n",
    "warning_info[['Rented Bike Count']].plot(kind='bar',ax = axis[0], fontsize=10, color='brown', ylim=[0, 1300], rot=0,\n",
    "                                         title='Trung bình lượng xe đạp ở các giờ có bức xạ cao trong tháng')\n",
    "warning_info = warning_info.reset_index()\n",
    "\n",
    "normal_hours = df['Month'].isin(warning_days['Month']) & ~df['Hour'].isin(warning_days['Hour'])\n",
    "normal_days = df.loc[normal_hours, ['Month', 'Rented Bike Count']]\n",
    "normal_info = normal_days.groupby('Month')['Rented Bike Count']\n",
    "normal_info = normal_info.sum() / normal_info.size()\n",
    "normal_info = normal_info.reset_index()\n",
    "normal_info = normal_info.set_index('Month')\n",
    "\n",
    "normal_info[['Rented Bike Count']].plot(kind='bar',ax = axis[1], fontsize=10, rot=0,\n",
    "                                        title='Trung bình lượng xe đạp ở các giờ có bức xạ bình thường trong tháng');"
   ]
  },
  {
   "cell_type": "markdown",
   "id": "fc095e29",
   "metadata": {
    "hidden": true
   },
   "source": [
    "Ta có thể thấy rằng lượng người thuê xe vào những khung giờ có độ bức xạ cao thì có xu hướng thấp hơn so với các khung giờ còn lại. Một phần lí do có thể là do nắng nóng gay gắt ở thời điểm này cũng khiến cho người ta không muốn ra đường. Mặc dù vậy thì chênh lệch giữa 2 biểu đồ là không quá lớn. Do đó, tại những thời điểm mà có độ bức xạ cao, chúng ta nên cảnh báo cho người dân không nên ra đường để tránh gây hại cho cơ thể."
   ]
  },
  {
   "cell_type": "markdown",
   "id": "670b09c9",
   "metadata": {
    "heading_collapsed": true
   },
   "source": [
    "## **Ở một số mùa như mùa đông thì tầm nhìn xa bị hạn chế do sương, tuyết,.. vì vậy khi tầm nhìn xa hạn chế ở mức cảnh báo. Ta sẽ xem thử có người thuê xe vào thời điểm này hay không?** \n",
    "—> Đưa ra cảnh báo nguy hiểm phù hợp cho người dùng. An toàn là trên hết."
   ]
  },
  {
   "cell_type": "markdown",
   "id": "beda774b",
   "metadata": {
    "hidden": true
   },
   "source": [
    "- Theo quy ước thì tầm nhìn xa dưới 50m được cảnh báo là nguy hiểm!"
   ]
  },
  {
   "cell_type": "markdown",
   "id": "98b270af",
   "metadata": {
    "hidden": true
   },
   "source": [
    "- **Việc đầu tiên ta cần làm đó chính là lấy ra các dòng dữ liệu sao cho tầm nhìn xa dưới 50m (Do dữ liệu tính 10m 1 lần nên khi thực hiện ta sẽ chia cho 10). Sau đó ta trích xuất các thuộc tính liên quan 'Rented Bike Count', 'Month', 'Visibility (10m)'** <br>\n",
    "    --> Dữ liệu có thuộc tính về việc thuê xe được lưu vào visible_days và dữ liệu có thuộc tính tầm nhìn sẽ được lưu vào visible_level"
   ]
  },
  {
   "cell_type": "code",
   "execution_count": null,
   "id": "de5cf2e5",
   "metadata": {
    "ExecuteTime": {
     "start_time": "2022-01-21T07:13:00.225Z"
    },
    "hidden": true
   },
   "outputs": [],
   "source": [
    "visible_level = df.loc[df['Visibility (10m)'] / 10 < 50, ['Visibility (10m)', 'Month']]\n",
    "visible_hours = df.loc[df['Visibility (10m)'] / 10 < 50, ['Rented Bike Count', 'Month']]"
   ]
  },
  {
   "cell_type": "markdown",
   "id": "7d307823",
   "metadata": {
    "hidden": true
   },
   "source": [
    "- Bước tiếp theo ta sẽ thực hiện gom nhóm theo tháng và tính trung bình các thuộc tính theo từng tháng.\n",
    "- Ta sẽ chuẩn hóa dữ liệu cho 2 thuộc tính về khoảng [0,1]\n",
    "- Cuối cùng ta sẽ thực hiện kết 2 thuộc tính này với nhau để vẽ đồ thị lineplot(do 2 thuộc tính này liên tục theo từng tháng nên ta sẽ chọn đồ thị lineplot để dễ dàng so sánh)."
   ]
  },
  {
   "cell_type": "code",
   "execution_count": null,
   "id": "7b46b091",
   "metadata": {
    "ExecuteTime": {
     "start_time": "2022-01-21T07:13:00.234Z"
    },
    "hidden": true,
    "scrolled": false
   },
   "outputs": [],
   "source": [
    "visible_level = visible_level.groupby('Month')['Visibility (10m)']\n",
    "visible_level = visible_level.sum() / visible_level.size()\n",
    "visible_level = (visible_level - visible_level.min()) / (visible_level.max() - visible_level.min())\n",
    "\n",
    "visible_hours  = visible_hours.groupby('Month')['Rented Bike Count']\n",
    "visible_hours  = visible_hours.sum() /visible_hours.size()\n",
    "visible_hours  = (visible_hours - visible_hours.min()) / (visible_hours.max() - visible_hours.min())\n",
    "visible_hours  = pd.merge(visible_hours, visible_level, left_on='Month', right_on='Month',)\n",
    "\n",
    "g = sns.lineplot(data=visible_hours);\n",
    "g.set(xlim = (0,12));\n",
    "g.set_xticks(np.arange(1,13));"
   ]
  },
  {
   "cell_type": "markdown",
   "id": "e95b27ff",
   "metadata": {
    "hidden": true
   },
   "source": [
    "Dựa vào biểu đồ thì có lẽ ta nên cảnh báo ở các tháng mà lượng thuê xe đạt đỉnh như tháng 6, tháng 10. Các tháng có tầm nhìn xa thấp như tháng 5 tháng 8 và tháng 12. Những tháng này đều có tầm nhìn xa ở mức cảnh báo hoặc là lượng thuê xe vẫn rất đông. Do đó, để an toàn ta nên khuyến khích người dân không nên thuê xe đạp và chờ cho thời tiết khá hơn (sương tan, tuyết ngừng rơi, ...). "
   ]
  },
  {
   "cell_type": "markdown",
   "id": "ce40462f",
   "metadata": {
    "heading_collapsed": true
   },
   "source": [
    "## **Ngày nay, thay vì độ ẩm thì người ta thường hay xét đến nhiệt độ hóa sương để xác định mức độ thoải mái của không khí ngoài trời đối với con người. Vậy nhiệt độ hóa sương có ảnh hưởng gì tới lượng người đi xe đạp hay không.**\n",
    "-> Hiểu thêm về nhiệt độ hóa sương. Ảnh hưởng của nó đến người dân khi đi xe đạp"
   ]
  },
  {
   "cell_type": "markdown",
   "id": "47412ea8",
   "metadata": {
    "hidden": true
   },
   "source": [
    "**Các bước thực hiện:**\n",
    "- Vẽ một heatmap biểu diễn mối tương quan của các thuộc tính nhiệt độ và độ ẩm với lượng xe đạp cho thuê để xem nhiệt độ hóa sương và độ ẩm, thuộc tính nào ảnh hưởng nhiều hơn đến lượng xe đạp\n",
    "- Tạo một cột mới là DPType có 3 giá trị tương ứng với 3 vùng giá trị của nhiệt độ điểm sương, mỗi vùng sẽ mang lại một cảm giác khác nhau trong không khí như thoải mái, nóng ẩm và khô. Sau đó vẽ bar chart để biểu diễn lượng xe đạp với mỗi vùng giá trị\n",
    "- Sau đó ta vẽ thêm biểu đồ line chart nữa để biểu diễn mối tương quan giữa độ ẩm và lượng xe đạp khi nhiệt độ hóa sương trên 20°C để xem có gì đặc biệt "
   ]
  },
  {
   "cell_type": "markdown",
   "id": "1de83137",
   "metadata": {
    "hidden": true
   },
   "source": [
    "**Vẽ một heatmap biểu diễn mối tương quan của các thuộc tính về nhiệt độ và độ ẩm với lượng xe đạp cho thuê**"
   ]
  },
  {
   "cell_type": "code",
   "execution_count": null,
   "id": "99e8c133",
   "metadata": {
    "ExecuteTime": {
     "start_time": "2022-01-21T07:13:00.247Z"
    },
    "hidden": true
   },
   "outputs": [],
   "source": [
    "corrMatrix = df1[['Dew point temperature(°C)','Humidity(%)','Rented Bike Count']].corr()\n",
    "plt.figure(figsize=(5, 3))\n",
    "heatmap = sns.heatmap(corrMatrix[['Rented Bike Count']].sort_values(by='Rented Bike Count', ascending=False), \n",
    "                      vmin=-1, vmax=1, annot=True, cmap='BrBG')\n",
    "heatmap.set_title('Features Correlating with Rented Bike Count', fontdict={'fontsize':18}, pad=16);"
   ]
  },
  {
   "cell_type": "markdown",
   "id": "a3f1348c",
   "metadata": {
    "hidden": true
   },
   "source": [
    "- Theo như heatmap thì **nhiệt độ điểm sương có mối tương quan với lượng xe đạp lớn hơn độ ẩm** (0.38 so với -0.2)"
   ]
  },
  {
   "cell_type": "markdown",
   "id": "5c876a6a",
   "metadata": {
    "hidden": true
   },
   "source": [
    "Nhiệt độ điểm sương chia làm 3 mức:\n",
    "- Mức trên 20 độ C: nóng ẩm, oi bức\n",
    "- Mức từ 0 - 20 độ C: thời tiết khá thoải mái\n",
    "- Mức dưới 0 độ C: thời tiết khô"
   ]
  },
  {
   "cell_type": "markdown",
   "id": "66861b96",
   "metadata": {
    "hidden": true
   },
   "source": [
    "**Tạo một cột mới là DPType có 3 giá trị \"Comfortable\", \"Muggy\" và \"Dry\" tương ứng với 3 vùng giá trị của nhiệt độ điểm sương, mỗi vùng sẽ mang lại một cảm giác khác nhau trong không khí như thoải mái, nóng ẩm và khô.** "
   ]
  },
  {
   "cell_type": "code",
   "execution_count": null,
   "id": "cf3d67d4",
   "metadata": {
    "ExecuteTime": {
     "start_time": "2022-01-21T07:13:00.259Z"
    },
    "hidden": true
   },
   "outputs": [],
   "source": [
    "dp_df = df1.copy()\n",
    "dp_df['DPType'] = 'Comfortable'\n",
    "dp_df.loc[df['Dew point temperature(°C)'] < 0 ,'DPType'] = \"Dry\"\n",
    "dp_df.loc[df['Dew point temperature(°C)'] > 20 ,'DPType'] = \"Muggy\"\n",
    "dp_df[['DPType','Rented Bike Count']]"
   ]
  },
  {
   "cell_type": "markdown",
   "id": "e6018687",
   "metadata": {
    "hidden": true
   },
   "source": [
    "**Vẽ bar chart để biểu diễn lượng xe đạp với mỗi vùng giá trị. Ta chú thích thêm lượng xe đạp chính xác ở trên mỗi thanh của bar chart**"
   ]
  },
  {
   "cell_type": "code",
   "execution_count": null,
   "id": "2d8a4e36",
   "metadata": {
    "ExecuteTime": {
     "start_time": "2022-01-21T07:13:00.266Z"
    },
    "hidden": true
   },
   "outputs": [],
   "source": [
    "fig,ax = plt.subplots(figsize = (6,3))\n",
    "sns.barplot(data=dp_df,x = 'DPType',y='Rented Bike Count',ci=None,ax=ax)\n",
    "for p in ax.patches:                 \n",
    "    ax.annotate(np.round(p.get_height(),decimals=2),(p.get_x()+p.get_width()/2., p.get_height()),\n",
    "                ha='center',va='center', xytext=(0, 10),textcoords='offset points')"
   ]
  },
  {
   "cell_type": "markdown",
   "id": "00a40b91",
   "metadata": {
    "hidden": true
   },
   "source": [
    "- **Người dân ít sử dụng xe đạp nhất khi không khí ngoài trời có vẻ khô. Ngược lại, có vẻ như không khí nóng ẩm, oi bức không ảnh hưởng nhiều lắm đến lựa chọn đi xe đạp của người dân** khi lượng xe đạp không chênh lệch nhiều so với lúc thời tiết thoải mái"
   ]
  },
  {
   "cell_type": "markdown",
   "id": "81d8e2a9",
   "metadata": {
    "hidden": true
   },
   "source": [
    "- Tuy nhiên, ta còn phải xét xem trường hợp nhiệt độ hóa sương và cả độ ẩm đều cao. Lúc đó, không khí sẽ trở nên oi bức, ngột ngạt kéo theo lượng xe đạp cũng giảm xuống"
   ]
  },
  {
   "cell_type": "markdown",
   "id": "bf5dbfb5",
   "metadata": {
    "hidden": true
   },
   "source": [
    "**Vẽ thêm biểu đồ line chart nữa để biểu diễn mối tương quan giữa độ ẩm và lượng xe đạp khi nhiệt độ hóa sương trên 20°C để xem có gì đặc biệt**"
   ]
  },
  {
   "cell_type": "code",
   "execution_count": null,
   "id": "8be22c06",
   "metadata": {
    "ExecuteTime": {
     "start_time": "2022-01-21T07:13:00.277Z"
    },
    "hidden": true
   },
   "outputs": [],
   "source": [
    "high_dp = df1.loc[(df['Dew point temperature(°C)'] > 20)][['Humidity(%)','Rented Bike Count']]\n",
    "temp = high_dp.groupby((df1['Humidity(%)']//5)*5)['Rented Bike Count'].mean()\n",
    "temp.plot(kind='line',figsize=(8,4))\n",
    "plt.xticks(np.arange(min(temp.index), max(temp.index)+1, 5));\n",
    "plt.title('Bike count when dew point > 20°C');"
   ]
  },
  {
   "cell_type": "markdown",
   "id": "d607c17f",
   "metadata": {
    "hidden": true
   },
   "source": [
    "Từ đồ thị trên, ta dễ dàng thấy rằng **với nhiệt độ hóa sương hơn 20 độ C và độ ẩm hơn 75% thì lượng xe đạp giảm một cách rõ rệt.** Do đó, cần có trạm tiếp nước thường xuyên cho những người sử dụng xe đạp vào những ngày này."
   ]
  },
  {
   "cell_type": "markdown",
   "id": "67517ec0",
   "metadata": {},
   "source": [
    "# Nhìn lại quá trình làm đồ án"
   ]
  },
  {
   "cell_type": "markdown",
   "id": "9fcb28f7",
   "metadata": {
    "heading_collapsed": true
   },
   "source": [
    "## Những khó khăn"
   ]
  },
  {
   "cell_type": "markdown",
   "id": "a45aa4aa",
   "metadata": {
    "hidden": true
   },
   "source": [
    "**Duy**"
   ]
  },
  {
   "cell_type": "markdown",
   "id": "670d0d41",
   "metadata": {
    "hidden": true
   },
   "source": [
    "- Trước khi chọn dữ liệu hiện tại, nhóm em đã chọn tập dữ liệu khác về các cuộc sóng thần và đã khám phá cũng như đưa ra cả những câu hỏi. Tuy nhiên trong quá trình tiền xử lý và phân tích vì dữ liệu cũ có quá nhiều dữ liệu bị thiếu khiến việc đưa ra câu trả lời không được khách quan, do đó nên phải chọn tập dữ liệu Seoul Bike Sharing\n",
    "- Sử dụng git và github để quản lý phiên bản và merge các branch, sửa conflict khi merge."
   ]
  },
  {
   "cell_type": "markdown",
   "id": "5f81b15b",
   "metadata": {
    "ExecuteTime": {
     "end_time": "2022-01-19T09:38:25.358188Z",
     "start_time": "2022-01-19T09:38:25.225150Z"
    },
    "hidden": true
   },
   "source": [
    "**Huy**"
   ]
  },
  {
   "cell_type": "markdown",
   "id": "8d0358e3",
   "metadata": {
    "hidden": true
   },
   "source": [
    "- **Đầu tiên, khó khăn chúng em phải kể đến đó là việc chọn dữ liệu.** <br>\n",
    "Đối với các nhóm khác thì không biết thế nào nhưng đối với nhóm em thì việc dữ liệu có quá nhiều thì cũng là vấn đề khá khó khăn. Khi mà không biết lựa chọn chủ đề và dữ liệu nào cho phù hợp. <br>\n",
    "Mặc dù vậy, thì sau những lần căng thẳng trong việc chọn dữ liệu thì chúng em ban đầu đã chọn dữ liệu về Tsunami(dữ liệu về các cơn sóng thần). Tuy nhiên, sau khi đã thực hiện tới bước đặt câu hỏi thì chúng em mới nhận ra rằng dữ liệu mà chúng em lấy có quá nhiều dữ liệu thiếu, nếu bỏ qua các dữ liệu thiếu đó thì e rằng không đủ để trả lời câu hỏi. Do đó mà chúng em quyết định lấy dữ liệu mới là dữ liệu về việc cho thuê xe đạp này. "
   ]
  },
  {
   "cell_type": "markdown",
   "id": "7b0064fb",
   "metadata": {
    "hidden": true
   },
   "source": [
    "- **Tiếp theo, là vấn đề về sử dụng Github.** <br>\n",
    "Mặc dù là chúng em cũng đã và đang sử dụng github để làm đồ án và quản lí các source code khác. Nhưng đây có thể nói là lần đầu chúng em được làm việc nhóm trên Github. Đây quả là một thách thức khá lớn khi mà trình độ sử dụng git của chúng em còn ở mức cơ bản. Do đó, ở trên github thì chúng ta đã thực hiện một đống commit(>100), branch(>3) cũng như các phép merge(>10). "
   ]
  },
  {
   "cell_type": "markdown",
   "id": "0df90296",
   "metadata": {
    "hidden": true
   },
   "source": [
    "- **Kế đến, là vấn đề tinh thần.** <br>\n",
    "Kì học này (năm 3 kì 1) quả là một kì học phải nói là khá là nặng đối với chúng em. Phải nói đây là kì học nặng nhất trong các năm vừa qua. Cũng có thể lí do đó mà thời gian chúng em có không nhiều khi phải vừa thi vừa thực hiện đồ án này để có thể hoàn thành đúng hạn. Mặc dù vậy vì có thể chưa có tinh thần tốt nên nhiều lúc chúng em cảm thấp ngợp và mệt mỏi với kì học và mong muốn hoàn thành tốt các môn học."
   ]
  },
  {
   "cell_type": "markdown",
   "id": "153b3f4b",
   "metadata": {
    "heading_collapsed": true
   },
   "source": [
    "## Học được gì hữu ích"
   ]
  },
  {
   "cell_type": "markdown",
   "id": "858a026a",
   "metadata": {
    "hidden": true
   },
   "source": [
    "**Duy**"
   ]
  },
  {
   "cell_type": "markdown",
   "id": "789b8450",
   "metadata": {
    "hidden": true
   },
   "source": [
    "- Cân nhắc kĩ khi lựa chọn dữ liệu để phân tích\n",
    "- Thông thạo hơn về cách sử dụng git và github"
   ]
  },
  {
   "cell_type": "markdown",
   "id": "8cce21e0",
   "metadata": {
    "hidden": true
   },
   "source": [
    "**Huy**"
   ]
  },
  {
   "cell_type": "markdown",
   "id": "f978f764",
   "metadata": {
    "hidden": true
   },
   "source": [
    "- **Thứ nhất, các công cụ, thư viện, ...** <br>\n",
    "Môn học này là một môn chuyên nghành rất là hay. Có thể cũng vì do chuyên nghành này có môn học này nên em đã cảm thấy thích hơn về \"Khoa Học Dữ Liệu\" vì nó giúp em cảm thấy có đường đi rõ ràng và một cơ sở vững chắc. Thông qua môn học này em đã củng cố được các kiến thức về các công cụ, thư viện,... gọi tắt là các tool và cách sử dụng cho sự nghiệp Khoa Học Dữ liệu sau này của chúng em!"
   ]
  },
  {
   "cell_type": "markdown",
   "id": "163f5e0c",
   "metadata": {
    "hidden": true
   },
   "source": [
    "- **Thứ hai, cách xử lí khi gặp vấn đề.** <br>\n",
    "Phải nói rằng bản thân em là một người rất kém về việc xử lý khi gặp vấn đề. Mỗi khi có bug hay là gặp trục trặc về máy,... em đều có các hướng giải quyết không thông minh lắm và đôi khi còn ngu ngốc nữa. Nên em cảm thấy rất buồn về bản thân mình. Nhưng sau khi học môn học này, sau mỗi lần xem thầy demo cũng như là giải đáp thắc mắc(như là môi trường min_ds-env) thì em nhận thấy được cách xử lý vấn đề trước giờ của mình là không ổn. Và qua đó có cơ hội để cải thiện cho tương lai sau này. "
   ]
  },
  {
   "cell_type": "markdown",
   "id": "d9ab265e",
   "metadata": {
    "hidden": true
   },
   "source": [
    "- **Thứ ba, làm việc nhóm.** <br>\n",
    "Dù rằng qua các kì trước thì chúng em đã không lạ gì với việc làm việc nhóm. Nhưng đối với GitHub thì đây là lần đầu tiên đối với em. Do đó, thông qua đồ án này mà em có cơ hội để trải nghiệm và nhận ra sức mạnh của GitHub. Qua đó, có thể em sẽ tìm hiểu và chú tâm hơn về công cụ này cho tương lai trước mắt là tìm cơ hội thực tập ở học kì tới! "
   ]
  },
  {
   "cell_type": "markdown",
   "id": "2a7862af",
   "metadata": {
    "heading_collapsed": true
   },
   "source": [
    "## Nếu có thêm thời gian sẽ làm gì"
   ]
  },
  {
   "cell_type": "markdown",
   "id": "678490ef",
   "metadata": {
    "hidden": true
   },
   "source": [
    "- **Đầu tiên việc đầu tiên em sẽ làm là tìm hiểu thêm về học máy.** <br>\n",
    "Nội dung đồ án của chúng em là dựa trên dữ liệu để dự đoán xem số lượng xe thuê trong một ngày là bao nhiêu. Với đầu vào một thông tin về thời tiết và ngày. Sau đó, ta sẽ đưa ra được dự đoán xem ngày đó ta cần chuẩn bị bao nhiêu xe đạp để đáp ứng như cầu. Cũng như thuận tiện cho việc bảo dưỡng và sửa chữa các xe bị hỏng hóc."
   ]
  },
  {
   "cell_type": "markdown",
   "id": "6676f46e",
   "metadata": {
    "hidden": true
   },
   "source": [
    "- **Tiếp đến chúng em sẽ tìm hiểu thêm về dữ liệu.** <br>\n",
    "Mặc dù dữ liệu chúng em lựa chọn chỉ có một năm và 14 thuộc tính. Tuy nhiên để nói là hiểu hết về dữ liệu này thì chúng em không dám khẳng định do đó nếu có thêm thời gian việc chúng em cần làm là tìm hiểu và khám phá lại dữ liệu này. Bên cạnh đó thì có thể thu thập thêm dữ liệu các năm tiếp theo để thuận tiện hơn cho việc dự đoán cũng như là việc khám phá dữ liệu."
   ]
  },
  {
   "cell_type": "markdown",
   "id": "7b61173e",
   "metadata": {
    "hidden": true
   },
   "source": [
    "- **Thứ ba là tham khảo bài làm của các nhóm cũng như các tài nguyên khác.** <br>\n",
    "Chúng em hiểu rằng mình là người mới trong lĩnh vực này. Do đó, việc học hỏi và tìm hiểu là việc hết sức cần thiết. Do đó, nếu có thời gian thì em sẽ tham khảo thêm bài làm của các bạn và các tài nguyên trên mạng hay sách vở khác để qua đó rút được kinh nghiệm cho mình và có thể hoàn thiện bài làm này được tốt hơn.\n"
   ]
  },
  {
   "cell_type": "markdown",
   "id": "8017d024",
   "metadata": {
    "hidden": true
   },
   "source": [
    "- **Thứ 4 là nghiên cứu thêm thư viện trực quan hóa dữ liệu Plotly, có thể giúp người xem tương tác với biểu đồ**"
   ]
  },
  {
   "cell_type": "markdown",
   "id": "75ecd96e",
   "metadata": {},
   "source": [
    "# Tài liệu tham khảo"
   ]
  },
  {
   "cell_type": "markdown",
   "id": "4d9a3496",
   "metadata": {},
   "source": [
    "- Một số thông tin về hệ thống chia sẻ xe đạp tai Seoul :https://www.tandfonline.com/doi/full/10.1080/22797254.2020.1725789 \n",
    "- Lịch nghỉ lễ và thông tin về các ngày lễ tại Hàn Quốc vào năm 2018 https://en.wikipedia.org/wiki/Public_holidays_in_South_Korea \n",
    "- Liên hệ giữa độ ẩm, nhiệt độ hóa sương và nhiệt độ thực: http://tornado.sfsu.edu/geosciences/classes/m356/Dewpoint.htm \n",
    "- **Python for DataScience**\n",
    "- **DataScience from scratch**\n",
    "- **Bài thực hành môn Nhập Môn Khoa Học Dữ liệu**\n",
    "- **Bài thực hành môn Lập Trình Cho Khoa Học Dữ liệu**"
   ]
  }
 ],
 "metadata": {
  "hide_input": false,
  "kernelspec": {
   "display_name": "Python 3",
   "language": "python",
   "name": "python3"
  },
  "language_info": {
   "codemirror_mode": {
    "name": "ipython",
    "version": 3
   },
   "file_extension": ".py",
   "mimetype": "text/x-python",
   "name": "python",
   "nbconvert_exporter": "python",
   "pygments_lexer": "ipython3",
   "version": "3.8.5"
  },
  "nbTranslate": {
   "displayLangs": [
    "*"
   ],
   "hotkey": "alt-t",
   "langInMainMenu": true,
   "sourceLang": "en",
   "targetLang": "fr",
   "useGoogleTranslate": true
  },
  "toc": {
   "base_numbering": 1,
   "nav_menu": {},
   "number_sections": true,
   "sideBar": true,
   "skip_h1_title": false,
   "title_cell": "Table of Contents",
   "title_sidebar": "Contents",
   "toc_cell": false,
   "toc_position": {
    "height": "calc(100% - 180px)",
    "left": "10px",
    "top": "150px",
    "width": "291.076px"
   },
   "toc_section_display": true,
   "toc_window_display": false
  }
 },
 "nbformat": 4,
 "nbformat_minor": 5
}
