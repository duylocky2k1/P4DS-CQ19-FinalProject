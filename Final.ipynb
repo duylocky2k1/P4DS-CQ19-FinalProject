{
 "cells": [
  {
   "cell_type": "markdown",
   "id": "4d6da911",
   "metadata": {},
   "source": [
    "# Link github: \n",
    "Bản quyền bài làm thuộc về nhóm. Các hành vi sao chép và sử dụng phải được sự đồng ý của chủ sở hữu"
   ]
  },
  {
   "cell_type": "markdown",
   "id": "54d9173f",
   "metadata": {},
   "source": [
    "https://github.com/nightfury1103/P4DS-CQ19-FinalProject"
   ]
  },
  {
   "cell_type": "markdown",
   "id": "f80d2810",
   "metadata": {},
   "source": [
    "# Import"
   ]
  },
  {
   "cell_type": "markdown",
   "id": "3e965408",
   "metadata": {},
   "source": [
    "Các thư viện cần thiết cho đồ án này"
   ]
  },
  {
   "cell_type": "code",
   "execution_count": 76,
   "id": "850e094d",
   "metadata": {
    "ExecuteTime": {
     "end_time": "2021-12-29T03:46:00.279226Z",
     "start_time": "2021-12-29T03:46:00.271233Z"
    }
   },
   "outputs": [],
   "source": [
    "import pandas as pd\n",
    "import numpy as np\n",
    "import matplotlib.pyplot as plt\n",
    "import seaborn as sns\n",
    "pd.set_option('display.max_columns', None)  "
   ]
  },
  {
   "cell_type": "markdown",
   "id": "22db6815",
   "metadata": {},
   "source": [
    "# Thu thập dữ liệu"
   ]
  },
  {
   "cell_type": "markdown",
   "id": "d3fdef72",
   "metadata": {},
   "source": [
    "## Dữ liệu của bạn là về chủ đề gì "
   ]
  },
  {
   "cell_type": "markdown",
   "id": "8b92e73f",
   "metadata": {
    "ExecuteTime": {
     "end_time": "2021-12-22T13:09:34.139258Z",
     "start_time": "2021-12-22T13:09:34.127270Z"
    }
   },
   "source": [
    "- Tập dữ liệu đưa ra các mô tả ngắn gọn các thông tin như thời điểm, cường độ, số người thiệt mạng, số người mất tích ,... về các cơn sóng thần xảy ra từ năm 1980 đến năm 2021\n",
    "- Dữ liệu có tổng cộng 26 cột với các thông tin từ ngày tháng đến các thống kê về mức độ thiệt hại cụ thể như thế nào chúng ta sẽ đi sâu hơn ở các phần dưới."
   ]
  },
  {
   "cell_type": "markdown",
   "id": "e3240899",
   "metadata": {},
   "source": [
    "## Nguồn dữ liệu - Quyền sử dụng"
   ]
  },
  {
   "cell_type": "markdown",
   "id": "0d933bdc",
   "metadata": {
    "ExecuteTime": {
     "end_time": "2021-12-22T13:06:31.468416Z",
     "start_time": "2021-12-22T13:06:31.447434Z"
    }
   },
   "source": [
    "- Dữ liệu sử dụng của notebook được public trên trang web **kaggle** với đường dẫn sau: [link](https://www.kaggle.com/ramjasmaurya/historical-data-of-tsunamis18002021).\n",
    "- Về vấn đề quyền sử dụng: Tác giả đề cập đến vấn đề quyền sử dụng dựa theo [CC0 1.0 Universal (CC0 1.0) Public Domain Dedication](https://creativecommons.org/publicdomain/zero/1.0/)\n",
    "\n",
    "**Lưu ý: Các hành vi, vi phạm về quyền sử dụng nêu trên đều không thuộc trách nhiệm của tác giả đồ án này**"
   ]
  },
  {
   "cell_type": "markdown",
   "id": "8d0c6670",
   "metadata": {},
   "source": [
    "## Người ta thu thập dữ liệu như thế nào?"
   ]
  },
  {
   "cell_type": "markdown",
   "id": "2a71ce0a",
   "metadata": {},
   "source": [
    "Trong phần mô tả của dữ liệu, tác giả có đề cập đến cách dữ liệu được thu thập bằng cách là thu thập từ trang https://www.ngdc.noaa.gov/hazard/tsu_db.shtml là cơ quan quản trị khí quyển và đại dương quốc gia (National Oceanic and Atmospheric Administration - NOAA) trực thuộc của Mỹ với các cơ sở dữ liệu **Tsunami Runup** và **Tsunami Source Event**"
   ]
  },
  {
   "cell_type": "markdown",
   "id": "388f9d15",
   "metadata": {},
   "source": [
    "## Mô tả dữ liệu"
   ]
  },
  {
   "cell_type": "markdown",
   "id": "6d1faad6",
   "metadata": {},
   "source": [
    "Như đã nói ở trên thì đây là dữ liệu ngắn gọn về các cơn sóng thần xảy ra từ năm 1800 và 2021. Dưới đây là bản mô tả đầy đủ dữ liệu do tác giả đưa ra. Mặc dù các thông tin cũng sẽ được đề cập ở phần dữ liệu các cột. Nhưng để tôn trọng và biết ơn tác giả trong đồ án này ta sẽ vẫn đưa ra mô tả gốc của tác giả!"
   ]
  },
  {
   "cell_type": "markdown",
   "id": "86e66ca2",
   "metadata": {
    "ExecuteTime": {
     "end_time": "2021-12-23T02:16:08.941034Z",
     "start_time": "2021-12-23T02:16:08.921055Z"
    }
   },
   "source": [
    "DATASET gives brief description of Tsunamis that were happened between the years 1800 to 2021.\n",
    "\n",
    "Dataset has 26 columns all including from date metrics to measure metrics with its damages.\n",
    "\n",
    "Some info:\n",
    "\n",
    "Tsunami Event Database contains information on the source of the tsunami. It is related to the Tsunami Runup database which contains information on locations where tsunami effects occurred.\n",
    "\n",
    "Tsunami Runup Database contains information on locations where tsunami effects occurred. It is related to the Tsunami Source Event database which contains information on the source of the tsunami.\n",
    "\n",
    "Tsunami deposits are the physical evidence left behind when a tsunami impacts a shoreline or affects submarine sediments. These deposits can be preserved in the geologic record and studied long after the tsunami waves dissipate.\n",
    "\n",
    "tsunami marigrams from analog (microfiche) to high-resolution digital images. Microfiche were created in the 1970s from deteriorating paper records. The collection includes records from 1854 to 1981."
   ]
  },
  {
   "cell_type": "markdown",
   "id": "8476f0ba",
   "metadata": {},
   "source": [
    "# Khám phá dữ liệu"
   ]
  },
  {
   "cell_type": "markdown",
   "id": "21438e73",
   "metadata": {},
   "source": [
    "## Đọc dữ liệu"
   ]
  },
  {
   "cell_type": "code",
   "execution_count": 77,
   "id": "3e27a23a",
   "metadata": {
    "ExecuteTime": {
     "end_time": "2021-12-29T03:46:03.241962Z",
     "start_time": "2021-12-29T03:46:03.130064Z"
    }
   },
   "outputs": [
    {
     "data": {
      "text/html": [
       "<div>\n",
       "<style scoped>\n",
       "    .dataframe tbody tr th:only-of-type {\n",
       "        vertical-align: middle;\n",
       "    }\n",
       "\n",
       "    .dataframe tbody tr th {\n",
       "        vertical-align: top;\n",
       "    }\n",
       "\n",
       "    .dataframe thead th {\n",
       "        text-align: right;\n",
       "    }\n",
       "</style>\n",
       "<table border=\"1\" class=\"dataframe\">\n",
       "  <thead>\n",
       "    <tr style=\"text-align: right;\">\n",
       "      <th></th>\n",
       "      <th>Year</th>\n",
       "      <th>Mo</th>\n",
       "      <th>Dy</th>\n",
       "      <th>Hr</th>\n",
       "      <th>Mn</th>\n",
       "      <th>Sec</th>\n",
       "      <th>Tsunami Event Validity</th>\n",
       "      <th>Tsunami Cause Code</th>\n",
       "      <th>Earthquake Magnitude</th>\n",
       "      <th>Deposits</th>\n",
       "      <th>Country</th>\n",
       "      <th>Location Name</th>\n",
       "      <th>Latitude</th>\n",
       "      <th>Longitude</th>\n",
       "      <th>Maximum Water Height (m)</th>\n",
       "      <th>Number of Runups</th>\n",
       "      <th>Tsunami Magnitude (Iida)</th>\n",
       "      <th>Tsunami Intensity</th>\n",
       "      <th>Total Deaths</th>\n",
       "      <th>Total Missing</th>\n",
       "      <th>Total Missing Description</th>\n",
       "      <th>Total Injuries</th>\n",
       "      <th>Total Damage ($Mil)</th>\n",
       "      <th>Total Damage Description</th>\n",
       "      <th>Total Houses Destroyed</th>\n",
       "      <th>Total Houses Damaged</th>\n",
       "    </tr>\n",
       "  </thead>\n",
       "  <tbody>\n",
       "    <tr>\n",
       "      <th>0</th>\n",
       "      <td>NaN</td>\n",
       "      <td>NaN</td>\n",
       "      <td>NaN</td>\n",
       "      <td>NaN</td>\n",
       "      <td>NaN</td>\n",
       "      <td>NaN</td>\n",
       "      <td>NaN</td>\n",
       "      <td>NaN</td>\n",
       "      <td>NaN</td>\n",
       "      <td>NaN</td>\n",
       "      <td>NaN</td>\n",
       "      <td>NaN</td>\n",
       "      <td>NaN</td>\n",
       "      <td>NaN</td>\n",
       "      <td>NaN</td>\n",
       "      <td>NaN</td>\n",
       "      <td>NaN</td>\n",
       "      <td>NaN</td>\n",
       "      <td>NaN</td>\n",
       "      <td>NaN</td>\n",
       "      <td>NaN</td>\n",
       "      <td>NaN</td>\n",
       "      <td>NaN</td>\n",
       "      <td>NaN</td>\n",
       "      <td>NaN</td>\n",
       "      <td>NaN</td>\n",
       "    </tr>\n",
       "    <tr>\n",
       "      <th>1</th>\n",
       "      <td>1800.0</td>\n",
       "      <td>6.0</td>\n",
       "      <td>2.0</td>\n",
       "      <td>20.0</td>\n",
       "      <td>17.0</td>\n",
       "      <td>NaN</td>\n",
       "      <td>2.0</td>\n",
       "      <td>1.0</td>\n",
       "      <td>NaN</td>\n",
       "      <td>0.0</td>\n",
       "      <td>PORTUGAL</td>\n",
       "      <td>AZORES</td>\n",
       "      <td>NaN</td>\n",
       "      <td>NaN</td>\n",
       "      <td>NaN</td>\n",
       "      <td>1.0</td>\n",
       "      <td>NaN</td>\n",
       "      <td>NaN</td>\n",
       "      <td>NaN</td>\n",
       "      <td>NaN</td>\n",
       "      <td>NaN</td>\n",
       "      <td>NaN</td>\n",
       "      <td>NaN</td>\n",
       "      <td>NaN</td>\n",
       "      <td>NaN</td>\n",
       "      <td>NaN</td>\n",
       "    </tr>\n",
       "    <tr>\n",
       "      <th>2</th>\n",
       "      <td>1802.0</td>\n",
       "      <td>1.0</td>\n",
       "      <td>4.0</td>\n",
       "      <td>7.0</td>\n",
       "      <td>NaN</td>\n",
       "      <td>NaN</td>\n",
       "      <td>2.0</td>\n",
       "      <td>1.0</td>\n",
       "      <td>NaN</td>\n",
       "      <td>0.0</td>\n",
       "      <td>CROATIA</td>\n",
       "      <td>BAKAR</td>\n",
       "      <td>45.3</td>\n",
       "      <td>14.4</td>\n",
       "      <td>NaN</td>\n",
       "      <td>3.0</td>\n",
       "      <td>NaN</td>\n",
       "      <td>3.0</td>\n",
       "      <td>NaN</td>\n",
       "      <td>NaN</td>\n",
       "      <td>NaN</td>\n",
       "      <td>NaN</td>\n",
       "      <td>NaN</td>\n",
       "      <td>NaN</td>\n",
       "      <td>NaN</td>\n",
       "      <td>NaN</td>\n",
       "    </tr>\n",
       "    <tr>\n",
       "      <th>3</th>\n",
       "      <td>1802.0</td>\n",
       "      <td>3.0</td>\n",
       "      <td>19.0</td>\n",
       "      <td>NaN</td>\n",
       "      <td>NaN</td>\n",
       "      <td>NaN</td>\n",
       "      <td>2.0</td>\n",
       "      <td>1.0</td>\n",
       "      <td>NaN</td>\n",
       "      <td>0.0</td>\n",
       "      <td>ANTIGUA AND BARBUDA</td>\n",
       "      <td>ANTIGUA ISLAND &amp; ST. CHRISTOPHER</td>\n",
       "      <td>17.2</td>\n",
       "      <td>-62.4</td>\n",
       "      <td>NaN</td>\n",
       "      <td>2.0</td>\n",
       "      <td>NaN</td>\n",
       "      <td>NaN</td>\n",
       "      <td>NaN</td>\n",
       "      <td>NaN</td>\n",
       "      <td>NaN</td>\n",
       "      <td>NaN</td>\n",
       "      <td>NaN</td>\n",
       "      <td>NaN</td>\n",
       "      <td>NaN</td>\n",
       "      <td>NaN</td>\n",
       "    </tr>\n",
       "    <tr>\n",
       "      <th>4</th>\n",
       "      <td>1802.0</td>\n",
       "      <td>8.0</td>\n",
       "      <td>10.0</td>\n",
       "      <td>NaN</td>\n",
       "      <td>NaN</td>\n",
       "      <td>NaN</td>\n",
       "      <td>1.0</td>\n",
       "      <td>0.0</td>\n",
       "      <td>NaN</td>\n",
       "      <td>0.0</td>\n",
       "      <td>UK</td>\n",
       "      <td>SW ENGLAND</td>\n",
       "      <td>NaN</td>\n",
       "      <td>NaN</td>\n",
       "      <td>NaN</td>\n",
       "      <td>2.0</td>\n",
       "      <td>NaN</td>\n",
       "      <td>NaN</td>\n",
       "      <td>NaN</td>\n",
       "      <td>NaN</td>\n",
       "      <td>NaN</td>\n",
       "      <td>NaN</td>\n",
       "      <td>NaN</td>\n",
       "      <td>NaN</td>\n",
       "      <td>NaN</td>\n",
       "      <td>NaN</td>\n",
       "    </tr>\n",
       "  </tbody>\n",
       "</table>\n",
       "</div>"
      ],
      "text/plain": [
       "     Year   Mo    Dy    Hr    Mn  Sec  Tsunami Event Validity  \\\n",
       "0     NaN  NaN   NaN   NaN   NaN  NaN                     NaN   \n",
       "1  1800.0  6.0   2.0  20.0  17.0  NaN                     2.0   \n",
       "2  1802.0  1.0   4.0   7.0   NaN  NaN                     2.0   \n",
       "3  1802.0  3.0  19.0   NaN   NaN  NaN                     2.0   \n",
       "4  1802.0  8.0  10.0   NaN   NaN  NaN                     1.0   \n",
       "\n",
       "   Tsunami Cause Code  Earthquake Magnitude  Deposits              Country  \\\n",
       "0                 NaN                   NaN       NaN                  NaN   \n",
       "1                 1.0                   NaN       0.0             PORTUGAL   \n",
       "2                 1.0                   NaN       0.0              CROATIA   \n",
       "3                 1.0                   NaN       0.0  ANTIGUA AND BARBUDA   \n",
       "4                 0.0                   NaN       0.0                   UK   \n",
       "\n",
       "                      Location Name  Latitude  Longitude  \\\n",
       "0                               NaN       NaN        NaN   \n",
       "1                            AZORES       NaN        NaN   \n",
       "2                             BAKAR      45.3       14.4   \n",
       "3  ANTIGUA ISLAND & ST. CHRISTOPHER      17.2      -62.4   \n",
       "4                        SW ENGLAND       NaN        NaN   \n",
       "\n",
       "   Maximum Water Height (m)  Number of Runups  Tsunami Magnitude (Iida)  \\\n",
       "0                       NaN               NaN                       NaN   \n",
       "1                       NaN               1.0                       NaN   \n",
       "2                       NaN               3.0                       NaN   \n",
       "3                       NaN               2.0                       NaN   \n",
       "4                       NaN               2.0                       NaN   \n",
       "\n",
       "   Tsunami Intensity  Total Deaths  Total Missing  Total Missing Description  \\\n",
       "0                NaN           NaN            NaN                        NaN   \n",
       "1                NaN           NaN            NaN                        NaN   \n",
       "2                3.0           NaN            NaN                        NaN   \n",
       "3                NaN           NaN            NaN                        NaN   \n",
       "4                NaN           NaN            NaN                        NaN   \n",
       "\n",
       "   Total Injuries  Total Damage ($Mil)  Total Damage Description  \\\n",
       "0             NaN                  NaN                       NaN   \n",
       "1             NaN                  NaN                       NaN   \n",
       "2             NaN                  NaN                       NaN   \n",
       "3             NaN                  NaN                       NaN   \n",
       "4             NaN                  NaN                       NaN   \n",
       "\n",
       "   Total Houses Destroyed  Total Houses Damaged  \n",
       "0                     NaN                   NaN  \n",
       "1                     NaN                   NaN  \n",
       "2                     NaN                   NaN  \n",
       "3                     NaN                   NaN  \n",
       "4                     NaN                   NaN  "
      ]
     },
     "execution_count": 77,
     "metadata": {},
     "output_type": "execute_result"
    }
   ],
   "source": [
    "df = pd.read_csv('Data/tsunami.csv')\n",
    "df.head()"
   ]
  },
  {
   "cell_type": "markdown",
   "id": "bc7a088f",
   "metadata": {},
   "source": [
    "## Dữ liệu có bao nhiêu dòng và cột ? "
   ]
  },
  {
   "cell_type": "markdown",
   "id": "88cd925a",
   "metadata": {},
   "source": [
    "Dựa vào dữ liệu đưa vào ta có thể thấy dữ liệu bị trống ở dòng đầu tiên. Do đó, ta sẽ thực hiệp xóa dòng này trước khi khám phá dữ liệu"
   ]
  },
  {
   "cell_type": "code",
   "execution_count": 3,
   "id": "66c92708",
   "metadata": {
    "ExecuteTime": {
     "end_time": "2021-12-29T02:24:08.542464Z",
     "start_time": "2021-12-29T02:24:08.518487Z"
    }
   },
   "outputs": [],
   "source": [
    "df = df.drop(0, axis=0)"
   ]
  },
  {
   "cell_type": "code",
   "execution_count": 4,
   "id": "cdcaa54e",
   "metadata": {
    "ExecuteTime": {
     "end_time": "2021-12-29T02:24:08.588420Z",
     "start_time": "2021-12-29T02:24:08.554455Z"
    }
   },
   "outputs": [
    {
     "data": {
      "text/plain": [
       "(2161, 26)"
      ]
     },
     "execution_count": 4,
     "metadata": {},
     "output_type": "execute_result"
    }
   ],
   "source": [
    "n_rows, n_col = df.shape\n",
    "n_rows, n_col"
   ]
  },
  {
   "cell_type": "markdown",
   "id": "4e90fac6",
   "metadata": {},
   "source": [
    "- Dữ liệu có 2161 dòng và 26 cột"
   ]
  },
  {
   "cell_type": "markdown",
   "id": "4c44c0eb",
   "metadata": {},
   "source": [
    "## Các dòng dữ liệu"
   ]
  },
  {
   "cell_type": "markdown",
   "id": "51b0cefd",
   "metadata": {},
   "source": [
    "### Mỗi dòng có ý nghĩa gì? Có vấn đề các dòng có ý nghĩa khác nhau không?"
   ]
  },
  {
   "cell_type": "code",
   "execution_count": 5,
   "id": "786591ca",
   "metadata": {
    "ExecuteTime": {
     "end_time": "2021-12-29T02:24:08.730293Z",
     "start_time": "2021-12-29T02:24:08.595415Z"
    }
   },
   "outputs": [
    {
     "data": {
      "text/html": [
       "<div>\n",
       "<style scoped>\n",
       "    .dataframe tbody tr th:only-of-type {\n",
       "        vertical-align: middle;\n",
       "    }\n",
       "\n",
       "    .dataframe tbody tr th {\n",
       "        vertical-align: top;\n",
       "    }\n",
       "\n",
       "    .dataframe thead th {\n",
       "        text-align: right;\n",
       "    }\n",
       "</style>\n",
       "<table border=\"1\" class=\"dataframe\">\n",
       "  <thead>\n",
       "    <tr style=\"text-align: right;\">\n",
       "      <th></th>\n",
       "      <th>Year</th>\n",
       "      <th>Mo</th>\n",
       "      <th>Dy</th>\n",
       "      <th>Hr</th>\n",
       "      <th>Mn</th>\n",
       "      <th>Sec</th>\n",
       "      <th>Tsunami Event Validity</th>\n",
       "      <th>Tsunami Cause Code</th>\n",
       "      <th>Earthquake Magnitude</th>\n",
       "      <th>Deposits</th>\n",
       "      <th>Country</th>\n",
       "      <th>Location Name</th>\n",
       "      <th>Latitude</th>\n",
       "      <th>Longitude</th>\n",
       "      <th>Maximum Water Height (m)</th>\n",
       "    </tr>\n",
       "  </thead>\n",
       "  <tbody>\n",
       "    <tr>\n",
       "      <th>1</th>\n",
       "      <td>1800.0</td>\n",
       "      <td>6.0</td>\n",
       "      <td>2.0</td>\n",
       "      <td>20.0</td>\n",
       "      <td>17.0</td>\n",
       "      <td>NaN</td>\n",
       "      <td>2.0</td>\n",
       "      <td>1.0</td>\n",
       "      <td>NaN</td>\n",
       "      <td>0.0</td>\n",
       "      <td>PORTUGAL</td>\n",
       "      <td>AZORES</td>\n",
       "      <td>NaN</td>\n",
       "      <td>NaN</td>\n",
       "      <td>NaN</td>\n",
       "    </tr>\n",
       "    <tr>\n",
       "      <th>2</th>\n",
       "      <td>1802.0</td>\n",
       "      <td>1.0</td>\n",
       "      <td>4.0</td>\n",
       "      <td>7.0</td>\n",
       "      <td>NaN</td>\n",
       "      <td>NaN</td>\n",
       "      <td>2.0</td>\n",
       "      <td>1.0</td>\n",
       "      <td>NaN</td>\n",
       "      <td>0.0</td>\n",
       "      <td>CROATIA</td>\n",
       "      <td>BAKAR</td>\n",
       "      <td>45.300</td>\n",
       "      <td>14.400</td>\n",
       "      <td>NaN</td>\n",
       "    </tr>\n",
       "    <tr>\n",
       "      <th>3</th>\n",
       "      <td>1802.0</td>\n",
       "      <td>3.0</td>\n",
       "      <td>19.0</td>\n",
       "      <td>NaN</td>\n",
       "      <td>NaN</td>\n",
       "      <td>NaN</td>\n",
       "      <td>2.0</td>\n",
       "      <td>1.0</td>\n",
       "      <td>NaN</td>\n",
       "      <td>0.0</td>\n",
       "      <td>ANTIGUA AND BARBUDA</td>\n",
       "      <td>ANTIGUA ISLAND &amp; ST. CHRISTOPHER</td>\n",
       "      <td>17.200</td>\n",
       "      <td>-62.400</td>\n",
       "      <td>NaN</td>\n",
       "    </tr>\n",
       "    <tr>\n",
       "      <th>4</th>\n",
       "      <td>1802.0</td>\n",
       "      <td>8.0</td>\n",
       "      <td>10.0</td>\n",
       "      <td>NaN</td>\n",
       "      <td>NaN</td>\n",
       "      <td>NaN</td>\n",
       "      <td>1.0</td>\n",
       "      <td>0.0</td>\n",
       "      <td>NaN</td>\n",
       "      <td>0.0</td>\n",
       "      <td>UK</td>\n",
       "      <td>SW ENGLAND</td>\n",
       "      <td>NaN</td>\n",
       "      <td>NaN</td>\n",
       "      <td>NaN</td>\n",
       "    </tr>\n",
       "    <tr>\n",
       "      <th>5</th>\n",
       "      <td>1802.0</td>\n",
       "      <td>8.0</td>\n",
       "      <td>15.0</td>\n",
       "      <td>NaN</td>\n",
       "      <td>NaN</td>\n",
       "      <td>NaN</td>\n",
       "      <td>3.0</td>\n",
       "      <td>1.0</td>\n",
       "      <td>NaN</td>\n",
       "      <td>0.0</td>\n",
       "      <td>VENEZUELA</td>\n",
       "      <td>CUMANA</td>\n",
       "      <td>10.300</td>\n",
       "      <td>-64.500</td>\n",
       "      <td>NaN</td>\n",
       "    </tr>\n",
       "    <tr>\n",
       "      <th>...</th>\n",
       "      <td>...</td>\n",
       "      <td>...</td>\n",
       "      <td>...</td>\n",
       "      <td>...</td>\n",
       "      <td>...</td>\n",
       "      <td>...</td>\n",
       "      <td>...</td>\n",
       "      <td>...</td>\n",
       "      <td>...</td>\n",
       "      <td>...</td>\n",
       "      <td>...</td>\n",
       "      <td>...</td>\n",
       "      <td>...</td>\n",
       "      <td>...</td>\n",
       "      <td>...</td>\n",
       "    </tr>\n",
       "    <tr>\n",
       "      <th>2157</th>\n",
       "      <td>2021.0</td>\n",
       "      <td>8.0</td>\n",
       "      <td>11.0</td>\n",
       "      <td>17.0</td>\n",
       "      <td>46.0</td>\n",
       "      <td>14.0</td>\n",
       "      <td>4.0</td>\n",
       "      <td>1.0</td>\n",
       "      <td>7.1</td>\n",
       "      <td>0.0</td>\n",
       "      <td>PHILIPPINES</td>\n",
       "      <td>MINDANAO ISLAND, PHILIPPINES</td>\n",
       "      <td>6.455</td>\n",
       "      <td>126.742</td>\n",
       "      <td>0.05</td>\n",
       "    </tr>\n",
       "    <tr>\n",
       "      <th>2158</th>\n",
       "      <td>2021.0</td>\n",
       "      <td>8.0</td>\n",
       "      <td>12.0</td>\n",
       "      <td>18.0</td>\n",
       "      <td>35.0</td>\n",
       "      <td>20.0</td>\n",
       "      <td>4.0</td>\n",
       "      <td>1.0</td>\n",
       "      <td>8.1</td>\n",
       "      <td>0.0</td>\n",
       "      <td>UK TERRITORY</td>\n",
       "      <td>SOUTHERN ATLANTIC OCEAN</td>\n",
       "      <td>-58.416</td>\n",
       "      <td>-25.321</td>\n",
       "      <td>0.64</td>\n",
       "    </tr>\n",
       "    <tr>\n",
       "      <th>2159</th>\n",
       "      <td>2021.0</td>\n",
       "      <td>8.0</td>\n",
       "      <td>14.0</td>\n",
       "      <td>12.0</td>\n",
       "      <td>29.0</td>\n",
       "      <td>8.0</td>\n",
       "      <td>4.0</td>\n",
       "      <td>1.0</td>\n",
       "      <td>7.2</td>\n",
       "      <td>0.0</td>\n",
       "      <td>HAITI</td>\n",
       "      <td>PORT-AU-PRINCE</td>\n",
       "      <td>18.408</td>\n",
       "      <td>-73.475</td>\n",
       "      <td>NaN</td>\n",
       "    </tr>\n",
       "    <tr>\n",
       "      <th>2160</th>\n",
       "      <td>2021.0</td>\n",
       "      <td>9.0</td>\n",
       "      <td>8.0</td>\n",
       "      <td>1.0</td>\n",
       "      <td>47.0</td>\n",
       "      <td>47.0</td>\n",
       "      <td>4.0</td>\n",
       "      <td>1.0</td>\n",
       "      <td>7.0</td>\n",
       "      <td>0.0</td>\n",
       "      <td>MEXICO</td>\n",
       "      <td>S. MEXICO</td>\n",
       "      <td>16.982</td>\n",
       "      <td>-99.773</td>\n",
       "      <td>0.48</td>\n",
       "    </tr>\n",
       "    <tr>\n",
       "      <th>2161</th>\n",
       "      <td>2021.0</td>\n",
       "      <td>10.0</td>\n",
       "      <td>12.0</td>\n",
       "      <td>9.0</td>\n",
       "      <td>24.0</td>\n",
       "      <td>3.0</td>\n",
       "      <td>2.0</td>\n",
       "      <td>1.0</td>\n",
       "      <td>6.4</td>\n",
       "      <td>0.0</td>\n",
       "      <td>GREECE</td>\n",
       "      <td>CRETE</td>\n",
       "      <td>35.193</td>\n",
       "      <td>26.256</td>\n",
       "      <td>NaN</td>\n",
       "    </tr>\n",
       "  </tbody>\n",
       "</table>\n",
       "<p>2161 rows × 15 columns</p>\n",
       "</div>"
      ],
      "text/plain": [
       "        Year    Mo    Dy    Hr    Mn   Sec  Tsunami Event Validity  \\\n",
       "1     1800.0   6.0   2.0  20.0  17.0   NaN                     2.0   \n",
       "2     1802.0   1.0   4.0   7.0   NaN   NaN                     2.0   \n",
       "3     1802.0   3.0  19.0   NaN   NaN   NaN                     2.0   \n",
       "4     1802.0   8.0  10.0   NaN   NaN   NaN                     1.0   \n",
       "5     1802.0   8.0  15.0   NaN   NaN   NaN                     3.0   \n",
       "...      ...   ...   ...   ...   ...   ...                     ...   \n",
       "2157  2021.0   8.0  11.0  17.0  46.0  14.0                     4.0   \n",
       "2158  2021.0   8.0  12.0  18.0  35.0  20.0                     4.0   \n",
       "2159  2021.0   8.0  14.0  12.0  29.0   8.0                     4.0   \n",
       "2160  2021.0   9.0   8.0   1.0  47.0  47.0                     4.0   \n",
       "2161  2021.0  10.0  12.0   9.0  24.0   3.0                     2.0   \n",
       "\n",
       "      Tsunami Cause Code  Earthquake Magnitude  Deposits              Country  \\\n",
       "1                    1.0                   NaN       0.0             PORTUGAL   \n",
       "2                    1.0                   NaN       0.0              CROATIA   \n",
       "3                    1.0                   NaN       0.0  ANTIGUA AND BARBUDA   \n",
       "4                    0.0                   NaN       0.0                   UK   \n",
       "5                    1.0                   NaN       0.0            VENEZUELA   \n",
       "...                  ...                   ...       ...                  ...   \n",
       "2157                 1.0                   7.1       0.0          PHILIPPINES   \n",
       "2158                 1.0                   8.1       0.0         UK TERRITORY   \n",
       "2159                 1.0                   7.2       0.0                HAITI   \n",
       "2160                 1.0                   7.0       0.0               MEXICO   \n",
       "2161                 1.0                   6.4       0.0               GREECE   \n",
       "\n",
       "                         Location Name  Latitude  Longitude  \\\n",
       "1                               AZORES       NaN        NaN   \n",
       "2                                BAKAR    45.300     14.400   \n",
       "3     ANTIGUA ISLAND & ST. CHRISTOPHER    17.200    -62.400   \n",
       "4                           SW ENGLAND       NaN        NaN   \n",
       "5                               CUMANA    10.300    -64.500   \n",
       "...                                ...       ...        ...   \n",
       "2157      MINDANAO ISLAND, PHILIPPINES     6.455    126.742   \n",
       "2158           SOUTHERN ATLANTIC OCEAN   -58.416    -25.321   \n",
       "2159                    PORT-AU-PRINCE    18.408    -73.475   \n",
       "2160                         S. MEXICO    16.982    -99.773   \n",
       "2161                             CRETE    35.193     26.256   \n",
       "\n",
       "      Maximum Water Height (m)  \n",
       "1                          NaN  \n",
       "2                          NaN  \n",
       "3                          NaN  \n",
       "4                          NaN  \n",
       "5                          NaN  \n",
       "...                        ...  \n",
       "2157                      0.05  \n",
       "2158                      0.64  \n",
       "2159                       NaN  \n",
       "2160                      0.48  \n",
       "2161                       NaN  \n",
       "\n",
       "[2161 rows x 15 columns]"
      ]
     },
     "execution_count": 5,
     "metadata": {},
     "output_type": "execute_result"
    }
   ],
   "source": [
    "df.iloc[:,0:15]"
   ]
  },
  {
   "cell_type": "markdown",
   "id": "9486e875",
   "metadata": {},
   "source": [
    "- Mỗi dòng ứng với thông tin của 1 cơn sóng thần. Có vẻ không có dòng nào \"lạc loài\" (nghĩa là không có vấn đề các dòng có ý nghĩa khác nhau)."
   ]
  },
  {
   "cell_type": "markdown",
   "id": "7e04da5f",
   "metadata": {},
   "source": [
    "### Dữ liệu các dòng có bị lặp hay không?"
   ]
  },
  {
   "cell_type": "code",
   "execution_count": 6,
   "id": "c2918977",
   "metadata": {
    "ExecuteTime": {
     "end_time": "2021-12-29T02:24:08.839709Z",
     "start_time": "2021-12-29T02:24:08.736285Z"
    }
   },
   "outputs": [
    {
     "data": {
      "text/html": [
       "<div>\n",
       "<style scoped>\n",
       "    .dataframe tbody tr th:only-of-type {\n",
       "        vertical-align: middle;\n",
       "    }\n",
       "\n",
       "    .dataframe tbody tr th {\n",
       "        vertical-align: top;\n",
       "    }\n",
       "\n",
       "    .dataframe thead th {\n",
       "        text-align: right;\n",
       "    }\n",
       "</style>\n",
       "<table border=\"1\" class=\"dataframe\">\n",
       "  <thead>\n",
       "    <tr style=\"text-align: right;\">\n",
       "      <th></th>\n",
       "      <th>Year</th>\n",
       "      <th>Mo</th>\n",
       "      <th>Dy</th>\n",
       "      <th>Hr</th>\n",
       "      <th>Mn</th>\n",
       "      <th>Sec</th>\n",
       "      <th>Tsunami Event Validity</th>\n",
       "      <th>Tsunami Cause Code</th>\n",
       "      <th>Earthquake Magnitude</th>\n",
       "      <th>Deposits</th>\n",
       "      <th>...</th>\n",
       "      <th>Tsunami Magnitude (Iida)</th>\n",
       "      <th>Tsunami Intensity</th>\n",
       "      <th>Total Deaths</th>\n",
       "      <th>Total Missing</th>\n",
       "      <th>Total Missing Description</th>\n",
       "      <th>Total Injuries</th>\n",
       "      <th>Total Damage ($Mil)</th>\n",
       "      <th>Total Damage Description</th>\n",
       "      <th>Total Houses Destroyed</th>\n",
       "      <th>Total Houses Damaged</th>\n",
       "    </tr>\n",
       "  </thead>\n",
       "  <tbody>\n",
       "    <tr>\n",
       "      <th>1449</th>\n",
       "      <td>1961.0</td>\n",
       "      <td>10.0</td>\n",
       "      <td>18.0</td>\n",
       "      <td>16.0</td>\n",
       "      <td>51.0</td>\n",
       "      <td>57.0</td>\n",
       "      <td>1.0</td>\n",
       "      <td>1.0</td>\n",
       "      <td>6.5</td>\n",
       "      <td>0.0</td>\n",
       "      <td>...</td>\n",
       "      <td>NaN</td>\n",
       "      <td>NaN</td>\n",
       "      <td>NaN</td>\n",
       "      <td>NaN</td>\n",
       "      <td>NaN</td>\n",
       "      <td>NaN</td>\n",
       "      <td>NaN</td>\n",
       "      <td>1.0</td>\n",
       "      <td>NaN</td>\n",
       "      <td>NaN</td>\n",
       "    </tr>\n",
       "    <tr>\n",
       "      <th>1450</th>\n",
       "      <td>1961.0</td>\n",
       "      <td>10.0</td>\n",
       "      <td>18.0</td>\n",
       "      <td>16.0</td>\n",
       "      <td>51.0</td>\n",
       "      <td>57.0</td>\n",
       "      <td>1.0</td>\n",
       "      <td>1.0</td>\n",
       "      <td>6.5</td>\n",
       "      <td>0.0</td>\n",
       "      <td>...</td>\n",
       "      <td>NaN</td>\n",
       "      <td>NaN</td>\n",
       "      <td>NaN</td>\n",
       "      <td>NaN</td>\n",
       "      <td>NaN</td>\n",
       "      <td>NaN</td>\n",
       "      <td>NaN</td>\n",
       "      <td>1.0</td>\n",
       "      <td>NaN</td>\n",
       "      <td>NaN</td>\n",
       "    </tr>\n",
       "  </tbody>\n",
       "</table>\n",
       "<p>2 rows × 26 columns</p>\n",
       "</div>"
      ],
      "text/plain": [
       "        Year    Mo    Dy    Hr    Mn   Sec  Tsunami Event Validity  \\\n",
       "1449  1961.0  10.0  18.0  16.0  51.0  57.0                     1.0   \n",
       "1450  1961.0  10.0  18.0  16.0  51.0  57.0                     1.0   \n",
       "\n",
       "      Tsunami Cause Code  Earthquake Magnitude  Deposits  ...  \\\n",
       "1449                 1.0                   6.5       0.0  ...   \n",
       "1450                 1.0                   6.5       0.0  ...   \n",
       "\n",
       "     Tsunami Magnitude (Iida) Tsunami Intensity  Total Deaths  Total Missing  \\\n",
       "1449                      NaN               NaN           NaN            NaN   \n",
       "1450                      NaN               NaN           NaN            NaN   \n",
       "\n",
       "      Total Missing Description  Total Injuries  Total Damage ($Mil)  \\\n",
       "1449                        NaN             NaN                  NaN   \n",
       "1450                        NaN             NaN                  NaN   \n",
       "\n",
       "      Total Damage Description  Total Houses Destroyed  Total Houses Damaged  \n",
       "1449                       1.0                     NaN                   NaN  \n",
       "1450                       1.0                     NaN                   NaN  \n",
       "\n",
       "[2 rows x 26 columns]"
      ]
     },
     "execution_count": 6,
     "metadata": {},
     "output_type": "execute_result"
    }
   ],
   "source": [
    "df[df.duplicated(keep=False)]"
   ]
  },
  {
   "cell_type": "markdown",
   "id": "0e6e092a",
   "metadata": {},
   "source": [
    "- Vậy dữ liệu ở dòng 1449 và dòng 1950 bị lặp, ta sẽ xóa dòng 1950."
   ]
  },
  {
   "cell_type": "code",
   "execution_count": 7,
   "id": "51bf97c6",
   "metadata": {
    "ExecuteTime": {
     "end_time": "2021-12-29T02:24:08.886666Z",
     "start_time": "2021-12-29T02:24:08.844706Z"
    }
   },
   "outputs": [],
   "source": [
    "df.drop_duplicates(keep='first',inplace=True)"
   ]
  },
  {
   "cell_type": "markdown",
   "id": "1a5d194e",
   "metadata": {},
   "source": [
    "## Các cột dữ liệu"
   ]
  },
  {
   "cell_type": "markdown",
   "id": "ff39c8a6",
   "metadata": {},
   "source": [
    "### Ý nghĩa các cột"
   ]
  },
  {
   "cell_type": "code",
   "execution_count": 8,
   "id": "a0517b9a",
   "metadata": {
    "ExecuteTime": {
     "end_time": "2021-12-29T02:24:08.917637Z",
     "start_time": "2021-12-29T02:24:08.896656Z"
    }
   },
   "outputs": [
    {
     "data": {
      "text/plain": [
       "Index(['Year', 'Mo', 'Dy', 'Hr', 'Mn', 'Sec', 'Tsunami Event Validity',\n",
       "       'Tsunami Cause Code', 'Earthquake Magnitude', 'Deposits', 'Country',\n",
       "       'Location Name', 'Latitude', 'Longitude', 'Maximum Water Height (m)',\n",
       "       'Number of Runups', 'Tsunami Magnitude (Iida)', 'Tsunami Intensity',\n",
       "       'Total Deaths', 'Total Missing', 'Total Missing Description',\n",
       "       'Total Injuries', 'Total Damage ($Mil)', 'Total Damage Description',\n",
       "       'Total Houses Destroyed', 'Total Houses Damaged'],\n",
       "      dtype='object')"
      ]
     },
     "execution_count": 8,
     "metadata": {},
     "output_type": "execute_result"
    }
   ],
   "source": [
    "df.columns"
   ]
  },
  {
   "cell_type": "markdown",
   "id": "639d405d",
   "metadata": {
    "ExecuteTime": {
     "end_time": "2021-12-23T02:18:57.506222Z",
     "start_time": "2021-12-23T02:18:57.482249Z"
    }
   },
   "source": [
    "\n",
    "|Column|Description|\n",
    "|----------- |----------- |\n",
    "|Year|Thời điểm xảy ra sóng thần đơn vị năm.|\n",
    "|Mo|Thời điểm xảy ra sóng thần đơn vị tháng.|\n",
    "|Dy|Thời điểm xảy ra sóng thần đơn vị ngày.|\n",
    "|Hr|Thời điểm xảy ra sóng thần đơn vị giờ.|\n",
    "|Mn|Thời điểm xảy ra sóng thần đơn vị phút.|\n",
    "|Sec|Thời điểm xảy ra sóng thần đơn vị giây.|\n",
    "|Tsunami Event Validity|Độ chuẩn xác của sóng thần **(-1 - 4)** , giá trị càng lớn thì càng chuẩn xác|\n",
    "|Tsunami Cause Code|Mã nguyên nhân xảy ra sóng thần. **(0 - 11)**|\n",
    "||1: **động đất**,6: **núi lửa**, 8: **lở đất**\n",
    "|Earthquake Magnitude|Mức độ tàn phá của động đất (đơn vị Richter).|\n",
    "|Deposits|Trầm tích sóng thần(trầm tích lắng đọng do kết quả của sóng thần).|\n",
    "|Country|Đất nước xảy ra sóng thần.|\n",
    "|Location Name|Địa điểm xảy ra sóng thần (thường là nơi chịu thiệt hại nặng nhất)|\n",
    "|Latitude|Vĩ độ xảy ra sóng thần.|\n",
    "||0-90: **bắc bán cầu**; -90-0: **nam bán cầu**\n",
    "|Longitude|Kinh độ xảy ra sóng thần.|\n",
    "||0-180: **đông bán cầu**; -180-0: **tây bán cầu**\n",
    "|Maximum Water Height (m)|Độ cao đạt đỉnh của sóng thần đơn vị mét.|\n",
    "|Number of Runups|Số địa điểm mà 1 cơn sóng thần tràn vào bờ|\n",
    "|Tsunami Magnitude (Abe)|Kích cỡ của sóng thần|\n",
    "|Tsunami Intensity (lida)|Cường độ của sóng thần|\n",
    "|Total Deaths|Tổng số người chết|\n",
    "|Total Missing|Tổng số người mất tích|\n",
    "|Total Missing Description|Mã mô tả tổng số người mất tích **(0-4)**, giá trị càng lớn thiệt hại càng nhiều|\n",
    "|Total Injuries|Tổng số người bị thương|\n",
    "|Total Damage ($Mil)|Tổng số thiệt hại (đơn vị 1,000,000 đô la Mỹ)|\n",
    "|Total Damage Description|Mã mô tả tổng số thiệt hại **(0-4)**, giá trị càng lớn thiệt hại càng nhiều|\n",
    "|Total Houses Destroyed|Tổng số ngôi nhà bị phá hủy|\n",
    "|Total Houses Damaged|Tổng số ngôi nhà bị hư hại|"
   ]
  },
  {
   "cell_type": "markdown",
   "id": "bdbc5110",
   "metadata": {},
   "source": [
    "**Lưu ý:** Thông tin các cột có thể bị sai lệch có thể cách hiểu của từng người khác nhau.\n",
    "Để mang tính khách quan khuyến khích người đọc nên tham khảo nguồn thông tin bằng tiếng Anh chính thức.\n",
    "Thông tin các cột có thể đọc thêm tại trang web sau: https://www.ngdc.noaa.gov/hazel/view/hazards/tsunami/event-more-info/2439"
   ]
  },
  {
   "cell_type": "markdown",
   "id": "1933a341",
   "metadata": {},
   "source": [
    "### Mỗi cột hiện đang có kiểu dữ liệu gì? Có cột nào có kiểu dữ liệu chưa phù hợp để có thể xử lý tiếp không?"
   ]
  },
  {
   "cell_type": "code",
   "execution_count": 78,
   "id": "3de18870",
   "metadata": {
    "ExecuteTime": {
     "end_time": "2021-12-29T03:46:12.640761Z",
     "start_time": "2021-12-29T03:46:12.549847Z"
    }
   },
   "outputs": [
    {
     "data": {
      "text/html": [
       "<div>\n",
       "<style scoped>\n",
       "    .dataframe tbody tr th:only-of-type {\n",
       "        vertical-align: middle;\n",
       "    }\n",
       "\n",
       "    .dataframe tbody tr th {\n",
       "        vertical-align: top;\n",
       "    }\n",
       "\n",
       "    .dataframe thead th {\n",
       "        text-align: right;\n",
       "    }\n",
       "</style>\n",
       "<table border=\"1\" class=\"dataframe\">\n",
       "  <thead>\n",
       "    <tr style=\"text-align: right;\">\n",
       "      <th></th>\n",
       "      <th>Year</th>\n",
       "      <th>Mo</th>\n",
       "      <th>Dy</th>\n",
       "      <th>Hr</th>\n",
       "      <th>Mn</th>\n",
       "      <th>Sec</th>\n",
       "      <th>Tsunami Event Validity</th>\n",
       "      <th>Tsunami Cause Code</th>\n",
       "      <th>Earthquake Magnitude</th>\n",
       "      <th>Deposits</th>\n",
       "      <th>Country</th>\n",
       "      <th>Location Name</th>\n",
       "      <th>Latitude</th>\n",
       "      <th>Longitude</th>\n",
       "      <th>Maximum Water Height (m)</th>\n",
       "      <th>Number of Runups</th>\n",
       "      <th>Tsunami Magnitude (Iida)</th>\n",
       "      <th>Tsunami Intensity</th>\n",
       "      <th>Total Deaths</th>\n",
       "      <th>Total Missing</th>\n",
       "      <th>Total Missing Description</th>\n",
       "      <th>Total Injuries</th>\n",
       "      <th>Total Damage ($Mil)</th>\n",
       "      <th>Total Damage Description</th>\n",
       "      <th>Total Houses Destroyed</th>\n",
       "      <th>Total Houses Damaged</th>\n",
       "      <th>HasDeposits</th>\n",
       "    </tr>\n",
       "  </thead>\n",
       "  <tbody>\n",
       "    <tr>\n",
       "      <th>0</th>\n",
       "      <td>NaN</td>\n",
       "      <td>NaN</td>\n",
       "      <td>NaN</td>\n",
       "      <td>NaN</td>\n",
       "      <td>NaN</td>\n",
       "      <td>NaN</td>\n",
       "      <td>NaN</td>\n",
       "      <td>NaN</td>\n",
       "      <td>NaN</td>\n",
       "      <td>NaN</td>\n",
       "      <td>NaN</td>\n",
       "      <td>NaN</td>\n",
       "      <td>NaN</td>\n",
       "      <td>NaN</td>\n",
       "      <td>NaN</td>\n",
       "      <td>NaN</td>\n",
       "      <td>NaN</td>\n",
       "      <td>NaN</td>\n",
       "      <td>NaN</td>\n",
       "      <td>NaN</td>\n",
       "      <td>NaN</td>\n",
       "      <td>NaN</td>\n",
       "      <td>NaN</td>\n",
       "      <td>NaN</td>\n",
       "      <td>NaN</td>\n",
       "      <td>NaN</td>\n",
       "      <td>0</td>\n",
       "    </tr>\n",
       "    <tr>\n",
       "      <th>1</th>\n",
       "      <td>1800.0</td>\n",
       "      <td>6.0</td>\n",
       "      <td>2.0</td>\n",
       "      <td>20.0</td>\n",
       "      <td>17.0</td>\n",
       "      <td>NaN</td>\n",
       "      <td>2.0</td>\n",
       "      <td>1.0</td>\n",
       "      <td>NaN</td>\n",
       "      <td>0.0</td>\n",
       "      <td>PORTUGAL</td>\n",
       "      <td>AZORES</td>\n",
       "      <td>NaN</td>\n",
       "      <td>NaN</td>\n",
       "      <td>NaN</td>\n",
       "      <td>1.0</td>\n",
       "      <td>NaN</td>\n",
       "      <td>NaN</td>\n",
       "      <td>NaN</td>\n",
       "      <td>NaN</td>\n",
       "      <td>NaN</td>\n",
       "      <td>NaN</td>\n",
       "      <td>NaN</td>\n",
       "      <td>NaN</td>\n",
       "      <td>NaN</td>\n",
       "      <td>NaN</td>\n",
       "      <td>0</td>\n",
       "    </tr>\n",
       "    <tr>\n",
       "      <th>2</th>\n",
       "      <td>1802.0</td>\n",
       "      <td>1.0</td>\n",
       "      <td>4.0</td>\n",
       "      <td>7.0</td>\n",
       "      <td>NaN</td>\n",
       "      <td>NaN</td>\n",
       "      <td>2.0</td>\n",
       "      <td>1.0</td>\n",
       "      <td>NaN</td>\n",
       "      <td>0.0</td>\n",
       "      <td>CROATIA</td>\n",
       "      <td>BAKAR</td>\n",
       "      <td>45.3</td>\n",
       "      <td>14.4</td>\n",
       "      <td>NaN</td>\n",
       "      <td>3.0</td>\n",
       "      <td>NaN</td>\n",
       "      <td>3.0</td>\n",
       "      <td>NaN</td>\n",
       "      <td>NaN</td>\n",
       "      <td>NaN</td>\n",
       "      <td>NaN</td>\n",
       "      <td>NaN</td>\n",
       "      <td>NaN</td>\n",
       "      <td>NaN</td>\n",
       "      <td>NaN</td>\n",
       "      <td>0</td>\n",
       "    </tr>\n",
       "    <tr>\n",
       "      <th>3</th>\n",
       "      <td>1802.0</td>\n",
       "      <td>3.0</td>\n",
       "      <td>19.0</td>\n",
       "      <td>NaN</td>\n",
       "      <td>NaN</td>\n",
       "      <td>NaN</td>\n",
       "      <td>2.0</td>\n",
       "      <td>1.0</td>\n",
       "      <td>NaN</td>\n",
       "      <td>0.0</td>\n",
       "      <td>ANTIGUA AND BARBUDA</td>\n",
       "      <td>ANTIGUA ISLAND &amp; ST. CHRISTOPHER</td>\n",
       "      <td>17.2</td>\n",
       "      <td>-62.4</td>\n",
       "      <td>NaN</td>\n",
       "      <td>2.0</td>\n",
       "      <td>NaN</td>\n",
       "      <td>NaN</td>\n",
       "      <td>NaN</td>\n",
       "      <td>NaN</td>\n",
       "      <td>NaN</td>\n",
       "      <td>NaN</td>\n",
       "      <td>NaN</td>\n",
       "      <td>NaN</td>\n",
       "      <td>NaN</td>\n",
       "      <td>NaN</td>\n",
       "      <td>0</td>\n",
       "    </tr>\n",
       "    <tr>\n",
       "      <th>4</th>\n",
       "      <td>1802.0</td>\n",
       "      <td>8.0</td>\n",
       "      <td>10.0</td>\n",
       "      <td>NaN</td>\n",
       "      <td>NaN</td>\n",
       "      <td>NaN</td>\n",
       "      <td>1.0</td>\n",
       "      <td>0.0</td>\n",
       "      <td>NaN</td>\n",
       "      <td>0.0</td>\n",
       "      <td>UK</td>\n",
       "      <td>SW ENGLAND</td>\n",
       "      <td>NaN</td>\n",
       "      <td>NaN</td>\n",
       "      <td>NaN</td>\n",
       "      <td>2.0</td>\n",
       "      <td>NaN</td>\n",
       "      <td>NaN</td>\n",
       "      <td>NaN</td>\n",
       "      <td>NaN</td>\n",
       "      <td>NaN</td>\n",
       "      <td>NaN</td>\n",
       "      <td>NaN</td>\n",
       "      <td>NaN</td>\n",
       "      <td>NaN</td>\n",
       "      <td>NaN</td>\n",
       "      <td>0</td>\n",
       "    </tr>\n",
       "  </tbody>\n",
       "</table>\n",
       "</div>"
      ],
      "text/plain": [
       "     Year   Mo    Dy    Hr    Mn  Sec  Tsunami Event Validity  \\\n",
       "0     NaN  NaN   NaN   NaN   NaN  NaN                     NaN   \n",
       "1  1800.0  6.0   2.0  20.0  17.0  NaN                     2.0   \n",
       "2  1802.0  1.0   4.0   7.0   NaN  NaN                     2.0   \n",
       "3  1802.0  3.0  19.0   NaN   NaN  NaN                     2.0   \n",
       "4  1802.0  8.0  10.0   NaN   NaN  NaN                     1.0   \n",
       "\n",
       "   Tsunami Cause Code  Earthquake Magnitude  Deposits              Country  \\\n",
       "0                 NaN                   NaN       NaN                  NaN   \n",
       "1                 1.0                   NaN       0.0             PORTUGAL   \n",
       "2                 1.0                   NaN       0.0              CROATIA   \n",
       "3                 1.0                   NaN       0.0  ANTIGUA AND BARBUDA   \n",
       "4                 0.0                   NaN       0.0                   UK   \n",
       "\n",
       "                      Location Name  Latitude  Longitude  \\\n",
       "0                               NaN       NaN        NaN   \n",
       "1                            AZORES       NaN        NaN   \n",
       "2                             BAKAR      45.3       14.4   \n",
       "3  ANTIGUA ISLAND & ST. CHRISTOPHER      17.2      -62.4   \n",
       "4                        SW ENGLAND       NaN        NaN   \n",
       "\n",
       "   Maximum Water Height (m)  Number of Runups  Tsunami Magnitude (Iida)  \\\n",
       "0                       NaN               NaN                       NaN   \n",
       "1                       NaN               1.0                       NaN   \n",
       "2                       NaN               3.0                       NaN   \n",
       "3                       NaN               2.0                       NaN   \n",
       "4                       NaN               2.0                       NaN   \n",
       "\n",
       "   Tsunami Intensity  Total Deaths  Total Missing  Total Missing Description  \\\n",
       "0                NaN           NaN            NaN                        NaN   \n",
       "1                NaN           NaN            NaN                        NaN   \n",
       "2                3.0           NaN            NaN                        NaN   \n",
       "3                NaN           NaN            NaN                        NaN   \n",
       "4                NaN           NaN            NaN                        NaN   \n",
       "\n",
       "   Total Injuries  Total Damage ($Mil)  Total Damage Description  \\\n",
       "0             NaN                  NaN                       NaN   \n",
       "1             NaN                  NaN                       NaN   \n",
       "2             NaN                  NaN                       NaN   \n",
       "3             NaN                  NaN                       NaN   \n",
       "4             NaN                  NaN                       NaN   \n",
       "\n",
       "   Total Houses Destroyed  Total Houses Damaged  HasDeposits  \n",
       "0                     NaN                   NaN            0  \n",
       "1                     NaN                   NaN            0  \n",
       "2                     NaN                   NaN            0  \n",
       "3                     NaN                   NaN            0  \n",
       "4                     NaN                   NaN            0  "
      ]
     },
     "execution_count": 78,
     "metadata": {},
     "output_type": "execute_result"
    }
   ],
   "source": [
    "df_train = df.copy()\n",
    "df_train['HasDeposits'] = pd.Series(len(df_train['Deposits']), index=df_train.index)\n",
    "df_train['HasDeposits'] = 0 \n",
    "df_train.loc[df_train['Deposits']>0,'HasDeposits'] = 1\n",
    "df_train.head()"
   ]
  },
  {
   "cell_type": "code",
   "execution_count": 100,
   "id": "5304f4d8",
   "metadata": {
    "ExecuteTime": {
     "end_time": "2021-12-29T04:14:47.397512Z",
     "start_time": "2021-12-29T04:14:47.380527Z"
    }
   },
   "outputs": [
    {
     "data": {
      "text/plain": [
       "0.0      2021\n",
       "1.0        91\n",
       "2.0        13\n",
       "3.0        10\n",
       "4.0         6\n",
       "8.0         4\n",
       "6.0         3\n",
       "5.0         2\n",
       "20.0        2\n",
       "10.0        2\n",
       "144.0       1\n",
       "9.0         1\n",
       "11.0        1\n",
       "26.0        1\n",
       "7.0         1\n",
       "14.0        1\n",
       "19.0        1\n",
       "Name: Deposits, dtype: int64"
      ]
     },
     "execution_count": 100,
     "metadata": {},
     "output_type": "execute_result"
    }
   ],
   "source": [
    "df['Deposits'].value_counts()"
   ]
  },
  {
   "cell_type": "code",
   "execution_count": 104,
   "id": "432c200b",
   "metadata": {
    "ExecuteTime": {
     "end_time": "2021-12-29T04:16:03.162988Z",
     "start_time": "2021-12-29T04:16:02.664727Z"
    }
   },
   "outputs": [
    {
     "data": {
      "text/plain": [
       "<AxesSubplot:>"
      ]
     },
     "execution_count": 104,
     "metadata": {},
     "output_type": "execute_result"
    },
    {
     "data": {
      "image/png": "[encoded data removed]",
      "text/plain": [
       "<Figure size 432x288 with 2 Axes>"
      ]
     },
     "metadata": {},
     "output_type": "display_data"
    }
   ],
   "source": [
    "df1 = df.sample(frac=1)\n",
    "\n",
    "# amount of fraud classes 492 rows.\n",
    "fraud_df = df1.loc[df1['Deposits'] > 0]\n",
    "non_fraud_df = df1.loc[df1['Deposits'] == 0][:140]\n",
    "\n",
    "normal_distributed_df = pd.concat([fraud_df, non_fraud_df])\n",
    "\n",
    "# Shuffle dataframe rows\n",
    "new_df = normal_distributed_df.sample(frac=1, random_state=42)\n",
    "\n",
    "corrmat = new_df.corr()\n",
    "k = 5 #number of variables for heatmap\n",
    "cols = corrmat.nlargest(k, 'Deposits')['Deposits'].index\n",
    "# cols = corrmat.nlargest(k, 'Number of Runups')['Number of Runups'].index\n",
    "corrmat = new_df[cols].corr()\n",
    "# cm = np.corrcoef(df_train[cols].values.T)\n",
    "# sns.set(font_scale=1.25)\n",
    "# hm = sns.heatmap(cm, cbar=True, annot=True, square=True, fmt='.2f', annot_kws={'size': 10}, yticklabels=cols.values, xticklabels=cols.values)\n",
    "# plt.show()\n",
    "sns.heatmap(corrmat, annot=True)"
   ]
  },
  {
   "cell_type": "code",
   "execution_count": 99,
   "id": "d91efd2b",
   "metadata": {
    "ExecuteTime": {
     "end_time": "2021-12-29T04:11:28.823282Z",
     "start_time": "2021-12-29T04:11:28.342515Z"
    }
   },
   "outputs": [
    {
     "data": {
      "image/png": "[encoded data removed]",
      "text/plain": [
       "<Figure size 432x288 with 1 Axes>"
      ]
     },
     "metadata": {},
     "output_type": "display_data"
    }
   ],
   "source": [
    "fig, ax = plt.subplots()\n",
    "\n",
    "ax.hist(df[df[\"Deposits\"]>0][\"Total Houses Damaged\"], bins=15, alpha=0.8, color=\"blue\", label=\"Deposits\")\n",
    "ax.hist(df[df[\"Deposits\"]==0][\"Total Houses Damaged\"], bins=15, alpha=0.5, color=\"green\", label=\"NoDeposits\")\n",
    "\n",
    "#alpha la do mo cua histogram\n",
    "ax.set_xlabel(\"Total Houses Damaged\")\n",
    "ax.set_ylabel(\"Count of tsunami\")\n",
    "\n",
    "\n",
    "ax.legend();"
   ]
  },
  {
   "cell_type": "code",
   "execution_count": 96,
   "id": "7560a81c",
   "metadata": {
    "ExecuteTime": {
     "end_time": "2021-12-29T04:06:38.465003Z",
     "start_time": "2021-12-29T04:06:37.723662Z"
    }
   },
   "outputs": [
    {
     "data": {
      "text/plain": [
       "<AxesSubplot:>"
      ]
     },
     "execution_count": 96,
     "metadata": {},
     "output_type": "execute_result"
    },
    {
     "data": {
      "image/png": "[encoded data removed]",
      "text/plain": [
       "<Figure size 432x288 with 2 Axes>"
      ]
     },
     "metadata": {},
     "output_type": "display_data"
    }
   ],
   "source": []
  },
  {
   "cell_type": "code",
   "execution_count": 10,
   "id": "3ab80b04",
   "metadata": {
    "ExecuteTime": {
     "end_time": "2021-12-29T02:24:08.995564Z",
     "start_time": "2021-12-29T02:24:08.951605Z"
    }
   },
   "outputs": [
    {
     "name": "stdout",
     "output_type": "stream",
     "text": [
      "<class 'pandas.core.frame.DataFrame'>\n",
      "Int64Index: 2160 entries, 1 to 2161\n",
      "Data columns (total 26 columns):\n",
      " #   Column                     Non-Null Count  Dtype  \n",
      "---  ------                     --------------  -----  \n",
      " 0   Year                       2160 non-null   float64\n",
      " 1   Mo                         2111 non-null   float64\n",
      " 2   Dy                         2053 non-null   float64\n",
      " 3   Hr                         1337 non-null   float64\n",
      " 4   Mn                         1288 non-null   float64\n",
      " 5   Sec                        940 non-null    float64\n",
      " 6   Tsunami Event Validity     2160 non-null   float64\n",
      " 7   Tsunami Cause Code         2157 non-null   float64\n",
      " 8   Earthquake Magnitude       1292 non-null   float64\n",
      " 9   Deposits                   2160 non-null   float64\n",
      " 10  Country                    2160 non-null   object \n",
      " 11  Location Name              2158 non-null   object \n",
      " 12  Latitude                   1891 non-null   float64\n",
      " 13  Longitude                  1891 non-null   float64\n",
      " 14  Maximum Water Height (m)   1109 non-null   float64\n",
      " 15  Number of Runups           2160 non-null   float64\n",
      " 16  Tsunami Magnitude (Iida)   576 non-null    float64\n",
      " 17  Tsunami Intensity          897 non-null    float64\n",
      " 18  Total Deaths               492 non-null    float64\n",
      " 19  Total Missing              11 non-null     float64\n",
      " 20  Total Missing Description  13 non-null     float64\n",
      " 21  Total Injuries             281 non-null    float64\n",
      " 22  Total Damage ($Mil)        143 non-null    float64\n",
      " 23  Total Damage Description   906 non-null    float64\n",
      " 24  Total Houses Destroyed     197 non-null    float64\n",
      " 25  Total Houses Damaged       77 non-null     float64\n",
      "dtypes: float64(24), object(2)\n",
      "memory usage: 455.6+ KB\n"
     ]
    }
   ],
   "source": [
    "df.info()"
   ]
  },
  {
   "cell_type": "markdown",
   "id": "6bdca1a5",
   "metadata": {},
   "source": [
    "Các dữ liệu đều đã ở dạng phù hợp để xử lý"
   ]
  },
  {
   "cell_type": "markdown",
   "id": "f4dbd382",
   "metadata": {},
   "source": [
    "### Với mỗi cột có kiểu dữ liệu dạng số (numerical), các giá trị được phân bố như thế nào"
   ]
  },
  {
   "cell_type": "markdown",
   "id": "52a86dd5",
   "metadata": {},
   "source": [
    "Với các cột có kiểu dữ liệu số, ta sẽ tính:\n",
    "- Tỉ lệ % (từ 0 đến 100) các giá trị thiếu \n",
    "- Giá trị min\n",
    "- Giá trị lower quartile (phân vị 25)\n",
    "- Giá trị median (phân vị 50)\n",
    "- Giá trị upper quartile (phân vị 75)\n",
    "- Giá trị max"
   ]
  },
  {
   "cell_type": "code",
   "execution_count": 11,
   "id": "f8b319ed",
   "metadata": {
    "ExecuteTime": {
     "end_time": "2021-12-29T02:24:09.026535Z",
     "start_time": "2021-12-29T02:24:08.999560Z"
    }
   },
   "outputs": [],
   "source": [
    "def calculate_quartile(data):\n",
    "    nume_col_info_df = pd.DataFrame()\n",
    "    for col in data.keys():\n",
    "        if data[col].dtype in [np.int64, np.float64] :\n",
    "            missing = data[col].isnull().sum()\n",
    "            missing_percentage = round(data[col].isnull().sum() * 100 / len(data[col]), 1)\n",
    "            min_value = data[col].min()\n",
    "            lower_quartile = data[col].quantile(0.25)\n",
    "            median = data[col].median()\n",
    "            upper = data[col].quantile(0.75)\n",
    "            max_value = data[col].max()\n",
    "            row_line = pd.Series([missing,missing_percentage, min_value, lower_quartile, median, upper, max_value], \n",
    "                                 index = ['num_missing','missing_percentage', 'min', 'lower_quartile', 'median', 'upper_quartile', 'max'])\n",
    "            nume_col_info_df[col] = row_line\n",
    "    return nume_col_info_df"
   ]
  },
  {
   "cell_type": "code",
   "execution_count": 12,
   "id": "d6a95b84",
   "metadata": {
    "ExecuteTime": {
     "end_time": "2021-12-29T02:24:09.421167Z",
     "start_time": "2021-12-29T02:24:09.030532Z"
    }
   },
   "outputs": [
    {
     "data": {
      "text/html": [
       "<div>\n",
       "<style scoped>\n",
       "    .dataframe tbody tr th:only-of-type {\n",
       "        vertical-align: middle;\n",
       "    }\n",
       "\n",
       "    .dataframe tbody tr th {\n",
       "        vertical-align: top;\n",
       "    }\n",
       "\n",
       "    .dataframe thead th {\n",
       "        text-align: right;\n",
       "    }\n",
       "</style>\n",
       "<table border=\"1\" class=\"dataframe\">\n",
       "  <thead>\n",
       "    <tr style=\"text-align: right;\">\n",
       "      <th></th>\n",
       "      <th>Year</th>\n",
       "      <th>Mo</th>\n",
       "      <th>Dy</th>\n",
       "      <th>Hr</th>\n",
       "      <th>Mn</th>\n",
       "      <th>Sec</th>\n",
       "      <th>Tsunami Event Validity</th>\n",
       "      <th>Tsunami Cause Code</th>\n",
       "      <th>Earthquake Magnitude</th>\n",
       "      <th>Deposits</th>\n",
       "      <th>...</th>\n",
       "      <th>Tsunami Magnitude (Iida)</th>\n",
       "      <th>Tsunami Intensity</th>\n",
       "      <th>Total Deaths</th>\n",
       "      <th>Total Missing</th>\n",
       "      <th>Total Missing Description</th>\n",
       "      <th>Total Injuries</th>\n",
       "      <th>Total Damage ($Mil)</th>\n",
       "      <th>Total Damage Description</th>\n",
       "      <th>Total Houses Destroyed</th>\n",
       "      <th>Total Houses Damaged</th>\n",
       "    </tr>\n",
       "  </thead>\n",
       "  <tbody>\n",
       "    <tr>\n",
       "      <th>num_missing</th>\n",
       "      <td>0.0</td>\n",
       "      <td>49.0</td>\n",
       "      <td>107.0</td>\n",
       "      <td>823.0</td>\n",
       "      <td>872.0</td>\n",
       "      <td>1220.0</td>\n",
       "      <td>0.0</td>\n",
       "      <td>3.0</td>\n",
       "      <td>868.0</td>\n",
       "      <td>0.0</td>\n",
       "      <td>...</td>\n",
       "      <td>1584.00</td>\n",
       "      <td>1263.00</td>\n",
       "      <td>1668.00</td>\n",
       "      <td>2149.0</td>\n",
       "      <td>2147.0</td>\n",
       "      <td>1879.0</td>\n",
       "      <td>2017.0000</td>\n",
       "      <td>1254.0</td>\n",
       "      <td>1963.0</td>\n",
       "      <td>2083.0</td>\n",
       "    </tr>\n",
       "    <tr>\n",
       "      <th>missing_percentage</th>\n",
       "      <td>0.0</td>\n",
       "      <td>2.3</td>\n",
       "      <td>5.0</td>\n",
       "      <td>38.1</td>\n",
       "      <td>40.4</td>\n",
       "      <td>56.5</td>\n",
       "      <td>0.0</td>\n",
       "      <td>0.1</td>\n",
       "      <td>40.2</td>\n",
       "      <td>0.0</td>\n",
       "      <td>...</td>\n",
       "      <td>73.30</td>\n",
       "      <td>58.50</td>\n",
       "      <td>77.20</td>\n",
       "      <td>99.5</td>\n",
       "      <td>99.4</td>\n",
       "      <td>87.0</td>\n",
       "      <td>93.4000</td>\n",
       "      <td>58.1</td>\n",
       "      <td>90.9</td>\n",
       "      <td>96.4</td>\n",
       "    </tr>\n",
       "    <tr>\n",
       "      <th>min</th>\n",
       "      <td>1800.0</td>\n",
       "      <td>1.0</td>\n",
       "      <td>1.0</td>\n",
       "      <td>0.0</td>\n",
       "      <td>0.0</td>\n",
       "      <td>0.0</td>\n",
       "      <td>-1.0</td>\n",
       "      <td>0.0</td>\n",
       "      <td>3.7</td>\n",
       "      <td>0.0</td>\n",
       "      <td>...</td>\n",
       "      <td>-4.64</td>\n",
       "      <td>-4.14</td>\n",
       "      <td>1.00</td>\n",
       "      <td>1.0</td>\n",
       "      <td>1.0</td>\n",
       "      <td>1.0</td>\n",
       "      <td>0.0030</td>\n",
       "      <td>1.0</td>\n",
       "      <td>1.0</td>\n",
       "      <td>2.0</td>\n",
       "    </tr>\n",
       "    <tr>\n",
       "      <th>lower_quartile</th>\n",
       "      <td>1877.0</td>\n",
       "      <td>4.0</td>\n",
       "      <td>8.0</td>\n",
       "      <td>5.0</td>\n",
       "      <td>14.0</td>\n",
       "      <td>10.8</td>\n",
       "      <td>1.0</td>\n",
       "      <td>1.0</td>\n",
       "      <td>6.5</td>\n",
       "      <td>0.0</td>\n",
       "      <td>...</td>\n",
       "      <td>-1.00</td>\n",
       "      <td>0.00</td>\n",
       "      <td>4.00</td>\n",
       "      <td>20.0</td>\n",
       "      <td>1.0</td>\n",
       "      <td>16.0</td>\n",
       "      <td>2.4125</td>\n",
       "      <td>1.0</td>\n",
       "      <td>50.0</td>\n",
       "      <td>127.0</td>\n",
       "    </tr>\n",
       "    <tr>\n",
       "      <th>median</th>\n",
       "      <td>1927.0</td>\n",
       "      <td>7.0</td>\n",
       "      <td>16.0</td>\n",
       "      <td>11.0</td>\n",
       "      <td>29.0</td>\n",
       "      <td>25.7</td>\n",
       "      <td>3.0</td>\n",
       "      <td>1.0</td>\n",
       "      <td>7.0</td>\n",
       "      <td>0.0</td>\n",
       "      <td>...</td>\n",
       "      <td>0.70</td>\n",
       "      <td>1.00</td>\n",
       "      <td>24.50</td>\n",
       "      <td>100.0</td>\n",
       "      <td>2.0</td>\n",
       "      <td>100.0</td>\n",
       "      <td>39.0000</td>\n",
       "      <td>2.0</td>\n",
       "      <td>588.0</td>\n",
       "      <td>1000.0</td>\n",
       "    </tr>\n",
       "    <tr>\n",
       "      <th>upper_quartile</th>\n",
       "      <td>1977.0</td>\n",
       "      <td>10.0</td>\n",
       "      <td>23.0</td>\n",
       "      <td>18.0</td>\n",
       "      <td>43.0</td>\n",
       "      <td>42.0</td>\n",
       "      <td>4.0</td>\n",
       "      <td>1.0</td>\n",
       "      <td>7.6</td>\n",
       "      <td>0.0</td>\n",
       "      <td>...</td>\n",
       "      <td>2.00</td>\n",
       "      <td>2.00</td>\n",
       "      <td>262.75</td>\n",
       "      <td>498.0</td>\n",
       "      <td>3.0</td>\n",
       "      <td>500.0</td>\n",
       "      <td>520.0000</td>\n",
       "      <td>3.0</td>\n",
       "      <td>5043.0</td>\n",
       "      <td>10044.0</td>\n",
       "    </tr>\n",
       "    <tr>\n",
       "      <th>max</th>\n",
       "      <td>2021.0</td>\n",
       "      <td>12.0</td>\n",
       "      <td>31.0</td>\n",
       "      <td>23.0</td>\n",
       "      <td>59.0</td>\n",
       "      <td>59.9</td>\n",
       "      <td>4.0</td>\n",
       "      <td>11.0</td>\n",
       "      <td>9.5</td>\n",
       "      <td>144.0</td>\n",
       "      <td>...</td>\n",
       "      <td>8.40</td>\n",
       "      <td>9.00</td>\n",
       "      <td>316000.00</td>\n",
       "      <td>43476.0</td>\n",
       "      <td>4.0</td>\n",
       "      <td>374171.0</td>\n",
       "      <td>220136.6000</td>\n",
       "      <td>4.0</td>\n",
       "      <td>5360000.0</td>\n",
       "      <td>500000.0</td>\n",
       "    </tr>\n",
       "  </tbody>\n",
       "</table>\n",
       "<p>7 rows × 24 columns</p>\n",
       "</div>"
      ],
      "text/plain": [
       "                      Year    Mo     Dy     Hr     Mn     Sec  \\\n",
       "num_missing            0.0  49.0  107.0  823.0  872.0  1220.0   \n",
       "missing_percentage     0.0   2.3    5.0   38.1   40.4    56.5   \n",
       "min                 1800.0   1.0    1.0    0.0    0.0     0.0   \n",
       "lower_quartile      1877.0   4.0    8.0    5.0   14.0    10.8   \n",
       "median              1927.0   7.0   16.0   11.0   29.0    25.7   \n",
       "upper_quartile      1977.0  10.0   23.0   18.0   43.0    42.0   \n",
       "max                 2021.0  12.0   31.0   23.0   59.0    59.9   \n",
       "\n",
       "                    Tsunami Event Validity  Tsunami Cause Code  \\\n",
       "num_missing                            0.0                 3.0   \n",
       "missing_percentage                     0.0                 0.1   \n",
       "min                                   -1.0                 0.0   \n",
       "lower_quartile                         1.0                 1.0   \n",
       "median                                 3.0                 1.0   \n",
       "upper_quartile                         4.0                 1.0   \n",
       "max                                    4.0                11.0   \n",
       "\n",
       "                    Earthquake Magnitude  Deposits  ...  \\\n",
       "num_missing                        868.0       0.0  ...   \n",
       "missing_percentage                  40.2       0.0  ...   \n",
       "min                                  3.7       0.0  ...   \n",
       "lower_quartile                       6.5       0.0  ...   \n",
       "median                               7.0       0.0  ...   \n",
       "upper_quartile                       7.6       0.0  ...   \n",
       "max                                  9.5     144.0  ...   \n",
       "\n",
       "                    Tsunami Magnitude (Iida)  Tsunami Intensity  Total Deaths  \\\n",
       "num_missing                          1584.00            1263.00       1668.00   \n",
       "missing_percentage                     73.30              58.50         77.20   \n",
       "min                                    -4.64              -4.14          1.00   \n",
       "lower_quartile                         -1.00               0.00          4.00   \n",
       "median                                  0.70               1.00         24.50   \n",
       "upper_quartile                          2.00               2.00        262.75   \n",
       "max                                     8.40               9.00     316000.00   \n",
       "\n",
       "                    Total Missing  Total Missing Description  Total Injuries  \\\n",
       "num_missing                2149.0                     2147.0          1879.0   \n",
       "missing_percentage           99.5                       99.4            87.0   \n",
       "min                           1.0                        1.0             1.0   \n",
       "lower_quartile               20.0                        1.0            16.0   \n",
       "median                      100.0                        2.0           100.0   \n",
       "upper_quartile              498.0                        3.0           500.0   \n",
       "max                       43476.0                        4.0        374171.0   \n",
       "\n",
       "                    Total Damage ($Mil)  Total Damage Description  \\\n",
       "num_missing                   2017.0000                    1254.0   \n",
       "missing_percentage              93.4000                      58.1   \n",
       "min                              0.0030                       1.0   \n",
       "lower_quartile                   2.4125                       1.0   \n",
       "median                          39.0000                       2.0   \n",
       "upper_quartile                 520.0000                       3.0   \n",
       "max                         220136.6000                       4.0   \n",
       "\n",
       "                    Total Houses Destroyed  Total Houses Damaged  \n",
       "num_missing                         1963.0                2083.0  \n",
       "missing_percentage                    90.9                  96.4  \n",
       "min                                    1.0                   2.0  \n",
       "lower_quartile                        50.0                 127.0  \n",
       "median                               588.0                1000.0  \n",
       "upper_quartile                      5043.0               10044.0  \n",
       "max                              5360000.0              500000.0  \n",
       "\n",
       "[7 rows x 24 columns]"
      ]
     },
     "execution_count": 12,
     "metadata": {},
     "output_type": "execute_result"
    }
   ],
   "source": [
    "info_df = calculate_quartile(df)\n",
    "info_df"
   ]
  },
  {
   "cell_type": "markdown",
   "id": "252535be",
   "metadata": {},
   "source": [
    "#### Số-lượng/tỉ-lệ các giá trị thiếu?"
   ]
  },
  {
   "cell_type": "code",
   "execution_count": 13,
   "id": "44239909",
   "metadata": {
    "ExecuteTime": {
     "end_time": "2021-12-29T02:24:09.485109Z",
     "start_time": "2021-12-29T02:24:09.425165Z"
    }
   },
   "outputs": [
    {
     "data": {
      "text/html": [
       "<div>\n",
       "<style scoped>\n",
       "    .dataframe tbody tr th:only-of-type {\n",
       "        vertical-align: middle;\n",
       "    }\n",
       "\n",
       "    .dataframe tbody tr th {\n",
       "        vertical-align: top;\n",
       "    }\n",
       "\n",
       "    .dataframe thead th {\n",
       "        text-align: right;\n",
       "    }\n",
       "</style>\n",
       "<table border=\"1\" class=\"dataframe\">\n",
       "  <thead>\n",
       "    <tr style=\"text-align: right;\">\n",
       "      <th></th>\n",
       "      <th>num_missing</th>\n",
       "      <th>missing_percentage</th>\n",
       "    </tr>\n",
       "  </thead>\n",
       "  <tbody>\n",
       "    <tr>\n",
       "      <th>Year</th>\n",
       "      <td>0.0</td>\n",
       "      <td>0.0</td>\n",
       "    </tr>\n",
       "    <tr>\n",
       "      <th>Mo</th>\n",
       "      <td>49.0</td>\n",
       "      <td>2.3</td>\n",
       "    </tr>\n",
       "    <tr>\n",
       "      <th>Dy</th>\n",
       "      <td>107.0</td>\n",
       "      <td>5.0</td>\n",
       "    </tr>\n",
       "    <tr>\n",
       "      <th>Hr</th>\n",
       "      <td>823.0</td>\n",
       "      <td>38.1</td>\n",
       "    </tr>\n",
       "    <tr>\n",
       "      <th>Mn</th>\n",
       "      <td>872.0</td>\n",
       "      <td>40.4</td>\n",
       "    </tr>\n",
       "    <tr>\n",
       "      <th>Sec</th>\n",
       "      <td>1220.0</td>\n",
       "      <td>56.5</td>\n",
       "    </tr>\n",
       "    <tr>\n",
       "      <th>Tsunami Event Validity</th>\n",
       "      <td>0.0</td>\n",
       "      <td>0.0</td>\n",
       "    </tr>\n",
       "    <tr>\n",
       "      <th>Tsunami Cause Code</th>\n",
       "      <td>3.0</td>\n",
       "      <td>0.1</td>\n",
       "    </tr>\n",
       "    <tr>\n",
       "      <th>Earthquake Magnitude</th>\n",
       "      <td>868.0</td>\n",
       "      <td>40.2</td>\n",
       "    </tr>\n",
       "    <tr>\n",
       "      <th>Deposits</th>\n",
       "      <td>0.0</td>\n",
       "      <td>0.0</td>\n",
       "    </tr>\n",
       "    <tr>\n",
       "      <th>Latitude</th>\n",
       "      <td>269.0</td>\n",
       "      <td>12.5</td>\n",
       "    </tr>\n",
       "    <tr>\n",
       "      <th>Longitude</th>\n",
       "      <td>269.0</td>\n",
       "      <td>12.5</td>\n",
       "    </tr>\n",
       "    <tr>\n",
       "      <th>Maximum Water Height (m)</th>\n",
       "      <td>1051.0</td>\n",
       "      <td>48.7</td>\n",
       "    </tr>\n",
       "    <tr>\n",
       "      <th>Number of Runups</th>\n",
       "      <td>0.0</td>\n",
       "      <td>0.0</td>\n",
       "    </tr>\n",
       "    <tr>\n",
       "      <th>Tsunami Magnitude (Iida)</th>\n",
       "      <td>1584.0</td>\n",
       "      <td>73.3</td>\n",
       "    </tr>\n",
       "    <tr>\n",
       "      <th>Tsunami Intensity</th>\n",
       "      <td>1263.0</td>\n",
       "      <td>58.5</td>\n",
       "    </tr>\n",
       "    <tr>\n",
       "      <th>Total Deaths</th>\n",
       "      <td>1668.0</td>\n",
       "      <td>77.2</td>\n",
       "    </tr>\n",
       "    <tr>\n",
       "      <th>Total Missing</th>\n",
       "      <td>2149.0</td>\n",
       "      <td>99.5</td>\n",
       "    </tr>\n",
       "    <tr>\n",
       "      <th>Total Missing Description</th>\n",
       "      <td>2147.0</td>\n",
       "      <td>99.4</td>\n",
       "    </tr>\n",
       "    <tr>\n",
       "      <th>Total Injuries</th>\n",
       "      <td>1879.0</td>\n",
       "      <td>87.0</td>\n",
       "    </tr>\n",
       "    <tr>\n",
       "      <th>Total Damage ($Mil)</th>\n",
       "      <td>2017.0</td>\n",
       "      <td>93.4</td>\n",
       "    </tr>\n",
       "    <tr>\n",
       "      <th>Total Damage Description</th>\n",
       "      <td>1254.0</td>\n",
       "      <td>58.1</td>\n",
       "    </tr>\n",
       "    <tr>\n",
       "      <th>Total Houses Destroyed</th>\n",
       "      <td>1963.0</td>\n",
       "      <td>90.9</td>\n",
       "    </tr>\n",
       "    <tr>\n",
       "      <th>Total Houses Damaged</th>\n",
       "      <td>2083.0</td>\n",
       "      <td>96.4</td>\n",
       "    </tr>\n",
       "  </tbody>\n",
       "</table>\n",
       "</div>"
      ],
      "text/plain": [
       "                           num_missing  missing_percentage\n",
       "Year                               0.0                 0.0\n",
       "Mo                                49.0                 2.3\n",
       "Dy                               107.0                 5.0\n",
       "Hr                               823.0                38.1\n",
       "Mn                               872.0                40.4\n",
       "Sec                             1220.0                56.5\n",
       "Tsunami Event Validity             0.0                 0.0\n",
       "Tsunami Cause Code                 3.0                 0.1\n",
       "Earthquake Magnitude             868.0                40.2\n",
       "Deposits                           0.0                 0.0\n",
       "Latitude                         269.0                12.5\n",
       "Longitude                        269.0                12.5\n",
       "Maximum Water Height (m)        1051.0                48.7\n",
       "Number of Runups                   0.0                 0.0\n",
       "Tsunami Magnitude (Iida)        1584.0                73.3\n",
       "Tsunami Intensity               1263.0                58.5\n",
       "Total Deaths                    1668.0                77.2\n",
       "Total Missing                   2149.0                99.5\n",
       "Total Missing Description       2147.0                99.4\n",
       "Total Injuries                  1879.0                87.0\n",
       "Total Damage ($Mil)             2017.0                93.4\n",
       "Total Damage Description        1254.0                58.1\n",
       "Total Houses Destroyed          1963.0                90.9\n",
       "Total Houses Damaged            2083.0                96.4"
      ]
     },
     "execution_count": 13,
     "metadata": {},
     "output_type": "execute_result"
    }
   ],
   "source": [
    "pd.DataFrame([info_df.loc['num_missing'],info_df.loc['missing_percentage']]).transpose()"
   ]
  },
  {
   "cell_type": "markdown",
   "id": "3f2e6485",
   "metadata": {},
   "source": [
    "#### Min? max? → Có gì bất thường không?"
   ]
  },
  {
   "cell_type": "code",
   "execution_count": 14,
   "id": "59bd6c7a",
   "metadata": {
    "ExecuteTime": {
     "end_time": "2021-12-29T02:24:09.549052Z",
     "start_time": "2021-12-29T02:24:09.494101Z"
    }
   },
   "outputs": [
    {
     "data": {
      "text/html": [
       "<div>\n",
       "<style scoped>\n",
       "    .dataframe tbody tr th:only-of-type {\n",
       "        vertical-align: middle;\n",
       "    }\n",
       "\n",
       "    .dataframe tbody tr th {\n",
       "        vertical-align: top;\n",
       "    }\n",
       "\n",
       "    .dataframe thead th {\n",
       "        text-align: right;\n",
       "    }\n",
       "</style>\n",
       "<table border=\"1\" class=\"dataframe\">\n",
       "  <thead>\n",
       "    <tr style=\"text-align: right;\">\n",
       "      <th></th>\n",
       "      <th>min</th>\n",
       "      <th>max</th>\n",
       "    </tr>\n",
       "  </thead>\n",
       "  <tbody>\n",
       "    <tr>\n",
       "      <th>Year</th>\n",
       "      <td>1800.000</td>\n",
       "      <td>2021.000</td>\n",
       "    </tr>\n",
       "    <tr>\n",
       "      <th>Mo</th>\n",
       "      <td>1.000</td>\n",
       "      <td>12.000</td>\n",
       "    </tr>\n",
       "    <tr>\n",
       "      <th>Dy</th>\n",
       "      <td>1.000</td>\n",
       "      <td>31.000</td>\n",
       "    </tr>\n",
       "    <tr>\n",
       "      <th>Hr</th>\n",
       "      <td>0.000</td>\n",
       "      <td>23.000</td>\n",
       "    </tr>\n",
       "    <tr>\n",
       "      <th>Mn</th>\n",
       "      <td>0.000</td>\n",
       "      <td>59.000</td>\n",
       "    </tr>\n",
       "    <tr>\n",
       "      <th>Sec</th>\n",
       "      <td>0.000</td>\n",
       "      <td>59.900</td>\n",
       "    </tr>\n",
       "    <tr>\n",
       "      <th>Tsunami Event Validity</th>\n",
       "      <td>-1.000</td>\n",
       "      <td>4.000</td>\n",
       "    </tr>\n",
       "    <tr>\n",
       "      <th>Tsunami Cause Code</th>\n",
       "      <td>0.000</td>\n",
       "      <td>11.000</td>\n",
       "    </tr>\n",
       "    <tr>\n",
       "      <th>Earthquake Magnitude</th>\n",
       "      <td>3.700</td>\n",
       "      <td>9.500</td>\n",
       "    </tr>\n",
       "    <tr>\n",
       "      <th>Deposits</th>\n",
       "      <td>0.000</td>\n",
       "      <td>144.000</td>\n",
       "    </tr>\n",
       "    <tr>\n",
       "      <th>Latitude</th>\n",
       "      <td>-63.000</td>\n",
       "      <td>71.813</td>\n",
       "    </tr>\n",
       "    <tr>\n",
       "      <th>Longitude</th>\n",
       "      <td>-179.971</td>\n",
       "      <td>179.984</td>\n",
       "    </tr>\n",
       "    <tr>\n",
       "      <th>Maximum Water Height (m)</th>\n",
       "      <td>0.010</td>\n",
       "      <td>524.600</td>\n",
       "    </tr>\n",
       "    <tr>\n",
       "      <th>Number of Runups</th>\n",
       "      <td>0.000</td>\n",
       "      <td>6288.000</td>\n",
       "    </tr>\n",
       "    <tr>\n",
       "      <th>Tsunami Magnitude (Iida)</th>\n",
       "      <td>-4.640</td>\n",
       "      <td>8.400</td>\n",
       "    </tr>\n",
       "    <tr>\n",
       "      <th>Tsunami Intensity</th>\n",
       "      <td>-4.140</td>\n",
       "      <td>9.000</td>\n",
       "    </tr>\n",
       "    <tr>\n",
       "      <th>Total Deaths</th>\n",
       "      <td>1.000</td>\n",
       "      <td>316000.000</td>\n",
       "    </tr>\n",
       "    <tr>\n",
       "      <th>Total Missing</th>\n",
       "      <td>1.000</td>\n",
       "      <td>43476.000</td>\n",
       "    </tr>\n",
       "    <tr>\n",
       "      <th>Total Missing Description</th>\n",
       "      <td>1.000</td>\n",
       "      <td>4.000</td>\n",
       "    </tr>\n",
       "    <tr>\n",
       "      <th>Total Injuries</th>\n",
       "      <td>1.000</td>\n",
       "      <td>374171.000</td>\n",
       "    </tr>\n",
       "    <tr>\n",
       "      <th>Total Damage ($Mil)</th>\n",
       "      <td>0.003</td>\n",
       "      <td>220136.600</td>\n",
       "    </tr>\n",
       "    <tr>\n",
       "      <th>Total Damage Description</th>\n",
       "      <td>1.000</td>\n",
       "      <td>4.000</td>\n",
       "    </tr>\n",
       "    <tr>\n",
       "      <th>Total Houses Destroyed</th>\n",
       "      <td>1.000</td>\n",
       "      <td>5360000.000</td>\n",
       "    </tr>\n",
       "    <tr>\n",
       "      <th>Total Houses Damaged</th>\n",
       "      <td>2.000</td>\n",
       "      <td>500000.000</td>\n",
       "    </tr>\n",
       "  </tbody>\n",
       "</table>\n",
       "</div>"
      ],
      "text/plain": [
       "                                min          max\n",
       "Year                       1800.000     2021.000\n",
       "Mo                            1.000       12.000\n",
       "Dy                            1.000       31.000\n",
       "Hr                            0.000       23.000\n",
       "Mn                            0.000       59.000\n",
       "Sec                           0.000       59.900\n",
       "Tsunami Event Validity       -1.000        4.000\n",
       "Tsunami Cause Code            0.000       11.000\n",
       "Earthquake Magnitude          3.700        9.500\n",
       "Deposits                      0.000      144.000\n",
       "Latitude                    -63.000       71.813\n",
       "Longitude                  -179.971      179.984\n",
       "Maximum Water Height (m)      0.010      524.600\n",
       "Number of Runups              0.000     6288.000\n",
       "Tsunami Magnitude (Iida)     -4.640        8.400\n",
       "Tsunami Intensity            -4.140        9.000\n",
       "Total Deaths                  1.000   316000.000\n",
       "Total Missing                 1.000    43476.000\n",
       "Total Missing Description     1.000        4.000\n",
       "Total Injuries                1.000   374171.000\n",
       "Total Damage ($Mil)           0.003   220136.600\n",
       "Total Damage Description      1.000        4.000\n",
       "Total Houses Destroyed        1.000  5360000.000\n",
       "Total Houses Damaged          2.000   500000.000"
      ]
     },
     "execution_count": 14,
     "metadata": {},
     "output_type": "execute_result"
    }
   ],
   "source": [
    "pd.DataFrame([info_df.loc['min'],info_df.loc['max']]).transpose()"
   ]
  },
  {
   "cell_type": "markdown",
   "id": "9fd510f1",
   "metadata": {},
   "source": [
    "### Với mỗi cột có kiểu dữ liệu dạng phân loại (categorical), các giá trị được phân bố như thế nào?"
   ]
  },
  {
   "cell_type": "markdown",
   "id": "49af9639",
   "metadata": {},
   "source": [
    "Với các cột có kiểu dữ liệu không phải số, ta sẽ tính:\n",
    "\n",
    "- Tỉ lệ % (từ 0 đến 100) các giá trị thiếu\n",
    "- Số lượng các giá trị (các giá trị ở đây là các giá trị khác nhau và ta không xét giá trị thiếu) \n",
    "\n",
    "- Tỉ lệ % (từ 0 đến 100) của mỗi giá trị được sort theo tỉ lệ % giảm dần (ta không xét giá trị thiếu, tỉ lệ là tỉ lệ so với số lượng các giá trị không thiếu): bạn dùng dictionary để lưu, key là giá trị, value là tỉ lệ %; với cột mà ứng với câu hỏi dạng multichoice, cách làm tương tự như ở trên"
   ]
  },
  {
   "cell_type": "markdown",
   "id": "cf1b9f03",
   "metadata": {},
   "source": [
    "**Lưu ý, ta sẽ đưa cả các cột có dạng số nhưng có ít hơn 15 giá trị khác nhau vào dạng categorical**"
   ]
  },
  {
   "cell_type": "code",
   "execution_count": 54,
   "id": "12a67009",
   "metadata": {
    "ExecuteTime": {
     "end_time": "2021-12-29T02:34:09.738288Z",
     "start_time": "2021-12-29T02:34:09.699325Z"
    }
   },
   "outputs": [
    {
     "data": {
      "text/plain": [
       "['Mo',\n",
       " 'Tsunami Event Validity',\n",
       " 'Tsunami Cause Code',\n",
       " 'Total Missing Description',\n",
       " 'Total Damage Description',\n",
       " 'Country',\n",
       " 'Location Name']"
      ]
     },
     "execution_count": 54,
     "metadata": {},
     "output_type": "execute_result"
    }
   ],
   "source": [
    "unique_counts = df.nunique()\n",
    "lowest_distinct = unique_counts < 15\n",
    "lowest_distinct = unique_counts[lowest_distinct == True]\n",
    "cat = lowest_distinct.drop('Total Missing').index.tolist()\n",
    "cat.extend(df.select_dtypes(include=['object']).columns.tolist())\n",
    "cat"
   ]
  },
  {
   "cell_type": "markdown",
   "id": "7709ba8a",
   "metadata": {
    "ExecuteTime": {
     "end_time": "2021-12-25T12:16:30.948508Z",
     "start_time": "2021-12-25T12:16:30.894563Z"
    }
   },
   "source": [
    "Trừ cột **Total Missing** (vì cột này thống kế tổng số người mất tích sau mỗi trận sóng thần nên không thể là categorical) thì các cột còn lại đều có thể xét vào dạng categorical"
   ]
  },
  {
   "cell_type": "code",
   "execution_count": 55,
   "id": "24f868b8",
   "metadata": {
    "ExecuteTime": {
     "end_time": "2021-12-29T02:34:15.156991Z",
     "start_time": "2021-12-29T02:34:15.071072Z"
    }
   },
   "outputs": [
    {
     "data": {
      "text/html": [
       "<div>\n",
       "<style scoped>\n",
       "    .dataframe tbody tr th:only-of-type {\n",
       "        vertical-align: middle;\n",
       "    }\n",
       "\n",
       "    .dataframe tbody tr th {\n",
       "        vertical-align: top;\n",
       "    }\n",
       "\n",
       "    .dataframe thead th {\n",
       "        text-align: right;\n",
       "    }\n",
       "</style>\n",
       "<table border=\"1\" class=\"dataframe\">\n",
       "  <thead>\n",
       "    <tr style=\"text-align: right;\">\n",
       "      <th></th>\n",
       "      <th>Mo</th>\n",
       "      <th>Tsunami Event Validity</th>\n",
       "      <th>Tsunami Cause Code</th>\n",
       "      <th>Total Missing Description</th>\n",
       "      <th>Total Damage Description</th>\n",
       "      <th>Country</th>\n",
       "      <th>Location Name</th>\n",
       "    </tr>\n",
       "  </thead>\n",
       "  <tbody>\n",
       "    <tr>\n",
       "      <th>num_missing</th>\n",
       "      <td>49</td>\n",
       "      <td>0</td>\n",
       "      <td>3</td>\n",
       "      <td>2147</td>\n",
       "      <td>1254</td>\n",
       "      <td>0</td>\n",
       "      <td>2</td>\n",
       "    </tr>\n",
       "    <tr>\n",
       "      <th>missing_percentage</th>\n",
       "      <td>2.3</td>\n",
       "      <td>0.0</td>\n",
       "      <td>0.1</td>\n",
       "      <td>99.4</td>\n",
       "      <td>58.1</td>\n",
       "      <td>0.0</td>\n",
       "      <td>0.1</td>\n",
       "    </tr>\n",
       "    <tr>\n",
       "      <th>num_values</th>\n",
       "      <td>12</td>\n",
       "      <td>6</td>\n",
       "      <td>12</td>\n",
       "      <td>4</td>\n",
       "      <td>4</td>\n",
       "      <td>104</td>\n",
       "      <td>797</td>\n",
       "    </tr>\n",
       "    <tr>\n",
       "      <th>value_percentages</th>\n",
       "      <td>{8.0: 10.6, 11.0: 9.6, 1.0: 9.0, 5.0: 8.8, 3.0...</td>\n",
       "      <td>{4.0: 38.5, 2.0: 19.2, 1.0: 16.7, 3.0: 15.3, -...</td>\n",
       "      <td>{1.0: 70.5, 0.0: 9.7, 8.0: 4.8, 3.0: 4.5, 6.0:...</td>\n",
       "      <td>{1.0: 46.2, 3.0: 38.5, 4.0: 7.7, 2.0: 7.7}</td>\n",
       "      <td>{1.0: 38.5, 2.0: 27.9, 3.0: 19.1, 4.0: 14.5}</td>\n",
       "      <td>{'USA': 12.0, 'INDONESIA': 10.6, 'JAPAN': 10.4...</td>\n",
       "      <td>{'NORTHERN CHILE': 3.3, 'CENTRAL CHILE': 2.4, ...</td>\n",
       "    </tr>\n",
       "  </tbody>\n",
       "</table>\n",
       "</div>"
      ],
      "text/plain": [
       "                                                                   Mo  \\\n",
       "num_missing                                                        49   \n",
       "missing_percentage                                                2.3   \n",
       "num_values                                                         12   \n",
       "value_percentages   {8.0: 10.6, 11.0: 9.6, 1.0: 9.0, 5.0: 8.8, 3.0...   \n",
       "\n",
       "                                               Tsunami Event Validity  \\\n",
       "num_missing                                                         0   \n",
       "missing_percentage                                                0.0   \n",
       "num_values                                                          6   \n",
       "value_percentages   {4.0: 38.5, 2.0: 19.2, 1.0: 16.7, 3.0: 15.3, -...   \n",
       "\n",
       "                                                   Tsunami Cause Code  \\\n",
       "num_missing                                                         3   \n",
       "missing_percentage                                                0.1   \n",
       "num_values                                                         12   \n",
       "value_percentages   {1.0: 70.5, 0.0: 9.7, 8.0: 4.8, 3.0: 4.5, 6.0:...   \n",
       "\n",
       "                                     Total Missing Description  \\\n",
       "num_missing                                               2147   \n",
       "missing_percentage                                        99.4   \n",
       "num_values                                                   4   \n",
       "value_percentages   {1.0: 46.2, 3.0: 38.5, 4.0: 7.7, 2.0: 7.7}   \n",
       "\n",
       "                                        Total Damage Description  \\\n",
       "num_missing                                                 1254   \n",
       "missing_percentage                                          58.1   \n",
       "num_values                                                     4   \n",
       "value_percentages   {1.0: 38.5, 2.0: 27.9, 3.0: 19.1, 4.0: 14.5}   \n",
       "\n",
       "                                                              Country  \\\n",
       "num_missing                                                         0   \n",
       "missing_percentage                                                0.0   \n",
       "num_values                                                        104   \n",
       "value_percentages   {'USA': 12.0, 'INDONESIA': 10.6, 'JAPAN': 10.4...   \n",
       "\n",
       "                                                        Location Name  \n",
       "num_missing                                                         2  \n",
       "missing_percentage                                                0.1  \n",
       "num_values                                                        797  \n",
       "value_percentages   {'NORTHERN CHILE': 3.3, 'CENTRAL CHILE': 2.4, ...  "
      ]
     },
     "execution_count": 55,
     "metadata": {},
     "output_type": "execute_result"
    }
   ],
   "source": [
    "missing = [];missing_percentage=[];num_values=[];value_percentages=[]\n",
    "\n",
    "for column in cat:\n",
    "    missing.append(df[column].isnull().sum())\n",
    "    missing_percentage.append((df[column].isnull().sum() * 100 / len(df)).round(1))\n",
    "    temp = df[column].dropna()\n",
    "    num_values.append(len(temp.unique()))\n",
    "    value_percentages.append(((temp.value_counts(normalize=True)*100).round(1)).to_dict())\n",
    "cat_info_df = pd.DataFrame([missing,missing_percentage,num_values,value_percentages],\n",
    "                            index=['num_missing','missing_percentage','num_values','value_percentages'],\n",
    "                            columns=list(cat))\n",
    "cat_info_df"
   ]
  },
  {
   "cell_type": "markdown",
   "id": "e444cd21",
   "metadata": {},
   "source": [
    "#### Số-lượng/tỉ-lệ các giá trị thiếu?"
   ]
  },
  {
   "cell_type": "code",
   "execution_count": 20,
   "id": "4a6294df",
   "metadata": {
    "ExecuteTime": {
     "end_time": "2021-12-29T02:24:09.880739Z",
     "start_time": "2021-12-29T02:24:09.835783Z"
    }
   },
   "outputs": [
    {
     "data": {
      "text/html": [
       "<div>\n",
       "<style scoped>\n",
       "    .dataframe tbody tr th:only-of-type {\n",
       "        vertical-align: middle;\n",
       "    }\n",
       "\n",
       "    .dataframe tbody tr th {\n",
       "        vertical-align: top;\n",
       "    }\n",
       "\n",
       "    .dataframe thead th {\n",
       "        text-align: right;\n",
       "    }\n",
       "</style>\n",
       "<table border=\"1\" class=\"dataframe\">\n",
       "  <thead>\n",
       "    <tr style=\"text-align: right;\">\n",
       "      <th></th>\n",
       "      <th>num_missing</th>\n",
       "      <th>missing_percentage</th>\n",
       "    </tr>\n",
       "  </thead>\n",
       "  <tbody>\n",
       "    <tr>\n",
       "      <th>Mo</th>\n",
       "      <td>49.0</td>\n",
       "      <td>2.3</td>\n",
       "    </tr>\n",
       "    <tr>\n",
       "      <th>Tsunami Event Validity</th>\n",
       "      <td>0.0</td>\n",
       "      <td>0.0</td>\n",
       "    </tr>\n",
       "    <tr>\n",
       "      <th>Tsunami Cause Code</th>\n",
       "      <td>3.0</td>\n",
       "      <td>0.1</td>\n",
       "    </tr>\n",
       "    <tr>\n",
       "      <th>Total Missing</th>\n",
       "      <td>2149.0</td>\n",
       "      <td>99.5</td>\n",
       "    </tr>\n",
       "    <tr>\n",
       "      <th>Total Missing Description</th>\n",
       "      <td>2147.0</td>\n",
       "      <td>99.4</td>\n",
       "    </tr>\n",
       "    <tr>\n",
       "      <th>Total Damage Description</th>\n",
       "      <td>1254.0</td>\n",
       "      <td>58.1</td>\n",
       "    </tr>\n",
       "  </tbody>\n",
       "</table>\n",
       "</div>"
      ],
      "text/plain": [
       "                           num_missing  missing_percentage\n",
       "Mo                                49.0                 2.3\n",
       "Tsunami Event Validity             0.0                 0.0\n",
       "Tsunami Cause Code                 3.0                 0.1\n",
       "Total Missing                   2149.0                99.5\n",
       "Total Missing Description       2147.0                99.4\n",
       "Total Damage Description        1254.0                58.1"
      ]
     },
     "execution_count": 20,
     "metadata": {},
     "output_type": "execute_result"
    }
   ],
   "source": [
    "pd.DataFrame([cat_info_df.loc['num_missing'],cat_info_df.loc['missing_percentage']]).transpose()"
   ]
  },
  {
   "cell_type": "markdown",
   "id": "ca2fdcdd",
   "metadata": {},
   "source": [
    "#### Số lượng các giá trị khác nhau? Show một vài giá trị → Có gì bất thường không?"
   ]
  },
  {
   "cell_type": "code",
   "execution_count": 59,
   "id": "b74d8c16",
   "metadata": {
    "ExecuteTime": {
     "end_time": "2021-12-29T02:36:07.050762Z",
     "start_time": "2021-12-29T02:36:07.010803Z"
    }
   },
   "outputs": [
    {
     "data": {
      "text/html": [
       "<div>\n",
       "<style scoped>\n",
       "    .dataframe tbody tr th:only-of-type {\n",
       "        vertical-align: middle;\n",
       "    }\n",
       "\n",
       "    .dataframe tbody tr th {\n",
       "        vertical-align: top;\n",
       "    }\n",
       "\n",
       "    .dataframe thead th {\n",
       "        text-align: right;\n",
       "    }\n",
       "</style>\n",
       "<table border=\"1\" class=\"dataframe\">\n",
       "  <thead>\n",
       "    <tr style=\"text-align: right;\">\n",
       "      <th></th>\n",
       "      <th>0</th>\n",
       "    </tr>\n",
       "  </thead>\n",
       "  <tbody>\n",
       "    <tr>\n",
       "      <th>USA</th>\n",
       "      <td>12.0</td>\n",
       "    </tr>\n",
       "    <tr>\n",
       "      <th>INDONESIA</th>\n",
       "      <td>10.6</td>\n",
       "    </tr>\n",
       "    <tr>\n",
       "      <th>JAPAN</th>\n",
       "      <td>10.4</td>\n",
       "    </tr>\n",
       "    <tr>\n",
       "      <th>CHILE</th>\n",
       "      <td>6.9</td>\n",
       "    </tr>\n",
       "    <tr>\n",
       "      <th>GREECE</th>\n",
       "      <td>5.2</td>\n",
       "    </tr>\n",
       "    <tr>\n",
       "      <th>ITALY</th>\n",
       "      <td>4.2</td>\n",
       "    </tr>\n",
       "    <tr>\n",
       "      <th>RUSSIA</th>\n",
       "      <td>4.2</td>\n",
       "    </tr>\n",
       "    <tr>\n",
       "      <th>NEW ZEALAND</th>\n",
       "      <td>4.0</td>\n",
       "    </tr>\n",
       "    <tr>\n",
       "      <th>PHILIPPINES</th>\n",
       "      <td>3.7</td>\n",
       "    </tr>\n",
       "    <tr>\n",
       "      <th>PAPUA NEW GUINEA</th>\n",
       "      <td>3.5</td>\n",
       "    </tr>\n",
       "  </tbody>\n",
       "</table>\n",
       "</div>"
      ],
      "text/plain": [
       "                     0\n",
       "USA               12.0\n",
       "INDONESIA         10.6\n",
       "JAPAN             10.4\n",
       "CHILE              6.9\n",
       "GREECE             5.2\n",
       "ITALY              4.2\n",
       "RUSSIA             4.2\n",
       "NEW ZEALAND        4.0\n",
       "PHILIPPINES        3.7\n",
       "PAPUA NEW GUINEA   3.5"
      ]
     },
     "execution_count": 59,
     "metadata": {},
     "output_type": "execute_result"
    }
   ],
   "source": [
    "country_df = pd.DataFrame([cat_info_df['Country']['value_percentages']])\n",
    "country_df.T.head(10)"
   ]
  },
  {
   "cell_type": "code",
   "execution_count": null,
   "id": "5dab2c02",
   "metadata": {
    "ExecuteTime": {
     "end_time": "2021-12-29T02:24:10.831216Z",
     "start_time": "2021-12-29T02:24:10.831216Z"
    }
   },
   "outputs": [],
   "source": [
    "pd.DataFrame([cat_info_df['Location Name']['value_percentages']]).T.head(10)"
   ]
  },
  {
   "cell_type": "code",
   "execution_count": null,
   "id": "59120a10",
   "metadata": {
    "ExecuteTime": {
     "end_time": "2021-12-29T02:24:10.834213Z",
     "start_time": "2021-12-29T02:24:10.834213Z"
    }
   },
   "outputs": [],
   "source": [
    "pd.DataFrame([cat_info_df['Tsunami Cause Code']['value_percentages']]).T.head(10)"
   ]
  },
  {
   "cell_type": "markdown",
   "id": "31130178",
   "metadata": {},
   "source": [
    "- Có vẻ dữ liệu đều ổn không có gì bất thường xảy ra ở đây"
   ]
  },
  {
   "cell_type": "markdown",
   "id": "b144b1f5",
   "metadata": {},
   "source": [
    "# Đưa ra các câu hỏi có ý nghĩa cần trả lời"
   ]
  },
  {
   "cell_type": "markdown",
   "id": "bda8f244",
   "metadata": {
    "ExecuteTime": {
     "end_time": "2021-12-29T02:36:19.502637Z",
     "start_time": "2021-12-29T02:36:19.482655Z"
    }
   },
   "source": [
    "| Câu hỏi  | Ý nghĩa |\n",
    "| --- | --- |\n",
    "| Theo thời gian, số lượng, kích cỡ cũng như cường độ của các cơn sóng thần thay đổi ntn? (mức độ thiệt hại ) <——> | Những năm gần đây, liệu ảnh hưởng của biến đổi khí hậu có làm cho các cơn sóng thần xuất hiện nhiều hơn hay tàn phá mạnh hơn hay không. |\n",
    "| Sự khác nhau về nguyên nhân xảy ra sóng thần (hoặc mức độ thiệt hại) ở bắc bán cầu và nam bán cầu (hoặc tây bán cầu và đông bán cầu) | Nguyên nhân: Để phần nào đó có thể dự báo trước khả năng xuất hiện sóng thần. So sánh xem cùng nằm trên trái đất nhưng 2 bán cầu liệu có nguyên nhân xảy ra khác nhau hay không?                    |\n",
    "| Những nước nào hay xảy ra sóng thần nhất? Nếu có thì thường vào tháng nào, do nguyên nhân nào?   ←——>  | Giúp ta phần nào đó chọn địa điểm du lịch cũng như thời gian du lịch hợp lý để chuyến đi chơi an toàn hơn |\n",
    "| Có phải kích cỡ và cường độ , độ xác thực sóng thần càng lớn thì sóng thần càng dễ tràn vào bờ hay không  | Dự báo được các trường hợp nguy hiểm từ đó di dân kịp thời  |\n",
    "| Nguyên nhân nào thường gây ra việc sóng thần tràn vào bờ (hoặc nguyên nhân gây ra thiệt hại nhiều nhất) ←——> | Để có thể di dời dân cư kịp thời phòng ngừa các tình huống bất ngờ ập đến |\n",
    "| Phần lớn các cuộc sóng thần xảy ra vì động đất, vậy cường độ của động đất có ảnh hưởng nhiều đến độ cao đạt đỉnh của sóng thần và tổng thiệt hại hay không | Tìm mối tương quan giữa động đất và sóng thần |"
   ]
  },
  {
   "cell_type": "markdown",
   "id": "e0b5ea33",
   "metadata": {},
   "source": [
    "## Câu hỏi - Lợi ích"
   ]
  },
  {
   "cell_type": "markdown",
   "id": "2b5a9fb4",
   "metadata": {},
   "source": [
    "# Tiền xử lý + phân tích dữ liệu để trả lời cho từng câu hỏi"
   ]
  },
  {
   "cell_type": "markdown",
   "id": "67517ec0",
   "metadata": {},
   "source": [
    "# Nhìn lại quá trình làm đồ án"
   ]
  },
  {
   "cell_type": "markdown",
   "id": "9fcb28f7",
   "metadata": {},
   "source": [
    "## Những khó khăn"
   ]
  },
  {
   "cell_type": "markdown",
   "id": "153b3f4b",
   "metadata": {},
   "source": [
    "## Học được gì hữu ích"
   ]
  },
  {
   "cell_type": "markdown",
   "id": "2a7862af",
   "metadata": {},
   "source": [
    "## Nếu có thêm thời gian sẽ làm gì"
   ]
  },
  {
   "cell_type": "markdown",
   "id": "75ecd96e",
   "metadata": {},
   "source": [
    "# Tài liệu tham khảo"
   ]
  },
  {
   "cell_type": "code",
   "execution_count": null,
   "id": "bb08b51d",
   "metadata": {},
   "outputs": [],
   "source": []
  },
  {
   "cell_type": "code",
   "execution_count": null,
   "id": "7ae254dc",
   "metadata": {},
   "outputs": [],
   "source": []
  },
  {
   "cell_type": "code",
   "execution_count": null,
   "id": "76be4fb1",
   "metadata": {},
   "outputs": [],
   "source": []
  },
  {
   "cell_type": "code",
   "execution_count": null,
   "id": "b2c38755",
   "metadata": {},
   "outputs": [],
   "source": []
  }
 ],
 "metadata": {
  "kernelspec": {
   "display_name": "Python 3 (ipykernel)",
   "language": "python",
   "name": "python3"
  },
  "language_info": {
   "codemirror_mode": {
    "name": "ipython",
    "version": 3
   },
   "file_extension": ".py",
   "mimetype": "text/x-python",
   "name": "python",
   "nbconvert_exporter": "python",
   "pygments_lexer": "ipython3",
   "version": "3.8.8"
  },
  "toc": {
   "base_numbering": 1,
   "nav_menu": {},
   "number_sections": true,
   "sideBar": true,
   "skip_h1_title": false,
   "title_cell": "Table of Contents",
   "title_sidebar": "Contents",
   "toc_cell": false,
   "toc_position": {},
   "toc_section_display": true,
   "toc_window_display": false
  }
 },
 "nbformat": 4,
 "nbformat_minor": 5
}
